{
 "cells": [
  {
   "cell_type": "markdown",
   "metadata": {},
   "source": [
    "_HDS5210 Programming for Health Data Science_\n",
    "\n",
    "# Final Exam\n",
    "\n",
    "The final exam is worth a total of 140 points, like the midterm.\n",
    "\n",
    "The final exam covers many of the topics that have been covered during the course of the entire semester \n",
    "\n",
    "* Part 1 - Explaining your plan to solve the final (your algorithm) - 20 pts\n",
    "* Part 2 - Reading from a JSON file for instructions - 20 pts\n",
    "* Part 3 - Reading from an XML file for supplemental data - 40 pts\n",
    "* Part 4 - Reading from a SQL database and merging it with other data - 60 pts\n",
    "\n",
    "## Background\n",
    "\n",
    "JSON files are often used not just to store data, but also to store configuration information for how a program should run.  This way, your program doesn't have to be changed when minor configuration changes are all that need to change.  Examples might include database configuration information, source database table names, date ranges for data processing, etc.  The final includes a JSON file that provides important configuration information that will be used to direct the rest of your program on how to combine and process the data from an XML file and a SQL database.  First, however, you'll need to read all the instructions and describe your approach / algorithm for solving the final exam.\n",
    "\n",
    "```\n",
    "JSON Configuration --------------------------------------\\\n",
    "                                                          >---> Total Cost per Claim\n",
    "SQL Database: Prescription Claims ---------------\\       /\n",
    "                                                  >-----/\n",
    "XML File: Mapping of Member Group to Admin Fee --/\n",
    "```"
   ]
  },
  {
   "cell_type": "markdown",
   "metadata": {},
   "source": [
    "## Part 1 - Algorithm (20 pts)\n",
    "\n",
    "Before you start writing any code, spend some time to think through what you're planning to do.  Explain your approach to the problem, possibly breaking down separate algorithms for each of the 4 segments below, if that seems natural to you.\n",
    "\n",
    "Only write 8-10 sentences. Anything longer will be too much detail.\n",
    "\n"
   ]
  },
  {
   "cell_type": "markdown",
   "metadata": {},
   "source": [
    "...\n",
    "\n",
    "**PUT YOUR ALGORITHM HERE**\n",
    "\n",
    "..."
   ]
  },
  {
   "cell_type": "markdown",
   "metadata": {},
   "source": [
    "## Part 2 - JSON for configuration (20 pts)\n",
    "\n",
    "For the final, you've been provided a JSON file that contains the following pieces of information:\n",
    "\n",
    "* Database Connection Information:\n",
    "  * **Database User Name**\n",
    "  * **Database Password**\n",
    "  * **Database Host** \n",
    "  * **Database Name**\n",
    "* **Start Date** - The start date for data to process, in the format YYYY-MM-DD\n",
    "* **End Date** - The end date for data to process, in the format YYYY-MM-DD\n",
    "* **Cost Field Mapping** - This is a dictionary that contains entries that describe which fields should be summed to compute an output field, _total cost_\n",
    "\n",
    "Fill in the function definition below to read in the configuration information from the specified JSON file.  You'll know it works using the test code that provided in the function description.\n",
    "\n",
    "You can `cat /final/config.json` to see the contents of the file:"
   ]
  },
  {
   "cell_type": "code",
   "execution_count": 2,
   "metadata": {
    "collapsed": false
   },
   "outputs": [
    {
     "name": "stdout",
     "output_type": "stream",
     "text": [
      "{\n",
      "\t\"Database User\": \"slucor\",\n",
      "\t\"Database Password\": \"S1UC0R\",\n",
      "\t\"Database Host\": \"localhost\",\n",
      "\t\"Database Name\": \"hds5210\",\n",
      "\n",
      "\t\"Start Date\": \"2016-11-01\",\n",
      "\t\"End Date\": \"2016-11-30\",\n",
      "\n",
      "\t\"Cost Field Mapping\": {\n",
      "\t\t\"MG001\": [\"ingredient_cost\", \"admin_fee\", \"rebate_amount\"],\n",
      "\t\t\"MG002\": [\"ingredient_cost\"],\n",
      "\t\t\"AZ001\": [\"incredient_cost\", \"admin_fee\"]\n",
      "\t}\n",
      "}\n"
     ]
    }
   ],
   "source": [
    "%%bash\n",
    "cat /final/config_sample.json"
   ]
  },
  {
   "cell_type": "code",
   "execution_count": null,
   "metadata": {
    "collapsed": true
   },
   "outputs": [],
   "source": [
    "# Put your code to read configuration information from whatever file is specified by \"filename\"\n",
    "# Your function has to return an dictionary that has the same key/value pairs as in the file.\n",
    "import json\n",
    "def setup(filename):\n",
    "    \"\"\"(str) -> dict\n",
    "    The function reads from the specified configuration file, in JSON format, and stores the contents\n",
    "    in a Python dictionary.  That dictionary is returned to the caller, as shown in #4.\n",
    "    \n",
    "    >>> setup('/final/config_sample.json').get(\"Database User\")\n",
    "    'slucor'\n",
    "    \n",
    "    >>> setup('/final/config_sample.json').get(\"Cost Field Mapping\")[\"MG001\"][0]\n",
    "    'ingredient_cost'\n",
    "    \n",
    "    >>> setup('/final/config_sample.json').get(\"Cost Field Mapping\").get(\"AZ001\")[1]\n",
    "    'admin_fee'\n",
    "    \"\"\"\n",
    "    \n",
    "    #...\n",
    "    # Put your code here\n",
    "    #...\n",
    "    "
   ]
  },
  {
   "cell_type": "code",
   "execution_count": null,
   "metadata": {
    "collapsed": false
   },
   "outputs": [],
   "source": [
    "import doctest\n",
    "doctest.testmod()"
   ]
  },
  {
   "cell_type": "markdown",
   "metadata": {},
   "source": [
    "## Part 3 - Read data from XML (30 pts)\n",
    "\n",
    "The XML file in `/final/fees.xml` provides information about extra fees that are applied to prescription claims based on the member's group and whether or not the claim is for a mail order (90 day) or retail (30 day) prescription.  The \"admin_fee\" is in this file and will be an important component in determining the final cost of the claims. You can see the contents of the XML file with the `cat` command below.  \n",
    "\n",
    "\n",
    "Write a function that will read in the fee configuration information from the XML file specified, and return a Python dictionary that contains that information in the following format.  Your format should match the structure below exactly, and you should not hard-code any field values like member group or mail/retail code.  That is, your code should automatically work with any new groups or mail/retail codes that may be created in the future.\n",
    "\n",
    "```\n",
    "{ \n",
    "  'MG001': {\n",
    "    'MAIL': {'admin_fee': 0.5, 'processing_fee': 0.05},\n",
    "    'RETAIL': {'admin_fee': 0.5, 'processing_fee': 0.1}\n",
    "  }\n",
    "}\n",
    "```\n"
   ]
  },
  {
   "cell_type": "code",
   "execution_count": 1,
   "metadata": {
    "collapsed": false
   },
   "outputs": [
    {
     "name": "stdout",
     "output_type": "stream",
     "text": [
      "<?xml version=\"1.0\" encoding=\"UTF-8\"?>\n",
      "\n",
      "<fee_config>\n",
      "  <fees member_group=\"MG001\" mail_retail=\"MAIL\">\n",
      "    <admin_fee>0.50</admin_fee>\n",
      "    <processing_fee>0.05</processing_fee>\n",
      "  </fees>\n",
      "  <fees member_group=\"MG001\" mail_retail=\"RETAIL\">\n",
      "    <admin_fee>0.50</admin_fee>\n",
      "    <processing_fee>0.10</processing_fee>\n",
      "  </fees>\n",
      "</fee_config>\n"
     ]
    }
   ],
   "source": [
    "%%bash\n",
    "cat /final/fees_sample.xml"
   ]
  },
  {
   "cell_type": "code",
   "execution_count": null,
   "metadata": {
    "collapsed": true
   },
   "outputs": [],
   "source": [
    "# Put your code into the function definition below.  You can test it using doc test.\n",
    "import xml.etree.ElementTree as xml\n",
    "def read_fees(filename):\n",
    "    \"\"\"(str)->dict\n",
    "    \n",
    "    >>> read_fees('/final/fees_sample.xml').get(\"MG001\").get(\"RETAIL\").get(\"admin_fee\")\n",
    "    0.5\n",
    "    \n",
    "    >>> read_fees('/final/fees_sample.xml').get(\"MG001\").get(\"MAIL\").get(\"processing_fee\")\n",
    "    0.05\n",
    "    \"\"\"\n",
    "\n",
    "    #...\n",
    "    # Put your code here\n",
    "    #...\n",
    "    "
   ]
  },
  {
   "cell_type": "code",
   "execution_count": null,
   "metadata": {
    "collapsed": false
   },
   "outputs": [],
   "source": [
    "import doctest\n",
    "doctest.testmod()"
   ]
  },
  {
   "cell_type": "markdown",
   "metadata": {},
   "source": [
    "## Part 4 - Computing Total Cost based on Configuration Logic (30 pts)\n",
    "\n",
    "The logic for computing the total cost varies based on the member group, as specified in the configuration file, and requires a combination of data that will come from a database table (ingredient cost) and data from the fees.xml file.\n",
    "\n",
    "Write a function called `calc_total_cost` that will take the following parameters and return the resulting total cost.\n",
    "\n",
    "* **config** - The Python dictionary loaded from your setup() function and the /final/config.json file\n",
    "* **fees** - The Python dictionary loaded from your read_fees() function and the /final/fees.xml file\n",
    "* **member_group** - The member group to use in computing total cost\n",
    "* **mail_retail** - Either MAIL or RETAIL to specify \n",
    "* **ingredient_cost** - The base ingredient cost amount.\n",
    "\n",
    "Your function will need to calculate a total cost based on the components defined for that member group in the config dictionary, and the fees specified for that member group in the fees dictionary.\n",
    "\n",
    "For example, if we provide inputs of:\n",
    "\n",
    "`mail_retail=\"MAIL\"` and `ingredient_cost=2.45`\n",
    "\n",
    "and if the configuration file says the following within in:\n",
    "```\n",
    "\"00HH02\": [\"ingredient_cost\", \"processing_fee\"]\n",
    "``` \n",
    "\n",
    "and fees file says the following within it:\n",
    "```\n",
    "  <fees member_group=\"00HH02\" mail_retail=\"MAIL\">\n",
    "    <admin_fee>0.93</admin_fee>\n",
    "    <processing_fee>1.84</processing_fee>\n",
    "  </fees>\n",
    "  <fees member_group=\"00HH02\" mail_retail=\"RETAIL\">\n",
    "    <admin_fee>0.22</admin_fee>\n",
    "    <processing_fee>1.01</processing_fee>\n",
    "  </fees>\n",
    "```\n",
    "\n",
    "\n",
    "Then the total cost function should return:\n",
    "```\n",
    "ingredient_cost + processing_fee for MAIL \n",
    "2.45 + 1.84\n",
    "4.29\n",
    "```\n",
    "\n",
    "Note that the formula will not always be the same.  Some member groups use just `ingredient_cost` to calculate the total cost, others use `ingredient_cost, admin_fee`, and still others use `ingredient_cost, admin_fee, processing_fee`.\n",
    "\n",
    "**Round the answer to 2 decimal places**\n"
   ]
  },
  {
   "cell_type": "code",
   "execution_count": null,
   "metadata": {
    "collapsed": true
   },
   "outputs": [],
   "source": [
    "def calc_total_cost(config, fees, member_group, mail_retail, ingredient_cost):\n",
    "    \"\"\"(dict, dict, str, str, float) -> float\n",
    "    This function uses a combination of information from the configuration dictionary,\n",
    "    fees dictionary, member group name, mail retail identifier, and ingredient cost\n",
    "    to compute a total cost.\n",
    "    \n",
    "    >>> c = setup('/final/config.json')\n",
    "    >>> f = read_fees('/final/fees.xml')\n",
    "    >>> calc_total_cost(c, f, \"00400F\", \"MAIL\", 2.11)\n",
    "    2.11\n",
    "    \n",
    "    >>> calc_total_cost(c, f, \"00460H\", \"RETAIL\", 1.09)\n",
    "    1.46\n",
    "    \"\"\"\n",
    "\n",
    "    #...\n",
    "    # Put your code here...\n",
    "    #...\n",
    "        "
   ]
  },
  {
   "cell_type": "code",
   "execution_count": null,
   "metadata": {
    "collapsed": false
   },
   "outputs": [],
   "source": [
    "import doctest\n",
    "doctest.testmod()"
   ]
  },
  {
   "cell_type": "markdown",
   "metadata": {},
   "source": [
    "## Part 5 - Putting it together with data from a SQL database (40 pts)\n",
    "\n",
    "In this final step, you will read the raw data from a database into a dictionary and compute the total cost of each claim using the configuration you got from the JSON file and additional fees from the XML file.  Simply store the computed TOTAL COST as another attribute of the dictionary you retrieved from the database.\n",
    "\n",
    "You don't need to write a separate function to do this, but you will need to include calls to your functions defined above earlier.\n",
    "\n",
    "The `claims` database table contains the following fields that you can use in your computations.  You won't need all of them.\n",
    "\n",
    "* rx_number\n",
    "* member_group\n",
    "* drug_ndc\n",
    "* rx_count\n",
    "* process_date\n",
    "* new_refill_indicator\n",
    "* brand_generic_ind\n",
    "* mail_order_ind\n",
    "* lob_code\n",
    "* lob_desc\n",
    "* pa_indicator\n",
    "* benefit_plan_code\n",
    "* business_unit_id\n",
    "* paid_amount\n",
    "* ingredient_cost\n",
    "* sales_tax\n",
    "* copay_amount\n",
    "\n",
    "You should expect to see results that look like the example below, but a list of 1000 items.\n",
    "```\n",
    "[{'TOTAL COST': Decimal('88.98'),\n",
    "  'benefit_plan_code': 'PZU',\n",
    "  'brand_generic_ind': 'GENERIC',\n",
    "  'business_unit_id': 'HNCA',\n",
    "  'copay_amount': Decimal('5.00000'),\n",
    "  'drug_ndc': '60505036302',\n",
    "  'ingredient_cost': Decimal('88.98000'),\n",
    "  'lob_code': '',\n",
    "  'lob_desc': '',\n",
    "  'mail_order_ind': 'RETAIL',\n",
    "  'member_group': '00400F',\n",
    "  'new_refill_indicator': 'NEW',\n",
    "  'pa_indicator': 'N',\n",
    "  'paid_amount': Decimal('88.23000'),\n",
    "  'process_date': '2015-01-05',\n",
    "  'rx_count': '',\n",
    "  'rx_number': '1460346',\n",
    "  'sales_tax': Decimal('0.00000')},\n",
    "  ...\n",
    "```"
   ]
  },
  {
   "cell_type": "code",
   "execution_count": null,
   "metadata": {
    "collapsed": false
   },
   "outputs": [],
   "source": [
    "import pymysql.cursors\n",
    "\n",
    "c = setup('/final/config.json')\n",
    "f = read_fees('/final/fees.xml')\n",
    "\n",
    "connection = pymysql.connect(\n",
    "    host=c.get(\"Database Host\"),\n",
    "    user=c.get(\"Database User\"),\n",
    "    password=c.get(\"Database Password\"),\n",
    "    db=c.get(\"Database Name\"),\n",
    "    cursorclass=pymysql.cursors.DictCursor)\n",
    "\n",
    "# ...\n",
    "# Put your code to query the database and produce the results here\n",
    "# ..."
   ]
  },
  {
   "cell_type": "code",
   "execution_count": null,
   "metadata": {
    "collapsed": false
   },
   "outputs": [],
   "source": [
    "result"
   ]
  },
  {
   "cell_type": "code",
   "execution_count": null,
   "metadata": {
    "collapsed": true
   },
   "outputs": [],
   "source": []
  }
 ],
 "metadata": {
  "kernelspec": {
   "display_name": "Python 3",
   "language": "python",
   "name": "python3"
  },
  "language_info": {
   "codemirror_mode": {
    "name": "ipython",
    "version": 3
   },
   "file_extension": ".py",
   "mimetype": "text/x-python",
   "name": "python",
   "nbconvert_exporter": "python",
   "pygments_lexer": "ipython3",
   "version": "3.4.3"
  }
 },
 "nbformat": 4,
 "nbformat_minor": 0
}
