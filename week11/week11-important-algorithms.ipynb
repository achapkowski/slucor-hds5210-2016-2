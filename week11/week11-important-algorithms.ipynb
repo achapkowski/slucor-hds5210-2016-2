{
 "cells": [
  {
   "cell_type": "markdown",
   "metadata": {},
   "source": [
    "_hds5210 Programming for Health Data Science_\n",
    "\n",
    "# Week 11 - Important Algorithms (Search and Sort)\n",
    "\n",
    "https://docs.google.com/presentation/d/1xQGrqblZVbuSUL5aa3eyhw6dFbmJQYl6-n710XkJbwk/edit?usp=sharing\n",
    "\n",
    "\n",
    "This week's discussion is about two of the most important operations that many programs have to do: searching for a piece of information and sorting groups of information.  Chapter 13 has a great description of several search and sort algorithms. During this lecture, we'll talk about some of that information, but please read the text for additional details.  \n",
    "\n",
    "We'll also discuss the important tradeoffs around searching and sorting, which is information not covered in the text.\n"
   ]
  },
  {
   "cell_type": "markdown",
   "metadata": {
    "collapsed": true
   },
   "source": [
    "## Linear Search\n",
    "\n",
    "To find an item in a list, start from one end of the list and check each element until you find the item.  If you get to the end of the list and haven't found it, then the item is not in the list.\n",
    "\n",
    "\n",
    "https://www.youtube.com/watch?v=CX2CYIJLwfg"
   ]
  },
  {
   "cell_type": "markdown",
   "metadata": {},
   "source": [
    "## Binary Search\n",
    "\n",
    "Assume that your list is sorted from smallest to largest.\n",
    "\n",
    "Start in the middle of the list. If your number is there, stop. If the number you are searching for is less than what you find at the middle of the list, the repeat this operation on the left half of the list; otherwise repeat this operation on the right half of the list.\n",
    "\n",
    "\n",
    "https://www.youtube.com/watch?v=D5SrAga1pno"
   ]
  },
  {
   "cell_type": "code",
   "execution_count": 3,
   "metadata": {
    "collapsed": false
   },
   "outputs": [],
   "source": [
    "def binary_search(k, L, min=0, max=None):\n",
    "    \"\"\"(obj, list, obj, obj) -> int\n",
    "    This search method assumes that L is already presorted.\n",
    "    k is the value being sought.\n",
    "    L is the list being searched.\n",
    "    min is the smallest index to search (default to 0)\n",
    "    max is the largest index to search (default to len(L)-1)\n",
    "    Return either the index where k is found or -1 if k is not present.\n",
    "    \n",
    "    >>> binary_search(3, [0, 3, 6, 8, 9, 23])\n",
    "    1\n",
    "    \n",
    "    >>> binary_search(5, [5, 9, 11, 45])\n",
    "    0\n",
    "    \n",
    "    >>> binary_search(88, [5, 11, 56, 88])\n",
    "    3\n",
    "    \n",
    "    >>> binary_search(99, [0, 1, 2, 3, 4])\n",
    "    -1\n",
    "    \n",
    "    >>> binary_search(0, [5, 9, 34, 23, 45])\n",
    "    -1\n",
    "    \"\"\"\n",
    "    \n",
    "    if max == None:\n",
    "        max = len(L)-1\n",
    "    \n",
    "    #------------------------------------------------------------\n",
    "    # 1. We compute the middle of the part of this list we're\n",
    "    #    searching in this pass.  On the first pass, we're\n",
    "    #    searching the whole list, but on subsequent passes,\n",
    "    #    we're only going to be searching an smaller and smaller\n",
    "    #    portion of the list.\n",
    "    #\n",
    "    #    L = [0, 1, 2, 3, 4, 5, 6]\n",
    "    #         ^        ^        ^\n",
    "    #         |        |        |\n",
    "    #       min      mid       max\n",
    "    #\n",
    "    #------------------------------------------------------------\n",
    "    mid=min+int((max-min)/2)\n",
    "    \n",
    "    # This is just a debug statement to remind us what L, k, and\n",
    "    # mid are on each pass.\n",
    "    # print(\"k: {:d}, mid: {:d}, L: {:s}\".format(k,mid,str(L)))\n",
    "    \n",
    "    \n",
    "    #------------------------------------------------------------\n",
    "    # 2. If mid is out of range, then we know that the value\n",
    "    #    we're looking for isn't in the list.\n",
    "    #------------------------------------------------------------\n",
    "    if (mid > max) or (mid < min):\n",
    "        #print(\"Out of bounds\")\n",
    "        return -1\n",
    "    \n",
    "    #------------------------------------------------------------\n",
    "    # 3. If the value at L[mid] is k, the we've found it!\n",
    "    #------------------------------------------------------------    \n",
    "    elif k == L[mid]:\n",
    "        #print(\"They match at {:d}\".format(mid))\n",
    "        return mid\n",
    "\n",
    "    #------------------------------------------------------------\n",
    "    # 4. If the value we're looking for (k) is bigger than\n",
    "    #    the value at L[mid], then we know to search the top\n",
    "    #    half of the list.\n",
    "    #------------------------------------------------------------    \n",
    "    elif k > L[mid]:\n",
    "        #print(\"k > L[mid]\")\n",
    "        return binary_search(k, L, mid+1, max)\n",
    "\n",
    "    #------------------------------------------------------------\n",
    "    # 5. If the value we're looking for (k) is less than \n",
    "    #    the value at L[mid], the we know to search just the\n",
    "    #    bottom half of the list.\n",
    "    #------------------------------------------------------------    \n",
    "    else:         # k < L[mid]\n",
    "        #print(\"k < L[mid]\")\n",
    "        return binary_search(k, L, min, mid-1) "
   ]
  },
  {
   "cell_type": "code",
   "execution_count": 5,
   "metadata": {
    "collapsed": false
   },
   "outputs": [
    {
     "data": {
      "text/plain": [
       "TestResults(failed=0, attempted=5)"
      ]
     },
     "execution_count": 5,
     "metadata": {},
     "output_type": "execute_result"
    }
   ],
   "source": [
    "import doctest\n",
    "doctest.testmod()"
   ]
  },
  {
   "cell_type": "code",
   "execution_count": 4,
   "metadata": {
    "collapsed": false
   },
   "outputs": [
    {
     "name": "stdout",
     "output_type": "stream",
     "text": [
      "-1\n"
     ]
    }
   ],
   "source": [
    "L = [0,3,5,8,9]\n",
    "a=binary_search(-7, L)\n",
    "type(a)\n",
    "print(a)"
   ]
  },
  {
   "cell_type": "markdown",
   "metadata": {},
   "source": [
    "### Example\n",
    "\n",
    "Here's an example of how binary search works.\n",
    "```\n",
    "L = [2, 5, 10, 33, 56, 89, 99, 106]\n",
    "k = 56\n",
    "\n",
    "binary_search(k, L)\n",
    "... #--------------------------------------------------------------\n",
    "... # Searching [2, 5, 10, 33, 56, 89, 99, 106]\n",
    "... #           min        mid             max\n",
    "... #--------------------------------------------------------------\n",
    "... min = 0\n",
    "... max = len(L)-1 = 7\n",
    "... mid = int(min + (max-min)/2) = int(0 + (7-0)/2) = 3\n",
    "... L[mid] = 33\n",
    "... 56 > 22\n",
    "...\n",
    "... # Since k is bigger than L[mid], we return whatever\n",
    "... # we get from searching the right hand side of \n",
    "... # the list.\n",
    "... return binary_search(56, L, mid + 1, max)\n",
    "....... #----------------------------------------------------------\n",
    "....... # Searching [2, 5, 10, 33, 56, 89, 99, 106]\n",
    "....... #                         min  mid     max\n",
    "....... #----------------------------------------------------------\n",
    "....... min = 4\n",
    "....... max = 7\n",
    "....... mid = int(mid + (max-min)/2) = int(4 + (7-4)/2) = 5\n",
    "....... L[mid] = 89\n",
    "....... 56 < 89\n",
    ".......\n",
    "....... # Since k is less than L[mid], we return whatever\n",
    "....... # we get from searching the left hand side of\n",
    "....... # the list we just searched.\n",
    "....... return binary_search(99, L, min, mid-1)\n",
    "........... #------------------------------------------------------\n",
    "........... # Searching [2, 5, 10, 33, 56, 89, 99, 106]\n",
    "........... #                          min   \n",
    "........... #                          mid\n",
    "........... #                          max   \n",
    "........... #------------------------------------------------------\n",
    "........... min = 4\n",
    "........... max = 4\n",
    "........... mid = int(mid + (max-min)/2) = int(4 + (4-4)/2) = 4\n",
    "........... L[4] = 56\n",
    "........... 56 == 56\n",
    "...........\n",
    "........... # Now, we return mid back to the previous function call\n",
    "........... return mid = return 4\n",
    ".......\n",
    "....... # Which then returns 4 back to the previous function call\n",
    "....... return 4\n",
    "...\n",
    "... # Which returns 4 back to the original function call\n",
    "... return 4\n",
    "\n",
    "4\n",
    "\n",
    "```"
   ]
  },
  {
   "cell_type": "markdown",
   "metadata": {},
   "source": [
    "---"
   ]
  },
  {
   "cell_type": "markdown",
   "metadata": {},
   "source": [
    "## Selection Sort\n",
    "\n",
    "Find the smallest item in the list, and put it at the front.\n",
    "\n",
    "Find the next smallest item in the list, and put it next to the smallest.\n",
    "\n",
    "Repeat until you get to the last item in the list.\n",
    "\n",
    "https://www.youtube.com/watch?v=f8hXR_Hvybo"
   ]
  },
  {
   "cell_type": "markdown",
   "metadata": {},
   "source": [
    "## Bubble Sort\n",
    "\n",
    "Compare each item with the next one in the list.  If it's bigger than its neighbor, move it up in line; if not, move to the next item and do the comparison again. Go back to the beginning and repeat until there are no more items to swap.\n",
    "\n",
    "https://www.youtube.com/watch?v=8Kp-8OGwphY"
   ]
  },
  {
   "cell_type": "code",
   "execution_count": null,
   "metadata": {
    "collapsed": true
   },
   "outputs": [],
   "source": []
  }
 ],
 "metadata": {
  "kernelspec": {
   "display_name": "Python 3",
   "language": "python",
   "name": "python3"
  },
  "language_info": {
   "codemirror_mode": {
    "name": "ipython",
    "version": 3
   },
   "file_extension": ".py",
   "mimetype": "text/x-python",
   "name": "python",
   "nbconvert_exporter": "python",
   "pygments_lexer": "ipython3",
   "version": "3.4.3"
  }
 },
 "nbformat": 4,
 "nbformat_minor": 0
}
