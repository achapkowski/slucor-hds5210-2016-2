{
 "cells": [
  {
   "cell_type": "markdown",
   "metadata": {},
   "source": [
    "_hds5210 Programming for Health Data Science_\n",
    "\n",
    "# Week 11 - Important Algorithms (Search and Sort)\n",
    "\n",
    "https://docs.google.com/presentation/d/1xQGrqblZVbuSUL5aa3eyhw6dFbmJQYl6-n710XkJbwk/edit?usp=sharing\n",
    "\n",
    "\n",
    "This week's discussion is about two of the most important operations that many programs have to do: searching for a piece of information and sorting groups of information.  Chapter 13 has a great description of several search and sort algorithms. During this lecture, we'll talk about some of that information, but please read the text for additional details.  \n",
    "\n",
    "We'll also discuss the important tradeoffs around searching and sorting, which is information not covered in the text.\n"
   ]
  },
  {
   "cell_type": "code",
   "execution_count": null,
   "metadata": {
    "collapsed": true
   },
   "outputs": [],
   "source": []
  }
 ],
 "metadata": {
  "kernelspec": {
   "display_name": "Python 3",
   "language": "python",
   "name": "python3"
  },
  "language_info": {
   "codemirror_mode": {
    "name": "ipython",
    "version": 3
   },
   "file_extension": ".py",
   "mimetype": "text/x-python",
   "name": "python",
   "nbconvert_exporter": "python",
   "pygments_lexer": "ipython3",
   "version": "3.4.3"
  }
 },
 "nbformat": 4,
 "nbformat_minor": 0
}
