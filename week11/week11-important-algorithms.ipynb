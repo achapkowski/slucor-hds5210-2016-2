{
 "cells": [
  {
   "cell_type": "markdown",
   "metadata": {},
   "source": [
    "_hds5210 Programming for Health Data Science_\n",
    "\n",
    "# Week 11 - Important Algorithms (Search and Sort)\n",
    "\n",
    "https://docs.google.com/presentation/d/1xQGrqblZVbuSUL5aa3eyhw6dFbmJQYl6-n710XkJbwk/edit?usp=sharing\n",
    "\n",
    "\n",
    "This week's discussion is about two of the most important operations that many programs have to do: searching for a piece of information and sorting groups of information.  Chapter 13 has a great description of several search and sort algorithms. During this lecture, we'll talk about some of that information, but please read the text for additional details.  \n",
    "\n",
    "We'll also discuss the important tradeoffs around searching and sorting, which is information not covered in the text.\n"
   ]
  },
  {
   "cell_type": "markdown",
   "metadata": {
    "collapsed": true
   },
   "source": [
    "## Linear Search\n",
    "\n",
    "To find an item in a list, start from one end of the list and check each element until you find the item.  If you get to the end of the list and haven't found it, then the item is not in the list.\n",
    "\n",
    "\n",
    "https://www.youtube.com/watch?v=CX2CYIJLwfg"
   ]
  },
  {
   "cell_type": "markdown",
   "metadata": {},
   "source": [
    "## Binary Search\n",
    "\n",
    "Assume that your list is sorted from smallest to largest.\n",
    "\n",
    "Start in the middle of the list. If your number is there, stop. If the number you are searching for is less than what you find at the middle of the list, the repeat this operation on the left half of the list; otherwise repeat this operation on the right half of the list.\n",
    "\n",
    "\n",
    "https://www.youtube.com/watch?v=D5SrAga1pno"
   ]
  },
  {
   "cell_type": "code",
   "execution_count": 79,
   "metadata": {
    "collapsed": false
   },
   "outputs": [],
   "source": [
    "def binary_search(k, L, min, max):\n",
    "    mid=min+int((max-min)/2)\n",
    "    print(\"k: {:d}, mid: {:d}, L: {:s}\".format(k,mid,str(L)))\n",
    "    if (mid > max) or (mid < min):\n",
    "        print(\"Out of bounds\")\n",
    "        return -1  \n",
    "    elif k == L[mid]:\n",
    "        print(\"They match at {:d}\".format(mid))\n",
    "        print(type(mid))\n",
    "        return mid\n",
    "    elif k > L[mid]:\n",
    "        print(\"k > L[mid]\")\n",
    "        return binary_search(k, L, mid+1, len(L)-1)\n",
    "    else:         # k < L[mid]\n",
    "        print(\"k < L[mid]\")\n",
    "        return binary_search(k, L, 0, mid-1) "
   ]
  },
  {
   "cell_type": "code",
   "execution_count": 80,
   "metadata": {
    "collapsed": false
   },
   "outputs": [
    {
     "name": "stdout",
     "output_type": "stream",
     "text": [
      "k: -7, mid: 2, L: [0, 3, 5, 8, 9]\n",
      "k < L[mid]\n",
      "k: -7, mid: 0, L: [0, 3, 5, 8, 9]\n",
      "k < L[mid]\n",
      "k: -7, mid: 0, L: [0, 3, 5, 8, 9]\n",
      "Out of bounds\n",
      "-1\n"
     ]
    }
   ],
   "source": [
    "L = [0,3,5,8,9]\n",
    "a=binary_search(-7, L, 0, len(L)-1)\n",
    "type(a)\n",
    "print(a)"
   ]
  },
  {
   "cell_type": "markdown",
   "metadata": {},
   "source": [
    "---"
   ]
  },
  {
   "cell_type": "markdown",
   "metadata": {},
   "source": [
    "## Selection Sort\n",
    "\n",
    "Find the smallest item in the list, and put it at the front.\n",
    "\n",
    "Find the next smallest item in the list, and put it next to the smallest.\n",
    "\n",
    "Repeat until you get to the last item in the list.\n",
    "\n",
    "https://www.youtube.com/watch?v=f8hXR_Hvybo"
   ]
  },
  {
   "cell_type": "markdown",
   "metadata": {},
   "source": [
    "## Bubble Sort\n",
    "\n",
    "Compare each item with the next one in the list.  If it's bigger than its neighbor, move it up in line; if not, move to the next item and do the comparison again. Go back to the beginning and repeat until there are no more items to swap.\n",
    "\n",
    "https://www.youtube.com/watch?v=8Kp-8OGwphY"
   ]
  },
  {
   "cell_type": "code",
   "execution_count": null,
   "metadata": {
    "collapsed": true
   },
   "outputs": [],
   "source": []
  }
 ],
 "metadata": {
  "kernelspec": {
   "display_name": "Python 3",
   "language": "python",
   "name": "python3"
  },
  "language_info": {
   "codemirror_mode": {
    "name": "ipython",
    "version": 3
   },
   "file_extension": ".py",
   "mimetype": "text/x-python",
   "name": "python",
   "nbconvert_exporter": "python",
   "pygments_lexer": "ipython3",
   "version": "3.4.3"
  }
 },
 "nbformat": 4,
 "nbformat_minor": 0
}
