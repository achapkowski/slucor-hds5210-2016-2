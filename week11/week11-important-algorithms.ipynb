{
 "cells": [
  {
   "cell_type": "markdown",
   "metadata": {},
   "source": [
    "_hds5210 Programming for Health Data Science_\n",
    "\n",
    "# Week 11 - Important Algorithms (Search and Sort)\n",
    "\n",
    "https://docs.google.com/presentation/d/1xQGrqblZVbuSUL5aa3eyhw6dFbmJQYl6-n710XkJbwk/edit?usp=sharing\n",
    "\n",
    "\n",
    "This week's discussion is about two of the most important operations that many programs have to do: searching for a piece of information and sorting groups of information.  Chapter 13 has a great description of several search and sort algorithms. During this lecture, we'll talk about some of that information, but please read the text for additional details.  \n",
    "\n",
    "We'll also discuss the important tradeoffs around searching and sorting, which is information not covered in the text.\n"
   ]
  },
  {
   "cell_type": "markdown",
   "metadata": {
    "collapsed": true
   },
   "source": [
    "## Linear Search\n",
    "\n",
    "To find an item in a list, start from one end of the list and check each element until you find the item.  If you get to the end of the list and haven't found it, then the item is not in the list.\n",
    "\n",
    "\n",
    "https://www.youtube.com/watch?v=CX2CYIJLwfg"
   ]
  },
  {
   "cell_type": "markdown",
   "metadata": {},
   "source": [
    "## Binary Search\n",
    "\n",
    "Assume that your list is sorted from smallest to largest.\n",
    "\n",
    "Start in the middle of the list. If your number is there, stop. If the number you are searching for is less than what you find at the middle of the list, the repeat this operation on the left half of the list; otherwise repeat this operation on the right half of the list.\n",
    "\n",
    "\n",
    "https://www.youtube.com/watch?v=D5SrAga1pno"
   ]
  },
  {
   "cell_type": "markdown",
   "metadata": {},
   "source": [
    "---"
   ]
  },
  {
   "cell_type": "markdown",
   "metadata": {},
   "source": [
    "## Selection Sort\n",
    "\n",
    "Find the smallest item in the list, and put it at the front.\n",
    "\n",
    "Find the next smallest item in the list, and put it next to the smallest.\n",
    "\n",
    "Repeat until you get to the last item in the list.\n",
    "\n",
    "https://www.youtube.com/watch?v=f8hXR_Hvybo"
   ]
  },
  {
   "cell_type": "markdown",
   "metadata": {},
   "source": [
    "## Bubble Sort\n",
    "\n",
    "Compare each item with the next one in the list.  If it's bigger than its neighbor, move it up in line; if not, move to the next item and do the comparison again. Go back to the beginning and repeat until there are no more items to swap.\n",
    "\n",
    "https://www.youtube.com/watch?v=8Kp-8OGwphY"
   ]
  }
 ],
 "metadata": {
  "kernelspec": {
   "display_name": "Python 3",
   "language": "python",
   "name": "python3"
  },
  "language_info": {
   "codemirror_mode": {
    "name": "ipython",
    "version": 3
   },
   "file_extension": ".py",
   "mimetype": "text/x-python",
   "name": "python",
   "nbconvert_exporter": "python",
   "pygments_lexer": "ipython3",
   "version": "3.4.3"
  }
 },
 "nbformat": 4,
 "nbformat_minor": 0
}
