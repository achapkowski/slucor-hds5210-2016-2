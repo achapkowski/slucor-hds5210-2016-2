{
 "cells": [
  {
   "cell_type": "markdown",
   "metadata": {},
   "source": [
    "_hds5210 Programming for Health Data Scientists_\n",
    "\n",
    "# Week 11 - Assignment\n",
    "\n",
    "This week's assignment is an extended examination of the trade offs between spending time pre-sorting data and how many times the data needs to be searched.  Sometimes it isn't worth it, sometimes it is.  Let's figure out which times are which?\n"
   ]
  },
  {
   "cell_type": "markdown",
   "metadata": {},
   "source": [
    "## Step 1 - Setup Pre-Sorted Binary Search\n",
    "\n",
    "Write a function that takes a list (L) and a number of times to search through it (N), and executes the following instructions:\n",
    "\n",
    "1. Sort L using built-in list sort\n",
    "2. Loop through N times:\n",
    "  * Generate a random number between the min and max values in L\n",
    "  * Use the _bisect_ module's built-in search for the random number"
   ]
  },
  {
   "cell_type": "code",
   "execution_count": null,
   "metadata": {
    "collapsed": false
   },
   "outputs": [],
   "source": [
    "import random\n",
    "import bisect\n",
    "def binary_search(L, N):\n",
    "    #Put your code here...\n",
    "    return None\n",
    "    "
   ]
  },
  {
   "cell_type": "markdown",
   "metadata": {},
   "source": [
    "## Step 2 - Setup Linear Search\n",
    "\n",
    "Write a functiona that takes a list (L) and a number of times to search through it (N), and executes teh following instructions:\n",
    "\n",
    "1. Compute the min and max of L\n",
    "2. Loop through N times:\n",
    "  * Generate a random number between min and max values of L\n",
    "  * Use the list index() method to find the randome number"
   ]
  },
  {
   "cell_type": "code",
   "execution_count": null,
   "metadata": {
    "collapsed": true
   },
   "outputs": [],
   "source": [
    "import random\n",
    "def linear_search(L, N):\n",
    "    #Put your code here....\n",
    "    return None"
   ]
  },
  {
   "cell_type": "markdown",
   "metadata": {},
   "source": [
    "## Step 3 - Run the timings\n",
    "\n",
    "Use the _time_ module to run timings with the random list being generated below.\n",
    "\n",
    "Run timings of both pre-sorted binary search and linear search for the list below and create a list with entries that each contain the values of (N, binary-time, linear-time) for the following values of N:\n",
    "```\n",
    "[1,2,3,4,5,6,7,8,9,10,20,30,40,50,100]\n",
    "```\n",
    "\n"
   ]
  },
  {
   "cell_type": "code",
   "execution_count": null,
   "metadata": {
    "collapsed": false
   },
   "outputs": [],
   "source": [
    "import time\n",
    "import random\n",
    "\n",
    "size = 1000\n",
    "X = [1,2,3,4,5,6,7,8,9,10,20,30,40,50,100]\n",
    "Y_binary = []\n",
    "Y_linear = []\n",
    "\n",
    "for n in X :\n",
    "    L = []\n",
    "    \n",
    "    # This re-initializes the list L every time so that we don't have any caching impact our tests\n",
    "    for i in range(size):\n",
    "        L.append(random.randrange(0,size))\n",
    "\n",
    "    # Put your code here to run timings for binary search here...\n",
    "    ...\n",
    "    # Store the timing for binary search in binary_time\n",
    "    binary_time = ....\n",
    "    \n",
    "    # Put your code here to run timings for linear search here...\n",
    "    ...\n",
    "    # Store the timing for binary search in linear_time\n",
    "    linear_time = ....\n",
    "    \n",
    "    \n",
    "    # We'll keep the number of searches we run (n) in the X list and Y lists\n",
    "    # for the timings on the tests we do.  We'll plot these below in step 4.\n",
    "    Y_binary.append(binary_time)\n",
    "    Y_linear.append(linear_time)\n",
    "    \n",
    "    print(\"{:10d} : {:15.2f} : {:15.2f}\".format(n, binary_time, linear_time))\n",
    "\n"
   ]
  },
  {
   "cell_type": "markdown",
   "metadata": {},
   "source": [
    "## Step 4 - Compare timings\n",
    "\n",
    "Looking at those timings above, at about what point does it become more efficient to take the time to pre-sort your data.  Describe the circumstances under which you would and would not want to pre-sort the data you're going to be searching through.\n"
   ]
  },
  {
   "cell_type": "markdown",
   "metadata": {
    "collapsed": true
   },
   "source": [
    "### Put your answers here\n",
    "\n",
    "...\n",
    "...\n"
   ]
  },
  {
   "cell_type": "code",
   "execution_count": null,
   "metadata": {
    "collapsed": true
   },
   "outputs": [],
   "source": [
    "%matplotlib notebook\n",
    "import matplotlib.pyplot as plt\n",
    "\n",
    "fig = plt.figure()\n",
    "ax1 = fig.add_subplot(111)\n",
    "\n",
    "ax1.plot(X, Y_binary, c='b', label='binary')\n",
    "ax1.plot(X, Y_linear, c='r', label='linear')\n",
    "plt.legend(loc='upper left');\n",
    "plt.show()\n"
   ]
  }
 ],
 "metadata": {
  "kernelspec": {
   "display_name": "Python 3",
   "language": "python",
   "name": "python3"
  },
  "language_info": {
   "codemirror_mode": {
    "name": "ipython",
    "version": 3
   },
   "file_extension": ".py",
   "mimetype": "text/x-python",
   "name": "python",
   "nbconvert_exporter": "python",
   "pygments_lexer": "ipython3",
   "version": "3.4.3"
  }
 },
 "nbformat": 4,
 "nbformat_minor": 0
}
