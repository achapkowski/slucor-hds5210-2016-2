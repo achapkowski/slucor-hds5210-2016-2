{
 "cells": [
  {
   "cell_type": "markdown",
   "metadata": {},
   "source": [
    "_hds5210 Programming for Health Data Scientists_\n",
    "\n",
    "# Week 11 - Assignment\n",
    "\n",
    "This week's assignment is an extended examination of the trade offs between spending time pre-sorting data and how many times the data needs to be searched.  Sometimes it isn't worth it, sometimes it is.  Let's figure out which times are which?\n"
   ]
  },
  {
   "cell_type": "markdown",
   "metadata": {},
   "source": [
    "## Step 1 - Setup Pre-Sorted Binary Search\n",
    "\n",
    "Write a function that takes a list (L) and a number of times to search through it (N), and executes the following instructions:\n",
    "\n",
    "1. Sort L using built-in list sort\n",
    "2. Loop through N times:\n",
    "  * Generate a random number between the min and max values in L\n",
    "  * Use the _bisect_ module's built-in search for the random number"
   ]
  },
  {
   "cell_type": "code",
   "execution_count": 1,
   "metadata": {
    "collapsed": true
   },
   "outputs": [],
   "source": [
    "import random\n",
    "import bisect\n",
    "def binary_search(L, N):\n",
    "    L.sort()\n",
    "    for i in range(N):\n",
    "        r = random.randrange(L[0], L[-1])\n",
    "        bisect.bisect(L, r)"
   ]
  },
  {
   "cell_type": "markdown",
   "metadata": {},
   "source": [
    "## Step 2 - Setup Linear Search\n",
    "\n",
    "Write a functiona that takes a list (L) and a number of times to search through it (N), and executes teh following instructions:\n",
    "\n",
    "1. Compute the min and max of L\n",
    "2. Loop through N times:\n",
    "  * Generate a random number between min and max values of L\n",
    "  * Use the list index() method to find the randome number"
   ]
  },
  {
   "cell_type": "code",
   "execution_count": 17,
   "metadata": {
    "collapsed": true
   },
   "outputs": [],
   "source": [
    "import random\n",
    "def linear_search(L, N):\n",
    "    minimum = min(L)\n",
    "    maximum = max(L)\n",
    "    for i in range(N):\n",
    "        r = random.randrange(minimum, maximum)\n",
    "        r in L"
   ]
  },
  {
   "cell_type": "markdown",
   "metadata": {},
   "source": [
    "## Step 3 - Run the timings\n",
    "\n",
    "Use the _time_ module to run timings with the random list being generated below.\n",
    "\n",
    "Run timings of both pre-sorted binary search and linear search for the list below and create a list with entries that each contain the values of (N, binary-time, linear-time) for the following values of N:\n",
    "* 1\n",
    "* 2\n",
    "* 3\n",
    "* 4\n",
    "* 5\n",
    "* 6\n",
    "* 7\n",
    "* 8\n",
    "* 9\n",
    "* 10\n",
    "* 20\n",
    "* 30\n",
    "* 40\n",
    "* 50\n",
    "* 100\n",
    "\n"
   ]
  },
  {
   "cell_type": "code",
   "execution_count": 26,
   "metadata": {
    "collapsed": false
   },
   "outputs": [
    {
     "name": "stdout",
     "output_type": "stream",
     "text": [
      "         N :          Binary :          Linear\n",
      "         1 :            1.03 :            0.25\n",
      "         2 :            0.55 :            0.18\n",
      "         3 :            0.54 :            0.23\n",
      "         4 :            0.55 :            0.29\n",
      "         5 :            0.54 :            0.31\n",
      "         6 :            0.55 :            0.32\n",
      "         7 :            0.55 :            0.37\n",
      "         8 :            0.56 :            0.37\n",
      "         9 :            0.57 :            0.43\n",
      "        10 :            0.56 :            0.56\n",
      "        20 :            0.61 :            0.85\n",
      "        30 :            0.67 :            1.14\n",
      "        40 :            0.70 :            1.54\n",
      "        50 :            0.75 :            1.68\n",
      "       100 :            0.98 :            3.52\n"
     ]
    }
   ],
   "source": [
    "import time\n",
    "import random\n",
    "\n",
    "size = 1000\n",
    "\n",
    "print(\"{:>10s} : {:>15s} : {:>15s}\".format(\"N\", \"Binary\", \"Linear\"))\n",
    "    \n",
    "for n in [1,2,3,4,5,6,7,8,9,10,20,30,40,50,100]:\n",
    "    L = []\n",
    "    for i in range(size):\n",
    "        L.append(random.randrange(0,size))\n",
    "\n",
    "    start = time.perf_counter()\n",
    "    binary_search(L, n)\n",
    "    end = time.perf_counter()\n",
    "    binary_time = (end - start)*1000\n",
    "    \n",
    "    start = time.perf_counter()\n",
    "    linear_search(L, n)\n",
    "    end = time.perf_counter()\n",
    "    linear_time = (end - start)*1000\n",
    "    \n",
    "    print(\"{:10d} : {:15.2f} : {:15.2f}\".format(n, binary_time, linear_time))\n",
    "\n"
   ]
  },
  {
   "cell_type": "markdown",
   "metadata": {},
   "source": [
    "## Step 4 - Compare timings\n",
    "\n",
    "Looking at those timings above, at about what point does it become more efficient to take the time to pre-sort your data.  Describe the circumstances under which you would and would not want to pre-sort the data you're going to be searching through.\n"
   ]
  },
  {
   "cell_type": "code",
   "execution_count": null,
   "metadata": {
    "collapsed": true
   },
   "outputs": [],
   "source": []
  }
 ],
 "metadata": {
  "kernelspec": {
   "display_name": "Python 3",
   "language": "python",
   "name": "python3"
  },
  "language_info": {
   "codemirror_mode": {
    "name": "ipython",
    "version": 3
   },
   "file_extension": ".py",
   "mimetype": "text/x-python",
   "name": "python",
   "nbconvert_exporter": "python",
   "pygments_lexer": "ipython3",
   "version": "3.4.3"
  }
 },
 "nbformat": 4,
 "nbformat_minor": 0
}
