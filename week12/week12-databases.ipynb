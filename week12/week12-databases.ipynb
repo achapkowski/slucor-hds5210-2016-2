{
 "cells": [
  {
   "cell_type": "markdown",
   "metadata": {},
   "source": [
    "_HDS5210 Programming for Health Data Science_\n",
    "\n",
    "# Week 11 - Introduction to Databases\n",
    "\n",
    "* What is a database?\n",
    "* Relational databases & SQL\n",
    "* Non-Relational (NoSQL) databases\n",
    "* Managing data within Python\n"
   ]
  },
  {
   "cell_type": "code",
   "execution_count": null,
   "metadata": {
    "collapsed": true
   },
   "outputs": [],
   "source": []
  },
  {
   "cell_type": "markdown",
   "metadata": {},
   "source": [
    "## Publicly available data sets\n",
    "\n",
    "http://www.cdc.gov/cdi/\n",
    "\n",
    "CDC's Division of Population Health provides cross-cutting set of 124 indicators that were developed by consensus and that allows states and territories and large metropolitan areas to uniformly define, collect, and report chronic disease data that are important to public health practice and available for states, territories and large metropolitan areas. In addition to providing access to state-specific indicator data, the CDI web site serves as a gateway to additional information and data resources."
   ]
  },
  {
   "cell_type": "code",
   "execution_count": 10,
   "metadata": {
    "collapsed": false
   },
   "outputs": [],
   "source": [
    "import pymysql.cursors\n",
    "\n",
    "connection = pymysql.connect(\n",
    "    host='localhost',\n",
    "    user='slucor',\n",
    "    password='S1UC0R',\n",
    "    db='hds5210',\n",
    "    cursorclass=pymysql.cursors.DictCursor)\n",
    "\n",
    "cursor = connection.cursor()\n",
    "# Read a single record\n",
    "sql = \"SELECT * FROM cdi LIMIT 1\"\n",
    "cursor.execute(sql)\n",
    "result = cursor.fetchone()\n",
    "connection.close()"
   ]
  },
  {
   "cell_type": "code",
   "execution_count": 11,
   "metadata": {
    "collapsed": false
   },
   "outputs": [
    {
     "data": {
      "text/plain": [
       "{'DataSource': 'YRBSS',\n",
       " 'DataValue': Decimal('0.0'),\n",
       " 'DataValueAlt': Decimal('0.0'),\n",
       " 'DataValueFootnoteSymbol': '-',\n",
       " 'DataValueType': 'Crude Prevalence',\n",
       " 'DataValueTypeID': 'CrdPrev',\n",
       " 'DataValueUnit': '%',\n",
       " 'DatavalueFootnote': 'No data available',\n",
       " 'GeoLocation': '(37.63864012300047, -120.99999953799971)',\n",
       " 'HighConfidenceLimit': Decimal('0.0'),\n",
       " 'LocationAbbr': 'CA',\n",
       " 'LocationDesc': 'California',\n",
       " 'LocationID': '06',\n",
       " 'LowConfidenceLimit': Decimal('0.0'),\n",
       " 'Question': 'Alcohol use among youth',\n",
       " 'QuestionID': 'ALC1_1',\n",
       " 'Response': '',\n",
       " 'ResponseID': '',\n",
       " 'Stratification1': 'Overall',\n",
       " 'Stratification2': '',\n",
       " 'Stratification3': '',\n",
       " 'StratificationCategory1': 'Overall',\n",
       " 'StratificationCategory2': '',\n",
       " 'StratificationCategory3': '',\n",
       " 'StratificationCategoryID1': 'OVERALL',\n",
       " 'StratificationCategoryID2': '',\n",
       " 'StratificationCategoryID3': '',\n",
       " 'StratificationID1': 'OVR',\n",
       " 'StratificationID2': '',\n",
       " 'StratificationID3': '',\n",
       " 'Topic': 'Alcohol',\n",
       " 'TopicID': 'ALC',\n",
       " 'YearEnd': 2013,\n",
       " 'YearStart': 2013}"
      ]
     },
     "execution_count": 11,
     "metadata": {},
     "output_type": "execute_result"
    }
   ],
   "source": [
    "result"
   ]
  },
  {
   "cell_type": "code",
   "execution_count": 17,
   "metadata": {
    "collapsed": true
   },
   "outputs": [],
   "source": [
    "import pymysql.cursors\n",
    "\n",
    "connection = pymysql.connect(\n",
    "    host='localhost',\n",
    "    user='slucor',\n",
    "    password='S1UC0R',\n",
    "    db='hds5210',\n",
    "    cursorclass=pymysql.cursors.DictCursor)\n",
    "\n",
    "cursor = connection.cursor()\n",
    "# Read a single record\n",
    "sql = \"SELECT DISTINCT TopicID FROM cdi\"\n",
    "cursor.execute(sql)\n",
    "result = cursor.fetchall()\n",
    "connection.close()"
   ]
  },
  {
   "cell_type": "code",
   "execution_count": 18,
   "metadata": {
    "collapsed": false
   },
   "outputs": [
    {
     "data": {
      "text/plain": [
       "[{'TopicID': 'ALC'},\n",
       " {'TopicID': 'AST'},\n",
       " {'TopicID': 'ART'},\n",
       " {'TopicID': 'CAN'},\n",
       " {'TopicID': 'CKD'},\n",
       " {'TopicID': 'COPD'},\n",
       " {'TopicID': 'CVD'},\n",
       " {'TopicID': 'DIA'},\n",
       " {'TopicID': 'TOB'},\n",
       " {'TopicID': 'DIS'},\n",
       " {'TopicID': 'IMM'},\n",
       " {'TopicID': 'MTH'},\n",
       " {'TopicID': 'NPAW'},\n",
       " {'TopicID': 'ORH'},\n",
       " {'TopicID': 'OLD'},\n",
       " {'TopicID': 'OVC'},\n",
       " {'TopicID': 'RPH'}]"
      ]
     },
     "execution_count": 18,
     "metadata": {},
     "output_type": "execute_result"
    }
   ],
   "source": [
    "result"
   ]
  },
  {
   "cell_type": "code",
   "execution_count": null,
   "metadata": {
    "collapsed": true
   },
   "outputs": [],
   "source": []
  }
 ],
 "metadata": {
  "kernelspec": {
   "display_name": "Python 3",
   "language": "python",
   "name": "python3"
  },
  "language_info": {
   "codemirror_mode": {
    "name": "ipython",
    "version": 3
   },
   "file_extension": ".py",
   "mimetype": "text/x-python",
   "name": "python",
   "nbconvert_exporter": "python",
   "pygments_lexer": "ipython3",
   "version": "3.4.3"
  }
 },
 "nbformat": 4,
 "nbformat_minor": 0
}
