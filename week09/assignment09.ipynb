{
 "cells": [
  {
   "cell_type": "markdown",
   "metadata": {},
   "source": [
    "_HDS5210: Programming for Health Data Science_\n",
    "\n",
    "# Week 09 Assignment - JSON and XML\n",
    "\n",
    "In this week's assignment, we're going to create and parse some JSON and XML.  The first step will be to create, by hand, some JSON and XML that represents a real-world concept.  Then, you'll do some processing on that with Python."
   ]
  },
  {
   "cell_type": "markdown",
   "metadata": {},
   "source": [
    "# 1 - JSON for hospital information\n",
    "\n",
    "Take the list of information below and create a JSON structure that describes the same concept: a list of health systems, the hospitals in that system, and the attributes associated with each hospital.\n",
    "\n",
    "```\n",
    "System    Hospital    City        Beds\n",
    "BJC       BJH         St. Louis   1432\n",
    "BJC       MOBap       Creve Coeur 1107\n",
    "SSM       SLUH        St. Louis   965\n",
    "Mercy     Mercy STL   Creve Coeur 983\n",
    "```"
   ]
  },
  {
   "cell_type": "code",
   "execution_count": null,
   "metadata": {
    "collapsed": true
   },
   "outputs": [],
   "source": [
    "# Use this name and put your JSON version of the above table here...\n",
    "hospitals = \"\"\"\n",
    "\"\"\""
   ]
  },
  {
   "cell_type": "markdown",
   "metadata": {},
   "source": [
    "# 2 - Total Beds per City\n",
    "\n",
    "Using your JSON structure as a starting point, compute the total number of beds per city and what percent of the total beds that represents.  Deliver the results as a JSON structure.\n",
    "\n",
    "```\n",
    "{ \n",
    "  'St. Louis': {\n",
    "    'Total Beds': 2397,\n",
    "    'Percent of Beds': 0.534\n",
    "  },\n",
    "  'Creve Coeur': {\n",
    "    'Total Beds': 2090,\n",
    "    'Percent of Beds': 0.466\n",
    "  }\n",
    "}\n",
    "```"
   ]
  },
  {
   "cell_type": "code",
   "execution_count": null,
   "metadata": {
    "collapsed": true
   },
   "outputs": [],
   "source": [
    "# Put your code here...\n"
   ]
  },
  {
   "cell_type": "markdown",
   "metadata": {},
   "source": [
    "# 3 - Drug XML\n",
    "\n",
    "Create an XML structure that describes a set of drugs and the possible dosages they might have based on the table below.\n",
    "\n",
    "Create an element named `<drug>` for each drug entry.\n",
    "\n",
    "Make the name, dosage, units, and cost attributes of each drug.  Note that the cost is the cost per pill rather than the cost mg.\n",
    "\n",
    "Make the count the text for that drug element.\n",
    "\n",
    "```\n",
    "Name     Dosage    Units   Cost   Count\n",
    "Asprin   100       mg      0.10   320\n",
    "Asprin   200       mg      0.15   211\n",
    "Digoxin  10        mL      1.22   19\n",
    "Digoxin  20        mL      2.01   27\n",
    "```"
   ]
  },
  {
   "cell_type": "code",
   "execution_count": 5,
   "metadata": {
    "collapsed": true
   },
   "outputs": [],
   "source": [
    "drugs = \"\"\"<?xml version=\"1.0\"?>\n",
    "<drugs>\n",
    "  \n",
    "</drugs>\n",
    "\"\"\""
   ]
  },
  {
   "cell_type": "markdown",
   "metadata": {},
   "source": [
    "# 4 - Compute average cost per unit\n",
    "\n",
    "Read in your XML above and compute the total amount spend on each drug.  Store the output in dictionary:\n",
    "{\n",
    "  Asprin: 63.65,\n",
    "  Digoxin: 77.45\n",
    "}\n"
   ]
  },
  {
   "cell_type": "code",
   "execution_count": 10,
   "metadata": {
    "collapsed": true
   },
   "outputs": [],
   "source": [
    "# Put your code here"
   ]
  },
  {
   "cell_type": "code",
   "execution_count": null,
   "metadata": {
    "collapsed": true
   },
   "outputs": [],
   "source": []
  }
 ],
 "metadata": {
  "kernelspec": {
   "display_name": "Python 3",
   "language": "python",
   "name": "python3"
  },
  "language_info": {
   "codemirror_mode": {
    "name": "ipython",
    "version": 3
   },
   "file_extension": ".py",
   "mimetype": "text/x-python",
   "name": "python",
   "nbconvert_exporter": "python",
   "pygments_lexer": "ipython3",
   "version": "3.4.3"
  }
 },
 "nbformat": 4,
 "nbformat_minor": 0
}
