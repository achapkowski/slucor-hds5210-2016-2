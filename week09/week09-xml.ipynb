{
 "cells": [
  {
   "cell_type": "markdown",
   "metadata": {
    "collapsed": true
   },
   "source": [
    "_HDS5210 - Programming for Health Data Scientists_\n",
    "\n",
    "# Week 9 - Data Structures - XML\n",
    "\n",
    "XML is the abbreviation for eXtensible Markup Language.\n",
    "\n",
    "In this part of the lecture, we'll be working on reading / processing / writing XML.  You can see the sample file that we'll be working with here: https://www.hl7.org/fhir/patient-example-f201-roel.xml.html\n",
    "\n",
    "The Python manual for the xml module can be found here: https://docs.python.org/3.6/library/xml.html"
   ]
  },
  {
   "cell_type": "markdown",
   "metadata": {},
   "source": [
    " <id value=\"f201\"/>\n",
    " same as\n",
    " <id value=\"f201\"></id>"
   ]
  },
  {
   "cell_type": "code",
   "execution_count": 1,
   "metadata": {
    "collapsed": true
   },
   "outputs": [],
   "source": [
    "import xml.etree.ElementTree as xml"
   ]
  },
  {
   "cell_type": "code",
   "execution_count": 2,
   "metadata": {
    "collapsed": true
   },
   "outputs": [],
   "source": [
    "x = \"\"\"<?xml version=\"1.0\"?>\n",
    "<start a=\"1\" b=\"2\">My Value</start>\n",
    "\"\"\""
   ]
  },
  {
   "cell_type": "code",
   "execution_count": 3,
   "metadata": {
    "collapsed": false
   },
   "outputs": [
    {
     "data": {
      "text/plain": [
       "'<?xml version=\"1.0\"?>\\n<start a=\"1\" b=\"2\">My Value</start>\\n'"
      ]
     },
     "execution_count": 3,
     "metadata": {},
     "output_type": "execute_result"
    }
   ],
   "source": [
    "x"
   ]
  },
  {
   "cell_type": "code",
   "execution_count": 4,
   "metadata": {
    "collapsed": false
   },
   "outputs": [],
   "source": [
    "root = xml.fromstring(x)"
   ]
  },
  {
   "cell_type": "code",
   "execution_count": 5,
   "metadata": {
    "collapsed": false
   },
   "outputs": [
    {
     "data": {
      "text/plain": [
       "'start'"
      ]
     },
     "execution_count": 5,
     "metadata": {},
     "output_type": "execute_result"
    }
   ],
   "source": [
    "root.tag"
   ]
  },
  {
   "cell_type": "code",
   "execution_count": 6,
   "metadata": {
    "collapsed": false
   },
   "outputs": [
    {
     "data": {
      "text/plain": [
       "{'a': '1', 'b': '2'}"
      ]
     },
     "execution_count": 6,
     "metadata": {},
     "output_type": "execute_result"
    }
   ],
   "source": [
    "root.attrib"
   ]
  },
  {
   "cell_type": "code",
   "execution_count": 7,
   "metadata": {
    "collapsed": false
   },
   "outputs": [
    {
     "data": {
      "text/plain": [
       "'My Value'"
      ]
     },
     "execution_count": 7,
     "metadata": {},
     "output_type": "execute_result"
    }
   ],
   "source": [
    "root.text"
   ]
  },
  {
   "cell_type": "code",
   "execution_count": 35,
   "metadata": {
    "collapsed": false
   },
   "outputs": [],
   "source": [
    "hds5210 = \"\"\"<?xml version=\"1.0\"?>\n",
    "<class name=\"hds5210\" >\n",
    "This class is about programming in Python.\n",
    "    <instructor>Paul Boal</instructor>\n",
    "    <instructor>Eric Westhus</instructor>\n",
    "</class>\n",
    "\"\"\""
   ]
  },
  {
   "cell_type": "code",
   "execution_count": 36,
   "metadata": {
    "collapsed": true
   },
   "outputs": [],
   "source": [
    "c = xml.fromstring(hds5210)"
   ]
  },
  {
   "cell_type": "code",
   "execution_count": 37,
   "metadata": {
    "collapsed": false
   },
   "outputs": [
    {
     "data": {
      "text/plain": [
       "'\\nThis class is about programming in Python.\\n    '"
      ]
     },
     "execution_count": 37,
     "metadata": {},
     "output_type": "execute_result"
    }
   ],
   "source": [
    "c.text"
   ]
  },
  {
   "cell_type": "code",
   "execution_count": 11,
   "metadata": {
    "collapsed": false
   },
   "outputs": [
    {
     "data": {
      "text/plain": [
       "'class'"
      ]
     },
     "execution_count": 11,
     "metadata": {},
     "output_type": "execute_result"
    }
   ],
   "source": [
    "c.tag"
   ]
  },
  {
   "cell_type": "code",
   "execution_count": 12,
   "metadata": {
    "collapsed": false
   },
   "outputs": [
    {
     "data": {
      "text/plain": [
       "{'name': 'hds5210'}"
      ]
     },
     "execution_count": 12,
     "metadata": {},
     "output_type": "execute_result"
    }
   ],
   "source": [
    "c.attrib"
   ]
  },
  {
   "cell_type": "code",
   "execution_count": 15,
   "metadata": {
    "collapsed": false
   },
   "outputs": [
    {
     "name": "stdout",
     "output_type": "stream",
     "text": [
      "instructor Paul Boal\n",
      "instructor Eric Westhus\n"
     ]
    }
   ],
   "source": [
    "for child in c:\n",
    "    print(child.tag, child.text)"
   ]
  },
  {
   "cell_type": "code",
   "execution_count": null,
   "metadata": {
    "collapsed": true
   },
   "outputs": [],
   "source": []
  },
  {
   "cell_type": "markdown",
   "metadata": {},
   "source": [
    "## Parsing an XML file"
   ]
  },
  {
   "cell_type": "code",
   "execution_count": 16,
   "metadata": {
    "collapsed": false
   },
   "outputs": [],
   "source": [
    "tree = xml.parse('/samples/patient-example-f001-pieter.xml')\n",
    "root = tree.getroot()"
   ]
  },
  {
   "cell_type": "code",
   "execution_count": 17,
   "metadata": {
    "collapsed": false
   },
   "outputs": [
    {
     "data": {
      "text/plain": [
       "'{http://hl7.org/fhir}Patient'"
      ]
     },
     "execution_count": 17,
     "metadata": {},
     "output_type": "execute_result"
    }
   ],
   "source": [
    "root.tag"
   ]
  },
  {
   "cell_type": "code",
   "execution_count": 28,
   "metadata": {
    "collapsed": false
   },
   "outputs": [
    {
     "data": {
      "text/plain": [
       "{}"
      ]
     },
     "execution_count": 28,
     "metadata": {},
     "output_type": "execute_result"
    }
   ],
   "source": [
    "root.attrib"
   ]
  },
  {
   "cell_type": "code",
   "execution_count": 31,
   "metadata": {
    "collapsed": false
   },
   "outputs": [
    {
     "name": "stdout",
     "output_type": "stream",
     "text": [
      "{http://hl7.org/fhir}id f001 0\n",
      "{http://hl7.org/fhir}text None 2\n",
      "{http://hl7.org/fhir}identifier None 3\n",
      "{http://hl7.org/fhir}identifier None 2\n",
      "{http://hl7.org/fhir}active true 0\n",
      "{http://hl7.org/fhir}name None 4\n",
      "{http://hl7.org/fhir}telecom None 3\n",
      "{http://hl7.org/fhir}telecom None 3\n",
      "{http://hl7.org/fhir}gender male 0\n",
      "{http://hl7.org/fhir}birthDate 1944-11-17 0\n",
      "{http://hl7.org/fhir}deceasedBoolean false 0\n",
      "{http://hl7.org/fhir}address None 5\n",
      "{http://hl7.org/fhir}maritalStatus None 2\n",
      "{http://hl7.org/fhir}multipleBirthBoolean true 0\n",
      "{http://hl7.org/fhir}contact None 3\n",
      "{http://hl7.org/fhir}communication None 2\n",
      "{http://hl7.org/fhir}managingOrganization None 2\n"
     ]
    }
   ],
   "source": [
    "for child in root:\n",
    "    print(child.tag, child.attrib.get('value'), len(child))"
   ]
  },
  {
   "cell_type": "code",
   "execution_count": 21,
   "metadata": {
    "collapsed": true
   },
   "outputs": [],
   "source": [
    "ns = { 'fhir': 'http://hl7.org/fhir'}\n",
    "xml.register_namespace('fhir','http://hl7.org/fhir')"
   ]
  },
  {
   "cell_type": "code",
   "execution_count": 24,
   "metadata": {
    "collapsed": false
   },
   "outputs": [
    {
     "name": "stdout",
     "output_type": "stream",
     "text": [
      "{} 3\n",
      "{} 3\n"
     ]
    }
   ],
   "source": [
    "for id in root.findall('fhir:telecom', ns):\n",
    "    print(id.attrib, len(id))"
   ]
  },
  {
   "cell_type": "code",
   "execution_count": 25,
   "metadata": {
    "collapsed": false
   },
   "outputs": [
    {
     "name": "stdout",
     "output_type": "stream",
     "text": [
      "{http://hl7.org/fhir}use --> usual\n",
      "{http://hl7.org/fhir}family --> van de Heuvel\n",
      "{http://hl7.org/fhir}given --> Pieter\n",
      "{http://hl7.org/fhir}suffix --> MSc\n"
     ]
    }
   ],
   "source": [
    "for nm in root.findall('fhir:name', ns):\n",
    "    for a in nm:\n",
    "        print(\"{:s} --> {:s}\".format(str(a.tag), str(a.attrib[\"value\"])))"
   ]
  },
  {
   "cell_type": "code",
   "execution_count": 26,
   "metadata": {
    "collapsed": false
   },
   "outputs": [
    {
     "name": "stdout",
     "output_type": "stream",
     "text": [
      "b'<fhir:name xmlns:fhir=\"http://hl7.org/fhir\">\\n    <fhir:use value=\"usual\" />\\n    <fhir:family value=\"van de Heuvel\" />\\n    <fhir:given value=\"Pieter\" />\\n    <fhir:suffix value=\"MSc\" />\\n  </fhir:name>\\n  '\n"
     ]
    }
   ],
   "source": [
    "for nm in root.findall('{http://hl7.org/fhir}name'):\n",
    "    print(xml.tostring(nm))"
   ]
  },
  {
   "cell_type": "code",
   "execution_count": null,
   "metadata": {
    "collapsed": true
   },
   "outputs": [],
   "source": []
  }
 ],
 "metadata": {
  "kernelspec": {
   "display_name": "Python 3",
   "language": "python",
   "name": "python3"
  },
  "language_info": {
   "codemirror_mode": {
    "name": "ipython",
    "version": 3
   },
   "file_extension": ".py",
   "mimetype": "text/x-python",
   "name": "python",
   "nbconvert_exporter": "python",
   "pygments_lexer": "ipython3",
   "version": "3.4.3"
  }
 },
 "nbformat": 4,
 "nbformat_minor": 0
}
