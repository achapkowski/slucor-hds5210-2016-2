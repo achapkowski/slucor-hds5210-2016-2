{
 "cells": [
  {
   "cell_type": "markdown",
   "metadata": {
    "collapsed": true
   },
   "source": [
    "_HDS5210 - Programming for Health Data Scientists_\n",
    "\n",
    "# Week 9 - Data Structures - XML\n",
    "\n",
    "XML is the abbreviation for eXtensible Markup Language.\n",
    "\n",
    "In this part of the lecture, we'll be working on reading / processing / writing XML.  You can see the sample file that we'll be working with here: https://www.hl7.org/fhir/patient-example-f201-roel.xml.html\n",
    "\n",
    "The Python manual for the xml module can be found here: https://docs.python.org/3.6/library/xml.html"
   ]
  },
  {
   "cell_type": "code",
   "execution_count": 2,
   "metadata": {
    "collapsed": true
   },
   "outputs": [],
   "source": [
    "import xml.etree.ElementTree as xml"
   ]
  },
  {
   "cell_type": "code",
   "execution_count": null,
   "metadata": {
    "collapsed": true
   },
   "outputs": [],
   "source": [
    "x = \"\"\"<?xml version=\"1.0\"?>\n",
    "<start a=\"1\" b=\"2\">My Value</start>\n",
    "\"\"\""
   ]
  },
  {
   "cell_type": "code",
   "execution_count": null,
   "metadata": {
    "collapsed": false
   },
   "outputs": [],
   "source": [
    "root = xml.fromstring(x)"
   ]
  },
  {
   "cell_type": "code",
   "execution_count": null,
   "metadata": {
    "collapsed": false
   },
   "outputs": [],
   "source": [
    "root.tag"
   ]
  },
  {
   "cell_type": "code",
   "execution_count": null,
   "metadata": {
    "collapsed": false
   },
   "outputs": [],
   "source": [
    "root.attrib"
   ]
  },
  {
   "cell_type": "code",
   "execution_count": null,
   "metadata": {
    "collapsed": false
   },
   "outputs": [],
   "source": [
    "root.text"
   ]
  },
  {
   "cell_type": "markdown",
   "metadata": {},
   "source": [
    "## Parsing an XML file"
   ]
  },
  {
   "cell_type": "code",
   "execution_count": 3,
   "metadata": {
    "collapsed": false
   },
   "outputs": [],
   "source": [
    "tree = xml.parse('/samples/patient-example-f001-pieter.xml')\n",
    "root = tree.getroot()"
   ]
  },
  {
   "cell_type": "code",
   "execution_count": null,
   "metadata": {
    "collapsed": false
   },
   "outputs": [],
   "source": [
    "root.tag"
   ]
  },
  {
   "cell_type": "code",
   "execution_count": null,
   "metadata": {
    "collapsed": false
   },
   "outputs": [],
   "source": [
    "root.attrib"
   ]
  },
  {
   "cell_type": "code",
   "execution_count": 5,
   "metadata": {
    "collapsed": false
   },
   "outputs": [
    {
     "name": "stdout",
     "output_type": "stream",
     "text": [
      "{http://hl7.org/fhir}id {'value': 'f001'}\n",
      "{http://hl7.org/fhir}text {}\n",
      "{http://hl7.org/fhir}identifier {}\n",
      "{http://hl7.org/fhir}identifier {}\n",
      "{http://hl7.org/fhir}active {'value': 'true'}\n",
      "{http://hl7.org/fhir}name {}\n",
      "{http://hl7.org/fhir}telecom {}\n",
      "{http://hl7.org/fhir}telecom {}\n",
      "{http://hl7.org/fhir}gender {'value': 'male'}\n",
      "{http://hl7.org/fhir}birthDate {'value': '1944-11-17'}\n",
      "{http://hl7.org/fhir}deceasedBoolean {'value': 'false'}\n",
      "{http://hl7.org/fhir}address {}\n",
      "{http://hl7.org/fhir}maritalStatus {}\n",
      "{http://hl7.org/fhir}multipleBirthBoolean {'value': 'true'}\n",
      "{http://hl7.org/fhir}contact {}\n",
      "{http://hl7.org/fhir}communication {}\n",
      "{http://hl7.org/fhir}managingOrganization {}\n"
     ]
    }
   ],
   "source": [
    "for child in root:\n",
    "    print(child.tag, child.attrib)"
   ]
  },
  {
   "cell_type": "code",
   "execution_count": 14,
   "metadata": {
    "collapsed": true
   },
   "outputs": [],
   "source": [
    "ns = { 'fhir': 'http://hl7.org/fhir'}\n",
    "xml.register_namespace('fhir','http://hl7.org/fhir')"
   ]
  },
  {
   "cell_type": "code",
   "execution_count": 16,
   "metadata": {
    "collapsed": false
   },
   "outputs": [
    {
     "name": "stdout",
     "output_type": "stream",
     "text": [
      "{'value': 'f001'}\n"
     ]
    }
   ],
   "source": [
    "for id in root.findall('fhir:id', ns):\n",
    "    print(id.attrib)"
   ]
  },
  {
   "cell_type": "code",
   "execution_count": 17,
   "metadata": {
    "collapsed": false
   },
   "outputs": [
    {
     "name": "stdout",
     "output_type": "stream",
     "text": [
      "{http://hl7.org/fhir}use --> usual\n",
      "{http://hl7.org/fhir}family --> van de Heuvel\n",
      "{http://hl7.org/fhir}given --> Pieter\n",
      "{http://hl7.org/fhir}suffix --> MSc\n"
     ]
    }
   ],
   "source": [
    "for nm in root.findall('fhir:name', ns):\n",
    "    for a in nm:\n",
    "        print(\"{:s} --> {:s}\".format(str(a.tag), str(a.attrib[\"value\"])))"
   ]
  },
  {
   "cell_type": "code",
   "execution_count": 18,
   "metadata": {
    "collapsed": false
   },
   "outputs": [
    {
     "name": "stdout",
     "output_type": "stream",
     "text": [
      "b'<fhir:name xmlns:fhir=\"http://hl7.org/fhir\">\\n    <fhir:use value=\"usual\" />\\n    <fhir:family value=\"van de Heuvel\" />\\n    <fhir:given value=\"Pieter\" />\\n    <fhir:suffix value=\"MSc\" />\\n  </fhir:name>\\n  '\n"
     ]
    }
   ],
   "source": [
    "for nm in root.findall('{http://hl7.org/fhir}name'):\n",
    "    print(xml.tostring(nm))"
   ]
  },
  {
   "cell_type": "code",
   "execution_count": null,
   "metadata": {
    "collapsed": true
   },
   "outputs": [],
   "source": []
  }
 ],
 "metadata": {
  "kernelspec": {
   "display_name": "Python 3",
   "language": "python",
   "name": "python3"
  },
  "language_info": {
   "codemirror_mode": {
    "name": "ipython",
    "version": 3
   },
   "file_extension": ".py",
   "mimetype": "text/x-python",
   "name": "python",
   "nbconvert_exporter": "python",
   "pygments_lexer": "ipython3",
   "version": "3.4.3"
  }
 },
 "nbformat": 4,
 "nbformat_minor": 0
}
