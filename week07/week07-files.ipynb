{
 "cells": [
  {
   "cell_type": "markdown",
   "metadata": {},
   "source": [
    "_HDS5210 Programming for Health Data Scientists_\n",
    "\n",
    "# Week 7 - Reading / Writing files\n",
    "\n",
    "This week, we're talking about reading and writing files to disk on the Jupyter server.  Note that if you want to use Jupyter to process your own files, all you have to do is do `File -> Open` and then click `Upload`.\n",
    "\n",
    "For our exercises, we're going to use simple text file formats, but you should take a look at claim data file formats (https://www.ihs.gov/hipaa/835_837/newsletter4/) and HL7 clinical file formats (http://hl7api.sourceforge.net/hapi-testpanel/index.html) to see what kinds of files you may run across."
   ]
  },
  {
   "cell_type": "markdown",
   "metadata": {},
   "source": [
    "## 1 - Reading simple text files\n",
    "\n",
    "For this section, we'll be using a file stored on the server in `/week07/aco_year1.csv`.  If you want to see what the file looks like, you can see a layout on the CMS website: https://data.cms.gov/ACO/Medicare-Shared-Savings-Program-Accountable-Care-O/yuq5-65xt\n"
   ]
  },
  {
   "cell_type": "code",
   "execution_count": 2,
   "metadata": {
    "collapsed": false
   },
   "outputs": [
    {
     "name": "stdout",
     "output_type": "stream",
     "text": [
      "\"ACO Name (LBN or DBA, if applicable) \",States Where Beneficiaries Reside ,Agreement Start Date,Track,Participate in Advance Payment Model ,Total Assigned Beneficiaries,Total Benchmark Expenditures,Total Expenditures,Total Benchmark Expenditures Minus Total Assigned Beneficiary Expenditures,Total Benchmark Expenditures Minus Total Assigned Beneficiary Expenditures as % of Total Benchmark,\"Generated Savings/Losses1,2\",\"Earned Shared Savings Payments/Owe Losses3,4\",Successfully Reported Quality5,ACO-1,ACO-2,ACO-3,ACO-4,ACO-5,ACO-6,ACO-7,ACO-8^,ACO-9^,ACO-10^,ACO-11,ACO-12,ACO-13,ACO-14,ACO-15,ACO-16,ACO-17,ACO-18,ACO-19,ACO-20,ACO-21,DM Comp-osite,ACO-22,ACO-23,ACO-24,ACO-25,ACO-26,ACO-27^,ACO-28,ACO-29,ACO-30,ACO-31,CAD Comp-osite,ACO-32,ACO-33\n",
      "\n"
     ]
    }
   ],
   "source": [
    "with open('/week07/aco_year1.csv') as aco:\n",
    "    print(aco.readline())"
   ]
  },
  {
   "cell_type": "code",
   "execution_count": 8,
   "metadata": {
    "collapsed": false
   },
   "outputs": [
    {
     "name": "stdout",
     "output_type": "stream",
     "text": [
      "['ACO Name (LBN or DBA, if applicable) ', 'States Where Beneficiaries Reside ', 'Agreement Start Date', 'Track', 'Participate in Advance Payment Model ', 'Total Assigned Beneficiaries', 'Total Benchmark Expenditures', 'Total Expenditures', 'Total Benchmark Expenditures Minus Total Assigned Beneficiary Expenditures', 'Total Benchmark Expenditures Minus Total Assigned Beneficiary Expenditures as % of Total Benchmark', 'Generated Savings/Losses1,2', 'Earned Shared Savings Payments/Owe Losses3,4', 'Successfully Reported Quality5', 'ACO-1', 'ACO-2', 'ACO-3', 'ACO-4', 'ACO-5', 'ACO-6', 'ACO-7', 'ACO-8^', 'ACO-9^', 'ACO-10^', 'ACO-11', 'ACO-12', 'ACO-13', 'ACO-14', 'ACO-15', 'ACO-16', 'ACO-17', 'ACO-18', 'ACO-19', 'ACO-20', 'ACO-21', 'DM Comp-osite', 'ACO-22', 'ACO-23', 'ACO-24', 'ACO-25', 'ACO-26', 'ACO-27^', 'ACO-28', 'ACO-29', 'ACO-30', 'ACO-31', 'CAD Comp-osite', 'ACO-32', 'ACO-33']\n"
     ]
    }
   ],
   "source": [
    "import csv\n",
    "with open('/week07/aco_year1.csv') as aco:\n",
    "    reader = csv.reader(aco)\n",
    "    for row in reader:\n",
    "        print(row)\n",
    "        break"
   ]
  },
  {
   "cell_type": "code",
   "execution_count": 13,
   "metadata": {
    "collapsed": false
   },
   "outputs": [
    {
     "name": "stdout",
     "output_type": "stream",
     "text": [
      "['ACO Name (LBN or DBA, if applicable) ', 'States Where Beneficiaries Reside ', 'Agreement Start Date', 'Track', 'Participate in Advance Payment Model ', 'Total Assigned Beneficiaries', 'Total Benchmark Expenditures', 'Total Expenditures', 'Total Benchmark Expenditures Minus Total Assigned Beneficiary Expenditures', 'Total Benchmark Expenditures Minus Total Assigned Beneficiary Expenditures as % of Total Benchmark', 'Generated Savings/Losses1,2', 'Earned Shared Savings Payments/Owe Losses3,4', 'Successfully Reported Quality5', 'ACO-1', 'ACO-2', 'ACO-3', 'ACO-4', 'ACO-5', 'ACO-6', 'ACO-7', 'ACO-8^', 'ACO-9^', 'ACO-10^', 'ACO-11', 'ACO-12', 'ACO-13', 'ACO-14', 'ACO-15', 'ACO-16', 'ACO-17', 'ACO-18', 'ACO-19', 'ACO-20', 'ACO-21', 'DM Comp-osite', 'ACO-22', 'ACO-23', 'ACO-24', 'ACO-25', 'ACO-26', 'ACO-27^', 'ACO-28', 'ACO-29', 'ACO-30', 'ACO-31', 'CAD Comp-osite', 'ACO-32', 'ACO-33']\n",
      "Total assigned is in column 6\n",
      "Total assigned: 3,675,263\n"
     ]
    }
   ],
   "source": [
    "import csv\n",
    "with open('/week07/aco_year1.csv') as aco:\n",
    "    reader = csv.reader(aco)\n",
    "    for row in reader:\n",
    "        print(row)\n",
    "        break\n",
    "        \n",
    "    assigned_pos = row.index('Total Assigned Beneficiaries')\n",
    "    print('Total assigned is in column {:d}'.format(assigned_pos+1))\n",
    "    \n",
    "    total_assigned = 0\n",
    "    for row in reader:\n",
    "        total_assigned += int(row[assigned_pos])\n",
    "        \n",
    "    print('Total assigned: {:,d}'.format(total_assigned))\n",
    "        "
   ]
  },
  {
   "cell_type": "code",
   "execution_count": 14,
   "metadata": {
    "collapsed": false
   },
   "outputs": [
    {
     "name": "stdout",
     "output_type": "stream",
     "text": [
      "['ACO Name (LBN or DBA, if applicable) ', 'States Where Beneficiaries Reside ', 'Agreement Start Date', 'Track', 'Participate in Advance Payment Model ', 'Total Assigned Beneficiaries', 'Total Benchmark Expenditures', 'Total Expenditures', 'Total Benchmark Expenditures Minus Total Assigned Beneficiary Expenditures', 'Total Benchmark Expenditures Minus Total Assigned Beneficiary Expenditures as % of Total Benchmark', 'Generated Savings/Losses1,2', 'Earned Shared Savings Payments/Owe Losses3,4', 'Successfully Reported Quality5', 'ACO-1', 'ACO-2', 'ACO-3', 'ACO-4', 'ACO-5', 'ACO-6', 'ACO-7', 'ACO-8^', 'ACO-9^', 'ACO-10^', 'ACO-11', 'ACO-12', 'ACO-13', 'ACO-14', 'ACO-15', 'ACO-16', 'ACO-17', 'ACO-18', 'ACO-19', 'ACO-20', 'ACO-21', 'DM Comp-osite', 'ACO-22', 'ACO-23', 'ACO-24', 'ACO-25', 'ACO-26', 'ACO-27^', 'ACO-28', 'ACO-29', 'ACO-30', 'ACO-31', 'CAD Comp-osite', 'ACO-32', 'ACO-33']\n",
      "Total assigned is in column 6\n",
      "[['A.M. Beajow, M.D. Internal Medicine Associates ACO, P.C', 5921], ['AAMC Collaborative Care Network', 10485], ['Accountable Care Clinical Services, PC', 19637], ['Accountable Care Coalition of Caldwell County, LLC', 5915], ['Accountable Care Coalition of Central Georgia, LLC.', 10589], ['Accountable Care Coalition of Coastal Georgia, LLC', 10475], ['Accountable Care Coalition of DeKalb, LLC.', 18446], ['Accountable Care Coalition of Eastern North Carolina, LLC', 10205], ['Accountable Care Coalition of Georgia, LLC.', 10569], ['Accountable Care Coalition of Greater Athens Georgia II, LLC.', 10525]]\n"
     ]
    }
   ],
   "source": [
    "import csv\n",
    "\n",
    "acos = []\n",
    "with open('/week07/aco_year1.csv') as aco:\n",
    "    reader = csv.reader(aco)\n",
    "    for row in reader:\n",
    "        print(row)\n",
    "        break\n",
    "        \n",
    "    assigned_pos = row.index('Total Assigned Beneficiaries')\n",
    "    print('Total assigned is in column {:d}'.format(assigned_pos+1))\n",
    "\n",
    "    for row in reader:\n",
    "        acos.append([row[0],int(row[assigned_pos])])\n",
    "\n",
    "print(acos[0:10])\n",
    "        \n",
    "        "
   ]
  },
  {
   "cell_type": "code",
   "execution_count": null,
   "metadata": {
    "collapsed": true
   },
   "outputs": [],
   "source": []
  }
 ],
 "metadata": {
  "kernelspec": {
   "display_name": "Python 3",
   "language": "python",
   "name": "python3"
  },
  "language_info": {
   "codemirror_mode": {
    "name": "ipython",
    "version": 3
   },
   "file_extension": ".py",
   "mimetype": "text/x-python",
   "name": "python",
   "nbconvert_exporter": "python",
   "pygments_lexer": "ipython3",
   "version": "3.4.3"
  }
 },
 "nbformat": 4,
 "nbformat_minor": 0
}
