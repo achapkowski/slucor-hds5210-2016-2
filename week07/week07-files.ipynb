{
 "cells": [
  {
   "cell_type": "markdown",
   "metadata": {},
   "source": [
    "_HDS5210 Programming for Health Data Scientists_\n",
    "\n",
    "# Week 7 - Reading / Writing files\n",
    "\n",
    "This week, we're talking about reading and writing files to disk on the Jupyter server.  Note that if you want to use Jupyter to process your own files, all you have to do is do `File -> Open` and then click `Upload`.\n",
    "\n",
    "For our exercises, we're going to use simple text file formats, but you should take a look at claim data file formats (https://www.ihs.gov/hipaa/835_837/newsletter4/) and HL7 clinical file formats (http://hl7api.sourceforge.net/hapi-testpanel/index.html) to see what kinds of files you may run across."
   ]
  },
  {
   "cell_type": "markdown",
   "metadata": {},
   "source": [
    "## 1 - Reading simple text files\n",
    "\n",
    "For this section, we'll be using a file stored on the server in `/week07/aco_year1.csv`.  If you want to see what the file looks like, you can see a layout on the CMS website: https://data.cms.gov/ACO/Medicare-Shared-Savings-Program-Accountable-Care-O/yuq5-65xt\n"
   ]
  },
  {
   "cell_type": "markdown",
   "metadata": {},
   "source": [
    "There's a bash command called `head` that will print the first 10 lines of any file.  So, let's use that to take a peak at what this file looks like on disk."
   ]
  },
  {
   "cell_type": "code",
   "execution_count": null,
   "metadata": {
    "collapsed": false
   },
   "outputs": [],
   "source": [
    "%%bash\n",
    "head /week07/aco_year1.csv "
   ]
  },
  {
   "cell_type": "markdown",
   "metadata": {},
   "source": [
    "Now, we'll use Pythong to print out the first line of the file."
   ]
  },
  {
   "cell_type": "code",
   "execution_count": null,
   "metadata": {
    "collapsed": false
   },
   "outputs": [],
   "source": [
    "with open('/week07/aco_year1.csv') as aco:\n",
    "    print(aco.readline())"
   ]
  },
  {
   "cell_type": "markdown",
   "metadata": {},
   "source": [
    "We can also use a loop in python to print out the first ten lines of the file, like `head`"
   ]
  },
  {
   "cell_type": "code",
   "execution_count": null,
   "metadata": {
    "collapsed": false
   },
   "outputs": [],
   "source": [
    "with open('/week07/aco_year1.csv') as aco:\n",
    "    for i in range(10):\n",
    "        print(aco.readline())"
   ]
  },
  {
   "cell_type": "markdown",
   "metadata": {},
   "source": [
    "## 2 - CSV Files with quoted field values\n",
    "\n",
    "This isn't mentioned in the book yet, but Python has a special module for reading and writing CSV files that all for the delimiter to appear inside of a quoted field.  Documentation on this module is here: https://docs.python.org/2/library/csv.html#"
   ]
  },
  {
   "cell_type": "code",
   "execution_count": null,
   "metadata": {
    "collapsed": false
   },
   "outputs": [],
   "source": [
    "import csv\n",
    "with open('/week07/aco_year1.csv') as aco:\n",
    "    reader = csv.reader(aco)\n",
    "    for row in reader:\n",
    "        print(row)\n",
    "        break"
   ]
  },
  {
   "cell_type": "code",
   "execution_count": null,
   "metadata": {
    "collapsed": false
   },
   "outputs": [],
   "source": [
    "import csv\n",
    "with open('/week07/aco_year1.csv') as aco:\n",
    "    reader = csv.reader(aco)\n",
    "    for row in reader:\n",
    "        print(row)\n",
    "        break\n",
    "        \n",
    "    assigned_pos = row.index('Total Assigned Beneficiaries')\n",
    "    print('Total assigned is in column {:d}'.format(assigned_pos+1))\n",
    "    \n",
    "    total_assigned = 0\n",
    "    for row in reader:\n",
    "        total_assigned += int(row[assigned_pos])\n",
    "        \n",
    "    print('Total assigned: {:,d}'.format(total_assigned))\n",
    "        "
   ]
  },
  {
   "cell_type": "code",
   "execution_count": null,
   "metadata": {
    "collapsed": false
   },
   "outputs": [],
   "source": [
    "import csv\n",
    "\n",
    "acos = []\n",
    "with open('/week07/aco_year1.csv') as aco:\n",
    "    reader = csv.reader(aco)\n",
    "    for row in reader:\n",
    "        print(row)\n",
    "        break\n",
    "        \n",
    "    assigned_pos = row.index('Total Assigned Beneficiaries')\n",
    "    print('Total assigned is in column {:d}'.format(assigned_pos+1))\n",
    "\n",
    "    for row in reader:\n",
    "        acos.append([row[0],int(row[assigned_pos])])\n",
    "\n",
    "acos.sort()\n",
    "print(acos[0:10])\n",
    "        \n",
    "        "
   ]
  },
  {
   "cell_type": "markdown",
   "metadata": {
    "collapsed": true
   },
   "source": [
    "## 3 - Reading multi-line records\n",
    "\n",
    "Imagine, though, if you had a file whose record structures aren't quite so nice and rectangular, like a database table or spreadsheet.  Image if you had something with multiple lines per record (this file is in /week07/med_list.txt):\n",
    "\n",
    "```\n",
    "PATIENT:Boal,Paul\n",
    "MEDICATION:Ibuprofen,200mg\n",
    "MEDICATION:Vallium,95mg\n",
    "END\n",
    "PATIENT:Westhus,Eric\n",
    "MEDICATION:Acetominaphen,200mg\n",
    "MEDICATION:Flintstones Chewable Morphine,100mg\n",
    "MEDICATION:Zolpidem,10mg\n",
    "END\n",
    "```\n",
    "\n",
    "You might want to read this into a list structure in Python that looks something like this:\n",
    "```\n",
    "[['Boal', 'Paul', ['Ibuprofen','Vallium']],\n",
    " ['Westhus', 'Eric', ['Acetominaphen','Finstones Chewable Morphine','Zolpidem']]\n",
    "```\n",
    "\n",
    "In this case, we'll want to read the file one row at a time and decide what to do based on the contents of each line."
   ]
  },
  {
   "cell_type": "code",
   "execution_count": 8,
   "metadata": {
    "collapsed": false
   },
   "outputs": [
    {
     "name": "stdout",
     "output_type": "stream",
     "text": [
      "[['Boal', 'Paul', ['Ibuprofen', 'Vallium']], ['Westhus', 'Eric', ['Acetominaphen', 'Flintstones Chewable Morphine', 'Zolpidem']]]\n"
     ]
    }
   ],
   "source": [
    "med_list = []\n",
    "\n",
    "with open('/week07/med_list.txt') as meds:\n",
    "    patient = []\n",
    "    for row in meds:\n",
    "        item = row.strip().split(':')     # We strip the newline and split on :\n",
    "        if item[0] == 'PATIENT':\n",
    "            patient = item[1].split(',')  # This just sets patient to be the last name, first name\n",
    "            patient.append([])            # This adds an empty list on to the end so we can add meds\n",
    "        elif item[0] == 'MEDICATION':\n",
    "            med = item[1].split(',')[0]\n",
    "            patient[2].append(med)        # Add the medication name to the end of our list\n",
    "        elif item[0] == 'END':\n",
    "            med_list.append(patient)      # Add that whole entry we have onto our main list\n",
    "        else:\n",
    "            pass\n",
    "\n",
    "\n",
    "print(med_list)"
   ]
  },
  {
   "cell_type": "markdown",
   "metadata": {},
   "source": [
    "## 4 - Writing to Files\n",
    "\n",
    "In this last piece, we're going to talk through how to write data into an output file in a structured format.  For instance, looking at the previous example, let's try to put together a pipe-delimited output like this:\n",
    "\n",
    "```\n",
    "Boal|Paul|Ibuprofen,Vallium\n",
    "Westhus|Eric|Acetominaphen,Fintstones Chewable Morphine,Zolpidem\n",
    "```\n"
   ]
  },
  {
   "cell_type": "code",
   "execution_count": 9,
   "metadata": {
    "collapsed": true
   },
   "outputs": [],
   "source": [
    "with open('med_list.txt','w') as output:\n",
    "    for items in med_list:\n",
    "        out = \"{:s}|{:s}|{:s}\\n\".format(items[0],items[1],\",\".join(items[2]))\n",
    "        output.write(out)"
   ]
  },
  {
   "cell_type": "code",
   "execution_count": 10,
   "metadata": {
    "collapsed": false
   },
   "outputs": [
    {
     "name": "stdout",
     "output_type": "stream",
     "text": [
      "Boal|Paul|Ibuprofen,Vallium\n",
      "Westhus|Eric|Acetominaphen,Flintstones Chewable Morphine,Zolpidem\n"
     ]
    }
   ],
   "source": [
    "%%bash\n",
    "cat med_list.txt"
   ]
  },
  {
   "cell_type": "code",
   "execution_count": null,
   "metadata": {
    "collapsed": true
   },
   "outputs": [],
   "source": []
  }
 ],
 "metadata": {
  "kernelspec": {
   "display_name": "Python 3",
   "language": "python",
   "name": "python3"
  },
  "language_info": {
   "codemirror_mode": {
    "name": "ipython",
    "version": 3
   },
   "file_extension": ".py",
   "mimetype": "text/x-python",
   "name": "python",
   "nbconvert_exporter": "python",
   "pygments_lexer": "ipython3",
   "version": "3.4.3"
  }
 },
 "nbformat": 4,
 "nbformat_minor": 0
}
