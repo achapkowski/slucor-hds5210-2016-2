{
 "cells": [
  {
   "cell_type": "markdown",
   "metadata": {},
   "source": [
    "_HDS5210 Programming for Health Data Science_\n",
    "\n",
    "# Assignment 7\n",
    "\n",
    "This week's assignment has two basic parts.  First, we'll read a data file that we get from the CMS data website to do some simple calculations and write out the output.  The input file for this homework comes from this URL, if you'd like to examine it online:\n",
    "\n",
    "https://data.cms.gov/Health/Monthly-Pre-Existing-Condition-Insurance-Plan-Enro/dpuq-z7nj\n",
    "\n",
    "The slides for this lecture can be found here: https://drive.google.com/open?id=1dvNoEO9C4iAlRXFnsu4Wlg57iv9VoCvw6l63Zvth2Uw\n"
   ]
  },
  {
   "cell_type": "markdown",
   "metadata": {},
   "source": [
    "## 1 - Count the lines\n",
    "\n",
    "Write a function that, given a file name as a string, will count the number of lines in the file.  Use the function definition that's provided below, and then test your output with the next cell.\n"
   ]
  },
  {
   "cell_type": "code",
   "execution_count": 1,
   "metadata": {
    "collapsed": true
   },
   "outputs": [],
   "source": [
    "def line_count(file):\n",
    "    \"\"\" (str) -> int\n",
    "    Counts the total number of lines in file and returns that number.\n",
    "    \"\"\"\n",
    "    count = 0\n",
    "    with open(file) as input:\n",
    "        for row in input:\n",
    "            count += 1\n",
    "            \n",
    "    return count"
   ]
  },
  {
   "cell_type": "code",
   "execution_count": 2,
   "metadata": {
    "collapsed": false
   },
   "outputs": [
    {
     "data": {
      "text/plain": [
       "53"
      ]
     },
     "execution_count": 2,
     "metadata": {},
     "output_type": "execute_result"
    }
   ],
   "source": [
    "line_count('/week07/preexisting.csv')"
   ]
  },
  {
   "cell_type": "markdown",
   "metadata": {},
   "source": [
    "This should return 53."
   ]
  },
  {
   "cell_type": "markdown",
   "metadata": {},
   "source": [
    "## 2 - Get a list of distinct values\n",
    "\n",
    "Write a function that, given a CSV file name as a string and a column number, will create an array with the distinct values in that particular column of the file.  Assume the first column is 0 just like in Python lists.  This file has a header and footer row.  You can include those in your list of values."
   ]
  },
  {
   "cell_type": "code",
   "execution_count": 4,
   "metadata": {
    "collapsed": false
   },
   "outputs": [],
   "source": [
    "import csv\n",
    "\n",
    "def facet(file, column):\n",
    "    \"\"\" (str, int) -> array\n",
    "    Gets a list of distinct values from the specified column in the input file.\n",
    "    \"\"\"\n",
    "    \n",
    "    vals = []\n",
    "    with open(file) as input:\n",
    "        reader = csv.reader(input)\n",
    "        for row in reader:\n",
    "            if row[column] not in vals:\n",
    "                vals.append(row[column])\n",
    "                \n",
    "    return vals\n"
   ]
  },
  {
   "cell_type": "code",
   "execution_count": 5,
   "metadata": {
    "collapsed": false
   },
   "outputs": [
    {
     "data": {
      "text/plain": [
       "['Federally/State Administered',\n",
       " 'Federal',\n",
       " 'State',\n",
       " 'Transitioned from State to Federally-administered program 7/1/2013',\n",
       " '']"
      ]
     },
     "execution_count": 5,
     "metadata": {},
     "output_type": "execute_result"
    }
   ],
   "source": [
    "facet('/week07/preexisting.csv',1)"
   ]
  },
  {
   "cell_type": "markdown",
   "metadata": {},
   "source": [
    "This should return a list that includes all of the states, Washington DC, a header (State), and a footer (Total)."
   ]
  },
  {
   "cell_type": "markdown",
   "metadata": {},
   "source": [
    "## 3 - Average up the enrollees\n",
    "\n",
    "In columns 3 through the end, we have a series of numbers representing how many people were enrolled in these programs.  Read through the input file in `/week07/preexisting.csv` and print out the state (column 0) and the average enrollees across those other columns.  Ignore the header row, but do calculate the average for the footer row (Total)."
   ]
  },
  {
   "cell_type": "code",
   "execution_count": 8,
   "metadata": {
    "collapsed": false
   },
   "outputs": [
    {
     "name": "stdout",
     "output_type": "stream",
     "text": [
      "['Alabama', 506.3888888888889]\n",
      "['Alaska', 40.05555555555556]\n",
      "['Arizona', 2923.5]\n",
      "['Arkansas', 570.0]\n",
      "['California', 9277.388888888889]\n",
      "['Colorado', 1018.1944444444445]\n",
      "['Connecticut', 358.9166666666667]\n",
      "['Delaware', 200.25]\n",
      "['District of Columbia', 56.861111111111114]\n",
      "['Florida', 6386.166666666667]\n",
      "['Georgia', 2250.3888888888887]\n",
      "['Hawaii', 105.77777777777777]\n",
      "['Idaho', 466.27777777777777]\n",
      "['Illinois', 2357.8055555555557]\n",
      "['Indiana', 1157.5]\n",
      "['Iowa', 270.3888888888889]\n",
      "['Kansas', 352.75]\n",
      "['Kentucky', 813.9166666666666]\n",
      "['Louisiana', 922.8888888888889]\n",
      "['Maine', 38.77777777777778]\n",
      "['Maryland', 1005.3611111111111]\n",
      "['Massachusetts*', 11.694444444444445]\n",
      "['Michigan', 1313.6944444444443]\n",
      "['Minnesota', 482.6388888888889]\n",
      "['Mississippi', 242.27777777777777]\n",
      "['Missouri', 1374.611111111111]\n",
      "['Montana', 276.44444444444446]\n",
      "['Nebraska', 262.8888888888889]\n",
      "['Nevada', 835.3611111111111]\n",
      "['New Hampshire', 414.8611111111111]\n",
      "['New Jersey', 964.5277777777778]\n",
      "['New Mexico', 1022.2222222222222]\n",
      "['New York', 3279.1111111111113]\n",
      "['North Carolina', 3478.1388888888887]\n",
      "['North Dakota', 57.5]\n",
      "['Ohio', 2447.5833333333335]\n",
      "['Oklahoma', 697.5555555555555]\n",
      "['Oregon', 1181.1666666666667]\n",
      "['Pennsylvania', 5073.138888888889]\n",
      "['Rhode Island', 135.27777777777777]\n",
      "['South Carolina', 1323.888888888889]\n",
      "['South Dakota', 148.33333333333334]\n",
      "['Tennessee', 1213.111111111111]\n",
      "['Texas', 5835.444444444444]\n",
      "['Utah', 766.6111111111111]\n",
      "['Vermont*', 0.9166666666666666]\n",
      "['Virginia', 1740.4166666666667]\n",
      "['Washington', 658.3611111111111]\n",
      "['West Virginia', 116.41666666666667]\n",
      "['Wisconsin', 1480.6944444444443]\n",
      "['Wyoming', 192.83333333333334]\n",
      "['Total', 68106.69444444444]\n"
     ]
    }
   ],
   "source": [
    "import csv\n",
    "\n",
    "with open('/week07/preexisting.csv') as input:\n",
    "    reader = csv.reader(input)\n",
    "    \n",
    "    # Skip the header row\n",
    "    next(reader)\n",
    "    \n",
    "    # Loop over the rest\n",
    "    for row in reader:\n",
    "        out = [row[0]]                          # Create the start of our output as just the State\n",
    "        \n",
    "        nums = [float(col) for col in row[2:]]  # Create a list of numbers by converting everything row[2:] to float\n",
    "                                                # This syntax is shorthand for the three lines below...\n",
    "                                                # nums = []\n",
    "                                                # for col in row[2:]:\n",
    "                                                #     nums.append(float(col))\n",
    "\n",
    "        avg = sum(nums) / len(nums)             # Calc the average\n",
    "        out.append(avg)\n",
    "        \n",
    "        print(out)"
   ]
  },
  {
   "cell_type": "markdown",
   "metadata": {},
   "source": [
    "## 4 - Output\n",
    "\n",
    "Take your output from #3 above and write that to a simple tab-delimited text file named `avg.txt`.  Include this file in your github repository and submit it with the assignment."
   ]
  },
  {
   "cell_type": "code",
   "execution_count": 10,
   "metadata": {
    "collapsed": false
   },
   "outputs": [],
   "source": [
    "import csv\n",
    "\n",
    "with open('/week07/preexisting.csv') as input:\n",
    "    reader = csv.reader(input)\n",
    "    \n",
    "    next(reader)\n",
    "    \n",
    "    with open('avg.txt','w') as output:\n",
    "        for row in reader:\n",
    "            nums = [float(col) for col in row[2:]]\n",
    "            avg = sum(nums) / len(nums)\n",
    "\n",
    "            output.write(\"{:s}\\t{:.2f}\\n\".format(row[0],avg))"
   ]
  },
  {
   "cell_type": "code",
   "execution_count": 11,
   "metadata": {
    "collapsed": false
   },
   "outputs": [
    {
     "name": "stdout",
     "output_type": "stream",
     "text": [
      "Alabama\t506.39\n",
      "Alaska\t40.06\n",
      "Arizona\t2923.50\n",
      "Arkansas\t570.00\n",
      "California\t9277.39\n",
      "Colorado\t1018.19\n",
      "Connecticut\t358.92\n",
      "Delaware\t200.25\n",
      "District of Columbia\t56.86\n",
      "Florida\t6386.17\n"
     ]
    }
   ],
   "source": [
    "%%bash\n",
    "head avg.txt"
   ]
  },
  {
   "cell_type": "code",
   "execution_count": 14,
   "metadata": {
    "collapsed": false
   },
   "outputs": [
    {
     "name": "stdout",
     "output_type": "stream",
     "text": [
      "[week07-grading 9a2eabf] added answer key for week 7\n",
      " 1 file changed, 65 insertions(+), 11 deletions(-)\n",
      "Branch week07-grading set up to track remote branch week07-grading from origin.\n"
     ]
    },
    {
     "name": "stderr",
     "output_type": "stream",
     "text": [
      "To git@github.com:paulboal/slucor-hds5210-2016-2-private.git\n",
      "   a8891ed..9a2eabf  week07-grading -> week07-grading\n"
     ]
    }
   ],
   "source": [
    "%%bash\n",
    "git add week07-paulboal.ipynb\n",
    "git add avg.txt\n",
    "git commit -a -m \"added answer key for week 7\"\n",
    "git push --set-upstream origin week07-grading"
   ]
  },
  {
   "cell_type": "code",
   "execution_count": null,
   "metadata": {
    "collapsed": true
   },
   "outputs": [],
   "source": []
  }
 ],
 "metadata": {
  "kernelspec": {
   "display_name": "Python 3",
   "language": "python",
   "name": "python3"
  },
  "language_info": {
   "codemirror_mode": {
    "name": "ipython",
    "version": 3
   },
   "file_extension": ".py",
   "mimetype": "text/x-python",
   "name": "python",
   "nbconvert_exporter": "python",
   "pygments_lexer": "ipython3",
   "version": "3.4.3"
  }
 },
 "nbformat": 4,
 "nbformat_minor": 0
}
