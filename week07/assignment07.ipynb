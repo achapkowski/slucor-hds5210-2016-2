{
 "cells": [
  {
   "cell_type": "markdown",
   "metadata": {},
   "source": [
    "_HDS5210 Programming for Health Data Science_\n",
    "\n",
    "# Assignment 7\n",
    "\n",
    "This week's assignment has two basic parts.  First, we'll read a data file that we get from the CMS data website to do some simple calculations and write out the output.  The input file for this homework comes from this URL, if you'd like to examine it online:\n",
    "\n",
    "https://data.cms.gov/Health/Monthly-Pre-Existing-Condition-Insurance-Plan-Enro/dpuq-z7nj\n",
    "\n",
    "The slides for this lecture can be found here: https://drive.google.com/open?id=1dvNoEO9C4iAlRXFnsu4Wlg57iv9VoCvw6l63Zvth2Uw\n"
   ]
  },
  {
   "cell_type": "markdown",
   "metadata": {},
   "source": [
    "## 1 - Count the lines\n",
    "\n",
    "Write a function that, given a file name as a string, will count the number of lines in the file.  Use the function definition that's provided below, and then test your output with the next cell.\n"
   ]
  },
  {
   "cell_type": "code",
   "execution_count": null,
   "metadata": {
    "collapsed": true
   },
   "outputs": [],
   "source": [
    "def line_count(file):\n",
    "    \"\"\" (str) -> int\n",
    "    Counts the total number of lines in file and returns that number.\n",
    "    \"\"\"\n",
    "    "
   ]
  },
  {
   "cell_type": "code",
   "execution_count": null,
   "metadata": {
    "collapsed": false
   },
   "outputs": [],
   "source": [
    "line_count('/week07/preexisting.csv')"
   ]
  },
  {
   "cell_type": "markdown",
   "metadata": {},
   "source": [
    "This should return 53."
   ]
  },
  {
   "cell_type": "markdown",
   "metadata": {},
   "source": [
    "## 2 - Get a list of distinct values\n",
    "\n",
    "Write a function that, given a CSV file name as a string and a column number, will create an array with the distinct values in that particular column of the file.  Assume the first column is 0 just like in Python lists.  This file has a header and footer row.  You can include those in your list of values."
   ]
  },
  {
   "cell_type": "code",
   "execution_count": null,
   "metadata": {
    "collapsed": true
   },
   "outputs": [],
   "source": [
    "import csv\n",
    "\n",
    "def facet(file, column):\n",
    "    \"\"\" (str, int) -> array\n",
    "    Gets a list of distinct values from the specified column in the input file.\n",
    "    \"\"\"\n"
   ]
  },
  {
   "cell_type": "code",
   "execution_count": null,
   "metadata": {
    "collapsed": false
   },
   "outputs": [],
   "source": [
    "facet('/week07/preexisting.csv',1)"
   ]
  },
  {
   "cell_type": "markdown",
   "metadata": {},
   "source": [
    "This should return a list that includes all of the states, Washington DC, a header (State), and a footer (Total)."
   ]
  },
  {
   "cell_type": "markdown",
   "metadata": {},
   "source": [
    "## 3 - Average up the enrollees\n",
    "\n",
    "In columns 3 through the end, we have a series of numbers representing how many people were enrolled in these programs.  Read through the input file in `/week07/preexisting.csv` and print out the state (column 0) and the average enrollees across those other columns.  Ignore the header row, but do calculate the average for the footer row (Total)."
   ]
  },
  {
   "cell_type": "code",
   "execution_count": null,
   "metadata": {
    "collapsed": true
   },
   "outputs": [],
   "source": []
  },
  {
   "cell_type": "markdown",
   "metadata": {},
   "source": [
    "## 4 - Output\n",
    "\n",
    "Take your output from #3 above and write that to a simple tab-delimited text file named `avg.txt`.  Include this file in your github repository and submit it with the assignment."
   ]
  },
  {
   "cell_type": "code",
   "execution_count": null,
   "metadata": {
    "collapsed": true
   },
   "outputs": [],
   "source": []
  },
  {
   "cell_type": "code",
   "execution_count": null,
   "metadata": {
    "collapsed": true
   },
   "outputs": [],
   "source": [
    "%%bash\n",
    "git add week07-paulboal.ipynb\n",
    "git add avg.txt\n",
    "git commit -a -m \"whatever\"\n",
    "git push"
   ]
  }
 ],
 "metadata": {
  "kernelspec": {
   "display_name": "Python 3",
   "language": "python",
   "name": "python3"
  },
  "language_info": {
   "codemirror_mode": {
    "name": "ipython",
    "version": 3
   },
   "file_extension": ".py",
   "mimetype": "text/x-python",
   "name": "python",
   "nbconvert_exporter": "python",
   "pygments_lexer": "ipython3",
   "version": "3.4.3"
  }
 },
 "nbformat": 4,
 "nbformat_minor": 0
}
