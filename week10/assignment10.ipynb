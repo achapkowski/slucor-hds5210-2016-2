{
 "cells": [
  {
   "cell_type": "markdown",
   "metadata": {},
   "source": [
    "# Week 10 - Algorithms\n",
    "\n",
    "For this week's homework, we're only going to solve one problem, but we're going to design a couple of different solutions to it: **Reverse Pivot**\n",
    "\n",
    "Remember back to the midterm when we did the pivot, here we're going to design algorithms for the reverse of that operation.  In Excel terms, this is usually the way a pivot table works.\n",
    "\n",
    "The objective is to take a rectangular list L (rows and columns) and unpivot the last two columns, assuming that the second to last column should be the output column header name, and the last column will be the row in the output.  Any missing values should be replaec with `None`.\n",
    "\n",
    "For example. The input:\n",
    "```\n",
    "[[ 'Name',   'Label',  'Value' ],\n",
    " [ 'Boal',   'Week 1',     10  ],\n",
    " [ 'Boal',   'Week 2',     11  ],\n",
    " [ 'Boal',   'Week 3',      7  ],\n",
    " [ 'Westus', 'Week 1',     12  ],\n",
    " [ 'Westus', 'Week 3',      4  ],\n",
    " [ 'Westus', 'Week 4',      9  ]]\n",
    "```\n",
    "\n",
    "Should become:\n",
    "```\n",
    "[[ 'Name',    'Week 1', 'Week 2', 'Week 3', 'Week 4' ],\n",
    " [ 'Boal',         10,       11,        7,     None  ],\n",
    " [ 'Westus',       12,     None,        4,        9  ]]\n",
    "```"
   ]
  },
  {
   "cell_type": "markdown",
   "metadata": {},
   "source": [
    "## 1 - Algorithm A\n",
    "\n",
    "Write out, in English and pseudocode, one approach to answering this assignment. You don't need to write any Python code.\n",
    "\n",
    "\n",
    "(6 pts)\n"
   ]
  },
  {
   "cell_type": "code",
   "execution_count": 3,
   "metadata": {
    "collapsed": true
   },
   "outputs": [],
   "source": [
    "###akjhf;ahsdfkj"
   ]
  },
  {
   "cell_type": "markdown",
   "metadata": {},
   "source": [
    "## 2 - Algorithm B\n",
    "\n",
    "Write out, in English and pseudocode, a different approach to answering this assignment.  Again, dont' write any Python code.\n",
    "\n",
    "(6 pts)"
   ]
  },
  {
   "cell_type": "code",
   "execution_count": 2,
   "metadata": {
    "collapsed": true
   },
   "outputs": [],
   "source": [
    "###"
   ]
  },
  {
   "cell_type": "markdown",
   "metadata": {},
   "source": [
    "## 3 - Compare your algorithms\n",
    "\n",
    "Given how each algorithm works, can you make a prediction about which one you think will take longer to run?  Explain your thinking with references to line numbers from above.\n",
    "\n",
    "(8 pts)"
   ]
  },
  {
   "cell_type": "code",
   "execution_count": 1,
   "metadata": {
    "collapsed": true
   },
   "outputs": [],
   "source": [
    "###\n"
   ]
  },
  {
   "cell_type": "code",
   "execution_count": null,
   "metadata": {
    "collapsed": true
   },
   "outputs": [],
   "source": []
  }
 ],
 "metadata": {
  "kernelspec": {
   "display_name": "Python 3",
   "language": "python",
   "name": "python3"
  },
  "language_info": {
   "codemirror_mode": {
    "name": "ipython",
    "version": 3
   },
   "file_extension": ".py",
   "mimetype": "text/x-python",
   "name": "python",
   "nbconvert_exporter": "python",
   "pygments_lexer": "ipython3",
   "version": "3.4.3"
  }
 },
 "nbformat": 4,
 "nbformat_minor": 0
}
