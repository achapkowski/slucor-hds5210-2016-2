{
 "cells": [
  {
   "cell_type": "markdown",
   "metadata": {},
   "source": [
    "_hds5210 - Programming for Health Data Science_\n",
    "\n",
    "# Week 10 - Introduction to Algorithms\n",
    "\n",
    "The purpose of this week's class is to talk about how to think through our approach to solving problems and write those, not the actual code.  We'll be reusing previous homework assignments so that we can discuss how we solved them and what some of the challenges were.\n",
    "\n",
    "\n",
    "https://docs.google.com/presentation/d/1JbeoLJG1xli0TCwldA8ekDXwWFEDrWv47Kdrjv9Mpno/edit?usp=sharing\n",
    "\n"
   ]
  },
  {
   "cell_type": "markdown",
   "metadata": {},
   "source": [
    "## Parsing dosages from weeks 3/5\n",
    "\n",
    "Create a function that will parse the kinds of dosages show below and return a 3-member tuple that contains the (quantity, unit of measure, unit of time).\n",
    "\n",
    "Demonstrate that your function works correctly using each of these tests:\n",
    "\n",
    "* 1.0 L/hr\n",
    "* 10 mg/hr\n",
    "* 0.75 g/day\n",
    "\n",
    "(1.0, 'L', 'hr')"
   ]
  },
  {
   "cell_type": "code",
   "execution_count": null,
   "metadata": {
    "collapsed": true
   },
   "outputs": [],
   "source": [
    "# Solution 1\n",
    "# Setup an empty tuple\n",
    "# Set a counter = 0\n",
    "# Loop through the input one character at a time\n",
    "#   If the current character is not a space or /\n",
    "#     Accumulate the current character onto a string\n",
    "#   Else\n",
    "#     Store the string in the current counter position of the tuple\n",
    "#     Clear the string\n",
    "#     Incremement the counter"
   ]
  },
  {
   "cell_type": "code",
   "execution_count": null,
   "metadata": {
    "collapsed": true
   },
   "outputs": [],
   "source": [
    "# Solution 2\n",
    "# Find the first \" \"\n",
    "# Find the first \"/\"\n",
    "# Output a tuple with three items:\n",
    "#   1 - input from 0 to first space\n",
    "#   2 - input from first space + 1 to first slash\n",
    "#   3 - input from first slash + 1 to end"
   ]
  },
  {
   "cell_type": "code",
   "execution_count": 1,
   "metadata": {
    "collapsed": true
   },
   "outputs": [],
   "source": [
    "# Solution 3\n",
    "# Split the input using space and slash as delimiters\n",
    "# Put the outputs from the split in a tuple"
   ]
  },
  {
   "cell_type": "markdown",
   "metadata": {},
   "source": [
    "## Counting occurences of a dictionary value from week 8\n",
    "\n",
    "Take the dictionary below and return a new dictionary that contains each of the values and a count of how many times they appear as values in the dictionary.\n",
    "\n",
    "```\n",
    "patient_ages = {\n",
    "    \"E143291\": 19,\n",
    "    \"E872839\": 32,\n",
    "    \"E878198\": 19,\n",
    "    \"E871111\": 21,\n",
    "    \"E143299\": 3,\n",
    "    \"E123332\": 21,\n",
    "    \"E989891\":19 }\n",
    "```"
   ]
  },
  {
   "cell_type": "code",
   "execution_count": null,
   "metadata": {
    "collapsed": true
   },
   "outputs": [],
   "source": [
    "# Solution 1\n",
    "\n",
    "# Invert the dictionary as described in the book\n",
    "# Loop through the dictionary and \n",
    "#   compute the length of each list\n"
   ]
  },
  {
   "cell_type": "code",
   "execution_count": 21,
   "metadata": {
    "collapsed": true
   },
   "outputs": [],
   "source": [
    "# Solution 2\n",
    "\n",
    "# Loop you th dictionary in the same way as the invert process\n",
    "#   But keep a counter instead of appending list items\n"
   ]
  },
  {
   "cell_type": "code",
   "execution_count": null,
   "metadata": {
    "collapsed": true
   },
   "outputs": [],
   "source": [
    "# Solution 3\n",
    "\n",
    "# Take all of the values from the dictionary as a list\n",
    "# Sort that list\n",
    "# Loop through the list one item at a time\n",
    "#   Keep a counter of how many times I've seen the current value\n",
    "#   When I see a new value, store it and the count\n",
    "#     And reset the counter\n"
   ]
  },
  {
   "cell_type": "code",
   "execution_count": null,
   "metadata": {
    "collapsed": true
   },
   "outputs": [],
   "source": []
  },
  {
   "cell_type": "code",
   "execution_count": null,
   "metadata": {
    "collapsed": true
   },
   "outputs": [],
   "source": [
    "# NPI,MRN\n",
    "# 123498, E345123\n",
    "# 123981, E874987\n",
    "%%bash\n",
    "cat pcps.csv | cut -d, -f1 | sort | uniq -c\n"
   ]
  }
 ],
 "metadata": {
  "kernelspec": {
   "display_name": "Python 3",
   "language": "python",
   "name": "python3"
  },
  "language_info": {
   "codemirror_mode": {
    "name": "ipython",
    "version": 3
   },
   "file_extension": ".py",
   "mimetype": "text/x-python",
   "name": "python",
   "nbconvert_exporter": "python",
   "pygments_lexer": "ipython3",
   "version": "3.4.3"
  }
 },
 "nbformat": 4,
 "nbformat_minor": 0
}
