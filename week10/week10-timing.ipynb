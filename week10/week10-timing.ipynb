{
 "cells": [
  {
   "cell_type": "markdown",
   "metadata": {},
   "source": [
    "_hds5210 Programming for Health Data Science_\n",
    "\n",
    "# Timing Algorithms\n",
    "\n"
   ]
  },
  {
   "cell_type": "code",
   "execution_count": 4,
   "metadata": {
    "collapsed": true
   },
   "outputs": [],
   "source": [
    "def pivot1(H, L, n):\n",
    "  output = []\n",
    "\n",
    "\n",
    "  for i in range(n, len(L)):\n",
    "    out = L[:n]\n",
    "\n",
    "\n",
    "    out.append(H[i])\n",
    "    out.append(L[i])\n",
    "    output.append(out)\n",
    "\n",
    "\n",
    "  return output"
   ]
  },
  {
   "cell_type": "code",
   "execution_count": 5,
   "metadata": {
    "collapsed": false
   },
   "outputs": [],
   "source": [
    "def pivot2(H, L, n):\n",
    "  output = []\n",
    "\n",
    "  copies = len(L) - n\n",
    "  for i in range(copies):\n",
    "    out = L[:n]\n",
    "\n",
    "    copy_index = n + i\n",
    "    for c in range(len(L)):\n",
    "        if c == copy_index:\n",
    "            out.append(H[c])\n",
    "            out.append(L[c])\n",
    "\n",
    "\n",
    "  return output\n"
   ]
  },
  {
   "cell_type": "code",
   "execution_count": 6,
   "metadata": {
    "collapsed": false
   },
   "outputs": [
    {
     "name": "stdout",
     "output_type": "stream",
     "text": [
      "pivot1 : 1.898330170661211\n",
      "pivot2 : 66.66625291109085\n"
     ]
    }
   ],
   "source": [
    "import time\n",
    "\n",
    "H = ['Head '+str(n) for n in range(1,1000)]\n",
    "L = ['Row '+str(n) for n in range(1,1000)]\n",
    "n = 3\n",
    "\n",
    "# Time #1\n",
    "start1 = time.perf_counter()\n",
    "a = pivot1(H,L,n)\n",
    "end1 = time.perf_counter()\n",
    "print(\"pivot1 : \" + str((end1 - start1) * 1000))\n",
    "\n",
    "# Time #2\n",
    "start2 = time.perf_counter()\n",
    "a = pivot2(H,L,n)\n",
    "end2 = time.perf_counter()\n",
    "print(\"pivot2 : \" + str((end2 - start2) * 1000))\n"
   ]
  },
  {
   "cell_type": "code",
   "execution_count": null,
   "metadata": {
    "collapsed": true
   },
   "outputs": [],
   "source": []
  }
 ],
 "metadata": {
  "kernelspec": {
   "display_name": "Python 3",
   "language": "python",
   "name": "python3"
  },
  "language_info": {
   "codemirror_mode": {
    "name": "ipython",
    "version": 3
   },
   "file_extension": ".py",
   "mimetype": "text/x-python",
   "name": "python",
   "nbconvert_exporter": "python",
   "pygments_lexer": "ipython3",
   "version": "3.4.3"
  }
 },
 "nbformat": 4,
 "nbformat_minor": 0
}
