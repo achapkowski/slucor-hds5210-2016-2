{
 "cells": [
  {
   "cell_type": "code",
   "execution_count": 4,
   "metadata": {
    "collapsed": true
   },
   "outputs": [],
   "source": [
    "list1 = ['a', 'b']\n",
    "list2 = ['a', 'b']\n",
    "list3 = ['a', 'c']"
   ]
  },
  {
   "cell_type": "code",
   "execution_count": 5,
   "metadata": {
    "collapsed": false
   },
   "outputs": [
    {
     "name": "stdout",
     "output_type": "stream",
     "text": [
      "They match\n"
     ]
    }
   ],
   "source": [
    "if list1 == list2:\n",
    "    print(\"They match\")\n",
    "else:\n",
    "    print(\"They don't match\")"
   ]
  },
  {
   "cell_type": "code",
   "execution_count": 6,
   "metadata": {
    "collapsed": false
   },
   "outputs": [
    {
     "name": "stdout",
     "output_type": "stream",
     "text": [
      "They don't match\n"
     ]
    }
   ],
   "source": [
    "if list1 == list3:\n",
    "    print(\"They match\")\n",
    "else:\n",
    "    print(\"They don't match\")"
   ]
  },
  {
   "cell_type": "code",
   "execution_count": 7,
   "metadata": {
    "collapsed": false
   },
   "outputs": [
    {
     "name": "stdout",
     "output_type": "stream",
     "text": [
      "they do match\n"
     ]
    }
   ],
   "source": [
    "for i in range(len(list1)):\n",
    "    if list1[i] != list2[i]:\n",
    "        print(\"they don't match\")\n",
    "        break\n",
    "\n",
    "print(\"they do match\")"
   ]
  },
  {
   "cell_type": "code",
   "execution_count": 8,
   "metadata": {
    "collapsed": false
   },
   "outputs": [
    {
     "name": "stdout",
     "output_type": "stream",
     "text": [
      "Help on wrapper_descriptor:\n",
      "\n",
      "__eq__(self, value, /)\n",
      "    Return self==value.\n",
      "\n"
     ]
    }
   ],
   "source": [
    "help(list.__eq__)"
   ]
  },
  {
   "cell_type": "markdown",
   "metadata": {},
   "source": [
    "# List operations"
   ]
  },
  {
   "cell_type": "markdown",
   "metadata": {},
   "source": [
    "```\n",
    "  0   1   2\n",
    "  --- --- ---\n",
    "0 a   b   c\n",
    "1 1   2   3\n",
    "```"
   ]
  },
  {
   "cell_type": "code",
   "execution_count": 13,
   "metadata": {
    "collapsed": true
   },
   "outputs": [],
   "source": [
    "test = [['a','b','c'], [1,2,3]] "
   ]
  },
  {
   "cell_type": "code",
   "execution_count": 14,
   "metadata": {
    "collapsed": false
   },
   "outputs": [
    {
     "name": "stdout",
     "output_type": "stream",
     "text": [
      "[['a', 'b', 'c'], [1, 2, 3]]\n"
     ]
    }
   ],
   "source": [
    "print(test)"
   ]
  },
  {
   "cell_type": "code",
   "execution_count": 15,
   "metadata": {
    "collapsed": false
   },
   "outputs": [
    {
     "data": {
      "text/plain": [
       "['a', 'b', 'c']"
      ]
     },
     "execution_count": 15,
     "metadata": {},
     "output_type": "execute_result"
    }
   ],
   "source": [
    "test[0]"
   ]
  },
  {
   "cell_type": "code",
   "execution_count": 16,
   "metadata": {
    "collapsed": false
   },
   "outputs": [
    {
     "data": {
      "text/plain": [
       "'a'"
      ]
     },
     "execution_count": 16,
     "metadata": {},
     "output_type": "execute_result"
    }
   ],
   "source": [
    "test[0][0] "
   ]
  },
  {
   "cell_type": "markdown",
   "metadata": {},
   "source": [
    "# Pivot / Transform\n"
   ]
  },
  {
   "cell_type": "code",
   "execution_count": null,
   "metadata": {
    "collapsed": true
   },
   "outputs": [],
   "source": [
    "for item in input:\n",
    "    \n",
    "    # what stays the same until I hit the next input row\n",
    "    prefix = input[0:2]\n",
    "    \n",
    "    for o in pivot_list:\n",
    "        # do something to create each output row"
   ]
  },
  {
   "cell_type": "code",
   "execution_count": 17,
   "metadata": {
    "collapsed": true
   },
   "outputs": [],
   "source": [
    "test = [1,2,3]"
   ]
  },
  {
   "cell_type": "code",
   "execution_count": 18,
   "metadata": {
    "collapsed": false
   },
   "outputs": [
    {
     "data": {
      "text/plain": [
       "[1, 2, 3, 4]"
      ]
     },
     "execution_count": 18,
     "metadata": {},
     "output_type": "execute_result"
    }
   ],
   "source": [
    "test.append(4)\n",
    "test"
   ]
  },
  {
   "cell_type": "code",
   "execution_count": 19,
   "metadata": {
    "collapsed": false
   },
   "outputs": [
    {
     "data": {
      "text/plain": [
       "[1, 2, 3, 4]"
      ]
     },
     "execution_count": 19,
     "metadata": {},
     "output_type": "execute_result"
    }
   ],
   "source": [
    "[1,2,3] + [4]"
   ]
  },
  {
   "cell_type": "code",
   "execution_count": 20,
   "metadata": {
    "collapsed": true
   },
   "outputs": [],
   "source": [
    "test.append([4])"
   ]
  },
  {
   "cell_type": "code",
   "execution_count": 21,
   "metadata": {
    "collapsed": false
   },
   "outputs": [
    {
     "data": {
      "text/plain": [
       "[1, 2, 3, 4, [4]]"
      ]
     },
     "execution_count": 21,
     "metadata": {},
     "output_type": "execute_result"
    }
   ],
   "source": [
    "test"
   ]
  },
  {
   "cell_type": "code",
   "execution_count": 22,
   "metadata": {
    "collapsed": false
   },
   "outputs": [
    {
     "data": {
      "text/plain": [
       "[1, 2, 3, 4, 5]"
      ]
     },
     "execution_count": 22,
     "metadata": {},
     "output_type": "execute_result"
    }
   ],
   "source": [
    "test1 = [1,2,3]\n",
    "test2 = [4,5]\n",
    "test1 + test2"
   ]
  },
  {
   "cell_type": "code",
   "execution_count": 23,
   "metadata": {
    "collapsed": false
   },
   "outputs": [
    {
     "data": {
      "text/plain": [
       "[1, 2, 3, [4, 5]]"
      ]
     },
     "execution_count": 23,
     "metadata": {},
     "output_type": "execute_result"
    }
   ],
   "source": [
    "test1.append(test2)\n",
    "test1"
   ]
  },
  {
   "cell_type": "code",
   "execution_count": 24,
   "metadata": {
    "collapsed": true
   },
   "outputs": [],
   "source": [
    "test1 = test1.append(test2)"
   ]
  },
  {
   "cell_type": "code",
   "execution_count": 25,
   "metadata": {
    "collapsed": true
   },
   "outputs": [],
   "source": [
    "test1"
   ]
  },
  {
   "cell_type": "code",
   "execution_count": 26,
   "metadata": {
    "collapsed": true
   },
   "outputs": [],
   "source": [
    "test1 = [3,6,1,2]"
   ]
  },
  {
   "cell_type": "code",
   "execution_count": 27,
   "metadata": {
    "collapsed": true
   },
   "outputs": [],
   "source": [
    "test1.sort()"
   ]
  },
  {
   "cell_type": "code",
   "execution_count": 28,
   "metadata": {
    "collapsed": false
   },
   "outputs": [
    {
     "data": {
      "text/plain": [
       "[1, 2, 3, 6]"
      ]
     },
     "execution_count": 28,
     "metadata": {},
     "output_type": "execute_result"
    }
   ],
   "source": [
    "test1"
   ]
  },
  {
   "cell_type": "code",
   "execution_count": 29,
   "metadata": {
    "collapsed": true
   },
   "outputs": [],
   "source": [
    "test1 = test1.sort() "
   ]
  },
  {
   "cell_type": "code",
   "execution_count": 30,
   "metadata": {
    "collapsed": true
   },
   "outputs": [],
   "source": [
    "test1"
   ]
  },
  {
   "cell_type": "markdown",
   "metadata": {},
   "source": [
    "# Writing to a file"
   ]
  },
  {
   "cell_type": "code",
   "execution_count": 31,
   "metadata": {
    "collapsed": true
   },
   "outputs": [],
   "source": [
    "a = [['a','b','c'], [1,2,3]]"
   ]
  },
  {
   "cell_type": "code",
   "execution_count": 32,
   "metadata": {
    "collapsed": true
   },
   "outputs": [
    {
     "name": "stdout",
     "output_type": "stream",
     "text": [
      "Help on built-in function open in module io:\n",
      "\n",
      "open(...)\n",
      "    open(file, mode='r', buffering=-1, encoding=None,\n",
      "         errors=None, newline=None, closefd=True, opener=None) -> file object\n",
      "    \n",
      "    Open file and return a stream.  Raise IOError upon failure.\n",
      "    \n",
      "    file is either a text or byte string giving the name (and the path\n",
      "    if the file isn't in the current working directory) of the file to\n",
      "    be opened or an integer file descriptor of the file to be\n",
      "    wrapped. (If a file descriptor is given, it is closed when the\n",
      "    returned I/O object is closed, unless closefd is set to False.)\n",
      "    \n",
      "    mode is an optional string that specifies the mode in which the file\n",
      "    is opened. It defaults to 'r' which means open for reading in text\n",
      "    mode.  Other common values are 'w' for writing (truncating the file if\n",
      "    it already exists), 'x' for creating and writing to a new file, and\n",
      "    'a' for appending (which on some Unix systems, means that all writes\n",
      "    append to the end of the file regardless of the current seek position).\n",
      "    In text mode, if encoding is not specified the encoding used is platform\n",
      "    dependent: locale.getpreferredencoding(False) is called to get the\n",
      "    current locale encoding. (For reading and writing raw bytes use binary\n",
      "    mode and leave encoding unspecified.) The available modes are:\n",
      "    \n",
      "    ========= ===============================================================\n",
      "    Character Meaning\n",
      "    --------- ---------------------------------------------------------------\n",
      "    'r'       open for reading (default)\n",
      "    'w'       open for writing, truncating the file first\n",
      "    'x'       create a new file and open it for writing\n",
      "    'a'       open for writing, appending to the end of the file if it exists\n",
      "    'b'       binary mode\n",
      "    't'       text mode (default)\n",
      "    '+'       open a disk file for updating (reading and writing)\n",
      "    'U'       universal newline mode (deprecated)\n",
      "    ========= ===============================================================\n",
      "    \n",
      "    The default mode is 'rt' (open for reading text). For binary random\n",
      "    access, the mode 'w+b' opens and truncates the file to 0 bytes, while\n",
      "    'r+b' opens the file without truncation. The 'x' mode implies 'w' and\n",
      "    raises an `FileExistsError` if the file already exists.\n",
      "    \n",
      "    Python distinguishes between files opened in binary and text modes,\n",
      "    even when the underlying operating system doesn't. Files opened in\n",
      "    binary mode (appending 'b' to the mode argument) return contents as\n",
      "    bytes objects without any decoding. In text mode (the default, or when\n",
      "    't' is appended to the mode argument), the contents of the file are\n",
      "    returned as strings, the bytes having been first decoded using a\n",
      "    platform-dependent encoding or using the specified encoding if given.\n",
      "    \n",
      "    'U' mode is deprecated and will raise an exception in future versions\n",
      "    of Python.  It has no effect in Python 3.  Use newline to control\n",
      "    universal newlines mode.\n",
      "    \n",
      "    buffering is an optional integer used to set the buffering policy.\n",
      "    Pass 0 to switch buffering off (only allowed in binary mode), 1 to select\n",
      "    line buffering (only usable in text mode), and an integer > 1 to indicate\n",
      "    the size of a fixed-size chunk buffer.  When no buffering argument is\n",
      "    given, the default buffering policy works as follows:\n",
      "    \n",
      "    * Binary files are buffered in fixed-size chunks; the size of the buffer\n",
      "      is chosen using a heuristic trying to determine the underlying device's\n",
      "      \"block size\" and falling back on `io.DEFAULT_BUFFER_SIZE`.\n",
      "      On many systems, the buffer will typically be 4096 or 8192 bytes long.\n",
      "    \n",
      "    * \"Interactive\" text files (files for which isatty() returns True)\n",
      "      use line buffering.  Other text files use the policy described above\n",
      "      for binary files.\n",
      "    \n",
      "    encoding is the name of the encoding used to decode or encode the\n",
      "    file. This should only be used in text mode. The default encoding is\n",
      "    platform dependent, but any encoding supported by Python can be\n",
      "    passed.  See the codecs module for the list of supported encodings.\n",
      "    \n",
      "    errors is an optional string that specifies how encoding errors are to\n",
      "    be handled---this argument should not be used in binary mode. Pass\n",
      "    'strict' to raise a ValueError exception if there is an encoding error\n",
      "    (the default of None has the same effect), or pass 'ignore' to ignore\n",
      "    errors. (Note that ignoring encoding errors can lead to data loss.)\n",
      "    See the documentation for codecs.register or run 'help(codecs.Codec)'\n",
      "    for a list of the permitted encoding error strings.\n",
      "    \n",
      "    newline controls how universal newlines works (it only applies to text\n",
      "    mode). It can be None, '', '\\n', '\\r', and '\\r\\n'.  It works as\n",
      "    follows:\n",
      "    \n",
      "    * On input, if newline is None, universal newlines mode is\n",
      "      enabled. Lines in the input can end in '\\n', '\\r', or '\\r\\n', and\n",
      "      these are translated into '\\n' before being returned to the\n",
      "      caller. If it is '', universal newline mode is enabled, but line\n",
      "      endings are returned to the caller untranslated. If it has any of\n",
      "      the other legal values, input lines are only terminated by the given\n",
      "      string, and the line ending is returned to the caller untranslated.\n",
      "    \n",
      "    * On output, if newline is None, any '\\n' characters written are\n",
      "      translated to the system default line separator, os.linesep. If\n",
      "      newline is '' or '\\n', no translation takes place. If newline is any\n",
      "      of the other legal values, any '\\n' characters written are translated\n",
      "      to the given string.\n",
      "    \n",
      "    If closefd is False, the underlying file descriptor will be kept open\n",
      "    when the file is closed. This does not work when a file name is given\n",
      "    and must be True in that case.\n",
      "    \n",
      "    A custom opener can be used by passing a callable as *opener*. The\n",
      "    underlying file descriptor for the file object is then obtained by\n",
      "    calling *opener* with (*file*, *flags*). *opener* must return an open\n",
      "    file descriptor (passing os.open as *opener* results in functionality\n",
      "    similar to passing None).\n",
      "    \n",
      "    open() returns a file object whose type depends on the mode, and\n",
      "    through which the standard file operations such as reading and writing\n",
      "    are performed. When open() is used to open a file in a text mode ('w',\n",
      "    'r', 'wt', 'rt', etc.), it returns a TextIOWrapper. When used to open\n",
      "    a file in a binary mode, the returned class varies: in read binary\n",
      "    mode, it returns a BufferedReader; in write binary and append binary\n",
      "    modes, it returns a BufferedWriter, and in read/write mode, it returns\n",
      "    a BufferedRandom.\n",
      "    \n",
      "    It is also possible to use a string or bytearray as a file for both\n",
      "    reading and writing. For strings StringIO can be used like a file\n",
      "    opened in a text mode, and for bytes a BytesIO can be used like a file\n",
      "    opened in a binary mode.\n",
      "\n"
     ]
    }
   ],
   "source": [
    "help(open)"
   ]
  },
  {
   "cell_type": "code",
   "execution_count": 43,
   "metadata": {
    "collapsed": false
   },
   "outputs": [],
   "source": [
    "# output = open('testoutput.txt','w')\n",
    "with open('testoutput.txt','w') as output:\n",
    "    for item in a:\n",
    "        for element in item:\n",
    "            # You have to convert stuff you want to write into a string\n",
    "            output.write(str(element) + '\\n')"
   ]
  },
  {
   "cell_type": "code",
   "execution_count": 44,
   "metadata": {
    "collapsed": false
   },
   "outputs": [
    {
     "name": "stdout",
     "output_type": "stream",
     "text": [
      "a\n",
      "b\n",
      "c\n",
      "1\n",
      "2\n",
      "3\n"
     ]
    }
   ],
   "source": [
    "%%bash\n",
    "cat testoutput.txt"
   ]
  },
  {
   "cell_type": "code",
   "execution_count": 45,
   "metadata": {
    "collapsed": false
   },
   "outputs": [
    {
     "data": {
      "text/plain": [
       "[2, 3, 4, 5]"
      ]
     },
     "execution_count": 45,
     "metadata": {},
     "output_type": "execute_result"
    }
   ],
   "source": [
    "list(range(2,6))"
   ]
  },
  {
   "cell_type": "code",
   "execution_count": 46,
   "metadata": {
    "collapsed": true
   },
   "outputs": [
    {
     "name": "stdout",
     "output_type": "stream",
     "text": [
      "Help on class range in module builtins:\n",
      "\n",
      "class range(object)\n",
      " |  range(stop) -> range object\n",
      " |  range(start, stop[, step]) -> range object\n",
      " |  \n",
      " |  Return a sequence of numbers from start to stop by step.\n",
      " |  \n",
      " |  Methods defined here:\n",
      " |  \n",
      " |  __contains__(self, key, /)\n",
      " |      Return key in self.\n",
      " |  \n",
      " |  __eq__(self, value, /)\n",
      " |      Return self==value.\n",
      " |  \n",
      " |  __ge__(self, value, /)\n",
      " |      Return self>=value.\n",
      " |  \n",
      " |  __getattribute__(self, name, /)\n",
      " |      Return getattr(self, name).\n",
      " |  \n",
      " |  __getitem__(self, key, /)\n",
      " |      Return self[key].\n",
      " |  \n",
      " |  __gt__(self, value, /)\n",
      " |      Return self>value.\n",
      " |  \n",
      " |  __hash__(self, /)\n",
      " |      Return hash(self).\n",
      " |  \n",
      " |  __iter__(self, /)\n",
      " |      Implement iter(self).\n",
      " |  \n",
      " |  __le__(self, value, /)\n",
      " |      Return self<=value.\n",
      " |  \n",
      " |  __len__(self, /)\n",
      " |      Return len(self).\n",
      " |  \n",
      " |  __lt__(self, value, /)\n",
      " |      Return self<value.\n",
      " |  \n",
      " |  __ne__(self, value, /)\n",
      " |      Return self!=value.\n",
      " |  \n",
      " |  __new__(*args, **kwargs) from builtins.type\n",
      " |      Create and return a new object.  See help(type) for accurate signature.\n",
      " |  \n",
      " |  __reduce__(...)\n",
      " |  \n",
      " |  __repr__(self, /)\n",
      " |      Return repr(self).\n",
      " |  \n",
      " |  __reversed__(...)\n",
      " |      Return a reverse iterator.\n",
      " |  \n",
      " |  count(...)\n",
      " |      rangeobject.count(value) -> integer -- return number of occurrences of value\n",
      " |  \n",
      " |  index(...)\n",
      " |      rangeobject.index(value, [start, [stop]]) -> integer -- return index of value.\n",
      " |      Raise ValueError if the value is not present.\n",
      " |  \n",
      " |  ----------------------------------------------------------------------\n",
      " |  Data descriptors defined here:\n",
      " |  \n",
      " |  start\n",
      " |  \n",
      " |  step\n",
      " |  \n",
      " |  stop\n",
      "\n"
     ]
    }
   ],
   "source": [
    "help(range)"
   ]
  },
  {
   "cell_type": "code",
   "execution_count": 47,
   "metadata": {
    "collapsed": false
   },
   "outputs": [
    {
     "data": {
      "text/plain": [
       "range(2, 6)"
      ]
     },
     "execution_count": 47,
     "metadata": {},
     "output_type": "execute_result"
    }
   ],
   "source": [
    "range(2,6)"
   ]
  },
  {
   "cell_type": "code",
   "execution_count": 48,
   "metadata": {
    "collapsed": false
   },
   "outputs": [
    {
     "data": {
      "text/plain": [
       "[2, 3, 4, 5]"
      ]
     },
     "execution_count": 48,
     "metadata": {},
     "output_type": "execute_result"
    }
   ],
   "source": [
    "list(range(2,6))"
   ]
  },
  {
   "cell_type": "markdown",
   "metadata": {},
   "source": [
    "# Looking at midterm files"
   ]
  },
  {
   "cell_type": "code",
   "execution_count": 51,
   "metadata": {
    "collapsed": false
   },
   "outputs": [
    {
     "name": "stdout",
     "output_type": "stream",
     "text": [
      "total 56\n",
      "-rw-rw-r-- 1 paulboal paulboal 43580 Oct  5 04:45 census.csv\n",
      "-r--r--r-- 1 paulboal paulboal 11064 Oct  5 04:43 preexisting.csv\n"
     ]
    }
   ],
   "source": [
    "%%bash\n",
    "ls -l /midterm"
   ]
  },
  {
   "cell_type": "code",
   "execution_count": 52,
   "metadata": {
    "collapsed": false
   },
   "outputs": [
    {
     "name": "stdout",
     "output_type": "stream",
     "text": [
      "SUMLEV,REGION,DIVISION,STATE,NAME,CENSUS2010POP,ESTIMATESBASE2010,POPESTIMATE2010,POPESTIMATE2011,POPESTIMATE2012,POPESTIMATE2013,POPESTIMATE2014,POPESTIMATE2015,NPOPCHG_2010,NPOPCHG_2011,NPOPCHG_2012,NPOPCHG_2013,NPOPCHG_2014,NPOPCHG_2015,BIRTHS2010,BIRTHS2011,BIRTHS2012,BIRTHS2013,BIRTHS2014,BIRTHS2015,DEATHS2010,DEATHS2011,DEATHS2012,DEATHS2013,DEATHS2014,DEATHS2015,NATURALINC2010,NATURALINC2011,NATURALINC2012,NATURALINC2013,NATURALINC2014,NATURALINC2015,INTERNATIONALMIG2010,INTERNATIONALMIG2011,INTERNATIONALMIG2012,INTERNATIONALMIG2013,INTERNATIONALMIG2014,INTERNATIONALMIG2015,DOMESTICMIG2010,DOMESTICMIG2011,DOMESTICMIG2012,DOMESTICMIG2013,DOMESTICMIG2014,DOMESTICMIG2015,NETMIG2010,NETMIG2011,NETMIG2012,NETMIG2013,NETMIG2014,NETMIG2015,RESIDUAL2010,RESIDUAL2011,RESIDUAL2012,RESIDUAL2013,RESIDUAL2014,RESIDUAL2015,RBIRTH2011,RBIRTH2012,RBIRTH2013,RBIRTH2014,RBIRTH2015,RDEATH2011,RDEATH2012,RDEATH2013,RDEATH2014,RDEATH2015,RNATURALINC2011,RNATURALINC2012,RNATURALINC2013,RNATURALINC2014,RNATURALINC2015,RINTERNATIONALMIG2011,RINTERNATIONALMIG2012,RINTERNATIONALMIG2013,RINTERNATIONALMIG2014,RINTERNATIONALMIG2015,RDOMESTICMIG2011,RDOMESTICMIG2012,RDOMESTICMIG2013,RDOMESTICMIG2014,RDOMESTICMIG2015,RNETMIG2011,RNETMIG2012,RNETMIG2013,RNETMIG2014,RNETMIG2015\r\n",
      "010,0,0,00,UNITED STATES,308745538,308758105,309346863,311718857,314102623,316427395,318907401,321418820,588758,2371994,2383766,2324772,2480006,2511419,987836,3973485,3936976,3940576,3958107,3985924,598691,2512442,2501531,2608019,2611362,2625033,389145,1461043,1435445,1332557,1346745,1360891,199613,910951,948321,992215,1133261,1150528,0,0,0,0,0,0,199613,910951,948321,992215,1133261,1150528,0,0,0,0,0,0,12.79569898,12.581786103,12.499249481,12.459909405,12.449666652,8.0907444062,7.9943916275,8.2724657845,8.2204280843,8.1990489032,4.7049545739,4.5873944755,4.2267836961,4.2394813206,4.2506177488,2.9335091945,3.0306438187,3.1472411199,3.5674450924,3.5935682853,0,0,0,0,0,2.9335091945,3.0306438187,3.1472411199,3.5674450924,3.5935682853\r\n",
      "020,1,0,00,NORTHEAST REGION,55317240,55318348,55387174,55638038,55835056,56019353,56171281,56283891,68826,250864,197018,184297,151928,112610,163421,646260,637884,635765,631620,635486,110778,470867,461046,480036,476784,479649,52643,175393,176838,155729,154836,155837,52737,247391,242341,259986,298609,298875,-34519,-163606,-218973,-215832,-290692,-324078,18218,83785,23368,44154,7917,-25203,-2035,-8314,-3188,-15586,-10825,-18024,11.64168009,11.444627167,11.367723556,11.259763449,11.302032422,8.4821634927,8.2718794905,8.5832289365,8.4995330359,8.5304924882,3.159516597,3.1727476767,2.7844946193,2.7602304128,2.7715399342,4.4564832716,4.3479729736,4.6486500143,5.3232429367,5.3154513872,-2.947186446,-3.928714852,-3.859159454,-5.182108161,-5.763683328,1.5092968253,0.4192581216,0.78949056,0.141134776,-0.448231941\r\n",
      "020,2,0,00,MIDWEST REGION,66927001,66929897,66977505,67156488,67340231,67565788,67762069,67907403,47608,178983,183743,225557,196281,145334,212625,834893,830699,830851,833294,835105,140751,586883,584786,605122,591344,589347,71874,248010,245913,225729,241950,245758,24650,113207,122892,130890,150069,151417,-48164,-180659,-184582,-128556,-182237,-238428,-23514,-67452,-61690,2334,-32168,-87011,-752,-1575,-480,-2506,-13501,-13413,12.448641561,12.352702819,12.317478585,12.315187996,12.310875655,8.7506975208,8.6959147308,8.9710155927,8.7394275371,8.6879825109,3.6979440402,3.6567880886,3.3464629921,3.5757604585,3.6228931443,1.6879688358,1.8274349131,1.9404619745,2.2178582197,2.2321454896,-2.693709416,-2.744780711,-1.905860108,-2.69326662,-3.514836411,-1.005740581,-0.917345798,0.0346018661,-0.4754084,-1.282690921\r\n",
      "020,3,0,00,SOUTH REGION,114555744,114562953,114862858,116080267,117331340,118487418,119795010,121182847,299905,1217409,1251073,1156078,1307592,1387837,368752,1509593,1504986,1504764,1521933,1534496,228775,962661,960465,1011030,1016353,1023601,139977,546932,544521,493734,505580,510895,75972,330851,353727,358686,407843,417245,82215,324112,347512,290702,371437,444240,158187,654963,701239,649388,779280,861485,1741,15514,5313,12956,22732,15457,13.073288066,12.895554076,12.762038209,12.774194159,12.73557678,8.336779889,8.2297963871,8.5746359499,8.5306584168,8.4953946619,4.7365081771,4.6657576887,4.1874022592,4.2435357424,4.2401821176,2.8652162735,3.0309289632,3.04204808,3.4231898963,3.462932281,2.806855584,2.977675399,2.4654696892,3.1176197348,3.6869777624,5.6720718575,6.0086043622,5.5075177692,6.5408096312,7.1499100434\r\n",
      "020,4,0,00,WEST REGION,71945553,71946907,72119326,72844064,73595996,74354836,75179041,76044679,172419,724738,751932,758840,824205,865638,243038,982739,963407,969196,971260,980837,118387,492031,495234,511831,526881,532436,124651,490708,468173,457365,444379,448401,46254,219502,229361,242653,276740,282991,468,20153,56043,53686,101492,118266,46722,239655,285404,296339,378232,401257,1046,-5625,-1645,5136,1594,15980,13.558443963,13.157697422,13.101595806,12.990501142,12.971999366,6.7883484237,6.7636410419,6.9189337171,7.0469783914,7.0416995429,6.7700955393,6.3940563805,6.1826620887,5.943522751,5.9302998233,3.0283784064,3.1324898392,3.280184325,3.7013686203,3.7426800505,0.2780426148,0.7654053133,0.725727585,1.3574449086,1.5641197029,3.3064210212,3.8978951525,4.00591191,5.0588135289,5.3067997534\r\n",
      "040,3,6,01,ALABAMA,4779736,4780127,4785161,4801108,4816089,4830533,4846411,4858979,5034,15947,14981,14444,15878,12568,14226,59689,59062,57938,58334,58305,11089,48811,48357,50843,50228,50330,3137,10878,10705,7095,8106,7975,1357,4926,4904,4834,5529,5726,537,11,-929,1838,2816,-2268,1894,4937,3975,6672,8345,3458,3,132,301,677,-573,1135,12.453020044,12.282580881,12.012080498,12.056285538,12.014973123,10.183523955,10.056360497,10.541099257,10.380963246,10.371556424,2.2694960886,2.2262203842,1.4709812409,1.6753222918,1.6434166994,1.0277199607,1.0198397724,1.0022161125,1.1427161302,1.1799628866,0.0022949492,-0.193195585,0.3810660353,0.5820019213,-0.467369163,1.0300149099,0.8266441875,1.3832821479,1.7247180515,0.7125937237\r\n",
      "040,4,9,02,ALASKA,710231,710249,714021,722720,731228,737442,737046,738432,3772,8699,8508,6214,-396,1386,2892,11711,11126,11348,11462,11498,918,3928,3934,4040,4172,4282,1974,7783,7192,7308,7290,7216,568,1512,2737,2319,2335,2601,1191,-843,-1415,-2875,-10645,-7678,1759,669,1322,-556,-8310,-5077,39,247,-6,-538,624,-753,16.302172765,15.304536338,15.453437464,15.547091601,15.58545773,5.4679305456,5.4114727624,5.5015762561,5.6589134669,5.8042207339,10.834242219,9.8930635759,9.9518612078,9.8881781337,9.7812369957,2.104763489,3.7649214415,3.157959242,3.1672010895,3.5256371156,-1.173489167,-1.946424494,-3.915106865,-14.43891032,-10.40747473,0.9312743215,1.8184969476,-0.757147623,-11.27170923,-6.881837615\r\n",
      "040,4,8,04,ARIZONA,6392017,6392307,6408208,6468732,6553262,6630799,6728783,6828065,15901,60524,84530,77537,97984,99282,20937,86104,85566,86103,86556,87385,11489,48152,48759,50592,52148,53233,9448,37952,36807,35511,34408,34152,2266,12638,13618,14622,16976,17344,4417,8547,34155,25745,41548,45934,6683,21185,47773,40367,58524,63278,-230,1387,-50,1659,5052,1852,13.373363548,13.141766153,13.061681071,12.957890449,12.891639709,7.4787954281,7.4887148619,7.674721772,7.806831082,7.8533004132,5.8945681194,5.6530512915,5.3869592988,5.151059367,5.0383392954,1.9628886987,2.0915383619,2.218132941,2.541396879,2.5587068617,1.3274892948,5.2457403989,3.9054734349,6.2199550854,6.7765014405,3.2903779935,7.3372787608,6.1236063759,8.7613519645,9.3352083021\r\n",
      "040,3,7,05,ARKANSAS,2915918,2915958,2922394,2938538,2949499,2957957,2966835,2978204,6436,16144,10961,8458,8878,11369,9439,38445,38604,37979,37912,37820,7023,29427,29741,30945,29154,29401,2416,9018,8863,7034,8758,8419,736,2816,3176,3321,3813,3893,3182,4001,-1273,-1306,-3143,-1212,3918,6817,1903,2015,670,2681,102,309,195,-591,-550,269,13.119073895,13.112689339,12.857988278,12.797748849,12.723213422,10.041747626,10.102178366,10.476590939,9.8413581439,9.8909359552,3.0773262682,3.0105109734,2.3813973392,2.9563907054,2.832277467,0.9609393182,1.0787975687,1.1243418487,1.2871337931,1.3096634017,1.3653118651,-0.432402174,-0.442153103,-1.060965516,-0.40773492,2.3262511833,0.6463953946,0.6821887459,0.2261682773,0.9019284819\r\n"
     ]
    }
   ],
   "source": [
    "%%bash\n",
    "head /midterm/census.csv"
   ]
  },
  {
   "cell_type": "markdown",
   "metadata": {},
   "source": [
    "# List Comprehension"
   ]
  },
  {
   "cell_type": "code",
   "execution_count": 55,
   "metadata": {
    "collapsed": false
   },
   "outputs": [
    {
     "data": {
      "text/plain": [
       "['a', 'b', 'c']"
      ]
     },
     "execution_count": 55,
     "metadata": {},
     "output_type": "execute_result"
    }
   ],
   "source": [
    "input = ['A','B','C']\n",
    "output = []\n",
    "for item in input:\n",
    "    output.append(item.lower())\n",
    "\n",
    "output"
   ]
  },
  {
   "cell_type": "code",
   "execution_count": 56,
   "metadata": {
    "collapsed": false
   },
   "outputs": [
    {
     "data": {
      "text/plain": [
       "['a', 'b', 'c']"
      ]
     },
     "execution_count": 56,
     "metadata": {},
     "output_type": "execute_result"
    }
   ],
   "source": [
    "[item.lower() for item in input]"
   ]
  },
  {
   "cell_type": "markdown",
   "metadata": {},
   "source": [
    "# https://stltech.slack.com/"
   ]
  },
  {
   "cell_type": "code",
   "execution_count": null,
   "metadata": {
    "collapsed": true
   },
   "outputs": [],
   "source": []
  }
 ],
 "metadata": {
  "kernelspec": {
   "display_name": "Python 3",
   "language": "python",
   "name": "python3"
  },
  "language_info": {
   "codemirror_mode": {
    "name": "ipython",
    "version": 3
   },
   "file_extension": ".py",
   "mimetype": "text/x-python",
   "name": "python",
   "nbconvert_exporter": "python",
   "pygments_lexer": "ipython3",
   "version": "3.4.3"
  }
 },
 "nbformat": 4,
 "nbformat_minor": 0
}
