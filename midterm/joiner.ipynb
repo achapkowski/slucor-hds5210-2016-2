{
 "cells": [
  {
   "cell_type": "code",
   "execution_count": null,
   "metadata": {
    "collapsed": true
   },
   "outputs": [],
   "source": [
    "def join_lists(left, right, left_key, right_key, left_output, right_output):\n",
    "    \"\"\" (list, list, int, int, list, list) -> list\n",
    "    Use the column positions from left_key and right_key to identify which column to match on.\n",
    "    See the midterm.ipynb for details on how this has to work.  I'm not repeating it here.\n",
    "    I would recommend that you test it with some small datasets like what I showed in the explanation.\n",
    "    \"\"\"\n",
    "    \n",
    "    output = []\n",
    "    \n",
    "    # Put your code here.\n",
    "    \n",
    "    return output\n",
    "    "
   ]
  }
 ],
 "metadata": {
  "kernelspec": {
   "display_name": "Python 3",
   "language": "python",
   "name": "python3"
  },
  "language_info": {
   "codemirror_mode": {
    "name": "ipython",
    "version": 3
   },
   "file_extension": ".py",
   "mimetype": "text/x-python",
   "name": "python",
   "nbconvert_exporter": "python",
   "pygments_lexer": "ipython3",
   "version": "3.4.3"
  }
 },
 "nbformat": 4,
 "nbformat_minor": 0
}
