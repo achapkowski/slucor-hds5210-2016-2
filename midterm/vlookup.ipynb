{
 "cells": [
  {
   "cell_type": "markdown",
   "metadata": {},
   "source": [
    "## Using Vlookup to Understand Joins\n",
    "\n",
    "This code replicates something simliar to the Excel vlookup function that I demonstrated in class.  Given a value to be looked up, and a list of rows that might contain that value in the first column, the vlookup function searches the list for that input value and then returns the value from a specified column in that same row.  \n",
    "\n",
    "To make this vlookup function more flexible, the value being looked up will be a list, for instance `['Paul','2016']` and it will lookup for `['Paul',2016]` in the first two positions of the list of rows for a match.\n",
    "\n",
    "Note that this function always looks for an exact match."
   ]
  },
  {
   "cell_type": "code",
   "execution_count": 11,
   "metadata": {
    "collapsed": true
   },
   "outputs": [],
   "source": [
    "def vlookup( lookup_value, lookup_list, output_columns ):\n",
    "    \"\"\" (list, list, list) -> list\n",
    "    lookup_value - The list of values that we want to find in the lookup_list (aka the key we want to lookup)\n",
    "    lookup_list - The list of lists that we want to search through\n",
    "    output_columns - The column positions that we want to output\n",
    "    \"\"\"\n",
    "    \n",
    "    output = []  #initialize our output list\n",
    "    \n",
    "    for row in lookup_list:                               # 1. Loop through all the rows in the loopup list\n",
    "        row_value = row[0:len(lookup_value)]              # 2. Get the \"key value\" for this particular row\n",
    "        \n",
    "        print(\"Comparing {:s} and {:s}\".format(str(lookup_value), str(row_value))) # Debug Print\n",
    "        \n",
    "        if lookup_value == row_value:                     # 3. If the lookup_value == row_value we've found the match\n",
    "            for pos in output_columns:                    # 4. Loop through the list of columns to be returned\n",
    "                output.append(row[pos])                   # 5. Build our output list\n",
    "            break                                         # 6. Break out after we find the first match\n",
    "                \n",
    "    return output"
   ]
  },
  {
   "cell_type": "code",
   "execution_count": 16,
   "metadata": {
    "collapsed": true
   },
   "outputs": [],
   "source": [
    "list = [['Name',   'Year','Students','Avg Grade'],\n",
    "        ['Westhus', 2014,  87,        33        ],\n",
    "        ['Westhus', 2015,  60,        64        ],\n",
    "        ['Boal',    2016,  21,        80        ],\n",
    "        ['Westhus', 2016,  43,        82        ]]\n",
    "\n",
    "lookup = ['Paul',2016]\n"
   ]
  },
  {
   "cell_type": "code",
   "execution_count": 17,
   "metadata": {
    "collapsed": false
   },
   "outputs": [
    {
     "name": "stdout",
     "output_type": "stream",
     "text": [
      "Comparing ['Boal', 2016] and ['Westhus', 2014]\n",
      "Comparing ['Boal', 2016] and ['Westhus', 2015]\n",
      "Comparing ['Boal', 2016] and ['Boal', 2016]\n"
     ]
    },
    {
     "data": {
      "text/plain": [
       "[21, 80]"
      ]
     },
     "execution_count": 17,
     "metadata": {},
     "output_type": "execute_result"
    }
   ],
   "source": [
    "# Lookup ['Boal',2016] in our lookup list, skipping the header row.\n",
    "# Return whatever is in column positions 2 and 3\n",
    "vlookup( ['Boal',2016], list[1:], [2,3])"
   ]
  },
  {
   "cell_type": "code",
   "execution_count": 19,
   "metadata": {
    "collapsed": false
   },
   "outputs": [
    {
     "name": "stdout",
     "output_type": "stream",
     "text": [
      "Comparing ['Westhus', 2016] and ['Westhus', 2014]\n",
      "Comparing ['Westhus', 2016] and ['Westhus', 2015]\n",
      "Comparing ['Westhus', 2016] and ['Boal', 2016]\n",
      "Comparing ['Westhus', 2016] and ['Westhus', 2016]\n"
     ]
    },
    {
     "data": {
      "text/plain": [
       "[82]"
      ]
     },
     "execution_count": 19,
     "metadata": {},
     "output_type": "execute_result"
    }
   ],
   "source": [
    "# Lookup ['Westhus',2016] \n",
    "# Return whatever is in column position 3\n",
    "vlookup( ['Westhus', 2016], list[1:], [3])"
   ]
  },
  {
   "cell_type": "code",
   "execution_count": 20,
   "metadata": {
    "collapsed": false
   },
   "outputs": [
    {
     "name": "stdout",
     "output_type": "stream",
     "text": [
      "Comparing ['Jones', 2014] and ['Westhus', 2014]\n",
      "Comparing ['Jones', 2014] and ['Westhus', 2015]\n",
      "Comparing ['Jones', 2014] and ['Boal', 2016]\n",
      "Comparing ['Jones', 2014] and ['Westhus', 2016]\n"
     ]
    },
    {
     "data": {
      "text/plain": [
       "[]"
      ]
     },
     "execution_count": 20,
     "metadata": {},
     "output_type": "execute_result"
    }
   ],
   "source": [
    "# Lookup something that doesn't exist\n",
    "vlookup( ['Jones',2014], list[1:], [2,3])"
   ]
  },
  {
   "cell_type": "markdown",
   "metadata": {},
   "source": [
    "## Imagine if I want to do this lookup over and over for some input list\n",
    "\n",
    "```\n",
    "input = [['Boal',2016], ['Westhus',2016], ['Jones',2014]]\n",
    "```"
   ]
  },
  {
   "cell_type": "code",
   "execution_count": 21,
   "metadata": {
    "collapsed": false
   },
   "outputs": [
    {
     "name": "stdout",
     "output_type": "stream",
     "text": [
      "Comparing ['Boal', 2016] and ['Westhus', 2014]\n",
      "Comparing ['Boal', 2016] and ['Westhus', 2015]\n",
      "Comparing ['Boal', 2016] and ['Boal', 2016]\n",
      "Comparing ['Westhus', 2016] and ['Westhus', 2014]\n",
      "Comparing ['Westhus', 2016] and ['Westhus', 2015]\n",
      "Comparing ['Westhus', 2016] and ['Boal', 2016]\n",
      "Comparing ['Westhus', 2016] and ['Westhus', 2016]\n",
      "Comparing ['Jones', 2014] and ['Westhus', 2014]\n",
      "Comparing ['Jones', 2014] and ['Westhus', 2015]\n",
      "Comparing ['Jones', 2014] and ['Boal', 2016]\n",
      "Comparing ['Jones', 2014] and ['Westhus', 2016]\n"
     ]
    },
    {
     "data": {
      "text/plain": [
       "[['Boal', 2016, 21, 80], ['Westhus', 2016, 43, 82], ['Jones', 2014]]"
      ]
     },
     "execution_count": 21,
     "metadata": {},
     "output_type": "execute_result"
    }
   ],
   "source": [
    "list = [['Name',   'Year','Students','Avg Grade'],\n",
    "        ['Westhus', 2014,  87,        33        ],\n",
    "        ['Westhus', 2015,  60,        64        ],\n",
    "        ['Boal',    2016,  21,        80        ],\n",
    "        ['Westhus', 2016,  43,        82        ]]\n",
    "\n",
    "input = [['Boal',2016], ['Westhus',2016], ['Jones',2014]]\n",
    "\n",
    "output = []\n",
    "\n",
    "for lookup in input:                              # Loop over all the input values\n",
    "    match = vlookup(lookup, list[1:], [2,3])      # Lookup each one just like we did above\n",
    "    output.append(lookup + match)                 # Append both the input row (lookup) and our matching values\n",
    "    \n",
    "output\n"
   ]
  },
  {
   "cell_type": "code",
   "execution_count": null,
   "metadata": {
    "collapsed": true
   },
   "outputs": [],
   "source": []
  }
 ],
 "metadata": {
  "kernelspec": {
   "display_name": "Python 3",
   "language": "python",
   "name": "python3"
  },
  "language_info": {
   "codemirror_mode": {
    "name": "ipython",
    "version": 3
   },
   "file_extension": ".py",
   "mimetype": "text/x-python",
   "name": "python",
   "nbconvert_exporter": "python",
   "pygments_lexer": "ipython3",
   "version": "3.4.3"
  }
 },
 "nbformat": 4,
 "nbformat_minor": 0
}
