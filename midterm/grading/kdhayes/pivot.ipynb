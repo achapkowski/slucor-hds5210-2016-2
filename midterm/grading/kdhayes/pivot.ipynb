{
 "cells": [
  {
   "cell_type": "code",
   "execution_count": 1,
   "metadata": {
    "collapsed": false
   },
   "outputs": [],
   "source": [
    "def pivot_columns(l ,pivot_columns):\n",
    "\n",
    "    \n",
    "    output = []\n",
    "    \n",
    "    row_count = len(l)\n",
    "    col_count = len(l[0])\n",
    "    piv_start = min(pivot_columns)\n",
    "    \n",
    "\n",
    "    header = l[0][0:piv_start]+['Column']+['Value']\n",
    "    output.append(header)\n",
    "    \n",
    "    for r in range(1, row_count):\n",
    "        keep = l[r][0:piv_start]\n",
    "        for p in pivot_columns:\n",
    "            current_cell=[l[r][p]]\n",
    "            pivot_head = [l[0][p]]\n",
    "            out_row = (keep + pivot_head + current_cell)\n",
    "            output.append(out_row)\n",
    "    \n",
    "    return output"
   ]
  },
  {
   "cell_type": "code",
   "execution_count": null,
   "metadata": {
    "collapsed": true
   },
   "outputs": [],
   "source": []
  }
 ],
 "metadata": {
  "kernelspec": {
   "display_name": "Python 3",
   "language": "python",
   "name": "python3"
  },
  "language_info": {
   "codemirror_mode": {
    "name": "ipython",
    "version": 3
   },
   "file_extension": ".py",
   "mimetype": "text/x-python",
   "name": "python",
   "nbconvert_exporter": "python",
   "pygments_lexer": "ipython3",
   "version": "3.4.3"
  }
 },
 "nbformat": 4,
 "nbformat_minor": 0
}
