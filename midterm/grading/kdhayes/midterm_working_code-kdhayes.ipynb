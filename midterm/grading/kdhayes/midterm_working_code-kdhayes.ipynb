{
 "cells": [
  {
   "cell_type": "markdown",
   "metadata": {},
   "source": [
    "## Total Score:\n",
    "\n",
    "----\n",
    "\n",
    "---"
   ]
  },
  {
   "cell_type": "code",
   "execution_count": 13,
   "metadata": {
    "collapsed": false
   },
   "outputs": [],
   "source": [
    "def pivot_columns(l ,pivot_columns):\n",
    "    \n",
    "    \n",
    "    output = []\n",
    "    \n",
    "    row_count = len(l)\n",
    "    col_count = len(l[0])\n",
    "    piv_start = min(pivot_columns)\n",
    "    print (min(pivot_columns))\n",
    "    \n",
    "\n",
    "    header = l[0][0:piv_start]+['Column']+['Value']\n",
    "    output.append(header)\n",
    "    \n",
    "    for r in range(1, row_count):\n",
    "        keep = l[r][0:piv_start]\n",
    "        for p in pivot_columns:\n",
    "            current_cell=[l[r][p]]\n",
    "            pivot_head = [l[0][p]]\n",
    "            out_row = (keep + pivot_head + current_cell)\n",
    "            output.append(out_row)\n",
    "    \n",
    "    return output"
   ]
  },
  {
   "cell_type": "code",
   "execution_count": 14,
   "metadata": {
    "collapsed": false
   },
   "outputs": [
    {
     "name": "stdout",
     "output_type": "stream",
     "text": [
      "2\n"
     ]
    },
    {
     "data": {
      "text/plain": [
       "[['Last', 'First', 'Column', 'Value'],\n",
       " ['Boal', 'Paul', '2015Q1', 10],\n",
       " ['Boal', 'Paul', '2015Q2', 9],\n",
       " ['Boal', 'Paul', '2015Q3', 10],\n",
       " ['Boal', 'Paul', '2015Q4', 8],\n",
       " ['Westhus', 'Eric', '2015Q1', 9],\n",
       " ['Westhus', 'Eric', '2015Q2', 10],\n",
       " ['Westhus', 'Eric', '2015Q3', 10],\n",
       " ['Westhus', 'Eric', '2015Q4', 9]]"
      ]
     },
     "execution_count": 14,
     "metadata": {},
     "output_type": "execute_result"
    }
   ],
   "source": [
    "test = [['Last','First','2015Q1','2015Q2','2015Q3','2015Q4'],\n",
    "       ['Boal','Paul',10,9,10,8],\n",
    "       ['Westhus','Eric',9,10,10,9]]\n",
    "\n",
    "output = pivot_columns(test, list(range(2,6)))\n",
    "output"
   ]
  },
  {
   "cell_type": "code",
   "execution_count": 7,
   "metadata": {
    "collapsed": false
   },
   "outputs": [],
   "source": [
    "def join_lists(list1, list2, joinfield1, joinfield2, output_list1, output_list2):\n",
    "    \"\"\" (list, list, list, list, list, list) -> list\n",
    "    Use the column positions from left_key and right_key to identify which column to match on.\n",
    "    See the midterm.ipynb for details on how this has to work.  I'm not repeating it here.\n",
    "    I would recommend that you test it with some small datasets like what I showed in the explanation.\n",
    "    \"\"\"\n",
    "    output = []\n",
    "    \n",
    "    def vlookup (lookup, list, output_fields):\n",
    "        add_value = []\n",
    "        for rows in list: \n",
    "            index = 0\n",
    "            all_values_match = False\n",
    "            for cell2 in joinfield2:\n",
    "                row_value = rows[cell2]\n",
    "                #print(row_value)\n",
    "                if lookup[index].lower() == row_value.lower():\n",
    "                    #print(lookup[index].lower())\n",
    "                    #print(row_value.lower())\n",
    "                    #found a match\n",
    "                    all_values_match = True\n",
    "                    #print(\"found a match\")\n",
    "                else:\n",
    "                    all_values_match = False\n",
    "                    break\n",
    "                index += 1     \n",
    "            if all_values_match: \n",
    "                for cell3 in output_fields:\n",
    "                    add_value.append(rows[cell3])\n",
    "                \n",
    "        return add_value\n",
    "    output = []\n",
    "    add = []\n",
    "    row_count1 = len(list1)\n",
    "    row = 0\n",
    "    while row < row_count1:\n",
    "        firsttable = []\n",
    "        tablerow = []\n",
    "        lookup = []\n",
    "        for cell in joinfield1:\n",
    "            lookup.append(list1[row][cell]) \n",
    "            \n",
    "        for cells in output_list1:\n",
    "            firsttable.append(list1[row][cells])\n",
    "\n",
    "        tablerow = vlookup(lookup, list2, output_list2)\n",
    "        if tablerow != []:\n",
    "            outputrow = firsttable + tablerow\n",
    "            output.append(outputrow)\n",
    "        row += 1\n",
    "    \n",
    "    return output\n"
   ]
  },
  {
   "cell_type": "code",
   "execution_count": 8,
   "metadata": {
    "collapsed": false
   },
   "outputs": [
    {
     "data": {
      "text/plain": [
       "[['Last', 'First', 'Time', 'Value', 'Census'],\n",
       " ['Boal', 'Paul', '2015Q1', 10, 932],\n",
       " ['Westhus', 'Eric', '2015Q2', 7, 943]]"
      ]
     },
     "execution_count": 8,
     "metadata": {},
     "output_type": "execute_result"
    }
   ],
   "source": [
    "list1 = [['Last','First','Time','Value'],\n",
    "        ['Boal','Paul','2015Q1',10],\n",
    "        ['Boal','Paul','2015Q2',9],\n",
    "        ['Westhus','Eric','2015Q2',7]]\n",
    "\n",
    "list2 = [['Last','Time','Census'],\n",
    "        ['Boal','2015q1',932],\n",
    "        ['Westhus','2015q2',943]]\n",
    "\n",
    "\n",
    "join_lists(list1, list2, [0,2], [0,1], [0,1,2,3], [2])\n"
   ]
  },
  {
   "cell_type": "code",
   "execution_count": null,
   "metadata": {
    "collapsed": true
   },
   "outputs": [],
   "source": []
  }
 ],
 "metadata": {
  "kernelspec": {
   "display_name": "Python 3",
   "language": "python",
   "name": "python3"
  },
  "language_info": {
   "codemirror_mode": {
    "name": "ipython",
    "version": 3
   },
   "file_extension": ".py",
   "mimetype": "text/x-python",
   "name": "python",
   "nbconvert_exporter": "python",
   "pygments_lexer": "ipython3",
   "version": "3.4.3"
  }
 },
 "nbformat": 4,
 "nbformat_minor": 0
}
