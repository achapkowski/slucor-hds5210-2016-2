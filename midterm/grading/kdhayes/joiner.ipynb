{
 "cells": [
  {
   "cell_type": "code",
   "execution_count": null,
   "metadata": {
    "collapsed": false
   },
   "outputs": [],
   "source": [
    "def join_lists(list1, list2, joinfield1, joinfield2, output_list1, output_list2):\n",
    "    \"\"\" (list, list, list, list, list, list) -> list\n",
    "    Use the column positions from left_key and right_key to identify which column to match on.\n",
    "    See the midterm.ipynb for details on how this has to work.  I'm not repeating it here.\n",
    "    I would recommend that you test it with some small datasets like what I showed in the explanation.\n",
    "    \"\"\"\n",
    "    output = []\n",
    "    \n",
    "    def vlookup (lookup, list, output_fields):\n",
    "        add_value = []\n",
    "        for rows in list: \n",
    "            index = 0\n",
    "            all_values_match = False\n",
    "            for cell2 in joinfield2:\n",
    "                row_value = rows[cell2] \n",
    "                if lookup[index].lower() == row_value.lower():  \n",
    "                    #found a match\n",
    "                    all_values_match = True\n",
    "                    #print(\"found a match\")\n",
    "                else:\n",
    "                    all_values_match = False\n",
    "                    break\n",
    "                index += 1     \n",
    "            if all_values_match: \n",
    "                for cell3 in output_fields:\n",
    "                    add_value.append(rows[cell3])\n",
    "                \n",
    "        return add_value\n",
    "    output = []\n",
    "    add = []\n",
    "    row_count1 = len(list1)\n",
    "    row = 0\n",
    "    while row < row_count1:\n",
    "        firsttable = []\n",
    "        tablerow = []\n",
    "        lookup = []\n",
    "        for cell in joinfield1:\n",
    "            lookup.append(list1[row][cell]) \n",
    "            \n",
    "        for cells in output_list1:\n",
    "            firsttable.append(list1[row][cells])\n",
    "\n",
    "        tablerow = vlookup(lookup, list2, output_list2)\n",
    "        print(tablerow)\n",
    "        if tablerow != []:\n",
    "            outputrow = firsttable + tablerow\n",
    "            output.append(outputrow)\n",
    "        row += 1\n",
    "    \n",
    "    return output\n"
   ]
  }
 ],
 "metadata": {
  "kernelspec": {
   "display_name": "Python 3",
   "language": "python",
   "name": "python3"
  },
  "language_info": {
   "codemirror_mode": {
    "name": "ipython",
    "version": 3
   },
   "file_extension": ".py",
   "mimetype": "text/x-python",
   "name": "python",
   "nbconvert_exporter": "python",
   "pygments_lexer": "ipython3",
   "version": "3.4.3"
  }
 },
 "nbformat": 4,
 "nbformat_minor": 0
}
