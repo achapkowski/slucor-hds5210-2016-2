{
 "cells": [
  {
   "cell_type": "code",
   "execution_count": 2,
   "metadata": {
    "collapsed": false
   },
   "outputs": [],
   "source": [
    "# Part 2 - \"Pivoting\" data\n",
    "\n",
    "def pivot_columns(t):\n",
    "    \"\"\"This function should take a list of lists as well as a list of column numbers that should be pivoted\n",
    "    as shown in the example below. You can assume the file is a CSV. The return value should be a list of lists.\n",
    "    (lists -> lists)\"\"\"\n",
    "    \n",
    "\n",
    "    start = ['Time', 'Value']\n",
    "    output = []\n",
    "    header = t[0]\n",
    "    testing = [t[0][0], t[0][1], 'Time', 'Value']\n",
    "    output.append(testing)\n",
    "\n",
    "    for i in t[1:]:\n",
    "    \n",
    "        start = i[0:2]\n",
    "    \n",
    "        for q in range(2, len(i)):\n",
    "            quarter = header[q]\n",
    "            value = i[q]\n",
    "            last = []\n",
    "        \n",
    "            last.append(start)\n",
    "            last.append(quarter)\n",
    "            last.append(value)\n",
    "     \n",
    "            output.append(last)\n",
    "    \n",
    "    print(output[0:9])\n",
    "\n",
    "    "
   ]
  }
 ],
 "metadata": {
  "kernelspec": {
   "display_name": "Python 3",
   "language": "python",
   "name": "python3"
  },
  "language_info": {
   "codemirror_mode": {
    "name": "ipython",
    "version": 3
   },
   "file_extension": ".py",
   "mimetype": "text/x-python",
   "name": "python",
   "nbconvert_exporter": "python",
   "pygments_lexer": "ipython3",
   "version": "3.4.3"
  }
 },
 "nbformat": 4,
 "nbformat_minor": 0
}
