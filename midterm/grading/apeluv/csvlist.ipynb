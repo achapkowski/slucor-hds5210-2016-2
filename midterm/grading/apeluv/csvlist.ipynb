{
 "cells": [
  {
   "cell_type": "code",
   "execution_count": 1,
   "metadata": {
    "collapsed": false
   },
   "outputs": [],
   "source": [
    "# Part 1 - CSV to lists\n",
    "# One of the things we might want to do a lot of is take a CSV file and turn it into a list of lists, which looks like \n",
    "# a rectangular spreadsheet. For the first part of the midterm, create a module called csvlist with a class in it \n",
    "# called CsvList.\n",
    "# The CsvList class will need the following methods:\n",
    "# A constructor (aka init) that take a single parameter, which is the file name\n",
    "# A way to retreive a list of the column names that were read from the first line of the file\n",
    "# A way to retrieve the actual data rows themselves, which should be available as a list of lists\n",
    "# In parsing data from the file, our CsvList class can assume that the file will always have a header. \n",
    "# The code below should be able to work if your module and class are working.\n",
    "# import jupyterimporter\n",
    "# from csvlist import CsvList\n",
    "\n",
    "# f = CsvList('/midterm/preexisting.csv')\n",
    "# f.header  # Returns a list of the column names\n",
    "# f.data    # Returns the list of lists data\n",
    "import csv\n",
    "class CsvList():\n",
    "    \"\"\" take a CSV file and turn it into a list of lists, which looks like a rectangular spreadsheet\n",
    "    \"\"\"\n",
    "    \n",
    "    def __init__(self, file):           \n",
    "        self.header = []\n",
    "        with open(file) as columns:\n",
    "            reader = csv.reader(columns)\n",
    "            for column in reader:\n",
    "                self.header.append(column)\n",
    "                break\n",
    "        self.data = []\n",
    "        with open(file) as rows:\n",
    "            reader = csv.reader(rows)\n",
    "            for d in reader:\n",
    "                self.data.append(d)\n"
   ]
  }
 ],
 "metadata": {
  "kernelspec": {
   "display_name": "Python 3",
   "language": "python",
   "name": "python3"
  },
  "language_info": {
   "codemirror_mode": {
    "name": "ipython",
    "version": 3
   },
   "file_extension": ".py",
   "mimetype": "text/x-python",
   "name": "python",
   "nbconvert_exporter": "python",
   "pygments_lexer": "ipython3",
   "version": "3.4.3"
  }
 },
 "nbformat": 4,
 "nbformat_minor": 0
}
