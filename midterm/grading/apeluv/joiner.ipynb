{
 "cells": [
  {
   "cell_type": "code",
   "execution_count": 1,
   "metadata": {
    "collapsed": false
   },
   "outputs": [],
   "source": [
    "#Part 3 - \"Joining\" data together\n",
    "\n",
    "def join_lists(x, y):\n",
    "    \"\"\"The second task is to create another module called joiner that will match updata from one list \n",
    "    and line it up with data in another list based on some matching criteria and which fields should be \n",
    "    retained from each list. \"\"\"\n",
    "    \n",
    "    \n",
    "    data = []\n",
    "    new = []\n",
    "    header1 = x[0]\n",
    "    header2 = y[0]\n",
    "    header1.append('Census')\n",
    "\n",
    "    for h2 in y[1:]:\n",
    "        value = h2[1]\n",
    "        data.append(value)\n",
    "\n",
    "    for h1 in x[1:]:\n",
    "        new.append(h1)\n",
    "\n",
    "    for i in range(len(new)):\n",
    "        new[i].append(data[i])\n",
    "\n",
    "    header1.append(new)\n",
    "    print(header1)\n",
    "    "
   ]
  }
 ],
 "metadata": {
  "kernelspec": {
   "display_name": "Python 3",
   "language": "python",
   "name": "python3"
  },
  "language_info": {
   "codemirror_mode": {
    "name": "ipython",
    "version": 3
   },
   "file_extension": ".py",
   "mimetype": "text/x-python",
   "name": "python",
   "nbconvert_exporter": "python",
   "pygments_lexer": "ipython3",
   "version": "3.4.3"
  }
 },
 "nbformat": 4,
 "nbformat_minor": 0
}
