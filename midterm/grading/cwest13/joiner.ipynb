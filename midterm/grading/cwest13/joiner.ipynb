{
 "cells": [
  {
   "cell_type": "code",
   "execution_count": 1,
   "metadata": {
    "collapsed": false
   },
   "outputs": [],
   "source": [
    "def join_lists(list1, list2, joinfields1, joinfields2, outputfields1, outputfields2):\n",
    "    result = []\n",
    "    \n",
    "    for row1 in list1:\n",
    "        tmp = []\n",
    "        \n",
    "        for row2 in list2:\n",
    "            matches = True\n",
    "            for x in range(0, len(joinfields1)):\n",
    "                if row1[joinfields1[x]].lower() != row2[joinfields2[x]].lower():\n",
    "                    matches = False\n",
    "            if matches:\n",
    "                for field1 in outputfields1:\n",
    "                    tmp.append(row1[field1])\n",
    "                for field2 in outputfields2:\n",
    "                    tmp.append(row2[field2])       \n",
    "                        \n",
    "                result.append(tmp)\n",
    "                break\n",
    "\n",
    "    return result"
   ]
  },
  {
   "cell_type": "code",
   "execution_count": null,
   "metadata": {
    "collapsed": true
   },
   "outputs": [],
   "source": []
  }
 ],
 "metadata": {
  "kernelspec": {
   "display_name": "Python 3",
   "language": "python",
   "name": "python3"
  },
  "language_info": {
   "codemirror_mode": {
    "name": "ipython",
    "version": 3
   },
   "file_extension": ".py",
   "mimetype": "text/x-python",
   "name": "python",
   "nbconvert_exporter": "python",
   "pygments_lexer": "ipython3",
   "version": "3.4.3"
  }
 },
 "nbformat": 4,
 "nbformat_minor": 0
}
