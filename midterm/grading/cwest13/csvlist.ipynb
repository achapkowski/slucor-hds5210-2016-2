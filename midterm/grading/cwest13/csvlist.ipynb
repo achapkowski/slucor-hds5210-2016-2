{
 "cells": [
  {
   "cell_type": "code",
   "execution_count": 2,
   "metadata": {
    "collapsed": false
   },
   "outputs": [],
   "source": [
    "import csv\n",
    "\n",
    "class CsvList:\n",
    "    def __init__(self, filename):\n",
    "        self.header = False\n",
    "        self.data = []\n",
    "        \n",
    "        with open(filename) as csvfile:\n",
    "            for row in csv.reader(csvfile, delimiter=','):\n",
    "                if not self.header:\n",
    "                    self.header = row\n",
    "                else: \n",
    "                    self.data.append(row)     "
   ]
  },
  {
   "cell_type": "code",
   "execution_count": null,
   "metadata": {
    "collapsed": true
   },
   "outputs": [],
   "source": []
  }
 ],
 "metadata": {
  "kernelspec": {
   "display_name": "Python 3",
   "language": "python",
   "name": "python3"
  },
  "language_info": {
   "codemirror_mode": {
    "name": "ipython",
    "version": 3
   },
   "file_extension": ".py",
   "mimetype": "text/x-python",
   "name": "python",
   "nbconvert_exporter": "python",
   "pygments_lexer": "ipython3",
   "version": "3.4.3"
  }
 },
 "nbformat": 4,
 "nbformat_minor": 0
}
