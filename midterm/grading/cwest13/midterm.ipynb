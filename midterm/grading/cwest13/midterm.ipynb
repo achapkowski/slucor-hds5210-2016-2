{
 "cells": [
  {
   "cell_type": "markdown",
   "metadata": {},
   "source": [
    "## Total Score: 135/140\n",
    "\n",
    "---\n",
    "\n",
    "---\n"
   ]
  },
  {
   "cell_type": "markdown",
   "metadata": {},
   "source": [
    "---\n",
    "\n",
    "I moved your test code for 1,2,3 here so that I could test it more cleanly.\n",
    "\n",
    "---\n",
    "\n"
   ]
  },
  {
   "cell_type": "code",
   "execution_count": 1,
   "metadata": {
    "collapsed": false
   },
   "outputs": [
    {
     "name": "stdout",
     "output_type": "stream",
     "text": [
      "importing Jupyter notebook from csvlist.ipynb\n",
      "['State', 'Federally/State Administered', 'Enrolled Through January 31, 2014  ', 'Enrolled Through December 31, 2013', 'Enrolled Through November 30, 2013', 'Enrolled Through October 31, 2013', 'Enrolled Through September 30, 2013', 'Enrolled Through August 31, 2013', 'Enrolled Through July 31, 2013', 'Enrolled Through June 30, 2013', 'Enrolled Through May 31, 2013', 'Enrolled Through April 30, 2013', 'Enrolled Through Mar. 31, 2013', 'Enrolled Through Feb. 28, 2013', 'Enrolled Through Jan. 31, 2013', 'Enrolled Through Dec. 31, 2012', 'Enrolled Through Nov. 30, 2012', 'Enrolled Through October 31, 2012', 'Enrolled Through September 30, 2012', 'Enrolled Through August 31, 2012', 'Enrolled Through July 31, 2012', 'Enrolled Through June 30, 2012', 'Enrolled Through May 31, 2012', 'Enrolled Through April 30, 2012', 'Enrolled Through March 31, 2012', 'Enrolled Through February 29, 2012', 'Enrolled Through December 31, 2011', 'Enrolled Through November 30, 2011', 'Enrolled Through October 31, 2011', 'Enrolled Through September 30, 2011', 'Enrolled Through August 31, 2011', 'Enrolled Through July 31, 2011', 'Enrolled Through June 30, 2011', 'Enrolled Through May 31, 2011', 'Enrolled Through April 30, 2011', 'Enrolled Through March 31, 2011', 'Enrolled Through February 1, 2011', 'Enrolled Through November 1, 2011']\n",
      "[['Alabama', 'Federal', '115', '123', '594', '639', '672', '711', '736', '766', '795', '820', '821', '1006', '972', '911', '838', '794', '735', '679', '635', '590', '559', '524', '466', '429', '389', '340', '296', '275', '230', '182', '138', '118', '103', '91', '77', '61'], ['Alaska', 'State', '5', '25', '32', '34', '34', '36', '36', '38', '43', '46', '51', '52', '47', '46', '45', '47', '42', '45', '43', '43', '45', '47', '45', '42', '42', '44', '45', '48', '45', '43', '47', '38', '35', '34', '32', '20'], ['Arizona', 'Federal', '1373', '1392', '3857', '4021', '4154', '4293', '4389', '4541', '4653', '4779', '4779', '5254', '5082', '4861', '4628', '4402', '4149', '3898', '3655', '3480', '3282', '3065', '2748', '2448', '2139', '1783', '1533', '1391', '1178', '967', '759', '639', '573', '457', '374', '270'], ['Arkansas', 'Transitioned from State to Federally-administered program 7/1/2013', '126', '129', '648', '688', '716', '750', '767', '736', '871', '878', '895', '921', '883', '868', '855', '839', '798', '767', '725', '695', '648', '624', '574', '554', '484', '404', '367', '333', '310', '291', '273', '254', '278', '226', '198', '147']]\n"
     ]
    }
   ],
   "source": [
    "import jupyterimporter\n",
    "from csvlist import CsvList\n",
    "\n",
    "f = CsvList('/midterm/preexisting.csv')\n",
    "print(f.header)      # Returns a list of the column names\n",
    "print(f.data[0:4])    # Returns the list of lists data"
   ]
  },
  {
   "cell_type": "markdown",
   "metadata": {},
   "source": [
    "---\n",
    "\n",
    "** 30/30 **\n",
    "\n",
    "---\n",
    "\n",
    "---"
   ]
  },
  {
   "cell_type": "code",
   "execution_count": 2,
   "metadata": {
    "collapsed": false
   },
   "outputs": [
    {
     "name": "stdout",
     "output_type": "stream",
     "text": [
      "importing Jupyter notebook from pivot.ipynb\n"
     ]
    },
    {
     "data": {
      "text/plain": [
       "[['Last', 'First', 'Column', 'Value'],\n",
       " ['Boal', 'Paul', '2015Q1', 10],\n",
       " ['Boal', 'Paul', '2015Q2', 9],\n",
       " ['Boal', 'Paul', '2015Q3', 10],\n",
       " ['Boal', 'Paul', '2015Q4', 8],\n",
       " ['Westhus', 'Eric', '2015Q1', 9],\n",
       " ['Westhus', 'Eric', '2015Q2', 10],\n",
       " ['Westhus', 'Eric', '2015Q3', 10],\n",
       " ['Westhus', 'Eric', '2015Q4', 9]]"
      ]
     },
     "execution_count": 2,
     "metadata": {},
     "output_type": "execute_result"
    }
   ],
   "source": [
    "from pivot import pivot_columns\n",
    "test = [['Last','First','2015Q1','2015Q2','2015Q3','2015Q4'],\n",
    "        ['Boal','Paul',10,9,10,8],\n",
    "        ['Westhus','Eric',9,10,10,9]]\n",
    "\n",
    "out = pivot_columns(test,list(range(2,6)))\n",
    "out"
   ]
  },
  {
   "cell_type": "markdown",
   "metadata": {},
   "source": [
    "---\n",
    "\n",
    "** 30/30 **\n",
    "\n",
    "---\n",
    "\n",
    "---"
   ]
  },
  {
   "cell_type": "code",
   "execution_count": 3,
   "metadata": {
    "collapsed": false
   },
   "outputs": [
    {
     "name": "stdout",
     "output_type": "stream",
     "text": [
      "importing Jupyter notebook from joiner.ipynb\n"
     ]
    },
    {
     "data": {
      "text/plain": [
       "[['Last', 'First', 'Time', 'Value', 'Census'],\n",
       " ['Boal', 'Paul', '2015Q1', 10, 932],\n",
       " ['Westhus', 'Eric', '2015Q2', 7, 943]]"
      ]
     },
     "execution_count": 3,
     "metadata": {},
     "output_type": "execute_result"
    }
   ],
   "source": [
    "from joiner import join_lists\n",
    "list1 = [['Last','First','Time','Value'],\n",
    "         ['Boal','Paul','2015Q1',10],\n",
    "         ['Boal','Paul','2015Q2',9],\n",
    "         ['Westhus','Eric','2015Q2',7]]\n",
    "\n",
    "list2 = [['Last','Time','Census'],\n",
    "         ['Boal','2015q1',932],\n",
    "         ['Westhus','2015q2',943]]\n",
    "\n",
    "join_lists(list1, list2, [0,2], [0,1], [0,1,2,3], [2])\n",
    "\n",
    "#[['Last', 'First', 'Time', 'Value', 'Census'],\n",
    "#['Boal', 'Paul', '2015Q1', 10, 932],\n",
    "#['Westhus', 'Eric', '2015Q2', 7, 943]]\n"
   ]
  },
  {
   "cell_type": "markdown",
   "metadata": {},
   "source": [
    "---\n",
    "\n",
    "** 30/30 **\n",
    "\n",
    "---\n",
    "\n",
    "---"
   ]
  },
  {
   "cell_type": "code",
   "execution_count": 4,
   "metadata": {
    "collapsed": false
   },
   "outputs": [
    {
     "data": {
      "text/plain": [
       "[['Alabama', 'Enrolled Through January 31, 2014  ', '115', '4846411'],\n",
       " ['Alabama', 'Enrolled Through December 31, 2013', '123', '4830533'],\n",
       " ['Alabama', 'Enrolled Through November 30, 2013', '594', '4830533'],\n",
       " ['Alabama', 'Enrolled Through October 31, 2013', '639', '4830533'],\n",
       " ['Alabama', 'Enrolled Through September 30, 2013', '672', '4830533'],\n",
       " ['Alabama', 'Enrolled Through August 31, 2013', '711', '4830533'],\n",
       " ['Alabama', 'Enrolled Through July 31, 2013', '736', '4830533'],\n",
       " ['Alabama', 'Enrolled Through June 30, 2013', '766', '4830533'],\n",
       " ['Alabama', 'Enrolled Through May 31, 2013', '795', '4830533'],\n",
       " ['Alabama', 'Enrolled Through April 30, 2013', '820', '4830533']]"
      ]
     },
     "execution_count": 4,
     "metadata": {},
     "output_type": "execute_result"
    }
   ],
   "source": [
    "import jupyterimporter\n",
    "from csvlist import CsvList\n",
    "from pivot import pivot_columns\n",
    "from joiner import join_lists\n",
    "\n",
    "#defining a variable called 'preesisting' to call CsvList from the csv file we are using\n",
    "preexisting = CsvList('/midterm/preexisting.csv')\n",
    "\n",
    "#defining a variable called 'census' to call CsvList from the csv file we are using\n",
    "census = CsvList('/midterm/census.csv')\n",
    "\n",
    "### CLEANUP CODE STARTS\n",
    "# defining variables called 'pre' and 'cen'.  With pivot table functions python takes horizontal data and makes it veritcal. \n",
    "# in pre = it is looking at the preexisting header first then looking at the data list on columns from 2 up to 37\n",
    "# in cen = it's doing the same but starting with the census header and then the data on columns from 5 up to 12\n",
    "pre = pivot_columns([preexisting.header] + preexisting.data, list(range(2,37)))\n",
    "cen = pivot_columns([census.header] + census.data, list(range(5,12)))\n",
    "\n",
    "#Here we are adding the 'Year' to the header and for all the other rows we are 'splitting' the second element with a \n",
    "#comma and 'striping' off the begninning and ending spaces on the first element. \n",
    "pre_clean = [pre[0] + ['Year']] + [(r + [r[2].split(',')[1].strip()]) for r in pre[1:]]\n",
    "\n",
    "#Here again we add \"Year\" to the header and for all other rows we subtract the fourth element to the end from row 5.\n",
    "cen_clean = [cen[0] + ['Year']] + [(r + [r[5][-4:]]) for r in cen[1:]]\n",
    "### CLEANUP CODE ENDS\n",
    "\n",
    "# this function is joining the tables on the specified keys using the 2 new functions created \n",
    "out = join_lists(pre_clean, cen_clean, [0,4], [4,7], [0,2,3], [6])\n",
    "\n",
    "# only looking at the data starting with position 0 up to position 10 \n",
    "out[0:10]"
   ]
  },
  {
   "cell_type": "markdown",
   "metadata": {},
   "source": [
    "---\n",
    "\n",
    "** 45/50 **\n",
    "\n",
    "Your code works perfectly and you've done a good job explaining the code.  The only mistake you made was in how the census data is being cleaned up.  `r[5][-4:]` takes the last four characters of the string in `r[5]`.  That is, we're stripping the four-digit year off the end of that particular cell value.\n",
    "\n",
    "---\n",
    "\n",
    "---"
   ]
  },
  {
   "cell_type": "code",
   "execution_count": 2,
   "metadata": {
    "collapsed": false
   },
   "outputs": [
    {
     "name": "stdout",
     "output_type": "stream",
     "text": [
      "[master 4ec2583] CWest Submitting my midterm!!\n",
      " 1 file changed, 52 insertions(+), 6 deletions(-)\n"
     ]
    },
    {
     "name": "stderr",
     "output_type": "stream",
     "text": [
      "To git@github.com:cwest13/-hds5210-week02-.git\n",
      "   dc50214..4ec2583  master -> master\n"
     ]
    }
   ],
   "source": [
    "%%bash\n",
    "git add csvlist.ipynb\n",
    "git add joiner.ipynb\n",
    "git add pivot.ipynb\n",
    "git add midterm.ipynb\n",
    "git commit -a -m \"CWest Submitting my midterm!!\"\n",
    "git push\n"
   ]
  },
  {
   "cell_type": "code",
   "execution_count": null,
   "metadata": {
    "collapsed": true
   },
   "outputs": [],
   "source": []
  }
 ],
 "metadata": {
  "kernelspec": {
   "display_name": "Python 3",
   "language": "python",
   "name": "python3"
  },
  "language_info": {
   "codemirror_mode": {
    "name": "ipython",
    "version": 3
   },
   "file_extension": ".py",
   "mimetype": "text/x-python",
   "name": "python",
   "nbconvert_exporter": "python",
   "pygments_lexer": "ipython3",
   "version": "3.4.3"
  }
 },
 "nbformat": 4,
 "nbformat_minor": 0
}
