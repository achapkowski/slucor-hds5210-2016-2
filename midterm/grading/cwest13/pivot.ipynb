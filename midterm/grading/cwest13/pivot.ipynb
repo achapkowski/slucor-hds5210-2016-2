{
 "cells": [
  {
   "cell_type": "code",
   "execution_count": 1,
   "metadata": {
    "collapsed": false
   },
   "outputs": [],
   "source": [
    "def pivot_columns(data, to_pivot):\n",
    "    result = []\n",
    "    first_row = []\n",
    "    to_pivot.sort()\n",
    "    \n",
    "    for row in data:\n",
    "        if len(result) < 1: \n",
    "            first_row = row\n",
    "            tmp = []\n",
    "            for x in range(0, to_pivot[0]):\n",
    "                tmp.append(row[x])\n",
    "\n",
    "            tmp.append('Column')\n",
    "            tmp.append('Value')\n",
    "        \n",
    "            result.append(tmp)\n",
    "        else:\n",
    "            for x in to_pivot:\n",
    "                tmp = []\n",
    "                for y in range(0, to_pivot[0]):\n",
    "                    tmp.append(row[y])\n",
    "                    \n",
    "                tmp.append(first_row[x])\n",
    "                tmp.append(row[x])\n",
    "                \n",
    "                result.append(tmp)\n",
    "                \n",
    "    return result"
   ]
  },
  {
   "cell_type": "code",
   "execution_count": null,
   "metadata": {
    "collapsed": true
   },
   "outputs": [],
   "source": []
  }
 ],
 "metadata": {
  "kernelspec": {
   "display_name": "Python 3",
   "language": "python",
   "name": "python3"
  },
  "language_info": {
   "codemirror_mode": {
    "name": "ipython",
    "version": 3
   },
   "file_extension": ".py",
   "mimetype": "text/x-python",
   "name": "python",
   "nbconvert_exporter": "python",
   "pygments_lexer": "ipython3",
   "version": "3.4.3"
  }
 },
 "nbformat": 4,
 "nbformat_minor": 0
}
