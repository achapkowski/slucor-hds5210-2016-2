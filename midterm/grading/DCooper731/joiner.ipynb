{
 "cells": [
  {
   "cell_type": "code",
   "execution_count": 205,
   "metadata": {
    "collapsed": false
   },
   "outputs": [],
   "source": [
    "def join_lists(list1, list2, joinfields1, joinfields2, outputfields1, outputfields2):\n",
    "    \"\"\" (list, list, list, list, list, list) -> list\n",
    "    Use the column positions from left_key and right_key to identify which column to match on.\n",
    "    See the midterm.ipynb for details on how this has to work.  I'm not repeating it here.\n",
    "    I would recommend that you test it with some small datasets like what I showed in the explanation.\n",
    "    \"\"\"\n",
    "    output = []\n",
    "    for i in range(len(list1)):\n",
    "        for l in range(len(list2)):\n",
    "            if list1[i][joinfields1[0]] == list2[l][joinfields2[0]]:\n",
    "                list1[i].append(list2[l][1])\n",
    "            output = list1\n",
    "            return output"
   ]
  }
 ],
 "metadata": {
  "kernelspec": {
   "display_name": "Python 3",
   "language": "python",
   "name": "python3"
  },
  "language_info": {
   "codemirror_mode": {
    "name": "ipython",
    "version": 3
   },
   "file_extension": ".py",
   "mimetype": "text/x-python",
   "name": "python",
   "nbconvert_exporter": "python",
   "pygments_lexer": "ipython3",
   "version": "3.4.3"
  }
 },
 "nbformat": 4,
 "nbformat_minor": 0
}
