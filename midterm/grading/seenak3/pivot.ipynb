{
 "cells": [
  {
   "cell_type": "code",
   "execution_count": 22,
   "metadata": {
    "collapsed": false
   },
   "outputs": [],
   "source": [
    "def pivot_columns(l, pivot_list):\n",
    "    row_count = len(l)\n",
    "    column_count = len(l[0])\n",
    "    output = []\n",
    "    \n",
    "    for r in range (1, row_count):\n",
    "        header = l[0][0:2] + ['Column', 'Value']\n",
    "        keeper = l[r][0:2]\n",
    "        \n",
    "        for c in pivot_list:\n",
    "            current_cell = [l[r][c]]\n",
    "            quarter = [l[0][c]]\n",
    "            out_row = keeper + quarter + current_cell\n",
    "        \n",
    "            output.append(out_row)\n",
    "    \n",
    "    output.insert(0, header)\n",
    "    \n",
    "    print(output)"
   ]
  }
 ],
 "metadata": {
  "kernelspec": {
   "display_name": "Python 3",
   "language": "python",
   "name": "python3"
  },
  "language_info": {
   "codemirror_mode": {
    "name": "ipython",
    "version": 3
   },
   "file_extension": ".py",
   "mimetype": "text/x-python",
   "name": "python",
   "nbconvert_exporter": "python",
   "pygments_lexer": "ipython3",
   "version": "3.4.3"
  }
 },
 "nbformat": 4,
 "nbformat_minor": 0
}
