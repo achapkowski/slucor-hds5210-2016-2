{
 "cells": [
  {
   "cell_type": "code",
   "execution_count": 3,
   "metadata": {
    "collapsed": true
   },
   "outputs": [],
   "source": [
    "def join_lists(left, right, left_key, right_key, left_output, right_output):\n",
    "\n",
    "    \"\"\" (list, list, list, list, list, list) -> list\n",
    "    Use the column positions from left_key and right_key to identify which column to match on.\n",
    "    See the midterm.ipynb for details on how this has to work.  I'm not repeating it here.\n",
    "    I would recommend that you test it with some small datasets like what I showed in the explanation.\n",
    "    \"\"\"\n",
    "    \n",
    "    output = []\n",
    "    \n",
    "    headerL = left[0]\n",
    "    dataL = []\n",
    "    for row in range(1,len(left)):\n",
    "        dataL.append(left[row])\n",
    "    headerR = right[0]\n",
    "    dataR = []\n",
    "    for row in range(1,len(right)):\n",
    "        dataR.append(right[row])\n",
    "    \n",
    "    newheader = []\n",
    "    \n",
    "    for num in range(0,len(left_output)):     \n",
    "        col = left_output[num]                \n",
    "        newheader.append(headerL[col])        \n",
    "    \n",
    "    for num in range(0,len(right_output)):    \n",
    "        col = right_output[num]               \n",
    "        newheader.append(headerR[col])       \n",
    "    \n",
    "    output.append(newheader)\n",
    "    \n",
    "\n",
    "    for row in dataL:\n",
    "        entry = []\n",
    "        for num in range(0,len(left_output)):\n",
    "            col = left_output[num]\n",
    "            entry.append(row[col])\n",
    "        for num in range(0,len(right_output)):\n",
    "            col = right_output[num]\n",
    "            rownum = dataL.index(row)\n",
    "            rowR = dataR[rownum]\n",
    "            value = rowR[col]\n",
    "            entry.append(value)\n",
    "        output.append(entry)\n",
    "        entry = []\n",
    " \n",
    "    return output"
   ]
  },
  {
   "cell_type": "code",
   "execution_count": null,
   "metadata": {
    "collapsed": true
   },
   "outputs": [],
   "source": []
  }
 ],
 "metadata": {
  "kernelspec": {
   "display_name": "Python 3",
   "language": "python",
   "name": "python3"
  },
  "language_info": {
   "codemirror_mode": {
    "name": "ipython",
    "version": 3
   },
   "file_extension": ".py",
   "mimetype": "text/x-python",
   "name": "python",
   "nbconvert_exporter": "python",
   "pygments_lexer": "ipython3",
   "version": "3.4.3"
  }
 },
 "nbformat": 4,
 "nbformat_minor": 0
}
