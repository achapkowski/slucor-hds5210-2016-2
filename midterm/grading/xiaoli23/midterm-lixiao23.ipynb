{
 "cells": [
  {
   "cell_type": "markdown",
   "metadata": {},
   "source": [
    "## Total Score: 110 / 140\n",
    "\n",
    "---\n",
    "\n",
    "---"
   ]
  },
  {
   "cell_type": "code",
   "execution_count": 1,
   "metadata": {
    "collapsed": false
   },
   "outputs": [
    {
     "name": "stdout",
     "output_type": "stream",
     "text": [
      "importing Jupyter notebook from csvlist.ipynb\n",
      "[['State', 'Federally/State Administered', 'Enrolled Through January 31, 2014  ', 'Enrolled Through December 31, 2013', 'Enrolled Through November 30, 2013', 'Enrolled Through October 31, 2013', 'Enrolled Through September 30, 2013', 'Enrolled Through August 31, 2013', 'Enrolled Through July 31, 2013', 'Enrolled Through June 30, 2013', 'Enrolled Through May 31, 2013', 'Enrolled Through April 30, 2013', 'Enrolled Through Mar. 31, 2013', 'Enrolled Through Feb. 28, 2013', 'Enrolled Through Jan. 31, 2013', 'Enrolled Through Dec. 31, 2012', 'Enrolled Through Nov. 30, 2012', 'Enrolled Through October 31, 2012', 'Enrolled Through September 30, 2012', 'Enrolled Through August 31, 2012', 'Enrolled Through July 31, 2012', 'Enrolled Through June 30, 2012', 'Enrolled Through May 31, 2012', 'Enrolled Through April 30, 2012', 'Enrolled Through March 31, 2012', 'Enrolled Through February 29, 2012', 'Enrolled Through December 31, 2011', 'Enrolled Through November 30, 2011', 'Enrolled Through October 31, 2011', 'Enrolled Through September 30, 2011', 'Enrolled Through August 31, 2011', 'Enrolled Through July 31, 2011', 'Enrolled Through June 30, 2011', 'Enrolled Through May 31, 2011', 'Enrolled Through April 30, 2011', 'Enrolled Through March 31, 2011', 'Enrolled Through February 1, 2011', 'Enrolled Through November 1, 2011']]\n",
      "[['Alabama', 'Federal', '115', '123', '594', '639', '672', '711', '736', '766', '795', '820', '821', '1006', '972', '911', '838', '794', '735', '679', '635', '590', '559', '524', '466', '429', '389', '340', '296', '275', '230', '182', '138', '118', '103', '91', '77', '61'], ['Alaska', 'State', '5', '25', '32', '34', '34', '36', '36', '38', '43', '46', '51', '52', '47', '46', '45', '47', '42', '45', '43', '43', '45', '47', '45', '42', '42', '44', '45', '48', '45', '43', '47', '38', '35', '34', '32', '20'], ['Arizona', 'Federal', '1373', '1392', '3857', '4021', '4154', '4293', '4389', '4541', '4653', '4779', '4779', '5254', '5082', '4861', '4628', '4402', '4149', '3898', '3655', '3480', '3282', '3065', '2748', '2448', '2139', '1783', '1533', '1391', '1178', '967', '759', '639', '573', '457', '374', '270'], ['Arkansas', 'Transitioned from State to Federally-administered program 7/1/2013', '126', '129', '648', '688', '716', '750', '767', '736', '871', '878', '895', '921', '883', '868', '855', '839', '798', '767', '725', '695', '648', '624', '574', '554', '484', '404', '367', '333', '310', '291', '273', '254', '278', '226', '198', '147']]\n"
     ]
    }
   ],
   "source": [
    "import jupyterimporter\n",
    "from csvlist import CsvList\n",
    "\n",
    "f = CsvList('/midterm/preexisting.csv')\n",
    "print(f.header)      # Returns a list of the column names\n",
    "print(f.data[0:4])    # Returns the list of lists data"
   ]
  },
  {
   "cell_type": "markdown",
   "metadata": {},
   "source": [
    "---\n",
    "\n",
    "** 20 / 30 **\n",
    "\n",
    "The only issue is that your header is inside of another list.  It should have just been a list by itself, but you can see by the double square-brackets, there's an issue. \n",
    "\n",
    "---\n",
    "\n",
    "---"
   ]
  },
  {
   "cell_type": "markdown",
   "metadata": {},
   "source": [
    "# Part 2 - \"Pivoting\" data\n"
   ]
  },
  {
   "cell_type": "code",
   "execution_count": 2,
   "metadata": {
    "collapsed": false
   },
   "outputs": [
    {
     "name": "stdout",
     "output_type": "stream",
     "text": [
      "importing Jupyter notebook from pivot.ipynb\n",
      "[['Last', 'First', 'Column', 'Value'], ['Boal', 'Paul', '2015Q1', 10], ['Boal', 'Paul', '2015Q2', 9], ['Boal', 'Paul', '2015Q3', 10], ['Boal', 'Paul', '2015Q4', 8], ['Westhus', 'Eric', '2015Q1', 9], ['Westhus', 'Eric', '2015Q2', 10], ['Westhus', 'Eric', '2015Q3', 10], ['Westhus', 'Eric', '2015Q4', 9]]\n"
     ]
    }
   ],
   "source": [
    "import jupyterimporter\n",
    "from pivot import pivot_columns\n",
    "\n",
    "test = [['Last','First','2015Q1','2015Q2','2015Q3','2015Q4'],\n",
    "        ['Boal','Paul',10,9,10,8],\n",
    "        ['Westhus','Eric',9,10,10,9]]\n",
    "\n",
    "output = pivot_columns(test, list(range(2,6)))\n",
    "print(output)"
   ]
  },
  {
   "cell_type": "markdown",
   "metadata": {},
   "source": [
    "---\n",
    "\n",
    "** 30/30 **\n",
    "\n",
    "---\n",
    "\n",
    "---"
   ]
  },
  {
   "cell_type": "markdown",
   "metadata": {},
   "source": [
    "# Part 3 - \"Joining\" data together"
   ]
  },
  {
   "cell_type": "code",
   "execution_count": 3,
   "metadata": {
    "collapsed": false
   },
   "outputs": [
    {
     "name": "stdout",
     "output_type": "stream",
     "text": [
      "importing Jupyter notebook from joiner.ipynb\n",
      "[['Last', 'First', 'Time', 'Value', 'Census'], ['Boal', 'Paul', '2015Q1', 10, 932], ['Boal', 'Paul', '2015Q2', 9, 943]]\n"
     ]
    }
   ],
   "source": [
    "import jupyterimporter\n",
    "from joiner import join_lists\n",
    "\n",
    "list1 = [['Last','First','Time','Value'],\n",
    "         ['Boal','Paul','2015Q1',10],\n",
    "         ['Boal','Paul','2015Q2',9]]\n",
    "\n",
    "list2 = [['Time','Census'],\n",
    "         ['2015q1',932],\n",
    "         ['2015q2',943]]\n",
    "\n",
    "join_lists(list1, list2, [2], [0], [0,1,2,3], [1])"
   ]
  },
  {
   "cell_type": "markdown",
   "metadata": {},
   "source": [
    "---\n",
    "\n",
    "** 30/30 **\n",
    "\n",
    "---\n",
    "\n",
    "---"
   ]
  },
  {
   "cell_type": "code",
   "execution_count": 4,
   "metadata": {
    "collapsed": false
   },
   "outputs": [
    {
     "ename": "IndexError",
     "evalue": "list index out of range",
     "output_type": "error",
     "traceback": [
      "\u001b[0;31m---------------------------------------------------------------------------\u001b[0m",
      "\u001b[0;31mIndexError\u001b[0m                                Traceback (most recent call last)",
      "\u001b[0;32m<ipython-input-4-54d4e4976cda>\u001b[0m in \u001b[0;36m<module>\u001b[0;34m()\u001b[0m\n\u001b[1;32m      8\u001b[0m \u001b[0;34m\u001b[0m\u001b[0m\n\u001b[1;32m      9\u001b[0m \u001b[0;31m### CLEANUP CODE STARTS\u001b[0m\u001b[0;34m\u001b[0m\u001b[0;34m\u001b[0m\u001b[0m\n\u001b[0;32m---> 10\u001b[0;31m \u001b[0mpre\u001b[0m \u001b[0;34m=\u001b[0m \u001b[0mpivot_columns\u001b[0m\u001b[0;34m(\u001b[0m\u001b[0;34m[\u001b[0m\u001b[0mpreexisting\u001b[0m\u001b[0;34m.\u001b[0m\u001b[0mheader\u001b[0m\u001b[0;34m]\u001b[0m \u001b[0;34m+\u001b[0m \u001b[0mpreexisting\u001b[0m\u001b[0;34m.\u001b[0m\u001b[0mdata\u001b[0m\u001b[0;34m,\u001b[0m \u001b[0mlist\u001b[0m\u001b[0;34m(\u001b[0m\u001b[0mrange\u001b[0m\u001b[0;34m(\u001b[0m\u001b[0;36m2\u001b[0m\u001b[0;34m,\u001b[0m\u001b[0;36m36\u001b[0m\u001b[0;34m)\u001b[0m\u001b[0;34m)\u001b[0m\u001b[0;34m)\u001b[0m\u001b[0;34m\u001b[0m\u001b[0m\n\u001b[0m\u001b[1;32m     11\u001b[0m \u001b[0mcen\u001b[0m \u001b[0;34m=\u001b[0m \u001b[0mpivot_columns\u001b[0m\u001b[0;34m(\u001b[0m\u001b[0;34m[\u001b[0m\u001b[0mcensus\u001b[0m\u001b[0;34m.\u001b[0m\u001b[0mheader\u001b[0m\u001b[0;34m]\u001b[0m \u001b[0;34m+\u001b[0m \u001b[0mcensus\u001b[0m\u001b[0;34m.\u001b[0m\u001b[0mdata\u001b[0m\u001b[0;34m,\u001b[0m \u001b[0mlist\u001b[0m\u001b[0;34m(\u001b[0m\u001b[0mrange\u001b[0m\u001b[0;34m(\u001b[0m\u001b[0;36m5\u001b[0m\u001b[0;34m,\u001b[0m\u001b[0;36m12\u001b[0m\u001b[0;34m)\u001b[0m\u001b[0;34m)\u001b[0m\u001b[0;34m)\u001b[0m\u001b[0;34m\u001b[0m\u001b[0m\n\u001b[1;32m     12\u001b[0m \u001b[0;34m\u001b[0m\u001b[0m\n",
      "\u001b[0;32m/home/paulboal/notebooks/slucor-hds5210-2016-2-private/midterm/grading/xiaoli23/pivot.ipynb\u001b[0m in \u001b[0;36mpivot_columns\u001b[0;34m(l, pivot_columns)\u001b[0m\n",
      "\u001b[0;31mIndexError\u001b[0m: list index out of range"
     ]
    }
   ],
   "source": [
    "import jupyterimporter\n",
    "from csvlist import CsvList\n",
    "from pivot import pivot_columns\n",
    "from joiner import join_lists\n",
    "\n",
    "preexisting = CsvList('/midterm/preexisting.csv')\n",
    "census = CsvList('/midterm/census.csv')\n",
    "\n",
    "### CLEANUP CODE STARTS\n",
    "pre = pivot_columns([preexisting.header] + preexisting.data, list(range(2,36)))\n",
    "cen = pivot_columns([census.header] + census.data, list(range(5,12)))\n",
    "\n",
    "pre_clean = [pre[0] + ['Year']] + [(r + [r[2].split(',')[1].strip()]) for r in pre[1:]]\n",
    "cen_clean = [cen[0] + ['Year']] + [(r + [r[5][-4:]]) for r in cen[1:]]\n",
    "### CLEANUP CODE ENDS\n",
    "\n",
    "\n",
    "out = join_lists(pre_clean, cen_clean, [0,4], [4,7], [0,2,3], [6])"
   ]
  },
  {
   "cell_type": "markdown",
   "metadata": {},
   "source": [
    "---\n",
    "\n",
    "** 30/50 **\n",
    "\n",
    "Your pivot_columns function has hard-coded column ranges in it, meaning that it isn't going to correctly pivot the different input.\n",
    "\n",
    "I was also looking for more of an explanation on how the data is being cleansed in what you labeled below as step 3.\n",
    "\n",
    "----\n",
    "\n",
    "---"
   ]
  },
  {
   "cell_type": "code",
   "execution_count": null,
   "metadata": {
    "collapsed": true
   },
   "outputs": [],
   "source": [
    "#Explaination\n",
    "\n",
    "# Improt the jupyter importer and improt the specific class from the entire module\n",
    "# Step1:preexisting = CsvList('/midterm/preexisting.csv')\n",
    "#      census = CsvList('/midterm/census.csv')\n",
    "#CsvList seperate the data in files to 2 parts: header and data, both in lists.\n",
    "#For example:\n",
    "preexisting.header = ['State', 'Federally/State Administered',\n",
    "                      'Enrolled Through January 31, 2014'...'Enrolled Through November 1, 2011']\n",
    "preexisting.data = [['Alabama', 'Federal', '115',...'61'],\n",
    "                    ['Alaska', 'State', '5',...'20'],...\n",
    "                    ['total', '19569',... '12437']]\n",
    "census.header = ['SUMLEV','REGION','DIVISION','STATE','NAME',...'RNETMIG2014','RNETMIG2015']\n",
    "\n",
    "\n",
    "#Step2:pre = pivot_columns([preexisting.header] + preexisting.data, list(range(2,37)))\n",
    "#      cen = pivot_columns([census.header] + census.data, list(range(5,12)))\n",
    "#pivot_columns can put one row for each data value, for example:\n",
    "#for example: the designed output in preexisting:\n",
    "pre = [['State', 'Column', 'Value'],\n",
    " ['Alabama', 'Enrolled Through January 31, 2014', '115'],\n",
    " ['Alabama', 'Enrolled Through December 31, 2013', '123']...\n",
    " ['Total', 'Enrolled Through November 1, 2011', '12437']]\n",
    "\n",
    "\n",
    "#Step3：pre_clean = [pre[0] + ['Year']] + [(r + [r[2].split(',')[1].strip()]) for r in pre[1:]]\n",
    "#       cen_clean = [cen[0] + ['Year']] + [(r + [r[5][-4:]]) for r in cen[1:]]\n",
    "#In this step, pre_clean creat the new list use the elements in the pre, so does cen_clean.\n",
    "#And import the specific range of data from the module.\n",
    "\n",
    "#Step4：out = join_lists(pre_clean, cen_clean, [0,4], [4,7], [0,2,3], [6])\n",
    "#In the list pre_clean and list cen_clean, the overlap key word is year, such as: 2014,\n",
    "# if the \"year\" and \"State\" are same in 2 lists, then match.\n",
    "# pre_clean[i][0,4] == cen_clean[l][4,7] or keywords in items are same,but not exactly same.\n",
    "# The items[0,2,3] in pre_clean and the item[6] in cen_clean will join together in the new list named \"out\",\n",
    "# then print the output.\n",
    "#  \n",
    "out = [['State', 'Column', 'Value', 'Value'],\n",
    "       ['Alabama', 'Enrolled Through January 31, 2014', '115', '4846411'],...]\n",
    "    "
   ]
  }
 ],
 "metadata": {
  "kernelspec": {
   "display_name": "Python 3",
   "language": "python",
   "name": "python3"
  },
  "language_info": {
   "codemirror_mode": {
    "name": "ipython",
    "version": 3
   },
   "file_extension": ".py",
   "mimetype": "text/x-python",
   "name": "python",
   "nbconvert_exporter": "python",
   "pygments_lexer": "ipython3",
   "version": "3.4.3"
  }
 },
 "nbformat": 4,
 "nbformat_minor": 0
}
