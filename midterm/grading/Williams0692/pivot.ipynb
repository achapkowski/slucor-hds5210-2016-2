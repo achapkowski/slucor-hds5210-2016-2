{
 "cells": [
  {
   "cell_type": "code",
   "execution_count": 38,
   "metadata": {
    "collapsed": false
   },
   "outputs": [],
   "source": [
    "def pivot_columns(l,Range):\n",
    "    \"\"\" (list, list) -> list\n",
    "    This function takes in a rectangular list of lists (a 2-d array) and a list of column numbers.\n",
    "    The function assumes the first row in the list is a header row.\n",
    "    The function will simply copy down all the data infront of the first pivot column.\n",
    "    The function will create multiple rows for each of the input rows in the list, \n",
    "      one for each of the pivot columns.  In each of those rows will be the all of the columns\n",
    "      before the first pivot column, followed by the header name for that pivot column,\n",
    "      followed by the value in that pivot column.\n",
    "    The output should also have a header row that contains the same header as the input\n",
    "      for everything before the pivot columns, followed by 'Column' and 'Value'\n",
    "    \n",
    "    Input:\n",
    "    [['Last','First','2015Q1','2015Q2','2015Q3','2015Q4'],\n",
    "     ['Boal','Paul',10,9,10,8],\n",
    "     ['Westhus','Eric',9,10,10,9]]\n",
    "     \n",
    "    Function Call:\n",
    "    output = pivot_columns(input, list(range(2,5)))\n",
    "     \n",
    "    Output:\n",
    "    [['Last','First','Column','Value'],\n",
    "     ['Boal','Paul','2015Q1',10],\n",
    "     ['Boal','Paul','2015Q2',9],\n",
    "     ['Boal','Paul','2015Q3',10],\n",
    "     ['Boal','Paul','2015Q4',8],\n",
    "     ['Westhus','Eric','2015Q1',9],\n",
    "     ['Westhus','Eric','2015Q2',10],\n",
    "     ['Westhus','Eric','2015Q3',10],\n",
    "     ['Westhus','Eric','2015Q4',9]]\n",
    "    \"\"\"\n",
    "    \n",
    "    '''\n",
    "    import csv\n",
    "    with open(l) as filename: \n",
    "        filename = csv.reader(filename)\n",
    "        '''\n",
    "    Range=Range\n",
    "    List=[]\n",
    "    filename=test\n",
    "    ##########################################################\n",
    "    for row in filename:\n",
    "        List.append(row)\n",
    "    ###########################################################\n",
    "    header=List[0]\n",
    "    data=List[1:]\n",
    "    head=[header[0],header[1],\"Column\", \"Value\"]\n",
    "    one=head,test\n",
    "    n=range((len(test))+1)    #adding 1 since I inserted a new  row to list=one\n",
    "    s=one[1][1:]\n",
    "    s=range(len(s)+1)\n",
    "    s=list(range(1,len(s)))\n",
    "\n",
    "\n",
    "\n",
    "    '''Essentially, this is what I want to do....\n",
    "    do the same num of times as len(test[0]-2)#substrating the first and last name\n",
    "    set=[test[1][0],test[1][1],test[0][2],test[1][2]] #iter 1\n",
    "    set=[test[1][0],test[1][1],test[0][3],test[1][3]] #iter 2, outputs being appended to iter 1\n",
    "    set=[test[1][0],test[1][1],test[0][4],test[1][4]] #iter 3, outputs being appended to iter 2\n",
    "    set=[test[1][0],test[1][1],test[0][n],test[1][n]] #iter 3, outputs being appended to iter n-1\n",
    "    when complete w/ previous\n",
    "    set=[test[2][0],test[2][1],test[0][2],test[2][2]] #iter 1..same as previous\n",
    "    when complete\n",
    "    set=[test[i][0],test[i][1],header[n],test[i][n]] #iter 1..same as previous\n",
    "    '''\n",
    "\n",
    "    newlist=[]\n",
    "    newlist.append(one[0]) \n",
    "    for row in n:\n",
    "        for k in s:\n",
    "            for i in Range:\n",
    "                if one[1][0][i]:\n",
    "                    set1=[one[1][k][0],one[1][k][1],one[1][0][i],one[1][k][i]]\n",
    "                    newlist.append(set1)\n",
    "        break          \n",
    "    output=newlist\n",
    "    return output\n"
   ]
  },
  {
   "cell_type": "code",
   "execution_count": 36,
   "metadata": {
    "collapsed": true
   },
   "outputs": [],
   "source": [
    "header=['State', 'Federally/State Administered', 'Enrolled Through January 31, 2014  ', 'Enrolled Through December 31, 2013', 'Enrolled Through November 30, 2013', 'Enrolled Through October 31, 2013', 'Enrolled Through September 30, 2013', 'Enrolled Through August 31, 2013', 'Enrolled Through July 31, 2013', 'Enrolled Through June 30, 2013', 'Enrolled Through May 31, 2013', 'Enrolled Through April 30, 2013', 'Enrolled Through Mar. 31, 2013', 'Enrolled Through Feb. 28, 2013', 'Enrolled Through Jan. 31, 2013', 'Enrolled Through Dec. 31, 2012', 'Enrolled Through Nov. 30, 2012', 'Enrolled Through October 31, 2012', 'Enrolled Through September 30, 2012', 'Enrolled Through August 31, 2012', 'Enrolled Through July 31, 2012', 'Enrolled Through June 30, 2012', 'Enrolled Through May 31, 2012', 'Enrolled Through April 30, 2012', 'Enrolled Through March 31, 2012', 'Enrolled Through February 29, 2012', 'Enrolled Through December 31, 2011', 'Enrolled Through November 30, 2011', 'Enrolled Through October 31, 2011', 'Enrolled Through September 30, 2011', 'Enrolled Through August 31, 2011', 'Enrolled Through July 31, 2011', 'Enrolled Through June 30, 2011', 'Enrolled Through May 31, 2011', 'Enrolled Through April 30, 2011', 'Enrolled Through March 31, 2011', 'Enrolled Through February 1, 2011', 'Enrolled Through November 1, 2011']\n",
    "data=[['Alabama', 'Federal', '115', '123', '594', '639', '672', '711', '736', '766', '795', '820', '821', '1006', '972', '911', '838', '794', '735', '679', '635', '590', '559', '524', '466', '429', '389', '340', '296', '275', '230', '182', '138', '118', '103', '91', '77', '61'], ['Alaska', 'State', '5', '25', '32', '34', '34', '36', '36', '38', '43', '46', '51', '52', '47', '46', '45', '47', '42', '45', '43', '43', '45', '47', '45', '42', '42', '44', '45', '48', '45', '43', '47', '38', '35', '34', '32', '20'], ['Arizona', 'Federal', '1373', '1392', '3857', '4021', '4154', '4293', '4389', '4541', '4653', '4779', '4779', '5254', '5082', '4861', '4628', '4402', '4149', '3898', '3655', '3480', '3282', '3065', '2748', '2448', '2139', '1783', '1533', '1391', '1178', '967', '759', '639', '573', '457', '374', '270'], ['Arkansas', 'Transitioned from State to Federally-administered program 7/1/2013', '126', '129', '648', '688', '716', '750', '767', '736', '871', '878', '895', '921', '883', '868', '855', '839', '798', '767', '725', '695', '648', '624', '574', '554', '484', '404', '367', '333', '310', '291', '273', '254', '278', '226', '198', '147']]"
   ]
  },
  {
   "cell_type": "code",
   "execution_count": 37,
   "metadata": {
    "collapsed": false,
    "scrolled": false
   },
   "outputs": [
    {
     "ename": "IndexError",
     "evalue": "list index out of range",
     "output_type": "error",
     "traceback": [
      "\u001b[0;31m---------------------------------------------------------------------------\u001b[0m",
      "\u001b[0;31mIndexError\u001b[0m                                Traceback (most recent call last)",
      "\u001b[0;32m<ipython-input-37-622d88a29748>\u001b[0m in \u001b[0;36m<module>\u001b[0;34m()\u001b[0m\n\u001b[0;32m----> 1\u001b[0;31m \u001b[0mpre\u001b[0m \u001b[0;34m=\u001b[0m \u001b[0mpivot_columns\u001b[0m\u001b[0;34m(\u001b[0m\u001b[0mheader\u001b[0m \u001b[0;34m+\u001b[0m \u001b[0mdata\u001b[0m\u001b[0;34m,\u001b[0m \u001b[0mlist\u001b[0m\u001b[0;34m(\u001b[0m\u001b[0mrange\u001b[0m\u001b[0;34m(\u001b[0m\u001b[0;36m2\u001b[0m\u001b[0;34m,\u001b[0m\u001b[0;36m37\u001b[0m\u001b[0;34m)\u001b[0m\u001b[0;34m)\u001b[0m\u001b[0;34m)\u001b[0m\u001b[0;34m\u001b[0m\u001b[0m\n\u001b[0m",
      "\u001b[0;32m<ipython-input-32-ffe0ccb10ce5>\u001b[0m in \u001b[0;36mpivot_columns\u001b[0;34m(l, Range)\u001b[0m\n\u001b[1;32m     71\u001b[0m         \u001b[0;32mfor\u001b[0m \u001b[0mk\u001b[0m \u001b[0;32min\u001b[0m \u001b[0ms\u001b[0m\u001b[0;34m:\u001b[0m\u001b[0;34m\u001b[0m\u001b[0m\n\u001b[1;32m     72\u001b[0m             \u001b[0;32mfor\u001b[0m \u001b[0mi\u001b[0m \u001b[0;32min\u001b[0m \u001b[0mRange\u001b[0m\u001b[0;34m:\u001b[0m\u001b[0;34m\u001b[0m\u001b[0m\n\u001b[0;32m---> 73\u001b[0;31m                 \u001b[0;32mif\u001b[0m \u001b[0mone\u001b[0m\u001b[0;34m[\u001b[0m\u001b[0;36m1\u001b[0m\u001b[0;34m]\u001b[0m\u001b[0;34m[\u001b[0m\u001b[0;36m0\u001b[0m\u001b[0;34m]\u001b[0m\u001b[0;34m[\u001b[0m\u001b[0mi\u001b[0m\u001b[0;34m]\u001b[0m\u001b[0;34m:\u001b[0m\u001b[0;34m\u001b[0m\u001b[0m\n\u001b[0m\u001b[1;32m     74\u001b[0m                     \u001b[0mset1\u001b[0m\u001b[0;34m=\u001b[0m\u001b[0;34m[\u001b[0m\u001b[0mone\u001b[0m\u001b[0;34m[\u001b[0m\u001b[0;36m1\u001b[0m\u001b[0;34m]\u001b[0m\u001b[0;34m[\u001b[0m\u001b[0mk\u001b[0m\u001b[0;34m]\u001b[0m\u001b[0;34m[\u001b[0m\u001b[0;36m0\u001b[0m\u001b[0;34m]\u001b[0m\u001b[0;34m,\u001b[0m\u001b[0mone\u001b[0m\u001b[0;34m[\u001b[0m\u001b[0;36m1\u001b[0m\u001b[0;34m]\u001b[0m\u001b[0;34m[\u001b[0m\u001b[0mk\u001b[0m\u001b[0;34m]\u001b[0m\u001b[0;34m[\u001b[0m\u001b[0;36m1\u001b[0m\u001b[0;34m]\u001b[0m\u001b[0;34m,\u001b[0m\u001b[0mone\u001b[0m\u001b[0;34m[\u001b[0m\u001b[0;36m1\u001b[0m\u001b[0;34m]\u001b[0m\u001b[0;34m[\u001b[0m\u001b[0;36m0\u001b[0m\u001b[0;34m]\u001b[0m\u001b[0;34m[\u001b[0m\u001b[0mi\u001b[0m\u001b[0;34m]\u001b[0m\u001b[0;34m,\u001b[0m\u001b[0mone\u001b[0m\u001b[0;34m[\u001b[0m\u001b[0;36m1\u001b[0m\u001b[0;34m]\u001b[0m\u001b[0;34m[\u001b[0m\u001b[0mk\u001b[0m\u001b[0;34m]\u001b[0m\u001b[0;34m[\u001b[0m\u001b[0mi\u001b[0m\u001b[0;34m]\u001b[0m\u001b[0;34m]\u001b[0m\u001b[0;34m\u001b[0m\u001b[0m\n\u001b[1;32m     75\u001b[0m                     \u001b[0mnewlist\u001b[0m\u001b[0;34m.\u001b[0m\u001b[0mappend\u001b[0m\u001b[0;34m(\u001b[0m\u001b[0mset1\u001b[0m\u001b[0;34m)\u001b[0m\u001b[0;34m\u001b[0m\u001b[0m\n",
      "\u001b[0;31mIndexError\u001b[0m: list index out of range"
     ]
    }
   ],
   "source": [
    "pre = pivot_columns(header + data, list(range(2,37)))"
   ]
  },
  {
   "cell_type": "code",
   "execution_count": 30,
   "metadata": {
    "collapsed": false
   },
   "outputs": [],
   "source": [
    "test= [['Last','First','2015Q1','2015Q2','2015Q3','2015Q4'],\n",
    "        ['Boal','Paul',10,9,10,8],\n",
    "        ['Westhus','Eric',9,10,10,9]]\n",
    "\n",
    "filename=test\n",
    "List=[]\n",
    "Range=list(range(2,6))\n",
    "##########################################################\n",
    "for row in filename:\n",
    "    List.append(row)\n",
    "###########################################################\n",
    "header=List[0]\n",
    "data=List[1:]\n",
    "head=[header[0],header[1],\"Column\", \"Value\"]\n",
    "one=head,test\n",
    "n=range((len(test))+1)    #adding 1 since I inserted a new  row to list=one\n",
    "s=one[1][1:]\n",
    "s=range(len(s)+1)\n",
    "s=list(range(1,len(s)))\n",
    "newlist=[]\n",
    "newlist.append(one[0]) \n",
    "for row in n:\n",
    "    for k in s:\n",
    "        for i in Range:\n",
    "            if one[1][0][i]:\n",
    "                set1=[one[1][k][0],one[1][k][1],one[1][0][i],one[1][k][i]]\n",
    "                newlist.append(set1)\n",
    "    break          \n",
    "output=newlist\n"
   ]
  },
  {
   "cell_type": "code",
   "execution_count": 31,
   "metadata": {
    "collapsed": false
   },
   "outputs": [
    {
     "data": {
      "text/plain": [
       "[['Last', 'First', 'Column', 'Value'],\n",
       " ['Boal', 'Paul', '2015Q1', 10],\n",
       " ['Boal', 'Paul', '2015Q2', 9],\n",
       " ['Boal', 'Paul', '2015Q3', 10],\n",
       " ['Boal', 'Paul', '2015Q4', 8],\n",
       " ['Westhus', 'Eric', '2015Q1', 9],\n",
       " ['Westhus', 'Eric', '2015Q2', 10],\n",
       " ['Westhus', 'Eric', '2015Q3', 10],\n",
       " ['Westhus', 'Eric', '2015Q4', 9]]"
      ]
     },
     "execution_count": 31,
     "metadata": {},
     "output_type": "execute_result"
    }
   ],
   "source": [
    "list1 = [['Last','First','Time','Value'],\n",
    " ['Boal','Paul','2015Q1',10],\n",
    " ['Boal','Paul','2015Q2',9],\n",
    " ['Westhus','Eric','2015Q2',7]]\n",
    "\n",
    " list2 = [['Last','Time','Census'],\n",
    " ['Boal','2015q1',932],\n",
    " ['Westhus','2015q2',943]]\n",
    "\n",
    " join_lists(list1, list2, [0,2], [0,1], [0,1,2,3], [2])"
   ]
  },
  {
   "cell_type": "code",
   "execution_count": null,
   "metadata": {
    "collapsed": false
   },
   "outputs": [],
   "source": [
    "List=[]\n",
    "filename=test\n",
    "\n",
    "for row in filename:\n",
    "    List.append(row)\n",
    "\n",
    "header=List[0]\n",
    "data=List[1:]\n",
    "head=[header[0],header[1],\"Column\", \"Value\"]\n",
    "one=head,test"
   ]
  },
  {
   "cell_type": "code",
   "execution_count": null,
   "metadata": {
    "collapsed": false,
    "scrolled": false
   },
   "outputs": [],
   "source": [
    "'''Essentially, this is what I want to do....\n",
    "do the same num of times as len(test[0]-2)#substrating the first and last name\n",
    "set=[test[1][0],test[1][1],test[0][2],test[1][2]] #iter 1\n",
    "set=[test[1][0],test[1][1],test[0][3],test[1][3]] #iter 2, outputs being appended to iter 1\n",
    "set=[test[1][0],test[1][1],test[0][4],test[1][4]] #iter 3, outputs being appended to iter 2\n",
    "set=[test[1][0],test[1][1],test[0][n],test[1][n]] #iter 3, outputs being appended to iter n-1\n",
    "when complete w/ previous\n",
    "set=[test[2][0],test[2][1],test[0][2],test[2][2]] #iter 1..same as previous\n",
    "when complete\n",
    "set=[test[i][0],test[i][1],header[n],test[i][n]] #iter 1..same as previous\n",
    "'''\n",
    "set=[]\n",
    "# i is the number of participants in the dataset..in this case, only 2..hence this processes \n",
    "#is iterated twice, for the two people in the dataframe\n",
    "set.append(one[0])  #this is the header\n",
    "print(set)\n",
    "for i in range(1,len(data)+1):\n",
    "    # n is the number of \"time pts\" that belong to each person, in this case, 4. This step \n",
    "    #will be iterated 4x for each time pts, and twice, once for each person\n",
    "    for  n in range(2,(len(header))):\n",
    "        set1=[one[1][i][0],one[1][i][1],one[1][0][n],one[1][i][n]]\n",
    "        set.append(set1)\n",
    "#Now, we need to add the correct data to the dataframe, i.e. insert a list into a list\n",
    "#I create variable, \"head\" above utilizing syntax from question 1\n",
    "newlist=set"
   ]
  },
  {
   "cell_type": "code",
   "execution_count": null,
   "metadata": {
    "collapsed": false,
    "scrolled": true
   },
   "outputs": [],
   "source": [
    "newlist"
   ]
  },
  {
   "cell_type": "code",
   "execution_count": null,
   "metadata": {
    "collapsed": false
   },
   "outputs": [],
   "source": [
    "one[1][1][0],one[1][1][1],one[1][0][2],one[1][1][2]\n"
   ]
  },
  {
   "cell_type": "code",
   "execution_count": null,
   "metadata": {
    "collapsed": true
   },
   "outputs": [],
   "source": [
    "one[1][1][0],one[1][1][1],one[1][0][2],one[1][1][2]"
   ]
  },
  {
   "cell_type": "code",
   "execution_count": null,
   "metadata": {
    "collapsed": false
   },
   "outputs": [],
   "source": [
    "Range=list(range(0,5))"
   ]
  },
  {
   "cell_type": "code",
   "execution_count": null,
   "metadata": {
    "collapsed": false
   },
   "outputs": [],
   "source": [
    "Range[len(Range)-1]"
   ]
  },
  {
   "cell_type": "code",
   "execution_count": null,
   "metadata": {
    "collapsed": false
   },
   "outputs": [],
   "source": [
    "what=[]\n",
    "for i in range(0,3):\n",
    "    what.append(i)\n",
    "        "
   ]
  },
  {
   "cell_type": "code",
   "execution_count": null,
   "metadata": {
    "collapsed": false
   },
   "outputs": [],
   "source": [
    "what[0]"
   ]
  },
  {
   "cell_type": "code",
   "execution_count": null,
   "metadata": {
    "collapsed": true
   },
   "outputs": [],
   "source": [
    "out = pivot_columns(test,list(range(2,5)))\n",
    "out"
   ]
  }
 ],
 "metadata": {
  "kernelspec": {
   "display_name": "Python 3",
   "language": "python",
   "name": "python3"
  },
  "language_info": {
   "codemirror_mode": {
    "name": "ipython",
    "version": 3
   },
   "file_extension": ".py",
   "mimetype": "text/x-python",
   "name": "python",
   "nbconvert_exporter": "python",
   "pygments_lexer": "ipython3",
   "version": "3.4.3"
  }
 },
 "nbformat": 4,
 "nbformat_minor": 0
}
