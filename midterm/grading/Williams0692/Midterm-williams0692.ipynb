{
 "cells": [
  {
   "cell_type": "markdown",
   "metadata": {},
   "source": [
    "## Total Score: 110\n",
    "\n",
    "---\n",
    "\n",
    "---"
   ]
  },
  {
   "cell_type": "code",
   "execution_count": 1,
   "metadata": {
    "collapsed": false,
    "scrolled": true
   },
   "outputs": [
    {
     "name": "stdout",
     "output_type": "stream",
     "text": [
      "importing Jupyter notebook from csvlist.ipynb\n"
     ]
    }
   ],
   "source": [
    "import jupyterimporter\n",
    "from csvlist import CsvList\n",
    "f = CsvList('/midterm/preexisting.csv') "
   ]
  },
  {
   "cell_type": "code",
   "execution_count": 2,
   "metadata": {
    "collapsed": false,
    "scrolled": true
   },
   "outputs": [
    {
     "name": "stdout",
     "output_type": "stream",
     "text": [
      "['State', 'Federally/State Administered', 'Enrolled Through January 31, 2014  ', 'Enrolled Through December 31, 2013', 'Enrolled Through November 30, 2013', 'Enrolled Through October 31, 2013', 'Enrolled Through September 30, 2013', 'Enrolled Through August 31, 2013', 'Enrolled Through July 31, 2013', 'Enrolled Through June 30, 2013', 'Enrolled Through May 31, 2013', 'Enrolled Through April 30, 2013', 'Enrolled Through Mar. 31, 2013', 'Enrolled Through Feb. 28, 2013', 'Enrolled Through Jan. 31, 2013', 'Enrolled Through Dec. 31, 2012', 'Enrolled Through Nov. 30, 2012', 'Enrolled Through October 31, 2012', 'Enrolled Through September 30, 2012', 'Enrolled Through August 31, 2012', 'Enrolled Through July 31, 2012', 'Enrolled Through June 30, 2012', 'Enrolled Through May 31, 2012', 'Enrolled Through April 30, 2012', 'Enrolled Through March 31, 2012', 'Enrolled Through February 29, 2012', 'Enrolled Through December 31, 2011', 'Enrolled Through November 30, 2011', 'Enrolled Through October 31, 2011', 'Enrolled Through September 30, 2011', 'Enrolled Through August 31, 2011', 'Enrolled Through July 31, 2011', 'Enrolled Through June 30, 2011', 'Enrolled Through May 31, 2011', 'Enrolled Through April 30, 2011', 'Enrolled Through March 31, 2011', 'Enrolled Through February 1, 2011', 'Enrolled Through November 1, 2011']\n"
     ]
    }
   ],
   "source": [
    "print(f.header)"
   ]
  },
  {
   "cell_type": "code",
   "execution_count": 3,
   "metadata": {
    "collapsed": false
   },
   "outputs": [
    {
     "name": "stdout",
     "output_type": "stream",
     "text": [
      "[['Alabama', 'Federal', '115', '123', '594', '639', '672', '711', '736', '766', '795', '820', '821', '1006', '972', '911', '838', '794', '735', '679', '635', '590', '559', '524', '466', '429', '389', '340', '296', '275', '230', '182', '138', '118', '103', '91', '77', '61'], ['Alaska', 'State', '5', '25', '32', '34', '34', '36', '36', '38', '43', '46', '51', '52', '47', '46', '45', '47', '42', '45', '43', '43', '45', '47', '45', '42', '42', '44', '45', '48', '45', '43', '47', '38', '35', '34', '32', '20'], ['Arizona', 'Federal', '1373', '1392', '3857', '4021', '4154', '4293', '4389', '4541', '4653', '4779', '4779', '5254', '5082', '4861', '4628', '4402', '4149', '3898', '3655', '3480', '3282', '3065', '2748', '2448', '2139', '1783', '1533', '1391', '1178', '967', '759', '639', '573', '457', '374', '270'], ['Arkansas', 'Transitioned from State to Federally-administered program 7/1/2013', '126', '129', '648', '688', '716', '750', '767', '736', '871', '878', '895', '921', '883', '868', '855', '839', '798', '767', '725', '695', '648', '624', '574', '554', '484', '404', '367', '333', '310', '291', '273', '254', '278', '226', '198', '147']]\n"
     ]
    }
   ],
   "source": [
    "print(f.data[0:4]) "
   ]
  },
  {
   "cell_type": "markdown",
   "metadata": {},
   "source": [
    "---\n",
    "\n",
    "** 30/30 **\n",
    "\n",
    "---\n",
    "\n",
    "---"
   ]
  },
  {
   "cell_type": "code",
   "execution_count": 1,
   "metadata": {
    "collapsed": false,
    "scrolled": true
   },
   "outputs": [
    {
     "name": "stdout",
     "output_type": "stream",
     "text": [
      "importing Jupyter notebook from pivot.ipynb\n"
     ]
    }
   ],
   "source": [
    "import jupyterimporter \n",
    "from pivot import pivot_columns\n",
    "test = [['Last','First','2015Q1','2015Q2','2015Q3','2015Q4'], \n",
    "        ['Boal','Paul',10,9,10,8], \n",
    "        ['Westhus','Eric',9,10,10,9]]"
   ]
  },
  {
   "cell_type": "code",
   "execution_count": 2,
   "metadata": {
    "collapsed": false
   },
   "outputs": [
    {
     "data": {
      "text/plain": [
       "[['Last', 'First', 'Column', 'Value'],\n",
       " ['Boal', 'Paul', '2015Q1', 10],\n",
       " ['Boal', 'Paul', '2015Q2', 9],\n",
       " ['Boal', 'Paul', '2015Q3', 10],\n",
       " ['Boal', 'Paul', '2015Q4', 8],\n",
       " ['Westhus', 'Eric', '2015Q1', 9],\n",
       " ['Westhus', 'Eric', '2015Q2', 10],\n",
       " ['Westhus', 'Eric', '2015Q3', 10],\n",
       " ['Westhus', 'Eric', '2015Q4', 9]]"
      ]
     },
     "execution_count": 2,
     "metadata": {},
     "output_type": "execute_result"
    }
   ],
   "source": [
    "pivot_columns(test,list(range(2,6)))"
   ]
  },
  {
   "cell_type": "markdown",
   "metadata": {},
   "source": [
    "---\n",
    "\n",
    "** 20/30 **\n",
    "\n",
    "Your submitted module was cluttered with a lot of other stuff, which kept it from running correctly.  It was mostly correct, except that you were using some variables (like `test`) that weren't defined inside the module.\n",
    "\n",
    "---\n",
    "\n",
    "---"
   ]
  },
  {
   "cell_type": "code",
   "execution_count": 1,
   "metadata": {
    "collapsed": false
   },
   "outputs": [
    {
     "name": "stdout",
     "output_type": "stream",
     "text": [
      "importing Jupyter notebook from joiner.ipynb\n"
     ]
    },
    {
     "data": {
      "text/plain": [
       "[['Last', 'First', 'Time', 'Value', 'Census'],\n",
       " ['Boal', 'Paul', '2015Q1', 10, 932],\n",
       " ['Boal', 'Paul', '2015Q2', 9, 943]]"
      ]
     },
     "execution_count": 1,
     "metadata": {},
     "output_type": "execute_result"
    }
   ],
   "source": [
    "import jupyterimporter \n",
    "from joiner import join_lists\n",
    "list1 = [['Last','First','Time','Value'], ['Boal','Paul','2015Q1',10], ['Boal','Paul','2015Q2',9]]\n",
    "list2 = [['Time','Census'], ['2015q1',932], ['2015q2',943]]\n",
    "join_lists(list1, list2, [2], [0], [0,1,2,3], [1])"
   ]
  },
  {
   "cell_type": "markdown",
   "metadata": {},
   "source": [
    "---\n",
    "\n",
    "** 25/30 **\n",
    "\n",
    "Again, you had some test code that needed to be commented out / removed for this to run.\n",
    "\n",
    "---\n",
    "\n",
    "---"
   ]
  },
  {
   "cell_type": "code",
   "execution_count": 2,
   "metadata": {
    "collapsed": false
   },
   "outputs": [
    {
     "name": "stdout",
     "output_type": "stream",
     "text": [
      "importing Jupyter notebook from csvlist.ipynb\n",
      "importing Jupyter notebook from pivot.ipynb\n"
     ]
    },
    {
     "ename": "IndexError",
     "evalue": "list index out of range",
     "output_type": "error",
     "traceback": [
      "\u001b[0;31m---------------------------------------------------------------------------\u001b[0m",
      "\u001b[0;31mIndexError\u001b[0m                                Traceback (most recent call last)",
      "\u001b[0;32m<ipython-input-2-3d252ab76e16>\u001b[0m in \u001b[0;36m<module>\u001b[0;34m()\u001b[0m\n\u001b[1;32m     12\u001b[0m \u001b[0;34m\u001b[0m\u001b[0m\n\u001b[1;32m     13\u001b[0m \u001b[0mpre_clean\u001b[0m \u001b[0;34m=\u001b[0m \u001b[0;34m[\u001b[0m\u001b[0mpre\u001b[0m\u001b[0;34m[\u001b[0m\u001b[0;36m0\u001b[0m\u001b[0;34m]\u001b[0m \u001b[0;34m+\u001b[0m \u001b[0;34m[\u001b[0m\u001b[0;34m'Year'\u001b[0m\u001b[0;34m]\u001b[0m\u001b[0;34m]\u001b[0m \u001b[0;34m+\u001b[0m \u001b[0;34m[\u001b[0m\u001b[0;34m(\u001b[0m\u001b[0mr\u001b[0m \u001b[0;34m+\u001b[0m \u001b[0;34m[\u001b[0m\u001b[0mr\u001b[0m\u001b[0;34m[\u001b[0m\u001b[0;36m2\u001b[0m\u001b[0;34m]\u001b[0m\u001b[0;34m.\u001b[0m\u001b[0msplit\u001b[0m\u001b[0;34m(\u001b[0m\u001b[0;34m','\u001b[0m\u001b[0;34m)\u001b[0m\u001b[0;34m[\u001b[0m\u001b[0;36m1\u001b[0m\u001b[0;34m]\u001b[0m\u001b[0;34m.\u001b[0m\u001b[0mstrip\u001b[0m\u001b[0;34m(\u001b[0m\u001b[0;34m)\u001b[0m\u001b[0;34m]\u001b[0m\u001b[0;34m)\u001b[0m \u001b[0;32mfor\u001b[0m \u001b[0mr\u001b[0m \u001b[0;32min\u001b[0m \u001b[0mpre\u001b[0m\u001b[0;34m[\u001b[0m\u001b[0;36m1\u001b[0m\u001b[0;34m:\u001b[0m\u001b[0;34m]\u001b[0m\u001b[0;34m]\u001b[0m\u001b[0;34m\u001b[0m\u001b[0m\n\u001b[0;32m---> 14\u001b[0;31m \u001b[0mcen_clean\u001b[0m \u001b[0;34m=\u001b[0m \u001b[0;34m[\u001b[0m\u001b[0mcen\u001b[0m\u001b[0;34m[\u001b[0m\u001b[0;36m0\u001b[0m\u001b[0;34m]\u001b[0m \u001b[0;34m+\u001b[0m \u001b[0;34m[\u001b[0m\u001b[0;34m'Year'\u001b[0m\u001b[0;34m]\u001b[0m\u001b[0;34m]\u001b[0m \u001b[0;34m+\u001b[0m \u001b[0;34m[\u001b[0m\u001b[0;34m(\u001b[0m\u001b[0mr\u001b[0m \u001b[0;34m+\u001b[0m \u001b[0;34m[\u001b[0m\u001b[0mr\u001b[0m\u001b[0;34m[\u001b[0m\u001b[0;36m5\u001b[0m\u001b[0;34m]\u001b[0m\u001b[0;34m[\u001b[0m\u001b[0;34m-\u001b[0m\u001b[0;36m4\u001b[0m\u001b[0;34m:\u001b[0m\u001b[0;34m]\u001b[0m\u001b[0;34m]\u001b[0m\u001b[0;34m)\u001b[0m \u001b[0;32mfor\u001b[0m \u001b[0mr\u001b[0m \u001b[0;32min\u001b[0m \u001b[0mcen\u001b[0m\u001b[0;34m[\u001b[0m\u001b[0;36m1\u001b[0m\u001b[0;34m:\u001b[0m\u001b[0;34m]\u001b[0m\u001b[0;34m]\u001b[0m\u001b[0;34m\u001b[0m\u001b[0m\n\u001b[0m\u001b[1;32m     15\u001b[0m \u001b[0;31m### CLEANUP CODE ENDS\u001b[0m\u001b[0;34m\u001b[0m\u001b[0;34m\u001b[0m\u001b[0m\n\u001b[1;32m     16\u001b[0m \u001b[0;34m\u001b[0m\u001b[0m\n",
      "\u001b[0;32m<ipython-input-2-3d252ab76e16>\u001b[0m in \u001b[0;36m<listcomp>\u001b[0;34m(.0)\u001b[0m\n\u001b[1;32m     12\u001b[0m \u001b[0;34m\u001b[0m\u001b[0m\n\u001b[1;32m     13\u001b[0m \u001b[0mpre_clean\u001b[0m \u001b[0;34m=\u001b[0m \u001b[0;34m[\u001b[0m\u001b[0mpre\u001b[0m\u001b[0;34m[\u001b[0m\u001b[0;36m0\u001b[0m\u001b[0;34m]\u001b[0m \u001b[0;34m+\u001b[0m \u001b[0;34m[\u001b[0m\u001b[0;34m'Year'\u001b[0m\u001b[0;34m]\u001b[0m\u001b[0;34m]\u001b[0m \u001b[0;34m+\u001b[0m \u001b[0;34m[\u001b[0m\u001b[0;34m(\u001b[0m\u001b[0mr\u001b[0m \u001b[0;34m+\u001b[0m \u001b[0;34m[\u001b[0m\u001b[0mr\u001b[0m\u001b[0;34m[\u001b[0m\u001b[0;36m2\u001b[0m\u001b[0;34m]\u001b[0m\u001b[0;34m.\u001b[0m\u001b[0msplit\u001b[0m\u001b[0;34m(\u001b[0m\u001b[0;34m','\u001b[0m\u001b[0;34m)\u001b[0m\u001b[0;34m[\u001b[0m\u001b[0;36m1\u001b[0m\u001b[0;34m]\u001b[0m\u001b[0;34m.\u001b[0m\u001b[0mstrip\u001b[0m\u001b[0;34m(\u001b[0m\u001b[0;34m)\u001b[0m\u001b[0;34m]\u001b[0m\u001b[0;34m)\u001b[0m \u001b[0;32mfor\u001b[0m \u001b[0mr\u001b[0m \u001b[0;32min\u001b[0m \u001b[0mpre\u001b[0m\u001b[0;34m[\u001b[0m\u001b[0;36m1\u001b[0m\u001b[0;34m:\u001b[0m\u001b[0;34m]\u001b[0m\u001b[0;34m]\u001b[0m\u001b[0;34m\u001b[0m\u001b[0m\n\u001b[0;32m---> 14\u001b[0;31m \u001b[0mcen_clean\u001b[0m \u001b[0;34m=\u001b[0m \u001b[0;34m[\u001b[0m\u001b[0mcen\u001b[0m\u001b[0;34m[\u001b[0m\u001b[0;36m0\u001b[0m\u001b[0;34m]\u001b[0m \u001b[0;34m+\u001b[0m \u001b[0;34m[\u001b[0m\u001b[0;34m'Year'\u001b[0m\u001b[0;34m]\u001b[0m\u001b[0;34m]\u001b[0m \u001b[0;34m+\u001b[0m \u001b[0;34m[\u001b[0m\u001b[0;34m(\u001b[0m\u001b[0mr\u001b[0m \u001b[0;34m+\u001b[0m \u001b[0;34m[\u001b[0m\u001b[0mr\u001b[0m\u001b[0;34m[\u001b[0m\u001b[0;36m5\u001b[0m\u001b[0;34m]\u001b[0m\u001b[0;34m[\u001b[0m\u001b[0;34m-\u001b[0m\u001b[0;36m4\u001b[0m\u001b[0;34m:\u001b[0m\u001b[0;34m]\u001b[0m\u001b[0;34m]\u001b[0m\u001b[0;34m)\u001b[0m \u001b[0;32mfor\u001b[0m \u001b[0mr\u001b[0m \u001b[0;32min\u001b[0m \u001b[0mcen\u001b[0m\u001b[0;34m[\u001b[0m\u001b[0;36m1\u001b[0m\u001b[0;34m:\u001b[0m\u001b[0;34m]\u001b[0m\u001b[0;34m]\u001b[0m\u001b[0;34m\u001b[0m\u001b[0m\n\u001b[0m\u001b[1;32m     15\u001b[0m \u001b[0;31m### CLEANUP CODE ENDS\u001b[0m\u001b[0;34m\u001b[0m\u001b[0;34m\u001b[0m\u001b[0m\n\u001b[1;32m     16\u001b[0m \u001b[0;34m\u001b[0m\u001b[0m\n",
      "\u001b[0;31mIndexError\u001b[0m: list index out of range"
     ]
    }
   ],
   "source": [
    "import jupyterimporter\n",
    "from csvlist import CsvList\n",
    "from pivot import pivot_columns\n",
    "from joiner import join_lists\n",
    "\n",
    "preexisting = CsvList('/midterm/preexisting.csv')\n",
    "census = CsvList('/midterm/census.csv')\n",
    "\n",
    "### CLEANUP CODE STARTS\n",
    "pre = pivot_columns([preexisting.header] + preexisting.data, list(range(2,37)))\n",
    "cen = pivot_columns([census.header] + census.data, list(range(5,12)))\n",
    "\n",
    "pre_clean = [pre[0] + ['Year']] + [(r + [r[2].split(',')[1].strip()]) for r in pre[1:]]\n",
    "cen_clean = [cen[0] + ['Year']] + [(r + [r[5][-4:]]) for r in cen[1:]]\n",
    "### CLEANUP CODE ENDS\n",
    "\n",
    "print(pre)"
   ]
  },
  {
   "cell_type": "markdown",
   "metadata": {},
   "source": [
    "---\n",
    "\n",
    "** 35/50 **\n",
    "\n",
    "Good attempt at the explanation.  The error you get here points to a problem with your `pivot_columns` function, which only ever copies down the first two columns.  It's supposed to copy down everything in front of the pivotted columns.\n",
    "\n",
    "---\n",
    "\n",
    "---"
   ]
  },
  {
   "cell_type": "code",
   "execution_count": 3,
   "metadata": {
    "collapsed": false
   },
   "outputs": [
    {
     "name": "stdout",
     "output_type": "stream",
     "text": [
      "[['SUMLEV', 'REGION', 'Column', 'Value'], ['010', '0', 'CENSUS2010POP', '308745538'], ['010', '0', 'ESTIMATESBASE2010', '308758105'], ['010', '0', 'POPESTIMATE2010', '309346863'], ['010', '0', 'POPESTIMATE2011', '311718857'], ['010', '0', 'POPESTIMATE2012', '314102623'], ['010', '0', 'POPESTIMATE2013', '316427395'], ['010', '0', 'POPESTIMATE2014', '318907401'], ['020', '1', 'CENSUS2010POP', '55317240'], ['020', '1', 'ESTIMATESBASE2010', '55318348'], ['020', '1', 'POPESTIMATE2010', '55387174'], ['020', '1', 'POPESTIMATE2011', '55638038'], ['020', '1', 'POPESTIMATE2012', '55835056'], ['020', '1', 'POPESTIMATE2013', '56019353'], ['020', '1', 'POPESTIMATE2014', '56171281'], ['020', '2', 'CENSUS2010POP', '66927001'], ['020', '2', 'ESTIMATESBASE2010', '66929897'], ['020', '2', 'POPESTIMATE2010', '66977505'], ['020', '2', 'POPESTIMATE2011', '67156488'], ['020', '2', 'POPESTIMATE2012', '67340231'], ['020', '2', 'POPESTIMATE2013', '67565788'], ['020', '2', 'POPESTIMATE2014', '67762069'], ['020', '3', 'CENSUS2010POP', '114555744'], ['020', '3', 'ESTIMATESBASE2010', '114562953'], ['020', '3', 'POPESTIMATE2010', '114862858'], ['020', '3', 'POPESTIMATE2011', '116080267'], ['020', '3', 'POPESTIMATE2012', '117331340'], ['020', '3', 'POPESTIMATE2013', '118487418'], ['020', '3', 'POPESTIMATE2014', '119795010'], ['020', '4', 'CENSUS2010POP', '71945553'], ['020', '4', 'ESTIMATESBASE2010', '71946907'], ['020', '4', 'POPESTIMATE2010', '72119326'], ['020', '4', 'POPESTIMATE2011', '72844064'], ['020', '4', 'POPESTIMATE2012', '73595996'], ['020', '4', 'POPESTIMATE2013', '74354836'], ['020', '4', 'POPESTIMATE2014', '75179041'], ['040', '3', 'CENSUS2010POP', '4779736'], ['040', '3', 'ESTIMATESBASE2010', '4780127'], ['040', '3', 'POPESTIMATE2010', '4785161'], ['040', '3', 'POPESTIMATE2011', '4801108'], ['040', '3', 'POPESTIMATE2012', '4816089'], ['040', '3', 'POPESTIMATE2013', '4830533'], ['040', '3', 'POPESTIMATE2014', '4846411'], ['040', '4', 'CENSUS2010POP', '710231'], ['040', '4', 'ESTIMATESBASE2010', '710249'], ['040', '4', 'POPESTIMATE2010', '714021'], ['040', '4', 'POPESTIMATE2011', '722720'], ['040', '4', 'POPESTIMATE2012', '731228'], ['040', '4', 'POPESTIMATE2013', '737442'], ['040', '4', 'POPESTIMATE2014', '737046'], ['040', '4', 'CENSUS2010POP', '6392017'], ['040', '4', 'ESTIMATESBASE2010', '6392307'], ['040', '4', 'POPESTIMATE2010', '6408208'], ['040', '4', 'POPESTIMATE2011', '6468732'], ['040', '4', 'POPESTIMATE2012', '6553262'], ['040', '4', 'POPESTIMATE2013', '6630799'], ['040', '4', 'POPESTIMATE2014', '6728783'], ['040', '3', 'CENSUS2010POP', '2915918'], ['040', '3', 'ESTIMATESBASE2010', '2915958'], ['040', '3', 'POPESTIMATE2010', '2922394'], ['040', '3', 'POPESTIMATE2011', '2938538'], ['040', '3', 'POPESTIMATE2012', '2949499'], ['040', '3', 'POPESTIMATE2013', '2957957'], ['040', '3', 'POPESTIMATE2014', '2966835'], ['040', '4', 'CENSUS2010POP', '37253956'], ['040', '4', 'ESTIMATESBASE2010', '37254503'], ['040', '4', 'POPESTIMATE2010', '37334079'], ['040', '4', 'POPESTIMATE2011', '37700034'], ['040', '4', 'POPESTIMATE2012', '38056055'], ['040', '4', 'POPESTIMATE2013', '38414128'], ['040', '4', 'POPESTIMATE2014', '38792291'], ['040', '4', 'CENSUS2010POP', '5029196'], ['040', '4', 'ESTIMATESBASE2010', '5029324'], ['040', '4', 'POPESTIMATE2010', '5048254'], ['040', '4', 'POPESTIMATE2011', '5119480'], ['040', '4', 'POPESTIMATE2012', '5191731'], ['040', '4', 'POPESTIMATE2013', '5271132'], ['040', '4', 'POPESTIMATE2014', '5355588'], ['040', '1', 'CENSUS2010POP', '3574097'], ['040', '1', 'ESTIMATESBASE2010', '3574118'], ['040', '1', 'POPESTIMATE2010', '3579717'], ['040', '1', 'POPESTIMATE2011', '3589759'], ['040', '1', 'POPESTIMATE2012', '3593541'], ['040', '1', 'POPESTIMATE2013', '3597168'], ['040', '1', 'POPESTIMATE2014', '3594762'], ['040', '3', 'CENSUS2010POP', '897934'], ['040', '3', 'ESTIMATESBASE2010', '897936'], ['040', '3', 'POPESTIMATE2010', '899791'], ['040', '3', 'POPESTIMATE2011', '907916'], ['040', '3', 'POPESTIMATE2012', '917099'], ['040', '3', 'POPESTIMATE2013', '925353'], ['040', '3', 'POPESTIMATE2014', '935968'], ['040', '3', 'CENSUS2010POP', '601723'], ['040', '3', 'ESTIMATESBASE2010', '601767'], ['040', '3', 'POPESTIMATE2010', '605126'], ['040', '3', 'POPESTIMATE2011', '620472'], ['040', '3', 'POPESTIMATE2012', '635342'], ['040', '3', 'POPESTIMATE2013', '649540'], ['040', '3', 'POPESTIMATE2014', '659836'], ['040', '3', 'CENSUS2010POP', '18801310'], ['040', '3', 'ESTIMATESBASE2010', '18804623'], ['040', '3', 'POPESTIMATE2010', '18849890'], ['040', '3', 'POPESTIMATE2011', '19105533'], ['040', '3', 'POPESTIMATE2012', '19352021'], ['040', '3', 'POPESTIMATE2013', '19594467'], ['040', '3', 'POPESTIMATE2014', '19905569'], ['040', '3', 'CENSUS2010POP', '9687653'], ['040', '3', 'ESTIMATESBASE2010', '9688681'], ['040', '3', 'POPESTIMATE2010', '9713454'], ['040', '3', 'POPESTIMATE2011', '9812280'], ['040', '3', 'POPESTIMATE2012', '9917639'], ['040', '3', 'POPESTIMATE2013', '9991562'], ['040', '3', 'POPESTIMATE2014', '10097132'], ['040', '4', 'CENSUS2010POP', '1360301'], ['040', '4', 'ESTIMATESBASE2010', '1360301'], ['040', '4', 'POPESTIMATE2010', '1363980'], ['040', '4', 'POPESTIMATE2011', '1378227'], ['040', '4', 'POPESTIMATE2012', '1392641'], ['040', '4', 'POPESTIMATE2013', '1408765'], ['040', '4', 'POPESTIMATE2014', '1420257'], ['040', '4', 'CENSUS2010POP', '1567582'], ['040', '4', 'ESTIMATESBASE2010', '1567652'], ['040', '4', 'POPESTIMATE2010', '1570986'], ['040', '4', 'POPESTIMATE2011', '1584134'], ['040', '4', 'POPESTIMATE2012', '1596097'], ['040', '4', 'POPESTIMATE2013', '1612785'], ['040', '4', 'POPESTIMATE2014', '1634806'], ['040', '2', 'CENSUS2010POP', '12830632'], ['040', '2', 'ESTIMATESBASE2010', '12831549'], ['040', '2', 'POPESTIMATE2010', '12841249'], ['040', '2', 'POPESTIMATE2011', '12861882'], ['040', '2', 'POPESTIMATE2012', '12875167'], ['040', '2', 'POPESTIMATE2013', '12889580'], ['040', '2', 'POPESTIMATE2014', '12882189'], ['040', '2', 'CENSUS2010POP', '6483802'], ['040', '2', 'ESTIMATESBASE2010', '6484229'], ['040', '2', 'POPESTIMATE2010', '6490590'], ['040', '2', 'POPESTIMATE2011', '6516845'], ['040', '2', 'POPESTIMATE2012', '6538283'], ['040', '2', 'POPESTIMATE2013', '6570518'], ['040', '2', 'POPESTIMATE2014', '6597880'], ['040', '2', 'CENSUS2010POP', '3046355'], ['040', '2', 'ESTIMATESBASE2010', '3046869'], ['040', '2', 'POPESTIMATE2010', '3050694'], ['040', '2', 'POPESTIMATE2011', '3065389'], ['040', '2', 'POPESTIMATE2012', '3076636'], ['040', '2', 'POPESTIMATE2013', '3092224'], ['040', '2', 'POPESTIMATE2014', '3109481'], ['040', '2', 'CENSUS2010POP', '2853118'], ['040', '2', 'ESTIMATESBASE2010', '2853132'], ['040', '2', 'POPESTIMATE2010', '2858824'], ['040', '2', 'POPESTIMATE2011', '2869917'], ['040', '2', 'POPESTIMATE2012', '2886281'], ['040', '2', 'POPESTIMATE2013', '2894630'], ['040', '2', 'POPESTIMATE2014', '2902507'], ['040', '3', 'CENSUS2010POP', '4339367'], ['040', '3', 'ESTIMATESBASE2010', '4339349'], ['040', '3', 'POPESTIMATE2010', '4347937'], ['040', '3', 'POPESTIMATE2011', '4367882'], ['040', '3', 'POPESTIMATE2012', '4382667'], ['040', '3', 'POPESTIMATE2013', '4398500'], ['040', '3', 'POPESTIMATE2014', '4412617'], ['040', '3', 'CENSUS2010POP', '4533372'], ['040', '3', 'ESTIMATESBASE2010', '4533479'], ['040', '3', 'POPESTIMATE2010', '4544951'], ['040', '3', 'POPESTIMATE2011', '4575381'], ['040', '3', 'POPESTIMATE2012', '4603676'], ['040', '3', 'POPESTIMATE2013', '4627491'], ['040', '3', 'POPESTIMATE2014', '4648990'], ['040', '1', 'CENSUS2010POP', '1328361'], ['040', '1', 'ESTIMATESBASE2010', '1328361'], ['040', '1', 'POPESTIMATE2010', '1327695'], ['040', '1', 'POPESTIMATE2011', '1328257'], ['040', '1', 'POPESTIMATE2012', '1328888'], ['040', '1', 'POPESTIMATE2013', '1328778'], ['040', '1', 'POPESTIMATE2014', '1330256'], ['040', '3', 'CENSUS2010POP', '5773552'], ['040', '3', 'ESTIMATESBASE2010', '5773785'], ['040', '3', 'POPESTIMATE2010', '5788409'], ['040', '3', 'POPESTIMATE2011', '5844171'], ['040', '3', 'POPESTIMATE2012', '5890740'], ['040', '3', 'POPESTIMATE2013', '5936040'], ['040', '3', 'POPESTIMATE2014', '5975346'], ['040', '1', 'CENSUS2010POP', '6547629'], ['040', '1', 'ESTIMATESBASE2010', '6547817'], ['040', '1', 'POPESTIMATE2010', '6565036'], ['040', '1', 'POPESTIMATE2011', '6611797'], ['040', '1', 'POPESTIMATE2012', '6657780'], ['040', '1', 'POPESTIMATE2013', '6708810'], ['040', '1', 'POPESTIMATE2014', '6755124'], ['040', '2', 'CENSUS2010POP', '9883640'], ['040', '2', 'ESTIMATESBASE2010', '9884129'], ['040', '2', 'POPESTIMATE2010', '9877369'], ['040', '2', 'POPESTIMATE2011', '9876589'], ['040', '2', 'POPESTIMATE2012', '9886879'], ['040', '2', 'POPESTIMATE2013', '9900506'], ['040', '2', 'POPESTIMATE2014', '9916306'], ['040', '2', 'CENSUS2010POP', '5303925'], ['040', '2', 'ESTIMATESBASE2010', '5303925'], ['040', '2', 'POPESTIMATE2010', '5310903'], ['040', '2', 'POPESTIMATE2011', '5348119'], ['040', '2', 'POPESTIMATE2012', '5380443'], ['040', '2', 'POPESTIMATE2013', '5420541'], ['040', '2', 'POPESTIMATE2014', '5457125'], ['040', '3', 'CENSUS2010POP', '2967297'], ['040', '3', 'ESTIMATESBASE2010', '2968103'], ['040', '3', 'POPESTIMATE2010', '2970316'], ['040', '3', 'POPESTIMATE2011', '2977999'], ['040', '3', 'POPESTIMATE2012', '2985660'], ['040', '3', 'POPESTIMATE2013', '2990976'], ['040', '3', 'POPESTIMATE2014', '2993443'], ['040', '2', 'CENSUS2010POP', '5988927'], ['040', '2', 'ESTIMATESBASE2010', '5988927'], ['040', '2', 'POPESTIMATE2010', '5996052'], ['040', '2', 'POPESTIMATE2011', '6010587'], ['040', '2', 'POPESTIMATE2012', '6025468'], ['040', '2', 'POPESTIMATE2013', '6043708'], ['040', '2', 'POPESTIMATE2014', '6063827'], ['040', '4', 'CENSUS2010POP', '989415'], ['040', '4', 'ESTIMATESBASE2010', '989417'], ['040', '4', 'POPESTIMATE2010', '990643'], ['040', '4', 'POPESTIMATE2011', '997746'], ['040', '4', 'POPESTIMATE2012', '1005157'], ['040', '4', 'POPESTIMATE2013', '1014402'], ['040', '4', 'POPESTIMATE2014', '1023252'], ['040', '2', 'CENSUS2010POP', '1826341'], ['040', '2', 'ESTIMATESBASE2010', '1826341'], ['040', '2', 'POPESTIMATE2010', '1830025'], ['040', '2', 'POPESTIMATE2011', '1842383'], ['040', '2', 'POPESTIMATE2012', '1855973'], ['040', '2', 'POPESTIMATE2013', '1869300'], ['040', '2', 'POPESTIMATE2014', '1882980'], ['040', '4', 'CENSUS2010POP', '2700551'], ['040', '4', 'ESTIMATESBASE2010', '2700691'], ['040', '4', 'POPESTIMATE2010', '2703440'], ['040', '4', 'POPESTIMATE2011', '2718819'], ['040', '4', 'POPESTIMATE2012', '2754874'], ['040', '4', 'POPESTIMATE2013', '2790366'], ['040', '4', 'POPESTIMATE2014', '2838281'], ['040', '1', 'CENSUS2010POP', '1316470'], ['040', '1', 'ESTIMATESBASE2010', '1316466'], ['040', '1', 'POPESTIMATE2010', '1316708'], ['040', '1', 'POPESTIMATE2011', '1318344'], ['040', '1', 'POPESTIMATE2012', '1321393'], ['040', '1', 'POPESTIMATE2013', '1322660'], ['040', '1', 'POPESTIMATE2014', '1327996'], ['040', '1', 'CENSUS2010POP', '8791894'], ['040', '1', 'ESTIMATESBASE2010', '8791936'], ['040', '1', 'POPESTIMATE2010', '8803881'], ['040', '1', 'POPESTIMATE2011', '8842934'], ['040', '1', 'POPESTIMATE2012', '8874893'], ['040', '1', 'POPESTIMATE2013', '8907384'], ['040', '1', 'POPESTIMATE2014', '8938844'], ['040', '4', 'CENSUS2010POP', '2059179'], ['040', '4', 'ESTIMATESBASE2010', '2059192'], ['040', '4', 'POPESTIMATE2010', '2064741'], ['040', '4', 'POPESTIMATE2011', '2078226'], ['040', '4', 'POPESTIMATE2012', '2084792'], ['040', '4', 'POPESTIMATE2013', '2086890'], ['040', '4', 'POPESTIMATE2014', '2085567'], ['040', '1', 'CENSUS2010POP', '19378102'], ['040', '1', 'ESTIMATESBASE2010', '19378087'], ['040', '1', 'POPESTIMATE2010', '19402920'], ['040', '1', 'POPESTIMATE2011', '19523202'], ['040', '1', 'POPESTIMATE2012', '19606981'], ['040', '1', 'POPESTIMATE2013', '19691032'], ['040', '1', 'POPESTIMATE2014', '19748858'], ['040', '3', 'CENSUS2010POP', '9535483'], ['040', '3', 'ESTIMATESBASE2010', '9535692'], ['040', '3', 'POPESTIMATE2010', '9558979'], ['040', '3', 'POPESTIMATE2011', '9651025'], ['040', '3', 'POPESTIMATE2012', '9747021'], ['040', '3', 'POPESTIMATE2013', '9845432'], ['040', '3', 'POPESTIMATE2014', '9940387'], ['040', '2', 'CENSUS2010POP', '672591'], ['040', '2', 'ESTIMATESBASE2010', '672591'], ['040', '2', 'POPESTIMATE2010', '674530'], ['040', '2', 'POPESTIMATE2011', '685326'], ['040', '2', 'POPESTIMATE2012', '702265'], ['040', '2', 'POPESTIMATE2013', '723626'], ['040', '2', 'POPESTIMATE2014', '740040'], ['040', '2', 'CENSUS2010POP', '11536504'], ['040', '2', 'ESTIMATESBASE2010', '11536725'], ['040', '2', 'POPESTIMATE2010', '11540766'], ['040', '2', 'POPESTIMATE2011', '11545442'], ['040', '2', 'POPESTIMATE2012', '11551783'], ['040', '2', 'POPESTIMATE2013', '11572232'], ['040', '2', 'POPESTIMATE2014', '11596998'], ['040', '3', 'CENSUS2010POP', '3751351'], ['040', '3', 'ESTIMATESBASE2010', '3751616'], ['040', '3', 'POPESTIMATE2010', '3759596'], ['040', '3', 'POPESTIMATE2011', '3786626'], ['040', '3', 'POPESTIMATE2012', '3817679'], ['040', '3', 'POPESTIMATE2013', '3853405'], ['040', '3', 'POPESTIMATE2014', '3879610'], ['040', '4', 'CENSUS2010POP', '3831074'], ['040', '4', 'ESTIMATESBASE2010', '3831073'], ['040', '4', 'POPESTIMATE2010', '3837972'], ['040', '4', 'POPESTIMATE2011', '3868509'], ['040', '4', 'POPESTIMATE2012', '3899444'], ['040', '4', 'POPESTIMATE2013', '3928030'], ['040', '4', 'POPESTIMATE2014', '3971202'], ['040', '1', 'CENSUS2010POP', '12702379'], ['040', '1', 'ESTIMATESBASE2010', '12702887'], ['040', '1', 'POPESTIMATE2010', '12712014'], ['040', '1', 'POPESTIMATE2011', '12745202'], ['040', '1', 'POPESTIMATE2012', '12772789'], ['040', '1', 'POPESTIMATE2013', '12783536'], ['040', '1', 'POPESTIMATE2014', '12793767'], ['040', '1', 'CENSUS2010POP', '1052567'], ['040', '1', 'ESTIMATESBASE2010', '1052931'], ['040', '1', 'POPESTIMATE2010', '1053219'], ['040', '1', 'POPESTIMATE2011', '1051856'], ['040', '1', 'POPESTIMATE2012', '1052393'], ['040', '1', 'POPESTIMATE2013', '1052856'], ['040', '1', 'POPESTIMATE2014', '1054907'], ['040', '3', 'CENSUS2010POP', '4625364'], ['040', '3', 'ESTIMATESBASE2010', '4625401'], ['040', '3', 'POPESTIMATE2010', '4635894'], ['040', '3', 'POPESTIMATE2011', '4672733'], ['040', '3', 'POPESTIMATE2012', '4721341'], ['040', '3', 'POPESTIMATE2013', '4768498'], ['040', '3', 'POPESTIMATE2014', '4829160'], ['040', '2', 'CENSUS2010POP', '814180'], ['040', '2', 'ESTIMATESBASE2010', '814191'], ['040', '2', 'POPESTIMATE2010', '816299'], ['040', '2', 'POPESTIMATE2011', '824289'], ['040', '2', 'POPESTIMATE2012', '834631'], ['040', '2', 'POPESTIMATE2013', '845270'], ['040', '2', 'POPESTIMATE2014', '853304'], ['040', '3', 'CENSUS2010POP', '6346105'], ['040', '3', 'ESTIMATESBASE2010', '6346275'], ['040', '3', 'POPESTIMATE2010', '6356585'], ['040', '3', 'POPESTIMATE2011', '6398408'], ['040', '3', 'POPESTIMATE2012', '6455469'], ['040', '3', 'POPESTIMATE2013', '6496130'], ['040', '3', 'POPESTIMATE2014', '6547779'], ['040', '3', 'CENSUS2010POP', '25145561'], ['040', '3', 'ESTIMATESBASE2010', '25146105'], ['040', '3', 'POPESTIMATE2010', '25244363'], ['040', '3', 'POPESTIMATE2011', '25654464'], ['040', '3', 'POPESTIMATE2012', '26089741'], ['040', '3', 'POPESTIMATE2013', '26500674'], ['040', '3', 'POPESTIMATE2014', '26979078'], ['040', '4', 'CENSUS2010POP', '2763885'], ['040', '4', 'ESTIMATESBASE2010', '2763888'], ['040', '4', 'POPESTIMATE2010', '2775426'], ['040', '4', 'POPESTIMATE2011', '2816440'], ['040', '4', 'POPESTIMATE2012', '2856343'], ['040', '4', 'POPESTIMATE2013', '2903685'], ['040', '4', 'POPESTIMATE2014', '2944498'], ['040', '1', 'CENSUS2010POP', '625741'], ['040', '1', 'ESTIMATESBASE2010', '625745'], ['040', '1', 'POPESTIMATE2010', '625984'], ['040', '1', 'POPESTIMATE2011', '626687'], ['040', '1', 'POPESTIMATE2012', '626398'], ['040', '1', 'POPESTIMATE2013', '627129'], ['040', '1', 'POPESTIMATE2014', '626767'], ['040', '3', 'CENSUS2010POP', '8001024'], ['040', '3', 'ESTIMATESBASE2010', '8001045'], ['040', '3', 'POPESTIMATE2010', '8025787'], ['040', '3', 'POPESTIMATE2011', '8110783'], ['040', '3', 'POPESTIMATE2012', '8193374'], ['040', '3', 'POPESTIMATE2013', '8267875'], ['040', '3', 'POPESTIMATE2014', '8328098'], ['040', '4', 'CENSUS2010POP', '6724540'], ['040', '4', 'ESTIMATESBASE2010', '6724543'], ['040', '4', 'POPESTIMATE2010', '6743060'], ['040', '4', 'POPESTIMATE2011', '6823229'], ['040', '4', 'POPESTIMATE2012', '6897292'], ['040', '4', 'POPESTIMATE2013', '6973281'], ['040', '4', 'POPESTIMATE2014', '7063166'], ['040', '3', 'CENSUS2010POP', '1852994'], ['040', '3', 'ESTIMATESBASE2010', '1853011'], ['040', '3', 'POPESTIMATE2010', '1854225'], ['040', '3', 'POPESTIMATE2011', '1854948'], ['040', '3', 'POPESTIMATE2012', '1856283'], ['040', '3', 'POPESTIMATE2013', '1852985'], ['040', '3', 'POPESTIMATE2014', '1848751'], ['040', '2', 'CENSUS2010POP', '5686986'], ['040', '2', 'ESTIMATESBASE2010', '5687289'], ['040', '2', 'POPESTIMATE2010', '5690204'], ['040', '2', 'POPESTIMATE2011', '5709720'], ['040', '2', 'POPESTIMATE2012', '5726422'], ['040', '2', 'POPESTIMATE2013', '5743653'], ['040', '2', 'POPESTIMATE2014', '5759432'], ['040', '4', 'CENSUS2010POP', '563626'], ['040', '4', 'ESTIMATESBASE2010', '563767'], ['040', '4', 'POPESTIMATE2010', '564516'], ['040', '4', 'POPESTIMATE2011', '567768'], ['040', '4', 'POPESTIMATE2012', '577080'], ['040', '4', 'POPESTIMATE2013', '583131'], ['040', '4', 'POPESTIMATE2014', '584304'], ['040', 'X', 'CENSUS2010POP', '3725789'], ['040', 'X', 'ESTIMATESBASE2010', '3726157'], ['040', 'X', 'POPESTIMATE2010', '3721526'], ['040', 'X', 'POPESTIMATE2011', '3678736'], ['040', 'X', 'POPESTIMATE2012', '3634487'], ['040', 'X', 'POPESTIMATE2013', '3593079'], ['040', 'X', 'POPESTIMATE2014', '3534888']]\n"
     ]
    }
   ],
   "source": [
    "print(cen)"
   ]
  },
  {
   "cell_type": "code",
   "execution_count": 9,
   "metadata": {
    "collapsed": false
   },
   "outputs": [
    {
     "ename": "NameError",
     "evalue": "name 'pre_clean' is not defined",
     "output_type": "error",
     "traceback": [
      "\u001b[0;31m---------------------------------------------------------------------------\u001b[0m",
      "\u001b[0;31mNameError\u001b[0m                                 Traceback (most recent call last)",
      "\u001b[0;32m<ipython-input-9-a873d37bf102>\u001b[0m in \u001b[0;36m<module>\u001b[0;34m()\u001b[0m\n\u001b[0;32m----> 1\u001b[0;31m \u001b[0mout\u001b[0m \u001b[0;34m=\u001b[0m \u001b[0mjoin_lists\u001b[0m\u001b[0;34m(\u001b[0m\u001b[0mpre_clean\u001b[0m\u001b[0;34m,\u001b[0m \u001b[0mcen_clean\u001b[0m\u001b[0;34m,\u001b[0m \u001b[0;34m[\u001b[0m\u001b[0;36m0\u001b[0m\u001b[0;34m,\u001b[0m\u001b[0;36m4\u001b[0m\u001b[0;34m]\u001b[0m\u001b[0;34m,\u001b[0m \u001b[0;34m[\u001b[0m\u001b[0;36m4\u001b[0m\u001b[0;34m,\u001b[0m\u001b[0;36m7\u001b[0m\u001b[0;34m]\u001b[0m\u001b[0;34m,\u001b[0m \u001b[0;34m[\u001b[0m\u001b[0;36m0\u001b[0m\u001b[0;34m,\u001b[0m\u001b[0;36m2\u001b[0m\u001b[0;34m,\u001b[0m\u001b[0;36m3\u001b[0m\u001b[0;34m]\u001b[0m\u001b[0;34m,\u001b[0m \u001b[0;34m[\u001b[0m\u001b[0;36m6\u001b[0m\u001b[0;34m]\u001b[0m\u001b[0;34m)\u001b[0m\u001b[0;34m\u001b[0m\u001b[0m\n\u001b[0m\u001b[1;32m      2\u001b[0m \u001b[0mout\u001b[0m\u001b[0;34m[\u001b[0m\u001b[0;36m0\u001b[0m\u001b[0;34m:\u001b[0m\u001b[0;36m10\u001b[0m\u001b[0;34m]\u001b[0m\u001b[0;34m\u001b[0m\u001b[0m\n",
      "\u001b[0;31mNameError\u001b[0m: name 'pre_clean' is not defined"
     ]
    }
   ],
   "source": [
    "out = join_lists(pre_clean, cen_clean, [0,4], [4,7], [0,2,3], [6])\n",
    "out[0:10]"
   ]
  },
  {
   "cell_type": "code",
   "execution_count": null,
   "metadata": {
    "collapsed": false
   },
   "outputs": [],
   "source": [
    "    '''we need to import juyter importer so that it becomes ready to search f\n",
    "            for func and class in the following steps'''\n",
    "import jupyterimporter \n",
    "        '''tells to import and the class/fnc called CvsList from the module, cvslist\n",
    "        '''\n",
    "from csvlist import CsvList from pivot import pivot_columns\n",
    "    '''tells to import and the fnc called join_lists from the module, joiner\n",
    "    '''\n",
    "from joiner import join_lists\n",
    "  \n",
    "    '''#we have added the neccessary option, the _main_ or self for the class/module, \n",
    "        CsvList that we would like to run,\n",
    "        and called this unique case, preexistind'''\n",
    "preexisting = CsvList('/midterm/preexisting.csv') \n",
    "       \n",
    "    '''we have added the neccessary option, the _main_ or self for the class/module, \n",
    "            CsvList that we would like to run,\n",
    "            and called this unique case, census'''\n",
    "census = CsvList('/midterm/census.csv')\n",
    "\n",
    "\n",
    "### CLEANUP CODE STARTS\n",
    "        '''the method, header, from class, CsvList, is used to extract the headers from \n",
    "        the preexiting.csv. the output is then placed into [] as a list i.e. multiple\n",
    "        headers or list of headers, will be combined one list...i.e. a list within a list.\n",
    "        the method,data, from class, CsvList, is used to extract the data portion of \n",
    "        preexiting.csv.  \n",
    "        the list function is used to make a list of range(2,37) i.e. [2,3,4,...34,36] \n",
    "        (the indices that will be pivoted).\n",
    "        The pivot_columns function that was previously imported takes 2 parameters, in this case.\n",
    "        1. [preexisting.header] + preexisting.data #we extract the healder using CsvList class,\n",
    "            place the results in a list, then added those results to our extracion \n",
    "            of the data portion, that we got using the same class\n",
    "            \n",
    "            AND\n",
    "            \n",
    "        2.list(range(2,37))\n",
    "        \n",
    "        ....we pivot join of the list oh headers and the data portion and name it it \"pre\"\n",
    "        '''\n",
    "pre = pivot_columns([preexisting.header] + preexisting.data, list(range(2,37)))\n",
    "\n",
    "'''using data from the preexiting file, we insert 2 parameters for pivot_columns module that was\n",
    "created: 1) a list of the headers that was parsed from the CvsList class joined with the data\n",
    "portion of the census data that was also parsed using CvSList, and 2) the range 5,12 that should be\n",
    "pivoted, index 5,6,7...11...we then data the results from the pivot, \"cen\"\n",
    "from the preexiting.csv file\n",
    "cen = pivot_columns([census.header] + census.data, list(range(5,12)))\n",
    "\n",
    "\n",
    "'''we extraxt the value of the first index of pre then add the string, year, then add it to the \n",
    "outcomes of a loop that iterates through values in pre, from the second value to the end. This iteration\n",
    "adds the origin value of pre plus the third value of pre (places a comma between index 0 and 1\n",
    "and removes any blanks. All iteration are concatenated to the first index of pre plus the string, year,\n",
    "the results is named pre_clean '''   )\n",
    "'''\n",
    "pre_clean = [pre[0] + ['Year']] + [(r + [r[2].split(',')[1].strip()]) for r in pre[1:]]\n",
    " '''the first indexed value from cen is concatenated to the string,year, which is then \n",
    " concatenated to results from an iteration through a loop. This loop iterates through all the indices\n",
    " of cen from the second position to the end..for these values, the loop concatenates the original\n",
    " value of the index,r, then concatenates to it the fourth value from the end and all following \n",
    " value to the end of the 4th value of index,r. the final outcome is called, \"cen_clean\"                                                    \n",
    "cen_clean = [cen[0] + ['Year']] + [(r + [r[5][-4:]]) for r in cen[1:]]\n",
    "### CLEANUP CODE ENDS\n",
    "\n",
    "'''use join_lists function where leftpre_clean, right=cen_clear, left_key=[0,4],right_key=[4,7],\n",
    "left_ouput=[0,2,3], and right_output=[6]....match values in index 0 and 7 from the pre_clean output\n",
    "to values at index 4 and 7 in the cen_clean output. If they match, output values from the pre_clean\n",
    "at index positions, 0,2,3 and output the value at index 6 position from the cen_clean output.'''                                                          '''\n",
    "out = join_lists(pre_clean, cen_clean, [0,4], [4,7], [0,2,3], [6])\n"
   ]
  }
 ],
 "metadata": {
  "kernelspec": {
   "display_name": "Python 3",
   "language": "python",
   "name": "python3"
  },
  "language_info": {
   "codemirror_mode": {
    "name": "ipython",
    "version": 3
   },
   "file_extension": ".py",
   "mimetype": "text/x-python",
   "name": "python",
   "nbconvert_exporter": "python",
   "pygments_lexer": "ipython3",
   "version": "3.4.3"
  }
 },
 "nbformat": 4,
 "nbformat_minor": 0
}
