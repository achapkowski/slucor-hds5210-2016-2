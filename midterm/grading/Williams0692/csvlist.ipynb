{
 "cells": [
  {
   "cell_type": "code",
   "execution_count": null,
   "metadata": {
    "collapsed": true
   },
   "outputs": [],
   "source": [
    "class CsvList:\n",
    "    def __init__(self,f):\n",
    "        \"\"\"\n",
    "        The initializer for CsvList takes a filename as it's parameter.\n",
    "        It will open the file and read the contents into two variables:\n",
    "        * self.header = A list that contains the column headers\n",
    "        * self.data = A list that contains one entry for each row in the file, \n",
    "                      where each of those entries is a list in itself\n",
    "                      that has one entry per column.\n",
    "        \n",
    "        Example:\n",
    "        self.header might look like:\n",
    "            ['Last Name', 'First Name']\n",
    "            \n",
    "        self.data might look like:\n",
    "            [['Boal', 'Paul'], ['Westhus', 'Eric'], ['Lester-Boal', 'Ada']]\n",
    "        \"\"\"\n",
    "        list=[]\n",
    "        import csv\n",
    "        with open(f) as filename: \n",
    "            filename = csv.reader(filename)\n",
    "            for row in filename:\n",
    "                n=len(row)+1\n",
    "\n",
    "        import csv\n",
    "        with open(f) as filename: \n",
    "            filename = csv.reader(filename)\n",
    "            for i in range(1,n):\n",
    "                for row in filename:\n",
    "                    #print(row)\n",
    "                    list.append(row)\n",
    "\n",
    "\n",
    "        header=list[0]\n",
    "        data=list[1:]\n",
    "        \n",
    "        self.f=f      \n",
    "        self.header=header\n",
    "        self.data=data\n",
    "        \n",
    "        def header(self):\n",
    "            return self.header\n",
    "        def data(self):                \n",
    "            return self.data\n"
   ]
  }
 ],
 "metadata": {
  "kernelspec": {
   "display_name": "Python 3",
   "language": "python",
   "name": "python3"
  },
  "language_info": {
   "codemirror_mode": {
    "name": "ipython",
    "version": 3
   },
   "file_extension": ".py",
   "mimetype": "text/x-python",
   "name": "python",
   "nbconvert_exporter": "python",
   "pygments_lexer": "ipython3",
   "version": "3.4.3"
  }
 },
 "nbformat": 4,
 "nbformat_minor": 0
}
