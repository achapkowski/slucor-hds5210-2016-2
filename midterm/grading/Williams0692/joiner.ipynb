{
 "cells": [
  {
   "cell_type": "code",
   "execution_count": 38,
   "metadata": {
    "collapsed": false
   },
   "outputs": [],
   "source": [
    "def join_lists(left, right, left_key, right_key, left_output, right_output):\n",
    "    \"\"\" (list, list, list, list, list, list) -> list\n",
    "    Use the column positions from left_key and right_key to identify which column to match on.\n",
    "    See the midterm.ipynb for details on how this has to work.  I'm not repeating it here.\n",
    "    I would recommend that you test it with some small datasets like what I showed in the explanation.\n",
    "    \"\"\"\n",
    "########################################################    \n",
    "#    left=list1\n",
    "#    right=list2\n",
    "#    left_key=left_key\n",
    "#    right_key=right_key\n",
    "#    left_output=left_output\n",
    "#    right_output=right_output\n",
    "#########################################################\n",
    "    LenR=range(len(right_key))\n",
    "    LenL=range(len(left_key))\n",
    "    LenOF1=range(len(left_output))\n",
    "    LenOF2=range(len(right_output))\n",
    "    m=range(len(left))\n",
    "    n=range(len(right))\n",
    "##########################################################    \n",
    "    output = []\n",
    "    q=[]\n",
    "    out=[]\n",
    "###########################################################\n",
    "    if (m==n):\n",
    "        for i in m:\n",
    "            for R in LenR:\n",
    "                for L in LenL:\n",
    "                    for one in LenOF1:\n",
    "                        for two in LenOF2:\n",
    "                            if (left[i][left_key[L]].lower())== (right[i][right_key[R]].lower()):\n",
    "                                yes=right[i][right_output[two]]\n",
    "            yes1=left[i]\n",
    "            yes1.append(yes)\n",
    "            out.append(yes1)\n",
    "    output=out\n",
    "    \n",
    "    return output"
   ]
  }
 ],
 "metadata": {
  "kernelspec": {
   "display_name": "Python 3",
   "language": "python",
   "name": "python3"
  },
  "language_info": {
   "codemirror_mode": {
    "name": "ipython",
    "version": 3
   },
   "file_extension": ".py",
   "mimetype": "text/x-python",
   "name": "python",
   "nbconvert_exporter": "python",
   "pygments_lexer": "ipython3",
   "version": "3.4.3"
  }
 },
 "nbformat": 4,
 "nbformat_minor": 0
}
