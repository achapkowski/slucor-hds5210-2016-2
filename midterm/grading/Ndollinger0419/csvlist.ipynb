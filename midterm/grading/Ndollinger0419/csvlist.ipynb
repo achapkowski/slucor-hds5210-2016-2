{
 "cells": [
  {
   "cell_type": "code",
   "execution_count": 5,
   "metadata": {
    "collapsed": false
   },
   "outputs": [],
   "source": [
    "import csv\n",
    "\n",
    "class CSVList():\n",
    "    \n",
    "    def __init__(self,csv_file):\n",
    "        \n",
    "        csv_file = open(csv_file, 'r')\n",
    "        self.header = csv_file.readline().rstrip().split(',')\n",
    "        self.data = []\n",
    "        \n",
    "        for line in csv_file:\n",
    "            if line !='\\n':\n",
    "                self.data.append(line.rstrip().split(','))\n",
    "                \n",
    "        for row in csv_file:\n",
    "            self.header.append(row)\n",
    "        for row in csv_file:\n",
    "            self.data.append(row)"
   ]
  },
  {
   "cell_type": "code",
   "execution_count": null,
   "metadata": {
    "collapsed": true
   },
   "outputs": [],
   "source": []
  }
 ],
 "metadata": {
  "kernelspec": {
   "display_name": "Python 3",
   "language": "python",
   "name": "python3"
  },
  "language_info": {
   "codemirror_mode": {
    "name": "ipython",
    "version": 3
   },
   "file_extension": ".py",
   "mimetype": "text/x-python",
   "name": "python",
   "nbconvert_exporter": "python",
   "pygments_lexer": "ipython3",
   "version": "3.4.3"
  }
 },
 "nbformat": 4,
 "nbformat_minor": 0
}
