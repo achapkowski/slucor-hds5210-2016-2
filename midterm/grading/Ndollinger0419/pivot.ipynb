{
 "cells": [
  {
   "cell_type": "code",
   "execution_count": 4,
   "metadata": {
    "collapsed": false
   },
   "outputs": [],
   "source": [
    "\n",
    "\"\"\" (list, list) -> list\n",
    "    This function takes in a rectangular list of lists (a 2-d array) and a list of column numbers.\n",
    "    The function assumes the first row in the list is a header row.\n",
    "    The function will simply copy down all the data infront of the first pivot column.\n",
    "    The function will create multiple rows for each of the input rows in the list, \n",
    "      one for each of the pivot columns.  In each of those rows will be the all of the columns\n",
    "      before the first pivot column, followed by the header name for that pivot column,\n",
    "      followed by the value in that pivot column.\n",
    "    The output should also have a header row that contains the same header as the input\n",
    "      for everything before the pivot columns, followed by 'Column' and 'Value'\n",
    "    \n",
    "    Input:\n",
    "    [['Last','First','2015Q1','2015Q2','2015Q3','2015Q4'],\n",
    "     ['Boal','Paul',10,9,10,8],\n",
    "     ['Westhus','Eric',9,10,10,9]]\n",
    "     \n",
    "    Function Call:\n",
    "    output = pivot_columns(input, list(range(2,5)))\n",
    "     \n",
    "    Output:\n",
    "    [['Last','First','Column','Value'],\n",
    "     ['Boal','Paul','2015Q1',10],\n",
    "     ['Boal','Paul','2015Q2',9],\n",
    "     ['Boal','Paul','2015Q3',10],\n",
    "     ['Boal','Paul','2015Q4',8],\n",
    "     ['Westhus','Eric','2015Q1',9],\n",
    "     ['Westhus','Eric','2015Q2',10],\n",
    "     ['Westhus','Eric','2015Q3',10],\n",
    "     ['Westhus','Eric','2015Q4',9]]\n",
    "    \"\"\"\n",
    "def pivot_columns(l, pivot_list):\n",
    "    row_count = len(l)\n",
    "    column_count = len(l[0])\n",
    "    output = []\n",
    "    \n",
    "    for r in range (1, row_count):\n",
    "        header = l[0][0:2] + ['Column', 'Value']\n",
    "        keeper = l[r][0:2]\n",
    "        \n",
    "        for c in pivot_list:\n",
    "            current_cell = [l[r][c]]\n",
    "            quarter = [l[0][c]]\n",
    "            out_row = keeper + quarter + current_cell\n",
    "            \n",
    "            output.append(out_row)\n",
    "            \n",
    "    output.insert(0, header)\n",
    "    \n",
    "    print(output)"
   ]
  },
  {
   "cell_type": "code",
   "execution_count": 1,
   "metadata": {
    "collapsed": false
   },
   "outputs": [],
   "source": []
  },
  {
   "cell_type": "code",
   "execution_count": null,
   "metadata": {
    "collapsed": false
   },
   "outputs": [],
   "source": []
  },
  {
   "cell_type": "code",
   "execution_count": null,
   "metadata": {
    "collapsed": false
   },
   "outputs": [],
   "source": []
  },
  {
   "cell_type": "code",
   "execution_count": null,
   "metadata": {
    "collapsed": false
   },
   "outputs": [],
   "source": []
  },
  {
   "cell_type": "code",
   "execution_count": null,
   "metadata": {
    "collapsed": true
   },
   "outputs": [],
   "source": []
  }
 ],
 "metadata": {
  "kernelspec": {
   "display_name": "Python 3",
   "language": "python",
   "name": "python3"
  },
  "language_info": {
   "codemirror_mode": {
    "name": "ipython",
    "version": 3
   },
   "file_extension": ".py",
   "mimetype": "text/x-python",
   "name": "python",
   "nbconvert_exporter": "python",
   "pygments_lexer": "ipython3",
   "version": "3.4.3"
  }
 },
 "nbformat": 4,
 "nbformat_minor": 0
}
