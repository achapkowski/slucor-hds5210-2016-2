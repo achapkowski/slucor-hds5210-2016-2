{
 "cells": [
  {
   "cell_type": "code",
   "execution_count": 1,
   "metadata": {
    "collapsed": true
   },
   "outputs": [],
   "source": [
    "def pivot_columns(matrix,pivot):\n",
    "    \"\"\" (list, list) -> list\n",
    "    This function takes in a rectangular list of lists (a 2-d array) and a list of column numbers.\n",
    "    The function assumes the first row in the list is a header row.\n",
    "    The function will simply copy down all the data infront of the first pivot column.\n",
    "    The function will create multiple rows for each of the input rows in the list, \n",
    "      one for each of the pivot columns.  In each of those rows will be the all of the columns\n",
    "      before the first pivot column, followed by the header name for that pivot column,\n",
    "      followed by the value in that pivot column.\n",
    "    The output should also have a header row that contains the same header as the input\n",
    "      for everything before the pivot columns, followed by 'Column' and 'Value'\n",
    "    \n",
    "    Input:\n",
    "    [['Last','First','2015Q1','2015Q2','2015Q3','2015Q4'],\n",
    "     ['Boal','Paul',10,9,10,8],\n",
    "     ['Westhus','Eric',9,10,10,9]]\n",
    "     \n",
    "    Function Call:\n",
    "    output = pivot_columns(input, list(range(2,6)))\n",
    "     \n",
    "    Output:\n",
    "    [['Last','First','Column','Value'],\n",
    "     ['Boal','Paul','2015Q1',10],\n",
    "     ['Boal','Paul','2015Q2',9],\n",
    "     ['Boal','Paul','2015Q3',10],\n",
    "     ['Boal','Paul','2015Q4',8],\n",
    "     ['Westhus','Eric','2015Q1',9],\n",
    "     ['Westhus','Eric','2015Q2',10],\n",
    "     ['Westhus','Eric','2015Q3',10],\n",
    "     ['Westhus','Eric','2015Q4',9]]\n",
    "    \"\"\"\n",
    "    \n",
    "    row_count_pivoted = len(pivot)\n",
    "    #print (row_count_pivoted)\n",
    "    row_count = len(matrix)\n",
    "\n",
    "    col_count = len(matrix[pivot[0]])\n",
    "    #print (col_count)\n",
    "    \n",
    "    output = []\n",
    "    \n",
    "    header = [matrix[0][0:pivot[0]] + [\"Column\", \"Value\"]]    \n",
    "    \n",
    "    for r in range(1,row_count):\n",
    "        columns_before_pivot = matrix[r][0:pivot[0]]\n",
    "        #print (columns_before_pivot)\n",
    "        for q in range(0, row_count_pivoted):\n",
    "            first_row_pivot = matrix[0][pivot[q]]\n",
    "            #print (first_row_pivot)\n",
    "            value = matrix[r][pivot[q]]\n",
    "            #print (value)\n",
    "            out_row = columns_before_pivot + [first_row_pivot, value]\n",
    "            #print (out_row)\n",
    "            \n",
    "            output.append(out_row)\n",
    "            final_output = header + output\n",
    "    return (final_output)"
   ]
  }
 ],
 "metadata": {
  "kernelspec": {
   "display_name": "Python 3",
   "language": "python",
   "name": "python3"
  },
  "language_info": {
   "codemirror_mode": {
    "name": "ipython",
    "version": 3
   },
   "file_extension": ".py",
   "mimetype": "text/x-python",
   "name": "python",
   "nbconvert_exporter": "python",
   "pygments_lexer": "ipython3",
   "version": "3.4.3"
  }
 },
 "nbformat": 4,
 "nbformat_minor": 0
}
