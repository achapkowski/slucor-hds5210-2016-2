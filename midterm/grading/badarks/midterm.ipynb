{
 "cells": [
  {
   "cell_type": "code",
   "execution_count": 1,
   "metadata": {
    "collapsed": false
   },
   "outputs": [
    {
     "name": "stdout",
     "output_type": "stream",
     "text": [
      "importing Jupyter notebook from csvlist.ipynb\n",
      "['State', 'Federally/State Administered', 'Enrolled Through January 31, 2014  ', 'Enrolled Through December 31, 2013', 'Enrolled Through November 30, 2013', 'Enrolled Through October 31, 2013', 'Enrolled Through September 30, 2013', 'Enrolled Through August 31, 2013', 'Enrolled Through July 31, 2013', 'Enrolled Through June 30, 2013', 'Enrolled Through May 31, 2013', 'Enrolled Through April 30, 2013', 'Enrolled Through Mar. 31, 2013', 'Enrolled Through Feb. 28, 2013', 'Enrolled Through Jan. 31, 2013', 'Enrolled Through Dec. 31, 2012', 'Enrolled Through Nov. 30, 2012', 'Enrolled Through October 31, 2012', 'Enrolled Through September 30, 2012', 'Enrolled Through August 31, 2012', 'Enrolled Through July 31, 2012', 'Enrolled Through June 30, 2012', 'Enrolled Through May 31, 2012', 'Enrolled Through April 30, 2012', 'Enrolled Through March 31, 2012', 'Enrolled Through February 29, 2012', 'Enrolled Through December 31, 2011', 'Enrolled Through November 30, 2011', 'Enrolled Through October 31, 2011', 'Enrolled Through September 30, 2011', 'Enrolled Through August 31, 2011', 'Enrolled Through July 31, 2011', 'Enrolled Through June 30, 2011', 'Enrolled Through May 31, 2011', 'Enrolled Through April 30, 2011', 'Enrolled Through March 31, 2011', 'Enrolled Through February 1, 2011', 'Enrolled Through November 1, 2011']\n",
      "[['Alabama', 'Federal', '115', '123', '594', '639', '672', '711', '736', '766', '795', '820', '821', '1006', '972', '911', '838', '794', '735', '679', '635', '590', '559', '524', '466', '429', '389', '340', '296', '275', '230', '182', '138', '118', '103', '91', '77', '61'], ['Alaska', 'State', '5', '25', '32', '34', '34', '36', '36', '38', '43', '46', '51', '52', '47', '46', '45', '47', '42', '45', '43', '43', '45', '47', '45', '42', '42', '44', '45', '48', '45', '43', '47', '38', '35', '34', '32', '20'], ['Arizona', 'Federal', '1373', '1392', '3857', '4021', '4154', '4293', '4389', '4541', '4653', '4779', '4779', '5254', '5082', '4861', '4628', '4402', '4149', '3898', '3655', '3480', '3282', '3065', '2748', '2448', '2139', '1783', '1533', '1391', '1178', '967', '759', '639', '573', '457', '374', '270'], ['Arkansas', 'Transitioned from State to Federally-administered program 7/1/2013', '126', '129', '648', '688', '716', '750', '767', '736', '871', '878', '895', '921', '883', '868', '855', '839', '798', '767', '725', '695', '648', '624', '574', '554', '484', '404', '367', '333', '310', '291', '273', '254', '278', '226', '198', '147']]\n"
     ]
    }
   ],
   "source": [
    "# Part 1 - CSV to lists\n",
    "import jupyterimporter\n",
    "from csvlist import CsvList\n",
    "\n",
    "f = CsvList('/midterm/preexisting.csv')\n",
    "print(f.header)      # Returns a list of the column names\n",
    "print(f.data[0:4])    # Returns the list of lists data"
   ]
  },
  {
   "cell_type": "code",
   "execution_count": 2,
   "metadata": {
    "collapsed": false
   },
   "outputs": [
    {
     "name": "stdout",
     "output_type": "stream",
     "text": [
      "importing Jupyter notebook from pivot.ipynb\n"
     ]
    },
    {
     "data": {
      "text/plain": [
       "[['Last', 'First', 'Column', 'Value'],\n",
       " ['Boal', 'Paul', '2015Q1', 10],\n",
       " ['Boal', 'Paul', '2015Q2', 9],\n",
       " ['Boal', 'Paul', '2015Q3', 10],\n",
       " ['Boal', 'Paul', '2015Q4', 8],\n",
       " ['Westhus', 'Eric', '2015Q1', 9],\n",
       " ['Westhus', 'Eric', '2015Q2', 10],\n",
       " ['Westhus', 'Eric', '2015Q3', 10],\n",
       " ['Westhus', 'Eric', '2015Q4', 9]]"
      ]
     },
     "execution_count": 2,
     "metadata": {},
     "output_type": "execute_result"
    }
   ],
   "source": [
    "#Part 2 - \"Pivoting\" data\n",
    "import jupyterimporter\n",
    "from pivot import pivot_columns\n",
    "\n",
    "test = [['Last','First','2015Q1','2015Q2','2015Q3','2015Q4'],\n",
    "        ['Boal','Paul',10,9,10,8],\n",
    "        ['Westhus','Eric',9,10,10,9]]\n",
    "\n",
    "out = pivot_columns(test,list(range(2,6)))\n",
    "out"
   ]
  },
  {
   "cell_type": "code",
   "execution_count": 5,
   "metadata": {
    "collapsed": false
   },
   "outputs": [
    {
     "data": {
      "text/plain": [
       "[['Last', 'First', 'Time', 'Value', 'Census'],\n",
       " ['Boal', 'Paul', '2015Q1', 10, 932],\n",
       " ['Boal', 'Paul', '2015Q2', 9, 943]]"
      ]
     },
     "execution_count": 5,
     "metadata": {},
     "output_type": "execute_result"
    }
   ],
   "source": [
    "#Part 3 - \"Joining\" data together\n",
    "import jupyterimporter\n",
    "from joiner import join_lists\n",
    "\n",
    "list1 = [['Last','First','Time','Value'],\n",
    "         ['Boal','Paul','2015Q1',10],\n",
    "         ['Boal','Paul','2015Q2',9]]\n",
    "\n",
    "list2 = [['Time','Census'],\n",
    "         ['2015q1',932],\n",
    "         ['2015q2',943]]\n",
    "\n",
    "join_lists(list1, list2, [2], [0], [0,1,2,3], [1])"
   ]
  },
  {
   "cell_type": "code",
   "execution_count": 9,
   "metadata": {
    "collapsed": false
   },
   "outputs": [],
   "source": [
    "#Part 4 - Explaination of Part 4\n",
    "\n",
    "      #This creates pivot based on date. preexisting.header gets the header row, preexisting.data gets all the data rows, '+' appends the latter list to the former.\n",
    "    #this combined list is input to the pivot_columns function. list(range(2,37)) generates a list [2,3,..,36] which also goes as input to pivot_columns. \n",
    "    #This list has information split by date in different columns(2 to 36), after the function is applied it each date data goes into a new row.   \n",
    "    #pre = pivot_columns([preexisting.header] + preexisting.data, list(range(2,37)))\n",
    "    #  pre_clean = [pre[0] + ['Year']] + [(r + [r[2].split(',')[1].strip()]) for r in pre[1:2]]\n",
    "    #Similarly for census\n",
    "     #cen = pivot_columns([census.header] + census.data, list(range(5,12)))\n",
    "    #This appends the header row with a new column 'Year', and extracts the year info from another column of respective data row and appends to it.\n",
    "    #For example for a row having data 'Enrolled Through November 30, 2013' it extracts '2013' and appends it to that particular row\n",
    "    #pre_clean = [pre[0] + ['Year']] + [(r + [r[2].split(',')[1].strip()]) for r in pre[1:]]\n",
    "\n",
    "  #Similarly for census data\n",
    "    #cen_clean = [cen[0] + ['Year']] + [(r + [r[5][-4:]]) for r in cen[1:]]\n",
    "    ### CLEANUP CODE ENDS\n",
    "\n",
    "  #  ([pre[0] + ['Year']]) # adding year column\n",
    "  #  pre[0] = ['State', 'Federally/State Administered', 'Column', 'Value'] \n",
    "  #  +\n",
    "  #  [Year]\n",
    "  #  =\n",
    "  #  ['State', 'Federally/State Administered', 'Column', 'Value', 'Year']\n",
    "\n",
    "   # (r)\n",
    "  #  ['State', 'Federally/State Administered', 'Enrolled Through January 31, 2014  ', 'Enrolled Through January 31, 2014  ']\n",
    "\n",
    "  #  (r[2].split(',')[1]) \n",
    "  #  (r[2])\n",
    "  #  'Enrolled Through January 31, 2014' \n",
    "  #  (r[2].split(','))\n",
    "  #  ['Enrolled Through January 31', ' 2014']\n",
    "  #  (r[2].split(',')[1])\n",
    "  #  ' 2014'\n",
    "  #  (r[2].split(',')[1].strip())\n",
    "  #  '2014'\n",
    "\n",
    "  #  ([(r + [r[2].split(',')[1].strip()]) # adding year value\n",
    "  #  [['State', 'Federally/State Administered', 'Column', 'Value', 'Year'], \n",
    "\n",
    "\n",
    "# This process add new column 'Year' and does string manuplation to extract the year value and add at the end of the column.  In addition, it iterate every row to do the same process\n",
    "  #  [pre[0] + ['Year']] + [(r + [r[2].split(',')[1].strip()]) for r in pre[1:2]]"
   ]
  },
  {
   "cell_type": "code",
   "execution_count": null,
   "metadata": {
    "collapsed": true
   },
   "outputs": [],
   "source": []
  },
  {
   "cell_type": "code",
   "execution_count": null,
   "metadata": {
    "collapsed": true
   },
   "outputs": [],
   "source": []
  }
 ],
 "metadata": {
  "kernelspec": {
   "display_name": "Python 3",
   "language": "python",
   "name": "python3"
  },
  "language_info": {
   "codemirror_mode": {
    "name": "ipython",
    "version": 3
   },
   "file_extension": ".py",
   "mimetype": "text/x-python",
   "name": "python",
   "nbconvert_exporter": "python",
   "pygments_lexer": "ipython3",
   "version": "3.4.3"
  }
 },
 "nbformat": 4,
 "nbformat_minor": 0
}
