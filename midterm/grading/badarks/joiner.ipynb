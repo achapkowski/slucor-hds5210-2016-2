{
 "cells": [
  {
   "cell_type": "code",
   "execution_count": 6,
   "metadata": {
    "collapsed": true
   },
   "outputs": [],
   "source": [
    "def join_lists(left, right, left_input, right_input, left_data, right_data):\n",
    "    \"\"\" (list, list, list, list, list, list) -> list\n",
    "    Use the column positions from left_key and right_key to identify which column to match on.\n",
    "    See the midterm.ipynb for details on how this has to work.  I'm not repeating it here.\n",
    "    I would recommend that you test it with some small datasets like what I showed in the explanation.\n",
    "    \"\"\"\n",
    "\n",
    "    output = []\n",
    "    \n",
    "    # Put your code here.\n",
    "    for key in range(len(left_input)):\n",
    "        if str(left[0][left_input[key]]).lower() != str(right[0][right_input[key]]).lower():\n",
    "            left_input.pop(key)\n",
    "            right_input.pop(key)\n",
    "    temp_list = []\n",
    "    for i in left_data:\n",
    "        temp_list.append(left[0][i])\n",
    "        \n",
    "    for i in right_data:\n",
    "        if right[0][i] not in temp_list:\n",
    "            temp_list.append(right[0][i])\n",
    "\n",
    "    output.append(temp_list)\n",
    "    for left_row in left[1:]:\n",
    "        for right_row in right[1:]:\n",
    "            temp_row = []\n",
    "            flag = True\n",
    "            if len(left_input) == 0:\n",
    "                flag = False\n",
    "            for key in range(len(left_input)):\n",
    "                if str(left_row[left_input[key]]).lower() != str(right_row[right_input[key]]).lower():\n",
    "                    flag = False\n",
    "            if flag:\n",
    "                for left_index in left_data:\n",
    "                    temp_row.append(left_row[left_index])\n",
    "                for right_index in right_data:\n",
    "                    temp_row.append(right_row[right_index])\n",
    "                output.append(temp_row)\n",
    "    return output\n",
    "\n",
    "\n"
   ]
  },
  {
   "cell_type": "code",
   "execution_count": null,
   "metadata": {
    "collapsed": true
   },
   "outputs": [],
   "source": []
  }
 ],
 "metadata": {
  "kernelspec": {
   "display_name": "Python 3",
   "language": "python",
   "name": "python3"
  },
  "language_info": {
   "codemirror_mode": {
    "name": "ipython",
    "version": 3
   },
   "file_extension": ".py",
   "mimetype": "text/x-python",
   "name": "python",
   "nbconvert_exporter": "python",
   "pygments_lexer": "ipython3",
   "version": "3.4.3"
  }
 },
 "nbformat": 4,
 "nbformat_minor": 0
}
