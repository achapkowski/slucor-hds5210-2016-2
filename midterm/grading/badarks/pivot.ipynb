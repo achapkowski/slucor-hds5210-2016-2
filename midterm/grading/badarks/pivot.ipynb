{
 "cells": [
  {
   "cell_type": "code",
   "execution_count": 1,
   "metadata": {
    "collapsed": true
   },
   "outputs": [],
   "source": [
    "def pivot_columns(l, pivot_columns):\n",
    "    \"\"\"    (list, list) -> list\n",
    "\n",
    "\n",
    "    This function takes in a rectangular list of lists (a 2-d array) and a list of column numbers.\n",
    "    The function assumes the first row in the list is a header row.\n",
    "    The function will simply copy down all the data infront of the first pivot column.\n",
    "    The function will create multiple rows for each of the input rows in the list, \n",
    "      one for each of the pivot columns.  In each of those rows will be the all of the columns\n",
    "      before the first pivot column, followed by the header name for that pivot column,\n",
    "      followed by the value in that pivot column.\n",
    "    The output should also have a header row that contains the same header as the input\n",
    "      for everything before the pivot columns, followed by 'Column' and 'Value'\n",
    "\n",
    "    Input:\n",
    "    [['Last','First','2015Q1','2015Q2','2015Q3','2015Q4'],\n",
    "     ['Boal','Paul',10,9,10,8],\n",
    "     ['Westhus','Eric',9,10,10,9]]\n",
    "\n",
    "    Function Call:\n",
    "    output = pivot_columns(input, list(range(2,5)))\n",
    "\n",
    "    Output:\n",
    "    [['Last','First','Column','Value'],\n",
    "     ['Boal','Paul','2015Q1',10],\n",
    "     ['Boal','Paul','2015Q2',9],\n",
    "     ['Boal','Paul','2015Q3',10],\n",
    "     ['Boal','Paul','2015Q4',8],\n",
    "     ['Westhus','Eric','2015Q1',9],\n",
    "     ['Westhus','Eric','2015Q2',10],\n",
    "     ['Westhus','Eric','2015Q3',10],\n",
    "     ['Westhus','Eric','2015Q4',9]]\n",
    "    \"\"\"\n",
    "    \n",
    "    # for quater info.\n",
    "    quater = []\n",
    "    for j in pivot_columns:\n",
    "        quater.append(l[0][j])\n",
    "    \n",
    "    # initialization\n",
    "    output = []\n",
    "    \n",
    "    # column names\n",
    "    col_name = [l[0][0], l[0][1], 'Column', 'Value']\n",
    "    output.append(col_name)\n",
    "    \n",
    "    # looping names\n",
    "    for i in range(1, len(l)):\n",
    "        \n",
    "        # looping rest of data         \n",
    "        for j in pivot_columns:\n",
    "            inner_list = []\n",
    "            inner_list.append(l[i][0]) # add last name\n",
    "            inner_list.append(l[i][1]) # add first name\n",
    "            inner_list.append(quater[j-2]) # add quater\n",
    "            inner_list.append(l[i][j])  # add rest info.\n",
    "            output.append(inner_list)\n",
    "            \n",
    "    return output"
   ]
  }
 ],
 "metadata": {
  "kernelspec": {
   "display_name": "Python 3",
   "language": "python",
   "name": "python3"
  },
  "language_info": {
   "codemirror_mode": {
    "name": "ipython",
    "version": 3
   },
   "file_extension": ".py",
   "mimetype": "text/x-python",
   "name": "python",
   "nbconvert_exporter": "python",
   "pygments_lexer": "ipython3",
   "version": "3.4.3"
  }
 },
 "nbformat": 4,
 "nbformat_minor": 0
}
