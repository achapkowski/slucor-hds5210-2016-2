{
 "cells": [
  {
   "cell_type": "code",
   "execution_count": 8,
   "metadata": {
    "collapsed": false
   },
   "outputs": [],
   "source": [
    "def pivot_columns(test,colrange):\n",
    "\timport csv\n",
    "\toutputpivot=[]\n",
    "\tcounter=0\n",
    "\ttemprow=[]\n",
    "\tcoltokeep=colrange[0]\n",
    "\tfor rows in test:\n",
    "\t\theader =rows[0:coltokeep]\n",
    "\t\tif counter==0:\n",
    "\t\t\tfor items in header:\n",
    "\t\t\t\ttemprow.append(items)\n",
    "\t\t\ttemprow.append('Column')\n",
    "\t\t\ttemprow.append('Value')\n",
    "\t\t\tcounter= counter+1\n",
    "\t\t\toutputpivot.append(temprow)\n",
    "\t\t\ttemprow=[]\n",
    "\t\telse:\n",
    "\t\t\tfor items1 in colrange:\n",
    "\t\t\t\tfor items in header:\n",
    "\t\t\t\t\ttemprow.append(items)\n",
    "\t\t\t\ttemprow.append(test[0][items1])\n",
    "\t\t\t\ttemprow.append(rows[items1])      \n",
    "\t\t\t\toutputpivot.append(temprow)\n",
    "\t\t\t\ttemprow=[]\n",
    "\treturn outputpivot"
   ]
  },
  {
   "cell_type": "code",
   "execution_count": null,
   "metadata": {
    "collapsed": true
   },
   "outputs": [],
   "source": []
  }
 ],
 "metadata": {
  "kernelspec": {
   "display_name": "Python 3",
   "language": "python",
   "name": "python3"
  },
  "language_info": {
   "codemirror_mode": {
    "name": "ipython",
    "version": 3
   },
   "file_extension": ".py",
   "mimetype": "text/x-python",
   "name": "python",
   "nbconvert_exporter": "python",
   "pygments_lexer": "ipython3",
   "version": "3.4.3"
  }
 },
 "nbformat": 4,
 "nbformat_minor": 0
}
