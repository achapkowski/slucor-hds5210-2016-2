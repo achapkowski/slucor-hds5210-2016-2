{
 "cells": [
  {
   "cell_type": "code",
   "execution_count": 1,
   "metadata": {
    "collapsed": false
   },
   "outputs": [],
   "source": [
    "list1 = [['Last','First','Time','Value'],\n",
    "         ['Boal','Paul','2015Q1',10],\n",
    "         ['Boal','Paul','2015Q2',9],\n",
    "         ['Westhus','Eric','2015Q2',7]]\n",
    "\n",
    "list2 = [['Last','Time','Census'],\n",
    "         ['Boal','2015q1',932],\n",
    "         ['Westhus','2015q2',943]]\n",
    "\n",
    "joinfield1=[0,2]\n",
    "\n",
    "joinfield2=[0,1]\n",
    "\n",
    "temprow=[]\n",
    "\n",
    "outputfields2= [1] \n",
    "\n",
    "outputfields1= [0, 2, 3]\n",
    "\n",
    "def join_lists(list1, list2, joinfield1, joinfield2, outputfields1, outputfields2):\n",
    "    joinedlist = []\n",
    "    temprow= []\n",
    "    for item1 in list1:\n",
    "        for item2 in list2:\n",
    "            if (item2[joinfield2[0]].lower()==item1[joinfield1[0]].lower()):\n",
    "\n",
    "             for nums in outputfields1:\n",
    "                 temprow.append(item1[nums])\n",
    "             for num2 in outputfields2:\n",
    "                 temprow.append(item2[num2])    \n",
    "             joinedlist.append(temprow)\n",
    "            temprow=[]\n",
    "\n",
    "\n",
    "    return joinedlist"
   ]
  },
  {
   "cell_type": "code",
   "execution_count": null,
   "metadata": {
    "collapsed": true
   },
   "outputs": [],
   "source": []
  }
 ],
 "metadata": {
  "kernelspec": {
   "display_name": "Python 3",
   "language": "python",
   "name": "python3"
  },
  "language_info": {
   "codemirror_mode": {
    "name": "ipython",
    "version": 3
   },
   "file_extension": ".py",
   "mimetype": "text/x-python",
   "name": "python",
   "nbconvert_exporter": "python",
   "pygments_lexer": "ipython3",
   "version": "3.4.3"
  }
 },
 "nbformat": 4,
 "nbformat_minor": 0
}
