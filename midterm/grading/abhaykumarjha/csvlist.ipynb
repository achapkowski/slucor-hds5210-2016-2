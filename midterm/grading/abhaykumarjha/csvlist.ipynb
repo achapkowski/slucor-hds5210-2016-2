{
 "cells": [
  {
   "cell_type": "markdown",
   "metadata": {},
   "source": []
  },
  {
   "cell_type": "code",
   "execution_count": 1,
   "metadata": {
    "collapsed": false
   },
   "outputs": [],
   "source": [
    "class CsvList():    \n",
    "    def __init__(self, filename): \n",
    "        self.filename= filename\n",
    "       \n",
    "        self.header= []\n",
    "        self.data= []\n",
    "        self.line_count()\n",
    "        \n",
    "    def line_count(self): \n",
    "        import csv\n",
    "        with open(self.filename) as file:\n",
    "            lines= csv.reader(file)\n",
    "            count = 0\n",
    "            for rows in lines:\n",
    "                if count == 0:\n",
    "                    self.header.append(rows)\n",
    "                    count= count+1\n",
    "                else:\n",
    "                    self.data.append(rows)\n",
    "               "
   ]
  },
  {
   "cell_type": "code",
   "execution_count": null,
   "metadata": {
    "collapsed": false
   },
   "outputs": [],
   "source": []
  },
  {
   "cell_type": "code",
   "execution_count": null,
   "metadata": {
    "collapsed": false
   },
   "outputs": [],
   "source": []
  },
  {
   "cell_type": "code",
   "execution_count": null,
   "metadata": {
    "collapsed": true
   },
   "outputs": [],
   "source": []
  }
 ],
 "metadata": {
  "kernelspec": {
   "display_name": "Python 3",
   "language": "python",
   "name": "python3"
  },
  "language_info": {
   "codemirror_mode": {
    "name": "ipython",
    "version": 3
   },
   "file_extension": ".py",
   "mimetype": "text/x-python",
   "name": "python",
   "nbconvert_exporter": "python",
   "pygments_lexer": "ipython3",
   "version": "3.4.3"
  }
 },
 "nbformat": 4,
 "nbformat_minor": 0
}
