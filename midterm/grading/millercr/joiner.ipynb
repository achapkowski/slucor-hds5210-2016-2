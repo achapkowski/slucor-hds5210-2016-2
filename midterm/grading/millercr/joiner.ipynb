{
 "cells": [
  {
   "cell_type": "code",
   "execution_count": 1,
   "metadata": {
    "collapsed": false
   },
   "outputs": [],
   "source": [
    "def join_lists(list1, list2, joinfields1, joinfields2, outputfields1, outputfields2):\n",
    "    output = []\n",
    "    for row in list1:\n",
    "        store = []\n",
    "        # print(row)\n",
    "        for r in list2:\n",
    "        #print(r)\n",
    "            match = 1\n",
    "            #print(match)\n",
    "            for i in range(0, len(joinfields1)):\n",
    "                if row[joinfields1[i]].lower() != r[joinfields2[i]].lower():\n",
    "                    match = 0\n",
    "                    #print(match)\n",
    "            if match == 1:\n",
    "                for f1 in outputfields1:\n",
    "                    store.append(row[f1])\n",
    "                for f2 in outputfields2:\n",
    "                    store.append(r[f2])             \n",
    "                \n",
    "                output.append(store)\n",
    "                break\n",
    "\n",
    "    return output"
   ]
  }
 ],
 "metadata": {
  "kernelspec": {
   "display_name": "Python 3",
   "language": "python",
   "name": "python3"
  },
  "language_info": {
   "codemirror_mode": {
    "name": "ipython",
    "version": 3
   },
   "file_extension": ".py",
   "mimetype": "text/x-python",
   "name": "python",
   "nbconvert_exporter": "python",
   "pygments_lexer": "ipython3",
   "version": "3.4.3"
  }
 },
 "nbformat": 4,
 "nbformat_minor": 0
}
