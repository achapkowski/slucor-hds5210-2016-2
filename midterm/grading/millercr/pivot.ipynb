{
 "cells": [
  {
   "cell_type": "code",
   "execution_count": null,
   "metadata": {
    "collapsed": false
   },
   "outputs": [],
   "source": [
    "def pivot_columns(d_list, pivot_list):\n",
    "    d_list=d_list\n",
    "    row_count = len(d_list)\n",
    "    col_count = len(d_list[0])\n",
    "    p_min = min(pivot_list)\n",
    "    p_max = max(pivot_list)\n",
    "    output= []\n",
    "    \n",
    "    for r in range(1,row_count):\n",
    "        keeper1=d_list[r][0:p_min]\n",
    "        for c in range(p_min, col_count):\n",
    "            current_cell = d_list[r][c]\n",
    "            time_cell=d_list[0][c]\n",
    "            out_row = keeper1 + [time_cell, current_cell]\n",
    "            output.append(out_row)\n",
    "\n",
    "    header=d_list[0][0:p_min]+['Column']+['Value']\n",
    "    output.insert(0,header)\n",
    "    return output"
   ]
  },
  {
   "cell_type": "code",
   "execution_count": null,
   "metadata": {
    "collapsed": false
   },
   "outputs": [],
   "source": []
  }
 ],
 "metadata": {
  "kernelspec": {
   "display_name": "Python 3",
   "language": "python",
   "name": "python3"
  },
  "language_info": {
   "codemirror_mode": {
    "name": "ipython",
    "version": 3
   },
   "file_extension": ".py",
   "mimetype": "text/x-python",
   "name": "python",
   "nbconvert_exporter": "python",
   "pygments_lexer": "ipython3",
   "version": "3.4.3"
  }
 },
 "nbformat": 4,
 "nbformat_minor": 0
}
