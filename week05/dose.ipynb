{
 "cells": [
  {
   "cell_type": "code",
   "execution_count": null,
   "metadata": {
    "collapsed": true
   },
   "outputs": [],
   "source": [
    "class Dose():\n",
    "    def __init__(self, var):\n",
    "        first_space = var.find(\" \")\n",
    "        self.drug = var[0:first_space]\n",
    "\n",
    "        next_space = var.find(\" \",first_space+2)\n",
    "        self.amount = float(var[first_space+1:next_space])\n",
    "\n",
    "        slash = var.find(\"/\")\n",
    "        self.mass_unit = var[next_space+1:slash]\n",
    "        self.time_unit = var[slash+1:]\n",
    "\n",
    "    def is_overdose(self, ref):\n",
    "        if self.drug == ref.drug and self.mass_unit == ref.mass_unit and self.time_unit == ref.time_unit:\n",
    "            if self.amount <= ref.amount:\n",
    "                return False\n",
    "            else:\n",
    "                return True\n",
    "        else:\n",
    "            return None"
   ]
  }
 ],
 "metadata": {
  "kernelspec": {
   "display_name": "Python 3",
   "language": "python",
   "name": "python3"
  },
  "language_info": {
   "codemirror_mode": {
    "name": "ipython",
    "version": 3
   },
   "file_extension": ".py",
   "mimetype": "text/x-python",
   "name": "python",
   "nbconvert_exporter": "python",
   "pygments_lexer": "ipython3",
   "version": "3.4.3"
  }
 },
 "nbformat": 4,
 "nbformat_minor": 0
}
