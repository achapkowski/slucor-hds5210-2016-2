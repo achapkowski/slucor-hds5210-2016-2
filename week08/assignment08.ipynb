{
 "cells": [
  {
   "cell_type": "markdown",
   "metadata": {},
   "source": [
    "_HDS5210: Programming for Health Data Scientists_\n",
    "\n",
    "# Week 8 - Dictionaries and Other Data Types\n",
    "\n"
   ]
  },
  {
   "cell_type": "markdown",
   "metadata": {},
   "source": [
    "## Part 1 - Count up dictionary values\n",
    "\n",
    "Take the dictionary below and return a new dictionary that contains each of the values and a count of how many times they appear as values in the dictionary.\n"
   ]
  },
  {
   "cell_type": "code",
   "execution_count": 1,
   "metadata": {
    "collapsed": true
   },
   "outputs": [],
   "source": [
    "patient_ages = {\n",
    "    \"E143291\": 19,\n",
    "    \"E872839\": 32,\n",
    "    \"E878198\": 19,\n",
    "    \"E871111\": 21,\n",
    "    \"E143299\": 3,\n",
    "    \"E123332\": 21,\n",
    "    \"E989891\":19\n",
    "} "
   ]
  },
  {
   "cell_type": "code",
   "execution_count": 4,
   "metadata": {
    "collapsed": false
   },
   "outputs": [],
   "source": [
    "# Do some code here\n"
   ]
  },
  {
   "cell_type": "markdown",
   "metadata": {},
   "source": [
    "The expected output here would be:\n",
    "```\n",
    "{3: 1, 19: 3, 21: 2, 32: 1}\n",
    "```"
   ]
  },
  {
   "cell_type": "markdown",
   "metadata": {},
   "source": [
    "## Part 2 - Count up how many unique values are in the values\n",
    "\n",
    "Try to solve this one in one line if you can...\n",
    "\n",
    "Take the same dictionary as above and count the number of unique ages that appear in the dictionary values.\n"
   ]
  },
  {
   "cell_type": "code",
   "execution_count": 7,
   "metadata": {
    "collapsed": false
   },
   "outputs": [],
   "source": [
    "# Do some code here\n"
   ]
  },
  {
   "cell_type": "markdown",
   "metadata": {},
   "source": [
    "The expected output here would be:\n",
    "```\n",
    "4\n",
    "```"
   ]
  },
  {
   "cell_type": "markdown",
   "metadata": {},
   "source": [
    "## Part 3 - Convert a list to a dictionary\n",
    "\n",
    "Take the list of lists below and convert it into a dictionary where the entries in the dictionary are keyed off of whatever values are in column 0, and the dictionary values are the list of all the values that appear with that key from the input list.  See the example below."
   ]
  },
  {
   "cell_type": "code",
   "execution_count": 8,
   "metadata": {
    "collapsed": true
   },
   "outputs": [],
   "source": [
    "test = [['Boal', 'Paul'],\n",
    "        ['Duck', 'Donald'],\n",
    "        ['Duck', 'Daisy'],\n",
    "        ['Boal', 'Ada'],\n",
    "        ['Boal', 'Teddy'],\n",
    "        ['Westhus', 'Eric']]"
   ]
  },
  {
   "cell_type": "code",
   "execution_count": 11,
   "metadata": {
    "collapsed": false
   },
   "outputs": [],
   "source": [
    "# Do some code here\n"
   ]
  },
  {
   "cell_type": "markdown",
   "metadata": {},
   "source": [
    "Expected output is:\n",
    "```\n",
    "{\n",
    " 'Boal':    ['Paul', 'Ada', 'Teddy'],\n",
    " 'Duck':    ['Donald', 'Daisy'],\n",
    " 'Westhus': ['Eric']\n",
    "}\n",
    " ```"
   ]
  },
  {
   "cell_type": "markdown",
   "metadata": {},
   "source": [
    "## Part 4 - Join using a dictionary\n",
    "\n",
    "Not joining again!!!  Don't worry, it's easier to do with a dictionary.\n",
    "\n",
    "We have a list of patients, diagnosis, and length of stay.  We also have a dictionary that contains diagnosis and average length of stay.  Produce an output list that lists the patient and an indicator if the patient's stay was 'too long', 'too short', 'just right'"
   ]
  },
  {
   "cell_type": "code",
   "execution_count": 12,
   "metadata": {
    "collapsed": true
   },
   "outputs": [],
   "source": [
    "avg_los = {\n",
    "    \"Hemolytic jaundice and perinatal jaundice\" : 2,\n",
    "    \"Medical examination/evaluation\" : 3.2,\n",
    "    \"Liveborn\" : 3.2,\n",
    "    \"Trauma to perineum and vulva\" : 2.1,\n",
    "    \"Normal pregnancy and/or delivery\" : 2,\n",
    "    \"Umbilical cord complication\" : 2.1,\n",
    "    \"Forceps delivery\" : 2.2,\n",
    "    \"Administrative/social admission\" : 4.2,\n",
    "    \"Prolonged pregnancy\" : 2.4,\n",
    "    \"Other complications of pregnancy\" : 2.5\n",
    "}\n",
    "\n",
    "patients = [\n",
    "    ['Boal', 'Medical examination/evaluation', 1.1],\n",
    "    ['Boal', 'Other complications of pregnancy', 3.3],\n",
    "    ['Jones', 'Liveborn', 3.2],\n",
    "    ['Ashbury', 'Forceps delivery', 2.0]\n",
    "]"
   ]
  },
  {
   "cell_type": "code",
   "execution_count": 16,
   "metadata": {
    "collapsed": false
   },
   "outputs": [],
   "source": [
    "# Do something here\n"
   ]
  },
  {
   "cell_type": "markdown",
   "metadata": {},
   "source": [
    "The output we expect to get is:\n",
    "```\n",
    "[['Boal', 'too short'],\n",
    " ['Boal', 'too long'],\n",
    " ['Jones', 'just right'],\n",
    " ['Ashbury', 'too short']]\n",
    "```"
   ]
  },
  {
   "cell_type": "code",
   "execution_count": null,
   "metadata": {
    "collapsed": true
   },
   "outputs": [],
   "source": []
  }
 ],
 "metadata": {
  "kernelspec": {
   "display_name": "Python 3",
   "language": "python",
   "name": "python3"
  },
  "language_info": {
   "codemirror_mode": {
    "name": "ipython",
    "version": 3
   },
   "file_extension": ".py",
   "mimetype": "text/x-python",
   "name": "python",
   "nbconvert_exporter": "python",
   "pygments_lexer": "ipython3",
   "version": "3.4.3"
  }
 },
 "nbformat": 4,
 "nbformat_minor": 0
}
