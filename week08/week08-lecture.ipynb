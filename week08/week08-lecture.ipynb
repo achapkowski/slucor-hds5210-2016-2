{
 "cells": [
  {
   "cell_type": "markdown",
   "metadata": {},
   "source": [
    "_HDS5210 Programming for Data Science_\n",
    "\n",
    "# Week 8 - Data Structures\n",
    "\n",
    "At the beginning of the semester, we learned about some basic variables that were of types like `int`, `str`, `float`, and `bool`.  These \"single valued\" data types are referred to as **\"scalar\"** data types.  In this context **scalar** refers to a data type that just holds a single variable, as opposed to a **complex** data type that holds a more complicated data structure, like a `list` or `class`.\n",
    "\n",
    "In this lecture, we'll talk about another complex data type called a **dictionary**.  https://docs.python.org/3/tutorial/datastructures.html#dictionaries\n",
    "\n",
    "Dictionaries are a collection of variable keys and values within a single variable.  In this example, we have a variable `v` that contains keys of `a` and `b` with corresponding values `'Three'` and `3`.\n",
    "```\n",
    "v = { \n",
    "  'a': 'Three', \n",
    "  'b': 3 \n",
    "}\n",
    "```"
   ]
  },
  {
   "cell_type": "code",
   "execution_count": 19,
   "metadata": {
    "collapsed": true
   },
   "outputs": [],
   "source": [
    "# We create an empty dictionary using curly braces:\n",
    "d = {}"
   ]
  },
  {
   "cell_type": "code",
   "execution_count": 20,
   "metadata": {
    "collapsed": false
   },
   "outputs": [],
   "source": [
    "# Or we can initialize it with key / value pairs:\n",
    "v = { 'a': 'Three', 'b': 3 }"
   ]
  },
  {
   "cell_type": "code",
   "execution_count": 21,
   "metadata": {
    "collapsed": false
   },
   "outputs": [
    {
     "data": {
      "text/plain": [
       "{'a': 'Three', 'b': 3}"
      ]
     },
     "execution_count": 21,
     "metadata": {},
     "output_type": "execute_result"
    }
   ],
   "source": [
    "v"
   ]
  },
  {
   "cell_type": "code",
   "execution_count": 22,
   "metadata": {
    "collapsed": false
   },
   "outputs": [],
   "source": [
    "# The keys within a dictionary can be of any type:\n",
    "elements = { \n",
    "    'H' : {\n",
    "        'name': 'Hydrogen',\n",
    "        'number': 1,\n",
    "        'isotopes': [1,2,3]\n",
    "    },\n",
    "    'He' : {\n",
    "        'name': 'Helium',\n",
    "        'number': 2,\n",
    "        'isotopes': [2,3,4]\n",
    "    }\n",
    "}"
   ]
  },
  {
   "cell_type": "code",
   "execution_count": 23,
   "metadata": {
    "collapsed": false
   },
   "outputs": [
    {
     "data": {
      "text/plain": [
       "{'H': {'isotopes': [1, 2, 3], 'name': 'Hydrogen', 'number': 1},\n",
       " 'He': {'isotopes': [2, 3, 4], 'name': 'Helium', 'number': 2}}"
      ]
     },
     "execution_count": 23,
     "metadata": {},
     "output_type": "execute_result"
    }
   ],
   "source": [
    "elements"
   ]
  },
  {
   "cell_type": "code",
   "execution_count": 24,
   "metadata": {
    "collapsed": true
   },
   "outputs": [],
   "source": [
    "# Note that the keys within a dictionary can only be used once.  \n",
    "# The following isn't illegal, but it may not do what you expect it to do.\n",
    "\n",
    "duplicate = {\n",
    "    'name': 'Paul Boal',\n",
    "    'name': 'Eric Westhus'\n",
    "}"
   ]
  },
  {
   "cell_type": "code",
   "execution_count": 25,
   "metadata": {
    "collapsed": false
   },
   "outputs": [
    {
     "data": {
      "text/plain": [
       "{'name': 'Eric Westhus'}"
      ]
     },
     "execution_count": 25,
     "metadata": {},
     "output_type": "execute_result"
    }
   ],
   "source": [
    "duplicate"
   ]
  },
  {
   "cell_type": "markdown",
   "metadata": {},
   "source": [
    "## Accessing Keys/Values of the Dictionary"
   ]
  },
  {
   "cell_type": "markdown",
   "metadata": {},
   "source": [
    "**Note that the ordering of keys is ARBITRARY, not necessarily how they are entered or alphabetically**"
   ]
  },
  {
   "cell_type": "code",
   "execution_count": 39,
   "metadata": {
    "collapsed": false
   },
   "outputs": [
    {
     "name": "stdout",
     "output_type": "stream",
     "text": [
      "Help on method_descriptor:\n",
      "\n",
      "__getitem__(...)\n",
      "    x.__getitem__(y) <==> x[y]\n",
      "\n"
     ]
    }
   ],
   "source": [
    "help(dict.__getitem__)"
   ]
  },
  {
   "cell_type": "code",
   "execution_count": 40,
   "metadata": {
    "collapsed": false
   },
   "outputs": [
    {
     "name": "stdout",
     "output_type": "stream",
     "text": [
      "H is short for Hydrogen\n",
      "He is short for Helium\n"
     ]
    }
   ],
   "source": [
    "for e in elements:\n",
    "    print(\"{:s} is short for {:s}\".format(e, elements[e]['name']))"
   ]
  },
  {
   "cell_type": "code",
   "execution_count": 42,
   "metadata": {
    "collapsed": false
   },
   "outputs": [],
   "source": [
    "elements['H']['isotopes'].append(4)"
   ]
  },
  {
   "cell_type": "code",
   "execution_count": 43,
   "metadata": {
    "collapsed": false
   },
   "outputs": [
    {
     "data": {
      "text/plain": [
       "{'isotopes': [1, 2, 3, 4], 'name': 'Hydrogen', 'number': 1}"
      ]
     },
     "execution_count": 43,
     "metadata": {},
     "output_type": "execute_result"
    }
   ],
   "source": [
    "elements['H']"
   ]
  },
  {
   "cell_type": "code",
   "execution_count": 45,
   "metadata": {
    "collapsed": false
   },
   "outputs": [],
   "source": [
    "elements['H']['name'] = 'Hydrogen?'"
   ]
  },
  {
   "cell_type": "code",
   "execution_count": 46,
   "metadata": {
    "collapsed": false
   },
   "outputs": [
    {
     "data": {
      "text/plain": [
       "{'isotopes': [1, 2, 3, 4], 'name': 'Hydrogen?', 'number': 1}"
      ]
     },
     "execution_count": 46,
     "metadata": {},
     "output_type": "execute_result"
    }
   ],
   "source": [
    "elements['H']\n"
   ]
  },
  {
   "cell_type": "markdown",
   "metadata": {},
   "source": [
    "## Other ways of creating dictionaries"
   ]
  },
  {
   "cell_type": "code",
   "execution_count": 50,
   "metadata": {
    "collapsed": false
   },
   "outputs": [],
   "source": [
    "keys = ['one', 'two', 'three']\n",
    "vals = [1,     2,     3      ]\n",
    "d = dict(zip(keys, vals))"
   ]
  },
  {
   "cell_type": "code",
   "execution_count": 53,
   "metadata": {
    "collapsed": false
   },
   "outputs": [
    {
     "data": {
      "text/plain": [
       "{'one': 1, 'three': 3, 'two': 2}"
      ]
     },
     "execution_count": 53,
     "metadata": {},
     "output_type": "execute_result"
    }
   ],
   "source": [
    "d"
   ]
  },
  {
   "cell_type": "markdown",
   "metadata": {},
   "source": [
    "If key names are really simple, we can use a different syntax:"
   ]
  },
  {
   "cell_type": "code",
   "execution_count": 55,
   "metadata": {
    "collapsed": false
   },
   "outputs": [],
   "source": [
    "d = dict(one=1, two=2, three=3)"
   ]
  },
  {
   "cell_type": "code",
   "execution_count": 56,
   "metadata": {
    "collapsed": false
   },
   "outputs": [
    {
     "data": {
      "text/plain": [
       "{'one': 1, 'three': 3, 'two': 2}"
      ]
     },
     "execution_count": 56,
     "metadata": {},
     "output_type": "execute_result"
    }
   ],
   "source": [
    "d"
   ]
  },
  {
   "cell_type": "markdown",
   "metadata": {},
   "source": [
    "## Other ways of looping over dictionaries"
   ]
  },
  {
   "cell_type": "code",
   "execution_count": 52,
   "metadata": {
    "collapsed": false
   },
   "outputs": [
    {
     "name": "stdout",
     "output_type": "stream",
     "text": [
      "H = {'number': 1, 'name': 'Hydrogen?', 'isotopes': [1, 2, 3, 4]}\n",
      "He = {'number': 2, 'name': 'Helium', 'isotopes': [2, 3, 4]}\n"
     ]
    }
   ],
   "source": [
    "for k, v in elements.items():\n",
    "    print(\"{:s} = {:s}\".format(k,str(v)))"
   ]
  },
  {
   "cell_type": "markdown",
   "metadata": {},
   "source": [
    "## Ways to use dictionaries"
   ]
  },
  {
   "cell_type": "code",
   "execution_count": 57,
   "metadata": {
    "collapsed": true
   },
   "outputs": [],
   "source": [
    "dosages = [\n",
    "    dict( drug=\"Aspirin\", amount=100, mass_unit=\"mg\", time_unit=\"hr\"),\n",
    "    dict( drug=\"Digoxin\", amount=50,  mass_unit=\"mg\", time_unit=\"hr\")\n",
    "]"
   ]
  },
  {
   "cell_type": "code",
   "execution_count": 58,
   "metadata": {
    "collapsed": false
   },
   "outputs": [
    {
     "data": {
      "text/plain": [
       "[{'amount': 100, 'drug': 'Aspirin', 'mass_unit': 'mg', 'time_unit': 'hr'},\n",
       " {'amount': 50, 'drug': 'Digoxin', 'mass_unit': 'mg', 'time_unit': 'hr'}]"
      ]
     },
     "execution_count": 58,
     "metadata": {},
     "output_type": "execute_result"
    }
   ],
   "source": [
    "dosages"
   ]
  },
  {
   "cell_type": "code",
   "execution_count": 59,
   "metadata": {
    "collapsed": false
   },
   "outputs": [
    {
     "name": "stdout",
     "output_type": "stream",
     "text": [
      "Aspirin 100 mg/hr\n",
      "Digoxin 50 mg/hr\n"
     ]
    }
   ],
   "source": [
    "for d in dosages:\n",
    "    print(\"{:s} {:d} {:s}/{:s}\".format(d[\"drug\"],d[\"amount\"],d[\"mass_unit\"],d[\"time_unit\"]))"
   ]
  },
  {
   "cell_type": "markdown",
   "metadata": {},
   "source": [
    "## Reading CSV as a dictionary\n",
    "\n",
    "The csv module has a DictReader class that will read the CSV file into a list of dictionaries with one row per input data row, and key/value pairs that use the column names from the header row as key names."
   ]
  },
  {
   "cell_type": "code",
   "execution_count": 63,
   "metadata": {
    "collapsed": false
   },
   "outputs": [
    {
     "data": {
      "text/plain": [
       "{'BIRTHS2010': '987836',\n",
       " 'BIRTHS2011': '3973485',\n",
       " 'BIRTHS2012': '3936976',\n",
       " 'BIRTHS2013': '3940576',\n",
       " 'BIRTHS2014': '3958107',\n",
       " 'BIRTHS2015': '3985924',\n",
       " 'CENSUS2010POP': '308745538',\n",
       " 'DEATHS2010': '598691',\n",
       " 'DEATHS2011': '2512442',\n",
       " 'DEATHS2012': '2501531',\n",
       " 'DEATHS2013': '2608019',\n",
       " 'DEATHS2014': '2611362',\n",
       " 'DEATHS2015': '2625033',\n",
       " 'DIVISION': '0',\n",
       " 'DOMESTICMIG2010': '0',\n",
       " 'DOMESTICMIG2011': '0',\n",
       " 'DOMESTICMIG2012': '0',\n",
       " 'DOMESTICMIG2013': '0',\n",
       " 'DOMESTICMIG2014': '0',\n",
       " 'DOMESTICMIG2015': '0',\n",
       " 'ESTIMATESBASE2010': '308758105',\n",
       " 'INTERNATIONALMIG2010': '199613',\n",
       " 'INTERNATIONALMIG2011': '910951',\n",
       " 'INTERNATIONALMIG2012': '948321',\n",
       " 'INTERNATIONALMIG2013': '992215',\n",
       " 'INTERNATIONALMIG2014': '1133261',\n",
       " 'INTERNATIONALMIG2015': '1150528',\n",
       " 'NAME': 'UNITED STATES',\n",
       " 'NATURALINC2010': '389145',\n",
       " 'NATURALINC2011': '1461043',\n",
       " 'NATURALINC2012': '1435445',\n",
       " 'NATURALINC2013': '1332557',\n",
       " 'NATURALINC2014': '1346745',\n",
       " 'NATURALINC2015': '1360891',\n",
       " 'NETMIG2010': '199613',\n",
       " 'NETMIG2011': '910951',\n",
       " 'NETMIG2012': '948321',\n",
       " 'NETMIG2013': '992215',\n",
       " 'NETMIG2014': '1133261',\n",
       " 'NETMIG2015': '1150528',\n",
       " 'NPOPCHG_2010': '588758',\n",
       " 'NPOPCHG_2011': '2371994',\n",
       " 'NPOPCHG_2012': '2383766',\n",
       " 'NPOPCHG_2013': '2324772',\n",
       " 'NPOPCHG_2014': '2480006',\n",
       " 'NPOPCHG_2015': '2511419',\n",
       " 'POPESTIMATE2010': '309346863',\n",
       " 'POPESTIMATE2011': '311718857',\n",
       " 'POPESTIMATE2012': '314102623',\n",
       " 'POPESTIMATE2013': '316427395',\n",
       " 'POPESTIMATE2014': '318907401',\n",
       " 'POPESTIMATE2015': '321418820',\n",
       " 'RBIRTH2011': '12.79569898',\n",
       " 'RBIRTH2012': '12.581786103',\n",
       " 'RBIRTH2013': '12.499249481',\n",
       " 'RBIRTH2014': '12.459909405',\n",
       " 'RBIRTH2015': '12.449666652',\n",
       " 'RDEATH2011': '8.0907444062',\n",
       " 'RDEATH2012': '7.9943916275',\n",
       " 'RDEATH2013': '8.2724657845',\n",
       " 'RDEATH2014': '8.2204280843',\n",
       " 'RDEATH2015': '8.1990489032',\n",
       " 'RDOMESTICMIG2011': '0',\n",
       " 'RDOMESTICMIG2012': '0',\n",
       " 'RDOMESTICMIG2013': '0',\n",
       " 'RDOMESTICMIG2014': '0',\n",
       " 'RDOMESTICMIG2015': '0',\n",
       " 'REGION': '0',\n",
       " 'RESIDUAL2010': '0',\n",
       " 'RESIDUAL2011': '0',\n",
       " 'RESIDUAL2012': '0',\n",
       " 'RESIDUAL2013': '0',\n",
       " 'RESIDUAL2014': '0',\n",
       " 'RESIDUAL2015': '0',\n",
       " 'RINTERNATIONALMIG2011': '2.9335091945',\n",
       " 'RINTERNATIONALMIG2012': '3.0306438187',\n",
       " 'RINTERNATIONALMIG2013': '3.1472411199',\n",
       " 'RINTERNATIONALMIG2014': '3.5674450924',\n",
       " 'RINTERNATIONALMIG2015': '3.5935682853',\n",
       " 'RNATURALINC2011': '4.7049545739',\n",
       " 'RNATURALINC2012': '4.5873944755',\n",
       " 'RNATURALINC2013': '4.2267836961',\n",
       " 'RNATURALINC2014': '4.2394813206',\n",
       " 'RNATURALINC2015': '4.2506177488',\n",
       " 'RNETMIG2011': '2.9335091945',\n",
       " 'RNETMIG2012': '3.0306438187',\n",
       " 'RNETMIG2013': '3.1472411199',\n",
       " 'RNETMIG2014': '3.5674450924',\n",
       " 'RNETMIG2015': '3.5935682853',\n",
       " 'STATE': '00',\n",
       " 'SUMLEV': '010'}"
      ]
     },
     "execution_count": 63,
     "metadata": {},
     "output_type": "execute_result"
    }
   ],
   "source": [
    "import csv\n",
    "with open('/midterm/census.csv') as f:\n",
    "    dict = csv.DictReader(f)\n",
    "    for d in dict:\n",
    "        break\n",
    "        \n",
    "d"
   ]
  },
  {
   "cell_type": "code",
   "execution_count": null,
   "metadata": {
    "collapsed": true
   },
   "outputs": [],
   "source": []
  }
 ],
 "metadata": {
  "kernelspec": {
   "display_name": "Python 3",
   "language": "python",
   "name": "python3"
  },
  "language_info": {
   "codemirror_mode": {
    "name": "ipython",
    "version": 3
   },
   "file_extension": ".py",
   "mimetype": "text/x-python",
   "name": "python",
   "nbconvert_exporter": "python",
   "pygments_lexer": "ipython3",
   "version": "3.4.3"
  }
 },
 "nbformat": 4,
 "nbformat_minor": 0
}
