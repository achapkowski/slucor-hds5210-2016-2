{
 "cells": [
  {
   "cell_type": "markdown",
   "metadata": {},
   "source": [
    "_HDS5210 Programming for Data Science_\n",
    "\n",
    "# Week 8 - Data Structures\n",
    "\n",
    "At the beginning of the semester, we learned about some basic variables that were of types like `int`, `str`, `float`, and `bool`.  These \"single valued\" data types are referred to as **\"scalar\"** data types.  In this context **scalar** refers to a data type that just holds a single variable, as opposed to a **complex** data type that holds a more complicated data structure, like a `list` or `class`.\n",
    "\n",
    "In this lecture, we'll talk about another complex data type called a **dictionary**.  https://docs.python.org/3/tutorial/datastructures.html#dictionaries\n",
    "\n",
    "Dictionaries are a collection of variable keys and values within a single variable.  In this example, we have a variable `v` that contains keys of `a` and `b` with corresponding values `'Three'` and `3`.\n",
    "```\n",
    "v = { \n",
    "  'a': 'Three', \n",
    "  'b': 3 \n",
    "}\n",
    "```"
   ]
  },
  {
   "cell_type": "code",
   "execution_count": 19,
   "metadata": {
    "collapsed": true
   },
   "outputs": [],
   "source": [
    "# We create an empty dictionary using curly braces:\n",
    "d = {}"
   ]
  },
  {
   "cell_type": "code",
   "execution_count": 20,
   "metadata": {
    "collapsed": false
   },
   "outputs": [],
   "source": [
    "# Or we can initialize it with key / value pairs:\n",
    "v = { 'a': 'Three', 'b': 3 }"
   ]
  },
  {
   "cell_type": "code",
   "execution_count": 21,
   "metadata": {
    "collapsed": false
   },
   "outputs": [
    {
     "data": {
      "text/plain": [
       "{'a': 'Three', 'b': 3}"
      ]
     },
     "execution_count": 21,
     "metadata": {},
     "output_type": "execute_result"
    }
   ],
   "source": [
    "v"
   ]
  },
  {
   "cell_type": "code",
   "execution_count": 22,
   "metadata": {
    "collapsed": false
   },
   "outputs": [],
   "source": [
    "# The keys within a dictionary can be of any type:\n",
    "elements = { \n",
    "    'H' : {\n",
    "        'name': 'Hydrogen',\n",
    "        'number': 1,\n",
    "        'isotopes': [1,2,3]\n",
    "    },\n",
    "    'He' : {\n",
    "        'name': 'Helium',\n",
    "        'number': 2,\n",
    "        'isotopes': [2,3,4]\n",
    "    }\n",
    "}"
   ]
  },
  {
   "cell_type": "code",
   "execution_count": 23,
   "metadata": {
    "collapsed": false
   },
   "outputs": [
    {
     "data": {
      "text/plain": [
       "{'H': {'isotopes': [1, 2, 3], 'name': 'Hydrogen', 'number': 1},\n",
       " 'He': {'isotopes': [2, 3, 4], 'name': 'Helium', 'number': 2}}"
      ]
     },
     "execution_count": 23,
     "metadata": {},
     "output_type": "execute_result"
    }
   ],
   "source": [
    "elements"
   ]
  },
  {
   "cell_type": "code",
   "execution_count": 24,
   "metadata": {
    "collapsed": true
   },
   "outputs": [],
   "source": [
    "# Note that the keys within a dictionary can only be used once.  \n",
    "# The following isn't illegal, but it may not do what you expect it to do.\n",
    "\n",
    "duplicate = {\n",
    "    'name': 'Paul Boal',\n",
    "    'name': 'Eric Westhus'\n",
    "}"
   ]
  },
  {
   "cell_type": "code",
   "execution_count": 25,
   "metadata": {
    "collapsed": false
   },
   "outputs": [
    {
     "data": {
      "text/plain": [
       "{'name': 'Eric Westhus'}"
      ]
     },
     "execution_count": 25,
     "metadata": {},
     "output_type": "execute_result"
    }
   ],
   "source": [
    "duplicate"
   ]
  },
  {
   "cell_type": "markdown",
   "metadata": {},
   "source": [
    "## Accessing Keys/Values of the Dictionary"
   ]
  },
  {
   "cell_type": "markdown",
   "metadata": {},
   "source": [
    "**Note that the ordering of keys is ARBITRARY, not necessarily how they are entered or alphabetically**"
   ]
  },
  {
   "cell_type": "code",
   "execution_count": 39,
   "metadata": {
    "collapsed": false
   },
   "outputs": [
    {
     "name": "stdout",
     "output_type": "stream",
     "text": [
      "Help on method_descriptor:\n",
      "\n",
      "__getitem__(...)\n",
      "    x.__getitem__(y) <==> x[y]\n",
      "\n"
     ]
    }
   ],
   "source": [
    "help(dict.__getitem__)"
   ]
  },
  {
   "cell_type": "code",
   "execution_count": 40,
   "metadata": {
    "collapsed": false
   },
   "outputs": [
    {
     "name": "stdout",
     "output_type": "stream",
     "text": [
      "H is short for Hydrogen\n",
      "He is short for Helium\n"
     ]
    }
   ],
   "source": [
    "for e in elements:\n",
    "    print(\"{:s} is short for {:s}\".format(e, elements[e]['name']))"
   ]
  },
  {
   "cell_type": "code",
   "execution_count": 42,
   "metadata": {
    "collapsed": false
   },
   "outputs": [],
   "source": [
    "elements['H']['isotopes'].append(4)"
   ]
  },
  {
   "cell_type": "code",
   "execution_count": 43,
   "metadata": {
    "collapsed": false
   },
   "outputs": [
    {
     "data": {
      "text/plain": [
       "{'isotopes': [1, 2, 3, 4], 'name': 'Hydrogen', 'number': 1}"
      ]
     },
     "execution_count": 43,
     "metadata": {},
     "output_type": "execute_result"
    }
   ],
   "source": [
    "elements['H']"
   ]
  },
  {
   "cell_type": "code",
   "execution_count": 45,
   "metadata": {
    "collapsed": false
   },
   "outputs": [],
   "source": [
    "elements['H']['name'] = 'Hydrogen?'"
   ]
  },
  {
   "cell_type": "code",
   "execution_count": 46,
   "metadata": {
    "collapsed": false
   },
   "outputs": [
    {
     "data": {
      "text/plain": [
       "{'isotopes': [1, 2, 3, 4], 'name': 'Hydrogen?', 'number': 1}"
      ]
     },
     "execution_count": 46,
     "metadata": {},
     "output_type": "execute_result"
    }
   ],
   "source": [
    "elements['H']\n"
   ]
  },
  {
   "cell_type": "markdown",
   "metadata": {},
   "source": [
    "## Other ways of creating dictionaries"
   ]
  },
  {
   "cell_type": "code",
   "execution_count": 50,
   "metadata": {
    "collapsed": false
   },
   "outputs": [],
   "source": [
    "keys = ['one', 'two', 'three']\n",
    "vals = [1,     2,     3      ]\n",
    "d = dict(zip(keys, vals))"
   ]
  },
  {
   "cell_type": "code",
   "execution_count": 53,
   "metadata": {
    "collapsed": false
   },
   "outputs": [
    {
     "data": {
      "text/plain": [
       "{'one': 1, 'three': 3, 'two': 2}"
      ]
     },
     "execution_count": 53,
     "metadata": {},
     "output_type": "execute_result"
    }
   ],
   "source": [
    "d"
   ]
  },
  {
   "cell_type": "markdown",
   "metadata": {},
   "source": [
    "If key names are really simple, we can use a different syntax:"
   ]
  },
  {
   "cell_type": "code",
   "execution_count": 55,
   "metadata": {
    "collapsed": false
   },
   "outputs": [],
   "source": [
    "d = dict(one=1, two=2, three=3)"
   ]
  },
  {
   "cell_type": "code",
   "execution_count": 56,
   "metadata": {
    "collapsed": false
   },
   "outputs": [
    {
     "data": {
      "text/plain": [
       "{'one': 1, 'three': 3, 'two': 2}"
      ]
     },
     "execution_count": 56,
     "metadata": {},
     "output_type": "execute_result"
    }
   ],
   "source": [
    "d"
   ]
  },
  {
   "cell_type": "markdown",
   "metadata": {},
   "source": [
    "## Other ways of looping over dictionaries"
   ]
  },
  {
   "cell_type": "code",
   "execution_count": 52,
   "metadata": {
    "collapsed": false
   },
   "outputs": [
    {
     "name": "stdout",
     "output_type": "stream",
     "text": [
      "H = {'number': 1, 'name': 'Hydrogen?', 'isotopes': [1, 2, 3, 4]}\n",
      "He = {'number': 2, 'name': 'Helium', 'isotopes': [2, 3, 4]}\n"
     ]
    }
   ],
   "source": [
    "for k, v in elements.items():\n",
    "    print(\"{:s} = {:s}\".format(k,str(v)))"
   ]
  },
  {
   "cell_type": "markdown",
   "metadata": {},
   "source": [
    "## Ways to use dictionaries"
   ]
  },
  {
   "cell_type": "code",
   "execution_count": 57,
   "metadata": {
    "collapsed": true
   },
   "outputs": [],
   "source": [
    "dosages = [\n",
    "    dict( drug=\"Aspirin\", amount=100, mass_unit=\"mg\", time_unit=\"hr\"),\n",
    "    dict( drug=\"Digoxin\", amount=50,  mass_unit=\"mg\", time_unit=\"hr\")\n",
    "]"
   ]
  },
  {
   "cell_type": "code",
   "execution_count": 58,
   "metadata": {
    "collapsed": false
   },
   "outputs": [
    {
     "data": {
      "text/plain": [
       "[{'amount': 100, 'drug': 'Aspirin', 'mass_unit': 'mg', 'time_unit': 'hr'},\n",
       " {'amount': 50, 'drug': 'Digoxin', 'mass_unit': 'mg', 'time_unit': 'hr'}]"
      ]
     },
     "execution_count": 58,
     "metadata": {},
     "output_type": "execute_result"
    }
   ],
   "source": [
    "dosages"
   ]
  },
  {
   "cell_type": "code",
   "execution_count": 59,
   "metadata": {
    "collapsed": false
   },
   "outputs": [
    {
     "name": "stdout",
     "output_type": "stream",
     "text": [
      "Aspirin 100 mg/hr\n",
      "Digoxin 50 mg/hr\n"
     ]
    }
   ],
   "source": [
    "for d in dosages:\n",
    "    print(\"{:s} {:d} {:s}/{:s}\".format(d[\"drug\"],d[\"amount\"],d[\"mass_unit\"],d[\"time_unit\"]))"
   ]
  },
  {
   "cell_type": "markdown",
   "metadata": {},
   "source": [
    "## Reading CSV as a dictionary\n",
    "\n",
    "The csv module has a DictReader class that will read the CSV file into a list of dictionaries with one row per input data row, and key/value pairs that use the column names from the header row as key names."
   ]
  },
  {
   "cell_type": "code",
   "execution_count": 63,
   "metadata": {
    "collapsed": false
   },
   "outputs": [
    {
     "data": {
      "text/plain": [
       "{'BIRTHS2010': '987836',\n",
       " 'BIRTHS2011': '3973485',\n",
       " 'BIRTHS2012': '3936976',\n",
       " 'BIRTHS2013': '3940576',\n",
       " 'BIRTHS2014': '3958107',\n",
       " 'BIRTHS2015': '3985924',\n",
       " 'CENSUS2010POP': '308745538',\n",
       " 'DEATHS2010': '598691',\n",
       " 'DEATHS2011': '2512442',\n",
       " 'DEATHS2012': '2501531',\n",
       " 'DEATHS2013': '2608019',\n",
       " 'DEATHS2014': '2611362',\n",
       " 'DEATHS2015': '2625033',\n",
       " 'DIVISION': '0',\n",
       " 'DOMESTICMIG2010': '0',\n",
       " 'DOMESTICMIG2011': '0',\n",
       " 'DOMESTICMIG2012': '0',\n",
       " 'DOMESTICMIG2013': '0',\n",
       " 'DOMESTICMIG2014': '0',\n",
       " 'DOMESTICMIG2015': '0',\n",
       " 'ESTIMATESBASE2010': '308758105',\n",
       " 'INTERNATIONALMIG2010': '199613',\n",
       " 'INTERNATIONALMIG2011': '910951',\n",
       " 'INTERNATIONALMIG2012': '948321',\n",
       " 'INTERNATIONALMIG2013': '992215',\n",
       " 'INTERNATIONALMIG2014': '1133261',\n",
       " 'INTERNATIONALMIG2015': '1150528',\n",
       " 'NAME': 'UNITED STATES',\n",
       " 'NATURALINC2010': '389145',\n",
       " 'NATURALINC2011': '1461043',\n",
       " 'NATURALINC2012': '1435445',\n",
       " 'NATURALINC2013': '1332557',\n",
       " 'NATURALINC2014': '1346745',\n",
       " 'NATURALINC2015': '1360891',\n",
       " 'NETMIG2010': '199613',\n",
       " 'NETMIG2011': '910951',\n",
       " 'NETMIG2012': '948321',\n",
       " 'NETMIG2013': '992215',\n",
       " 'NETMIG2014': '1133261',\n",
       " 'NETMIG2015': '1150528',\n",
       " 'NPOPCHG_2010': '588758',\n",
       " 'NPOPCHG_2011': '2371994',\n",
       " 'NPOPCHG_2012': '2383766',\n",
       " 'NPOPCHG_2013': '2324772',\n",
       " 'NPOPCHG_2014': '2480006',\n",
       " 'NPOPCHG_2015': '2511419',\n",
       " 'POPESTIMATE2010': '309346863',\n",
       " 'POPESTIMATE2011': '311718857',\n",
       " 'POPESTIMATE2012': '314102623',\n",
       " 'POPESTIMATE2013': '316427395',\n",
       " 'POPESTIMATE2014': '318907401',\n",
       " 'POPESTIMATE2015': '321418820',\n",
       " 'RBIRTH2011': '12.79569898',\n",
       " 'RBIRTH2012': '12.581786103',\n",
       " 'RBIRTH2013': '12.499249481',\n",
       " 'RBIRTH2014': '12.459909405',\n",
       " 'RBIRTH2015': '12.449666652',\n",
       " 'RDEATH2011': '8.0907444062',\n",
       " 'RDEATH2012': '7.9943916275',\n",
       " 'RDEATH2013': '8.2724657845',\n",
       " 'RDEATH2014': '8.2204280843',\n",
       " 'RDEATH2015': '8.1990489032',\n",
       " 'RDOMESTICMIG2011': '0',\n",
       " 'RDOMESTICMIG2012': '0',\n",
       " 'RDOMESTICMIG2013': '0',\n",
       " 'RDOMESTICMIG2014': '0',\n",
       " 'RDOMESTICMIG2015': '0',\n",
       " 'REGION': '0',\n",
       " 'RESIDUAL2010': '0',\n",
       " 'RESIDUAL2011': '0',\n",
       " 'RESIDUAL2012': '0',\n",
       " 'RESIDUAL2013': '0',\n",
       " 'RESIDUAL2014': '0',\n",
       " 'RESIDUAL2015': '0',\n",
       " 'RINTERNATIONALMIG2011': '2.9335091945',\n",
       " 'RINTERNATIONALMIG2012': '3.0306438187',\n",
       " 'RINTERNATIONALMIG2013': '3.1472411199',\n",
       " 'RINTERNATIONALMIG2014': '3.5674450924',\n",
       " 'RINTERNATIONALMIG2015': '3.5935682853',\n",
       " 'RNATURALINC2011': '4.7049545739',\n",
       " 'RNATURALINC2012': '4.5873944755',\n",
       " 'RNATURALINC2013': '4.2267836961',\n",
       " 'RNATURALINC2014': '4.2394813206',\n",
       " 'RNATURALINC2015': '4.2506177488',\n",
       " 'RNETMIG2011': '2.9335091945',\n",
       " 'RNETMIG2012': '3.0306438187',\n",
       " 'RNETMIG2013': '3.1472411199',\n",
       " 'RNETMIG2014': '3.5674450924',\n",
       " 'RNETMIG2015': '3.5935682853',\n",
       " 'STATE': '00',\n",
       " 'SUMLEV': '010'}"
      ]
     },
     "execution_count": 63,
     "metadata": {},
     "output_type": "execute_result"
    }
   ],
   "source": [
    "import csv\n",
    "with open('/midterm/census.csv') as f:\n",
    "    dict = csv.DictReader(f)\n",
    "    for d in dict:\n",
    "        break\n",
    "        \n",
    "d"
   ]
  },
  {
   "cell_type": "code",
   "execution_count": 65,
   "metadata": {
    "collapsed": false
   },
   "outputs": [
    {
     "name": "stdout",
     "output_type": "stream",
     "text": [
      "{'POPESTIMATE2013': '316427395', 'RESIDUAL2011': '0', 'ESTIMATESBASE2010': '308758105', 'DEATHS2012': '2501531', 'BIRTHS2012': '3936976', 'REGION': '0', 'RBIRTH2014': '12.459909405', 'INTERNATIONALMIG2013': '992215', 'BIRTHS2011': '3973485', 'NPOPCHG_2011': '2371994', 'RNATURALINC2015': '4.2506177488', 'DIVISION': '0', 'BIRTHS2015': '3985924', 'RDEATH2013': '8.2724657845', 'RINTERNATIONALMIG2014': '3.5674450924', 'RDOMESTICMIG2013': '0', 'RDOMESTICMIG2011': '0', 'RNATURALINC2012': '4.5873944755', 'DOMESTICMIG2015': '0', 'POPESTIMATE2015': '321418820', 'RDOMESTICMIG2012': '0', 'RNETMIG2013': '3.1472411199', 'NATURALINC2011': '1461043', 'STATE': '00', 'NETMIG2015': '1150528', 'DOMESTICMIG2010': '0', 'RBIRTH2015': '12.449666652', 'DOMESTICMIG2013': '0', 'RNETMIG2012': '3.0306438187', 'DEATHS2011': '2512442', 'RNATURALINC2013': '4.2267836961', 'INTERNATIONALMIG2012': '948321', 'NETMIG2012': '948321', 'DOMESTICMIG2011': '0', 'BIRTHS2014': '3958107', 'RNETMIG2011': '2.9335091945', 'RDEATH2012': '7.9943916275', 'RDEATH2014': '8.2204280843', 'DEATHS2015': '2625033', 'NPOPCHG_2010': '588758', 'NATURALINC2015': '1360891', 'DOMESTICMIG2014': '0', 'RESIDUAL2014': '0', 'RINTERNATIONALMIG2011': '2.9335091945', 'RBIRTH2013': '12.499249481', 'POPESTIMATE2014': '318907401', 'POPESTIMATE2011': '311718857', 'SUMLEV': '010', 'NETMIG2013': '992215', 'NETMIG2011': '910951', 'BIRTHS2013': '3940576', 'INTERNATIONALMIG2014': '1133261', 'RNATURALINC2011': '4.7049545739', 'CENSUS2010POP': '308745538', 'INTERNATIONALMIG2011': '910951', 'RBIRTH2011': '12.79569898', 'RNATURALINC2014': '4.2394813206', 'NETMIG2014': '1133261', 'RINTERNATIONALMIG2015': '3.5935682853', 'NPOPCHG_2014': '2480006', 'RDEATH2015': '8.1990489032', 'RESIDUAL2010': '0', 'BIRTHS2010': '987836', 'RNETMIG2015': '3.5935682853', 'NETMIG2010': '199613', 'POPESTIMATE2012': '314102623', 'RINTERNATIONALMIG2013': '3.1472411199', 'RESIDUAL2015': '0', 'NPOPCHG_2015': '2511419', 'NATURALINC2010': '389145', 'INTERNATIONALMIG2015': '1150528', 'RESIDUAL2012': '0', 'RNETMIG2014': '3.5674450924', 'RDEATH2011': '8.0907444062', 'DOMESTICMIG2012': '0', 'POPESTIMATE2010': '309346863', 'NATURALINC2014': '1346745', 'NPOPCHG_2012': '2383766', 'RDOMESTICMIG2014': '0', 'NPOPCHG_2013': '2324772', 'DEATHS2010': '598691', 'NAME': 'UNITED STATES', 'DEATHS2013': '2608019', 'RINTERNATIONALMIG2012': '3.0306438187', 'RBIRTH2012': '12.581786103', 'RESIDUAL2013': '0', 'DEATHS2014': '2611362', 'RDOMESTICMIG2015': '0', 'NATURALINC2013': '1332557', 'NATURALINC2012': '1435445', 'INTERNATIONALMIG2010': '199613'}\n"
     ]
    }
   ],
   "source": [
    "import csv\n",
    "with open('/midterm/census.csv') as f:\n",
    "    dict = csv.DictReader(f)\n",
    "    row1 = next(dict)\n",
    "    print(row1)"
   ]
  },
  {
   "cell_type": "code",
   "execution_count": 66,
   "metadata": {
    "collapsed": false
   },
   "outputs": [
    {
     "name": "stdout",
     "output_type": "stream",
     "text": [
      "318907401\n"
     ]
    }
   ],
   "source": [
    "import csv\n",
    "with open('/midterm/census.csv') as f:\n",
    "    dict = csv.DictReader(f)\n",
    "    row1 = next(dict)\n",
    "    print(row1['POPESTIMATE2014'])"
   ]
  },
  {
   "cell_type": "code",
   "execution_count": 69,
   "metadata": {
    "collapsed": false
   },
   "outputs": [
    {
     "name": "stdout",
     "output_type": "stream",
     "text": [
      "dict_keys(['POPESTIMATE2013', 'RESIDUAL2011', 'ESTIMATESBASE2010', 'DEATHS2012', 'BIRTHS2012', 'REGION', 'RBIRTH2014', 'INTERNATIONALMIG2013', 'BIRTHS2011', 'NPOPCHG_2011', 'RNATURALINC2015', 'DIVISION', 'BIRTHS2015', 'RDEATH2013', 'RINTERNATIONALMIG2014', 'RDOMESTICMIG2013', 'RDOMESTICMIG2011', 'RNATURALINC2012', 'DOMESTICMIG2015', 'POPESTIMATE2015', 'RDOMESTICMIG2012', 'RNETMIG2013', 'NATURALINC2011', 'STATE', 'NETMIG2015', 'DOMESTICMIG2010', 'RBIRTH2015', 'DOMESTICMIG2013', 'RNETMIG2012', 'DEATHS2011', 'RNATURALINC2013', 'INTERNATIONALMIG2012', 'NETMIG2012', 'DOMESTICMIG2011', 'BIRTHS2014', 'RNETMIG2011', 'RDEATH2012', 'RDEATH2014', 'DEATHS2015', 'NPOPCHG_2010', 'NATURALINC2015', 'DOMESTICMIG2014', 'RESIDUAL2014', 'RINTERNATIONALMIG2011', 'RBIRTH2013', 'POPESTIMATE2014', 'POPESTIMATE2011', 'SUMLEV', 'NETMIG2013', 'NETMIG2011', 'BIRTHS2013', 'INTERNATIONALMIG2014', 'RNATURALINC2011', 'CENSUS2010POP', 'INTERNATIONALMIG2011', 'RBIRTH2011', 'RNATURALINC2014', 'NETMIG2014', 'RINTERNATIONALMIG2015', 'NPOPCHG_2014', 'RDEATH2015', 'RESIDUAL2010', 'BIRTHS2010', 'RNETMIG2015', 'NETMIG2010', 'POPESTIMATE2012', 'RINTERNATIONALMIG2013', 'RESIDUAL2015', 'NPOPCHG_2015', 'NATURALINC2010', 'INTERNATIONALMIG2015', 'RESIDUAL2012', 'RNETMIG2014', 'RDEATH2011', 'DOMESTICMIG2012', 'POPESTIMATE2010', 'NATURALINC2014', 'NPOPCHG_2012', 'RDOMESTICMIG2014', 'NPOPCHG_2013', 'DEATHS2010', 'NAME', 'DEATHS2013', 'RINTERNATIONALMIG2012', 'RBIRTH2012', 'RESIDUAL2013', 'DEATHS2014', 'RDOMESTICMIG2015', 'NATURALINC2013', 'NATURALINC2012', 'INTERNATIONALMIG2010'])\n"
     ]
    }
   ],
   "source": [
    "import csv\n",
    "with open('/midterm/census.csv') as f:\n",
    "    dict = csv.DictReader(f)\n",
    "    row1 = next(dict)\n",
    "    print(row1.keys())"
   ]
  },
  {
   "cell_type": "markdown",
   "metadata": {},
   "source": [
    "# Inverting Dictionaries"
   ]
  },
  {
   "cell_type": "code",
   "execution_count": 82,
   "metadata": {
    "collapsed": true
   },
   "outputs": [],
   "source": [
    "patient_ages = {\n",
    "    \"E143291\": 19,\n",
    "    \"E872839\": 32,\n",
    "    \"E878198\": 19,\n",
    "    \"E871111\": 21,\n",
    "    \"E143299\": 3,\n",
    "    \"E123332\": 21,\n",
    "    \"E989891\":19\n",
    "} "
   ]
  },
  {
   "cell_type": "code",
   "execution_count": 84,
   "metadata": {
    "collapsed": false
   },
   "outputs": [
    {
     "data": {
      "text/plain": [
       "{3: ['E143299'],\n",
       " 19: ['E989891', 'E878198', 'E143291'],\n",
       " 21: ['E871111', 'E123332'],\n",
       " 32: ['E872839']}"
      ]
     },
     "execution_count": 84,
     "metadata": {},
     "output_type": "execute_result"
    }
   ],
   "source": [
    "age_patients = {}\n",
    "for patient, age in patient_ages.items():\n",
    "    if age in age_patients:\n",
    "        age_patients[age].append(patient)\n",
    "    else:\n",
    "        age_patients[age] = [patient]\n",
    "\n",
    "age_patients"
   ]
  },
  {
   "cell_type": "markdown",
   "metadata": {},
   "source": [
    "# Sets\n",
    "\n",
    "Sets are a special kind of list that is always a unique set of values - there won't be any duplicates.\n",
    "\n",
    "You can also think about it as just a dictionary with only keys - remember that dictionaries can only have one entry for each key."
   ]
  },
  {
   "cell_type": "code",
   "execution_count": 71,
   "metadata": {
    "collapsed": false
   },
   "outputs": [
    {
     "data": {
      "text/plain": [
       "{'F', 'M', 'O', 'U'}"
      ]
     },
     "execution_count": 71,
     "metadata": {},
     "output_type": "execute_result"
    }
   ],
   "source": [
    "sex = {'M', 'F', 'U', 'O'}\n",
    "sex"
   ]
  },
  {
   "cell_type": "code",
   "execution_count": 77,
   "metadata": {
    "collapsed": false
   },
   "outputs": [
    {
     "data": {
      "text/plain": [
       "{'F', 'M', 'O', 'U'}"
      ]
     },
     "execution_count": 77,
     "metadata": {},
     "output_type": "execute_result"
    }
   ],
   "source": [
    "sex = {'M', 'F', 'U', 'M', 'F', 'O'}\n",
    "sex"
   ]
  },
  {
   "cell_type": "code",
   "execution_count": 78,
   "metadata": {
    "collapsed": false
   },
   "outputs": [
    {
     "data": {
      "text/plain": [
       "{'F', 'M', 'O', 'T', 'U'}"
      ]
     },
     "execution_count": 78,
     "metadata": {},
     "output_type": "execute_result"
    }
   ],
   "source": [
    "sex.add('T')\n",
    "sex"
   ]
  },
  {
   "cell_type": "markdown",
   "metadata": {},
   "source": [
    "You can also do all kinds of other set operations: See Chapter 11, p202"
   ]
  },
  {
   "cell_type": "markdown",
   "metadata": {},
   "source": [
    "# Tuples\n",
    "\n",
    "There's another special kind of ordered list called a tuple.  What's special about tuples is that they can't be altered once they're created, even though the objects inside them can be.  Weird.\n",
    "\n",
    "One thing you can do with tuples, is assign to multiple variables at once."
   ]
  },
  {
   "cell_type": "code",
   "execution_count": 79,
   "metadata": {
    "collapsed": false
   },
   "outputs": [
    {
     "data": {
      "text/plain": [
       "1"
      ]
     },
     "execution_count": 79,
     "metadata": {},
     "output_type": "execute_result"
    }
   ],
   "source": [
    "(a, b) = (1, 2)\n",
    "a"
   ]
  },
  {
   "cell_type": "code",
   "execution_count": 80,
   "metadata": {
    "collapsed": false
   },
   "outputs": [
    {
     "data": {
      "text/plain": [
       "2"
      ]
     },
     "execution_count": 80,
     "metadata": {},
     "output_type": "execute_result"
    }
   ],
   "source": [
    "b"
   ]
  },
  {
   "cell_type": "code",
   "execution_count": null,
   "metadata": {
    "collapsed": true
   },
   "outputs": [],
   "source": []
  }
 ],
 "metadata": {
  "kernelspec": {
   "display_name": "Python 3",
   "language": "python",
   "name": "python3"
  },
  "language_info": {
   "codemirror_mode": {
    "name": "ipython",
    "version": 3
   },
   "file_extension": ".py",
   "mimetype": "text/x-python",
   "name": "python",
   "nbconvert_exporter": "python",
   "pygments_lexer": "ipython3",
   "version": "3.4.3"
  }
 },
 "nbformat": 4,
 "nbformat_minor": 0
}
