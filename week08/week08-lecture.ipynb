{
 "cells": [
  {
   "cell_type": "markdown",
   "metadata": {},
   "source": [
    "_HDS5210 Programming for Data Science_\n",
    "\n",
    "# Week 8 - Data Structures\n",
    "\n",
    "https://drive.google.com/open?id=1CEFBEQaoFiA4fuVMfVeD2iq_rlfyu0U0oVV3SyotkBY\n",
    "\n",
    "At the beginning of the semester, we learned about some basic variables that were of types like `int`, `str`, `float`, and `bool`.  These \"single valued\" data types are referred to as **\"scalar\"** data types.  In this context **scalar** refers to a data type that just holds a single variable, as opposed to a **complex** data type that holds a more complicated data structure, like a `list` or `class`.\n",
    "\n",
    "In this lecture, we'll talk about **sets** and **tuples**, but primarily focus another complex data type called a **dictionary**.  https://docs.python.org/3/tutorial/datastructures.html#dictionaries\n",
    "\n",
    "Dictionaries are a collection of variable keys and values within a single variable.  In this example, we have a variable `v` that contains keys of `a` and `b` with corresponding values `'Three'` and `3`.\n",
    "```\n",
    "v = { \n",
    "  'a': 'Three', \n",
    "  'b': 3 \n",
    "}\n",
    "```"
   ]
  },
  {
   "cell_type": "code",
   "execution_count": 1,
   "metadata": {
    "collapsed": true
   },
   "outputs": [],
   "source": [
    "# We create an empty dictionary using curly braces:\n",
    "d = {}"
   ]
  },
  {
   "cell_type": "code",
   "execution_count": 2,
   "metadata": {
    "collapsed": false
   },
   "outputs": [],
   "source": [
    "# Or we can initialize it with key / value pairs:\n",
    "v = { 'a': 'Three', 'b': 3 }"
   ]
  },
  {
   "cell_type": "code",
   "execution_count": 3,
   "metadata": {
    "collapsed": false
   },
   "outputs": [
    {
     "data": {
      "text/plain": [
       "{'a': 'Three', 'b': 3}"
      ]
     },
     "execution_count": 3,
     "metadata": {},
     "output_type": "execute_result"
    }
   ],
   "source": [
    "v"
   ]
  },
  {
   "cell_type": "code",
   "execution_count": 4,
   "metadata": {
    "collapsed": false
   },
   "outputs": [],
   "source": [
    "# The keys within a dictionary can be of any type:\n",
    "elements = { \n",
    "    'H' : {\n",
    "        'name': 'Hydrogen',\n",
    "        'number': 1,\n",
    "        'isotopes': [1,2,3]\n",
    "    },\n",
    "    'He' : {\n",
    "        'name': 'Helium',\n",
    "        'number': 2,\n",
    "        'isotopes': [2,3,4]\n",
    "    }\n",
    "}"
   ]
  },
  {
   "cell_type": "code",
   "execution_count": 5,
   "metadata": {
    "collapsed": false
   },
   "outputs": [
    {
     "data": {
      "text/plain": [
       "{'H': {'isotopes': [1, 2, 3], 'name': 'Hydrogen', 'number': 1},\n",
       " 'He': {'isotopes': [2, 3, 4], 'name': 'Helium', 'number': 2}}"
      ]
     },
     "execution_count": 5,
     "metadata": {},
     "output_type": "execute_result"
    }
   ],
   "source": [
    "elements"
   ]
  },
  {
   "cell_type": "code",
   "execution_count": 13,
   "metadata": {
    "collapsed": false
   },
   "outputs": [
    {
     "ename": "KeyError",
     "evalue": "0",
     "output_type": "error",
     "traceback": [
      "\u001b[0;31m---------------------------------------------------------------------------\u001b[0m",
      "\u001b[0;31mKeyError\u001b[0m                                  Traceback (most recent call last)",
      "\u001b[0;32m<ipython-input-13-26b505835c9d>\u001b[0m in \u001b[0;36m<module>\u001b[0;34m()\u001b[0m\n\u001b[0;32m----> 1\u001b[0;31m \u001b[0melements\u001b[0m\u001b[0;34m[\u001b[0m\u001b[0;36m0\u001b[0m\u001b[0;34m]\u001b[0m\u001b[0;34m\u001b[0m\u001b[0m\n\u001b[0m",
      "\u001b[0;31mKeyError\u001b[0m: 0"
     ]
    }
   ],
   "source": [
    "elements[0] "
   ]
  },
  {
   "cell_type": "code",
   "execution_count": 6,
   "metadata": {
    "collapsed": true
   },
   "outputs": [],
   "source": [
    "# Note that the keys within a dictionary can only be used once.  \n",
    "# The following isn't illegal, but it may not do what you expect it to do.\n",
    "\n",
    "duplicate = {\n",
    "    'name': 'Paul Boal',\n",
    "    'name': 'Eric Westhus'\n",
    "}"
   ]
  },
  {
   "cell_type": "code",
   "execution_count": 7,
   "metadata": {
    "collapsed": false
   },
   "outputs": [
    {
     "data": {
      "text/plain": [
       "{'name': 'Eric Westhus'}"
      ]
     },
     "execution_count": 7,
     "metadata": {},
     "output_type": "execute_result"
    }
   ],
   "source": [
    "duplicate"
   ]
  },
  {
   "cell_type": "code",
   "execution_count": 8,
   "metadata": {
    "collapsed": true
   },
   "outputs": [],
   "source": [
    "duplicate = {}\n",
    "duplicate['name'] = 'Paul Boal'"
   ]
  },
  {
   "cell_type": "code",
   "execution_count": 9,
   "metadata": {
    "collapsed": false
   },
   "outputs": [
    {
     "data": {
      "text/plain": [
       "{'name': 'Paul Boal'}"
      ]
     },
     "execution_count": 9,
     "metadata": {},
     "output_type": "execute_result"
    }
   ],
   "source": [
    "duplicate"
   ]
  },
  {
   "cell_type": "code",
   "execution_count": 10,
   "metadata": {
    "collapsed": true
   },
   "outputs": [],
   "source": [
    "duplicate['name'] = 'Eric Westhus'"
   ]
  },
  {
   "cell_type": "code",
   "execution_count": 11,
   "metadata": {
    "collapsed": false
   },
   "outputs": [
    {
     "data": {
      "text/plain": [
       "{'name': 'Eric Westhus'}"
      ]
     },
     "execution_count": 11,
     "metadata": {},
     "output_type": "execute_result"
    }
   ],
   "source": [
    "duplicate"
   ]
  },
  {
   "cell_type": "markdown",
   "metadata": {},
   "source": [
    "## Accessing Keys/Values of the Dictionary"
   ]
  },
  {
   "cell_type": "markdown",
   "metadata": {},
   "source": [
    "**Note that the ordering of keys is ARBITRARY, not necessarily how they are entered or alphabetically**"
   ]
  },
  {
   "cell_type": "code",
   "execution_count": 14,
   "metadata": {
    "collapsed": false
   },
   "outputs": [
    {
     "name": "stdout",
     "output_type": "stream",
     "text": [
      "Help on method_descriptor:\n",
      "\n",
      "__getitem__(...)\n",
      "    x.__getitem__(y) <==> x[y]\n",
      "\n"
     ]
    }
   ],
   "source": [
    "# __getite__ == [] \n",
    "help(dict.__getitem__)"
   ]
  },
  {
   "cell_type": "code",
   "execution_count": 20,
   "metadata": {
    "collapsed": false,
    "scrolled": true
   },
   "outputs": [
    {
     "name": "stdout",
     "output_type": "stream",
     "text": [
      "He\n",
      "{'name': 'Helium', 'number': 2, 'isotopes': [2, 3, 4]}\n",
      "He is short for Helium\n",
      "H\n",
      "{'name': 'Hydrogen', 'number': 1, 'isotopes': [1, 2, 3, 4]}\n",
      "H is short for Hydrogen\n"
     ]
    }
   ],
   "source": [
    "# for key in dictionary\n",
    "for e in elements:\n",
    "    print(e)\n",
    "    print(elements[e])\n",
    "    print(\"{:s} is short for {:s}\".format(e, elements[e]['name']))"
   ]
  },
  {
   "cell_type": "code",
   "execution_count": 18,
   "metadata": {
    "collapsed": false
   },
   "outputs": [],
   "source": [
    "elements['H']['isotopes'].append(4)"
   ]
  },
  {
   "cell_type": "code",
   "execution_count": 19,
   "metadata": {
    "collapsed": false
   },
   "outputs": [
    {
     "data": {
      "text/plain": [
       "{'isotopes': [1, 2, 3, 4], 'name': 'Hydrogen', 'number': 1}"
      ]
     },
     "execution_count": 19,
     "metadata": {},
     "output_type": "execute_result"
    }
   ],
   "source": [
    "elements['H']"
   ]
  },
  {
   "cell_type": "code",
   "execution_count": 21,
   "metadata": {
    "collapsed": false
   },
   "outputs": [],
   "source": [
    "elements['H']['name'] = 'Hydrogen?'"
   ]
  },
  {
   "cell_type": "code",
   "execution_count": 22,
   "metadata": {
    "collapsed": false
   },
   "outputs": [
    {
     "data": {
      "text/plain": [
       "{'isotopes': [1, 2, 3, 4], 'name': 'Hydrogen?', 'number': 1}"
      ]
     },
     "execution_count": 22,
     "metadata": {},
     "output_type": "execute_result"
    }
   ],
   "source": [
    "elements['H']\n"
   ]
  },
  {
   "cell_type": "code",
   "execution_count": null,
   "metadata": {
    "collapsed": true
   },
   "outputs": [],
   "source": []
  },
  {
   "cell_type": "markdown",
   "metadata": {},
   "source": [
    "## Other ways of creating dictionaries"
   ]
  },
  {
   "cell_type": "code",
   "execution_count": 23,
   "metadata": {
    "collapsed": false
   },
   "outputs": [],
   "source": [
    "keys = ['one', 'two', 'three']\n",
    "vals = [1,     2,     3      ]\n"
   ]
  },
  {
   "cell_type": "code",
   "execution_count": 26,
   "metadata": {
    "collapsed": false
   },
   "outputs": [],
   "source": [
    "d = dict(zip(keys, vals))"
   ]
  },
  {
   "cell_type": "code",
   "execution_count": 27,
   "metadata": {
    "collapsed": false
   },
   "outputs": [
    {
     "data": {
      "text/plain": [
       "{'one': 1, 'three': 3, 'two': 2}"
      ]
     },
     "execution_count": 27,
     "metadata": {},
     "output_type": "execute_result"
    }
   ],
   "source": [
    "d"
   ]
  },
  {
   "cell_type": "markdown",
   "metadata": {},
   "source": [
    "If key names are really simple, we can use a different syntax:"
   ]
  },
  {
   "cell_type": "code",
   "execution_count": null,
   "metadata": {
    "collapsed": false
   },
   "outputs": [],
   "source": [
    "d = dict(one=1, two=2, three=3)"
   ]
  },
  {
   "cell_type": "code",
   "execution_count": null,
   "metadata": {
    "collapsed": false
   },
   "outputs": [],
   "source": [
    "d"
   ]
  },
  {
   "cell_type": "code",
   "execution_count": 32,
   "metadata": {
    "collapsed": false
   },
   "outputs": [
    {
     "data": {
      "text/plain": [
       "{'one': 1, 'three': 3, 'two': 2}"
      ]
     },
     "execution_count": 32,
     "metadata": {},
     "output_type": "execute_result"
    }
   ],
   "source": [
    "keys = ['one', 'two', 'three']\n",
    "vals = [1,2,3]\n",
    "dict(zip(keys, vals))"
   ]
  },
  {
   "cell_type": "code",
   "execution_count": 37,
   "metadata": {
    "collapsed": true
   },
   "outputs": [],
   "source": [
    "d = {}"
   ]
  },
  {
   "cell_type": "code",
   "execution_count": 38,
   "metadata": {
    "collapsed": false
   },
   "outputs": [],
   "source": [
    "for index in range(len(keys)):\n",
    "    d[vals[index]] = keys[index]"
   ]
  },
  {
   "cell_type": "code",
   "execution_count": 39,
   "metadata": {
    "collapsed": false
   },
   "outputs": [
    {
     "data": {
      "text/plain": [
       "{1: 'one', 2: 'two', 3: 'three'}"
      ]
     },
     "execution_count": 39,
     "metadata": {},
     "output_type": "execute_result"
    }
   ],
   "source": [
    "d"
   ]
  },
  {
   "cell_type": "code",
   "execution_count": 40,
   "metadata": {
    "collapsed": false
   },
   "outputs": [
    {
     "data": {
      "text/plain": [
       "'one'"
      ]
     },
     "execution_count": 40,
     "metadata": {},
     "output_type": "execute_result"
    }
   ],
   "source": [
    "d[1] "
   ]
  },
  {
   "cell_type": "code",
   "execution_count": 41,
   "metadata": {
    "collapsed": false
   },
   "outputs": [
    {
     "data": {
      "text/plain": [
       "{1: 'Seven', 2: 'two', 3: 'three'}"
      ]
     },
     "execution_count": 41,
     "metadata": {},
     "output_type": "execute_result"
    }
   ],
   "source": [
    "d[1] = 'Seven'\n",
    "d"
   ]
  },
  {
   "cell_type": "code",
   "execution_count": 42,
   "metadata": {
    "collapsed": false
   },
   "outputs": [
    {
     "data": {
      "text/plain": [
       "{'H': {'isotopes': [1, 2, 3, 4], 'name': 'Hydrogen?', 'number': 1},\n",
       " 'He': {'isotopes': [2, 3, 4], 'name': 'Helium', 'number': 2}}"
      ]
     },
     "execution_count": 42,
     "metadata": {},
     "output_type": "execute_result"
    }
   ],
   "source": [
    "elements"
   ]
  },
  {
   "cell_type": "code",
   "execution_count": 44,
   "metadata": {
    "collapsed": false
   },
   "outputs": [],
   "source": [
    "elements['H'] = 1"
   ]
  },
  {
   "cell_type": "code",
   "execution_count": 45,
   "metadata": {
    "collapsed": false
   },
   "outputs": [
    {
     "data": {
      "text/plain": [
       "{'H': 1, 'He': {'isotopes': [2, 3, 4], 'name': 'Helium', 'number': 2}}"
      ]
     },
     "execution_count": 45,
     "metadata": {},
     "output_type": "execute_result"
    }
   ],
   "source": [
    "elements"
   ]
  },
  {
   "cell_type": "code",
   "execution_count": 51,
   "metadata": {
    "collapsed": false
   },
   "outputs": [],
   "source": [
    "d = dict(zip(keys, vals))"
   ]
  },
  {
   "cell_type": "code",
   "execution_count": 52,
   "metadata": {
    "collapsed": true
   },
   "outputs": [],
   "source": [
    "d[1] = 'Seven'"
   ]
  },
  {
   "cell_type": "code",
   "execution_count": 53,
   "metadata": {
    "collapsed": false
   },
   "outputs": [
    {
     "data": {
      "text/plain": [
       "{1: 'Seven', 'two': 2, 'three': 3, 'one': 1}"
      ]
     },
     "execution_count": 53,
     "metadata": {},
     "output_type": "execute_result"
    }
   ],
   "source": [
    "d"
   ]
  },
  {
   "cell_type": "code",
   "execution_count": 54,
   "metadata": {
    "collapsed": false
   },
   "outputs": [
    {
     "data": {
      "text/plain": [
       "{'one': 1, 'uno': 1}"
      ]
     },
     "execution_count": 54,
     "metadata": {},
     "output_type": "execute_result"
    }
   ],
   "source": [
    "d = { 'one': 1, 'uno': 1 }\n",
    "d"
   ]
  },
  {
   "cell_type": "markdown",
   "metadata": {},
   "source": [
    "## Other ways of looping over dictionaries"
   ]
  },
  {
   "cell_type": "code",
   "execution_count": 59,
   "metadata": {
    "collapsed": false
   },
   "outputs": [
    {
     "name": "stdout",
     "output_type": "stream",
     "text": [
      "He = {'name': 'Helium', 'number': 2, 'isotopes': [2, 3, 4]}\n",
      "H = 1\n"
     ]
    }
   ],
   "source": [
    "for abbr, info in elements.items():\n",
    "    print(\"{:s} = {:s}\".format(str(abbr),str(info)))"
   ]
  },
  {
   "cell_type": "markdown",
   "metadata": {},
   "source": [
    "## Ways to use dictionaries"
   ]
  },
  {
   "cell_type": "code",
   "execution_count": 62,
   "metadata": {
    "collapsed": false
   },
   "outputs": [
    {
     "data": {
      "text/plain": [
       "{'amount': 100, 'drug': 'Aspirin', 'mass_unit': 'mg', 'time_unit': 'hr'}"
      ]
     },
     "execution_count": 62,
     "metadata": {},
     "output_type": "execute_result"
    }
   ],
   "source": [
    "Asprin100 = dict( drug=\"Aspirin\", amount=100, mass_unit=\"mg\", time_unit=\"hr\")\n",
    "Asprin100"
   ]
  },
  {
   "cell_type": "code",
   "execution_count": 63,
   "metadata": {
    "collapsed": true
   },
   "outputs": [],
   "source": [
    "dosages = [\n",
    "    dict( drug=\"Aspirin\", amount=100, mass_unit=\"mg\", time_unit=\"hr\"),\n",
    "    dict( drug=\"Digoxin\", amount=50,  mass_unit=\"mg\", time_unit=\"hr\")\n",
    "]"
   ]
  },
  {
   "cell_type": "code",
   "execution_count": 64,
   "metadata": {
    "collapsed": false
   },
   "outputs": [
    {
     "data": {
      "text/plain": [
       "[{'amount': 100, 'drug': 'Aspirin', 'mass_unit': 'mg', 'time_unit': 'hr'},\n",
       " {'amount': 50, 'drug': 'Digoxin', 'mass_unit': 'mg', 'time_unit': 'hr'}]"
      ]
     },
     "execution_count": 64,
     "metadata": {},
     "output_type": "execute_result"
    }
   ],
   "source": [
    "dosages"
   ]
  },
  {
   "cell_type": "code",
   "execution_count": 65,
   "metadata": {
    "collapsed": false
   },
   "outputs": [
    {
     "name": "stdout",
     "output_type": "stream",
     "text": [
      "Aspirin 100 mg/hr\n",
      "Digoxin 50 mg/hr\n"
     ]
    }
   ],
   "source": [
    "for d in dosages:\n",
    "    print(\"{:s} {:d} {:s}/{:s}\".format(d[\"drug\"],d[\"amount\"],d[\"mass_unit\"],d[\"time_unit\"]))"
   ]
  },
  {
   "cell_type": "markdown",
   "metadata": {},
   "source": [
    "## Reading CSV as a dictionary\n",
    "\n",
    "The csv module has a DictReader class that will read the CSV file into a list of dictionaries with one row per input data row, and key/value pairs that use the column names from the header row as key names."
   ]
  },
  {
   "cell_type": "code",
   "execution_count": 71,
   "metadata": {
    "collapsed": false
   },
   "outputs": [
    {
     "name": "stdout",
     "output_type": "stream",
     "text": [
      "UNITED STATES\n",
      "NORTHEAST REGION\n",
      "MIDWEST REGION\n",
      "SOUTH REGION\n",
      "WEST REGION\n",
      "ALABAMA\n",
      "ALASKA\n",
      "ARIZONA\n",
      "ARKANSAS\n",
      "CALIFORNIA\n",
      "COLORADO\n",
      "CONNECTICUT\n",
      "DELAWARE\n",
      "DISTRICT OF COLUMBIA\n",
      "FLORIDA\n",
      "GEORGIA\n",
      "HAWAII\n",
      "IDAHO\n",
      "ILLINOIS\n",
      "INDIANA\n",
      "IOWA\n",
      "KANSAS\n",
      "KENTUCKY\n",
      "LOUISIANA\n",
      "MAINE\n",
      "MARYLAND\n",
      "MASSACHUSETTS\n",
      "MICHIGAN\n",
      "MINNESOTA\n",
      "MISSISSIPPI\n",
      "MISSOURI\n",
      "MONTANA\n",
      "NEBRASKA\n",
      "NEVADA\n",
      "NEW HAMPSHIRE\n",
      "NEW JERSEY\n",
      "NEW MEXICO\n",
      "NEW YORK\n",
      "NORTH CAROLINA\n",
      "NORTH DAKOTA\n",
      "OHIO\n",
      "OKLAHOMA\n",
      "OREGON\n",
      "PENNSYLVANIA\n",
      "RHODE ISLAND\n",
      "SOUTH CAROLINA\n",
      "SOUTH DAKOTA\n",
      "TENNESSEE\n",
      "TEXAS\n",
      "UTAH\n",
      "VERMONT\n",
      "VIRGINIA\n",
      "WASHINGTON\n",
      "WEST VIRGINIA\n",
      "WISCONSIN\n",
      "WYOMING\n",
      "PUERTO RICO\n"
     ]
    }
   ],
   "source": [
    "import csv\n",
    "with open('/midterm/census.csv') as f:\n",
    "    l = csv.DictReader(f)\n",
    "    for item in l:\n",
    "        print(item['NAME'])\n",
    "        \n"
   ]
  },
  {
   "cell_type": "code",
   "execution_count": 74,
   "metadata": {
    "collapsed": false
   },
   "outputs": [
    {
     "name": "stdout",
     "output_type": "stream",
     "text": [
      "{'RBIRTH2011': '11.64168009', 'RDOMESTICMIG2011': '-2.947186446', 'STATE': '00', 'RNATURALINC2014': '2.7602304128', 'RDOMESTICMIG2015': '-5.763683328', 'RNATURALINC2013': '2.7844946193', 'NATURALINC2010': '52643', 'BIRTHS2014': '631620', 'NPOPCHG_2013': '184297', 'INTERNATIONALMIG2012': '242341', 'POPESTIMATE2011': '55638038', 'RNATURALINC2012': '3.1727476767', 'RNATURALINC2011': '3.159516597', 'RNETMIG2013': '0.78949056', 'RDEATH2014': '8.4995330359', 'NETMIG2013': '44154', 'NPOPCHG_2014': '151928', 'SUMLEV': '020', 'DEATHS2012': '461046', 'RBIRTH2014': '11.259763449', 'POPESTIMATE2010': '55387174', 'DOMESTICMIG2015': '-324078', 'RNETMIG2015': '-0.448231941', 'NPOPCHG_2015': '112610', 'RINTERNATIONALMIG2015': '5.3154513872', 'REGION': '1', 'RDEATH2013': '8.5832289365', 'NATURALINC2015': '155837', 'RNATURALINC2015': '2.7715399342', 'BIRTHS2013': '635765', 'RDEATH2011': '8.4821634927', 'NETMIG2010': '18218', 'NATURALINC2011': '175393', 'RINTERNATIONALMIG2012': '4.3479729736', 'RESIDUAL2011': '-8314', 'NPOPCHG_2011': '250864', 'DOMESTICMIG2014': '-290692', 'RNETMIG2014': '0.141134776', 'ESTIMATESBASE2010': '55318348', 'RINTERNATIONALMIG2011': '4.4564832716', 'RESIDUAL2010': '-2035', 'RDEATH2012': '8.2718794905', 'POPESTIMATE2015': '56283891', 'RESIDUAL2013': '-15586', 'NETMIG2014': '7917', 'INTERNATIONALMIG2015': '298875', 'BIRTHS2010': '163421', 'RDOMESTICMIG2014': '-5.182108161', 'DEATHS2014': '476784', 'BIRTHS2015': '635486', 'POPESTIMATE2012': '55835056', 'DOMESTICMIG2012': '-218973', 'RNETMIG2012': '0.4192581216', 'NETMIG2015': '-25203', 'BIRTHS2012': '637884', 'POPESTIMATE2014': '56171281', 'NETMIG2011': '83785', 'NATURALINC2014': '154836', 'RBIRTH2012': '11.444627167', 'DEATHS2015': '479649', 'INTERNATIONALMIG2013': '259986', 'RINTERNATIONALMIG2013': '4.6486500143', 'NETMIG2012': '23368', 'POPESTIMATE2013': '56019353', 'RESIDUAL2014': '-10825', 'NPOPCHG_2010': '68826', 'DOMESTICMIG2013': '-215832', 'NATURALINC2013': '155729', 'INTERNATIONALMIG2010': '52737', 'RBIRTH2015': '11.302032422', 'RESIDUAL2015': '-18024', 'DEATHS2011': '470867', 'DOMESTICMIG2011': '-163606', 'NATURALINC2012': '176838', 'NPOPCHG_2012': '197018', 'RDOMESTICMIG2012': '-3.928714852', 'NAME': 'NORTHEAST REGION', 'DOMESTICMIG2010': '-34519', 'CENSUS2010POP': '55317240', 'DEATHS2013': '480036', 'RNETMIG2011': '1.5092968253', 'INTERNATIONALMIG2014': '298609', 'RESIDUAL2012': '-3188', 'DIVISION': '0', 'BIRTHS2011': '646260', 'RDEATH2015': '8.5304924882', 'RBIRTH2013': '11.367723556', 'INTERNATIONALMIG2011': '247391', 'RDOMESTICMIG2013': '-3.859159454', 'DEATHS2010': '110778', 'RINTERNATIONALMIG2014': '5.3232429367'}\n"
     ]
    }
   ],
   "source": [
    "import csv\n",
    "with open('/midterm/census.csv') as f:\n",
    "    L = csv.DictReader(f)\n",
    "    row1 = next(L)\n",
    "#    print(row1)\n",
    "    row2 = next(L)\n",
    "    print(row2)"
   ]
  },
  {
   "cell_type": "code",
   "execution_count": 78,
   "metadata": {
    "collapsed": false
   },
   "outputs": [
    {
     "name": "stdout",
     "output_type": "stream",
     "text": [
      "318907401\n"
     ]
    }
   ],
   "source": [
    "import csv\n",
    "\n",
    "def get_population(filename, year):\n",
    "    with open(filename) as f:\n",
    "        dict = csv.DictReader(f)\n",
    "        row1 = next(dict)\n",
    "        #print(row1['NAME'], row1['POPESTIMATE'+str(year)])\n",
    "        return row1['POPESTIMATE'+str(year)]\n",
    "    \n",
    "print(get_population('/midterm/census.csv', 2014))"
   ]
  },
  {
   "cell_type": "code",
   "execution_count": 80,
   "metadata": {
    "collapsed": false
   },
   "outputs": [
    {
     "name": "stdout",
     "output_type": "stream",
     "text": [
      "['RBIRTH2011', 'RDOMESTICMIG2011', 'STATE', 'RNATURALINC2014', 'RDOMESTICMIG2015', 'RNATURALINC2013', 'NATURALINC2010', 'BIRTHS2014', 'NPOPCHG_2013', 'INTERNATIONALMIG2012', 'POPESTIMATE2011', 'RNATURALINC2012', 'RNATURALINC2011', 'RNETMIG2013', 'RDEATH2014', 'NETMIG2013', 'NPOPCHG_2014', 'SUMLEV', 'DEATHS2012', 'RBIRTH2014', 'POPESTIMATE2010', 'DOMESTICMIG2015', 'RNETMIG2015', 'NPOPCHG_2015', 'RINTERNATIONALMIG2015', 'REGION', 'RDEATH2013', 'NATURALINC2015', 'RNATURALINC2015', 'BIRTHS2013', 'RDEATH2011', 'NETMIG2010', 'NATURALINC2011', 'RINTERNATIONALMIG2012', 'RESIDUAL2011', 'NPOPCHG_2011', 'DOMESTICMIG2014', 'RNETMIG2014', 'ESTIMATESBASE2010', 'RINTERNATIONALMIG2011', 'RESIDUAL2010', 'RDEATH2012', 'POPESTIMATE2015', 'RESIDUAL2013', 'NETMIG2014', 'INTERNATIONALMIG2015', 'BIRTHS2010', 'RDOMESTICMIG2014', 'DEATHS2014', 'BIRTHS2015', 'POPESTIMATE2012', 'DOMESTICMIG2012', 'RNETMIG2012', 'NETMIG2015', 'BIRTHS2012', 'POPESTIMATE2014', 'NETMIG2011', 'NATURALINC2014', 'RBIRTH2012', 'DEATHS2015', 'INTERNATIONALMIG2013', 'RINTERNATIONALMIG2013', 'NETMIG2012', 'POPESTIMATE2013', 'RESIDUAL2014', 'NPOPCHG_2010', 'DOMESTICMIG2013', 'NATURALINC2013', 'INTERNATIONALMIG2010', 'RBIRTH2015', 'RESIDUAL2015', 'DEATHS2011', 'DOMESTICMIG2011', 'NATURALINC2012', 'NPOPCHG_2012', 'RDOMESTICMIG2012', 'NAME', 'DOMESTICMIG2010', 'CENSUS2010POP', 'DEATHS2013', 'RNETMIG2011', 'INTERNATIONALMIG2014', 'RESIDUAL2012', 'DIVISION', 'BIRTHS2011', 'RDEATH2015', 'RBIRTH2013', 'INTERNATIONALMIG2011', 'RDOMESTICMIG2013', 'DEATHS2010', 'RINTERNATIONALMIG2014']\n"
     ]
    }
   ],
   "source": [
    "import csv\n",
    "with open('/midterm/census.csv') as f:\n",
    "    L = csv.DictReader(f)\n",
    "    row1 = next(L)\n",
    "    print(list(row1.keys()))"
   ]
  },
  {
   "cell_type": "markdown",
   "metadata": {},
   "source": [
    "# Inverting Dictionaries"
   ]
  },
  {
   "cell_type": "code",
   "execution_count": 81,
   "metadata": {
    "collapsed": true
   },
   "outputs": [],
   "source": [
    "patient_ages = {\n",
    "    \"E143291\": 19,\n",
    "    \"E872839\": 32,\n",
    "    \"E878198\": 19,\n",
    "    \"E871111\": 21,\n",
    "    \"E143299\": 3,\n",
    "    \"E123332\": 21,\n",
    "    \"E989891\": 19\n",
    "} "
   ]
  },
  {
   "cell_type": "code",
   "execution_count": 85,
   "metadata": {
    "collapsed": false
   },
   "outputs": [
    {
     "name": "stdout",
     "output_type": "stream",
     "text": [
      "E123332 21\n",
      "21 is not here\n",
      "E989891 19\n",
      "19 is not here\n",
      "E143291 19\n",
      "19 is already here\n",
      "E872839 32\n",
      "32 is not here\n",
      "E143299 3\n",
      "3 is not here\n",
      "E871111 21\n",
      "21 is already here\n",
      "E878198 19\n",
      "19 is already here\n"
     ]
    },
    {
     "data": {
      "text/plain": [
       "{3: ['E143299'],\n",
       " 19: ['E989891', 'E143291', 'E878198'],\n",
       " 21: ['E123332', 'E871111'],\n",
       " 32: ['E872839']}"
      ]
     },
     "execution_count": 85,
     "metadata": {},
     "output_type": "execute_result"
    }
   ],
   "source": [
    "age_patients = {}\n",
    "for pat_id, age in patient_ages.items():\n",
    "    print(pat_id, age)\n",
    "    \n",
    "    if age in age_patients:\n",
    "        print(age, \"is already here\")\n",
    "        age_patients[age].append(pat_id)\n",
    "    else:\n",
    "        print(age, \"is not here\")\n",
    "        age_patients[age] = [pat_id]\n",
    "\n",
    "age_patients"
   ]
  },
  {
   "cell_type": "code",
   "execution_count": 89,
   "metadata": {
    "collapsed": false
   },
   "outputs": [
    {
     "name": "stdout",
     "output_type": "stream",
     "text": [
      "E123332 21\n",
      "Age 21 has 1 patients\n",
      "E989891 19\n",
      "Age 19 has 1 patients\n",
      "E143291 19\n",
      "Age 19 has 2 patients\n",
      "E872839 32\n",
      "Age 32 has 1 patients\n",
      "E143299 3\n",
      "Age 3 has 1 patients\n",
      "E871111 21\n",
      "Age 21 has 2 patients\n",
      "E878198 19\n",
      "Age 19 has 3 patients\n",
      "-- Age 32 has 1 patients\n",
      "-- Age 3 has 1 patients\n",
      "-- Age 19 has 3 patients\n",
      "-- Age 21 has 2 patients\n"
     ]
    }
   ],
   "source": [
    "age_patients = {}\n",
    "for pat_id, age in patient_ages.items():\n",
    "    print(pat_id, age)\n",
    "\n",
    "    if age not in age_patients:\n",
    "        age_patients[age] = []\n",
    "    \n",
    "    age_patients[age].append(pat_id)\n",
    "    print(\"Age {:d} has {:d} patients\".format(age, len(age_patients[age])))\n",
    "\n",
    "age_patients\n",
    "\n",
    "for age, pat_list in age_patients.items():\n",
    "    print(\"-- Age {:d} has {:d} patients\".format(age, len(pat_list)))\n",
    "    "
   ]
  },
  {
   "cell_type": "markdown",
   "metadata": {},
   "source": [
    "# Sets\n",
    "\n",
    "Sets are a special kind of list that is always a unique set of values - there won't be any duplicates.\n",
    "\n",
    "You can also think about it as just a dictionary with only keys - remember that dictionaries can only have one entry for each key."
   ]
  },
  {
   "cell_type": "code",
   "execution_count": 90,
   "metadata": {
    "collapsed": false
   },
   "outputs": [
    {
     "data": {
      "text/plain": [
       "{'F', 'M', 'O', 'U'}"
      ]
     },
     "execution_count": 90,
     "metadata": {},
     "output_type": "execute_result"
    }
   ],
   "source": [
    "sex = {'M', 'F', 'U', 'O'}\n",
    "sex"
   ]
  },
  {
   "cell_type": "code",
   "execution_count": 91,
   "metadata": {
    "collapsed": false
   },
   "outputs": [
    {
     "data": {
      "text/plain": [
       "{'F', 'M', 'O', 'U'}"
      ]
     },
     "execution_count": 91,
     "metadata": {},
     "output_type": "execute_result"
    }
   ],
   "source": [
    "sex = {'M', 'F', 'U', 'M', 'F', 'O'}\n",
    "sex"
   ]
  },
  {
   "cell_type": "code",
   "execution_count": 92,
   "metadata": {
    "collapsed": false
   },
   "outputs": [
    {
     "data": {
      "text/plain": [
       "{'F', 'M', 'O', 'T', 'U'}"
      ]
     },
     "execution_count": 92,
     "metadata": {},
     "output_type": "execute_result"
    }
   ],
   "source": [
    "sex.add('T')\n",
    "sex"
   ]
  },
  {
   "cell_type": "markdown",
   "metadata": {},
   "source": [
    "You can also do all kinds of other set operations: See Chapter 11, p202"
   ]
  },
  {
   "cell_type": "markdown",
   "metadata": {},
   "source": [
    "# Tuples\n",
    "\n",
    "There's another special kind of ordered list called a tuple.  What's special about tuples is that they can't be altered once they're created, even though the objects inside them can be.  Weird.\n",
    "\n",
    "One thing you can do with tuples, is assign to multiple variables at once."
   ]
  },
  {
   "cell_type": "code",
   "execution_count": 93,
   "metadata": {
    "collapsed": false
   },
   "outputs": [
    {
     "data": {
      "text/plain": [
       "1"
      ]
     },
     "execution_count": 93,
     "metadata": {},
     "output_type": "execute_result"
    }
   ],
   "source": [
    "(a, b) = (1, 2)\n",
    "a"
   ]
  },
  {
   "cell_type": "code",
   "execution_count": 94,
   "metadata": {
    "collapsed": false
   },
   "outputs": [
    {
     "data": {
      "text/plain": [
       "2"
      ]
     },
     "execution_count": 94,
     "metadata": {},
     "output_type": "execute_result"
    }
   ],
   "source": [
    "b"
   ]
  },
  {
   "cell_type": "code",
   "execution_count": null,
   "metadata": {
    "collapsed": true
   },
   "outputs": [],
   "source": []
  }
 ],
 "metadata": {
  "kernelspec": {
   "display_name": "Python 3",
   "language": "python",
   "name": "python3"
  },
  "language_info": {
   "codemirror_mode": {
    "name": "ipython",
    "version": 3
   },
   "file_extension": ".py",
   "mimetype": "text/x-python",
   "name": "python",
   "nbconvert_exporter": "python",
   "pygments_lexer": "ipython3",
   "version": "3.4.3"
  }
 },
 "nbformat": 4,
 "nbformat_minor": 0
}
