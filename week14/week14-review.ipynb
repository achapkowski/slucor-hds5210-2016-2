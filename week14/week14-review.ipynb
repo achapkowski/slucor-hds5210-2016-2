{
 "cells": [
  {
   "cell_type": "markdown",
   "metadata": {},
   "source": [
    "_HDS5210 Programming for Health Data Science_\n",
    "\n",
    "# Week 14\n",
    "\n",
    "Note that there was no Week 13 (Thanksgiving).\n",
    "\n",
    "Week 14 is a review of the year and preparation for the final.\n",
    "\n",
    "In this folder are the solutions from all of the homework this semester and the midterm.\n"
   ]
  },
  {
   "cell_type": "markdown",
   "metadata": {
    "collapsed": true
   },
   "source": [
    "## Important Concepts to Review\n",
    "\n",
    "* **Algorithms** - Writing out your approach to solving a problem.\n",
    "* **JSON** - Reading JSON formatted information from a file into a Python object\n",
    "* **XML** - Reading XML formatted information from a file into a Python object\n",
    "* **Databases** - Querying a database and processing the information\n",
    "* **doctest** - Using doctest to test your function definitions\n",
    "* **lists & dictionaries** - Processing data that is contained in Python lists any Python dictionaries\n",
    "\n"
   ]
  },
  {
   "cell_type": "code",
   "execution_count": null,
   "metadata": {
    "collapsed": true
   },
   "outputs": [],
   "source": []
  }
 ],
 "metadata": {
  "kernelspec": {
   "display_name": "Python 3",
   "language": "python",
   "name": "python3"
  },
  "language_info": {
   "codemirror_mode": {
    "name": "ipython",
    "version": 3
   },
   "file_extension": ".py",
   "mimetype": "text/x-python",
   "name": "python",
   "nbconvert_exporter": "python",
   "pygments_lexer": "ipython3",
   "version": "3.4.3"
  }
 },
 "nbformat": 4,
 "nbformat_minor": 0
}
