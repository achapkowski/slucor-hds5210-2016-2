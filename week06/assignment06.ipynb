{
 "cells": [
  {
   "cell_type": "markdown",
   "metadata": {},
   "source": [
    "_HDS5210 - Python for Health Data Science_\n",
    "\n",
    "# Week 6 (Sept 28) Assignment\n",
    "\n",
    "This week, we're working on doing things with lists of values and looping over lists of items."
   ]
  },
  {
   "cell_type": "markdown",
   "metadata": {},
   "source": [
    "## 1 - Creating  a list from a string\n",
    "\n",
    "Take the single string exactly like this \"Amoxicillin, Digoxin, Metoprolol Tartrate, Motrin\" and create an array that has one item each, with the names in all lowercase and with no extra spaces at the beginning or end."
   ]
  },
  {
   "cell_type": "code",
   "execution_count": 1,
   "metadata": {
    "collapsed": true
   },
   "outputs": [],
   "source": [
    "drugs = \"Amoxicillin, Digoxin, Metoprolol Tartrate, Motrin\""
   ]
  },
  {
   "cell_type": "markdown",
   "metadata": {},
   "source": [
    "Desired output:\n",
    "```\n",
    "['amoxicillin', 'dignoxin', 'metroprolol tartrate', 'motrin']\n",
    "```"
   ]
  },
  {
   "cell_type": "code",
   "execution_count": 3,
   "metadata": {
    "collapsed": false
   },
   "outputs": [
    {
     "name": "stdout",
     "output_type": "stream",
     "text": [
      "Help on method_descriptor:\n",
      "\n",
      "strip(...)\n",
      "    S.strip([chars]) -> str\n",
      "    \n",
      "    Return a copy of the string S with leading and trailing\n",
      "    whitespace removed.\n",
      "    If chars is given and not None, remove characters in chars instead.\n",
      "\n"
     ]
    }
   ],
   "source": [
    "help(str.strip)"
   ]
  },
  {
   "cell_type": "code",
   "execution_count": 7,
   "metadata": {
    "collapsed": false
   },
   "outputs": [
    {
     "name": "stdout",
     "output_type": "stream",
     "text": [
      "Length of d: 4\n",
      "i = 0\n",
      "d[i] = Amoxicillin\n",
      "i = 1\n",
      "d[i] =  Digoxin\n",
      "i = 2\n",
      "d[i] =  Metoprolol Tartrate\n",
      "i = 3\n",
      "d[i] =  Motrin\n",
      "['Amoxicillin', 'Digoxin', 'Metoprolol Tartrate', 'Motrin']\n"
     ]
    }
   ],
   "source": [
    "d = drugs.split(',')\n",
    "print(\"Length of d: \" + str(len(d)))\n",
    "for i in range(len(d)):\n",
    "    print(\"i = \" + str(i))\n",
    "    print(\"d[i] = \" + d[i])\n",
    "    d[i] = d[i].strip()\n",
    "    \n",
    "print(d)"
   ]
  },
  {
   "cell_type": "markdown",
   "metadata": {},
   "source": [
    "## 2 - Filtering a list\n",
    "\n",
    "The appropriate limit for Digoxin is 12 mcg/kg.  Starting with the list of dosages below, loop through and create a new list that contains on the dosages that are within the allowed amounts for a patient who weighs 50 kg."
   ]
  },
  {
   "cell_type": "code",
   "execution_count": 8,
   "metadata": {
    "collapsed": true
   },
   "outputs": [],
   "source": [
    "allow = []\n",
    "available = [['Digoxin',170,'mgc'],\n",
    "             ['Digoxin',280,'mgc'],\n",
    "             ['Digoxin',500,'mgc'],\n",
    "             ['Digoxin',680,'mgc'],\n",
    "             ['Digoxin',1000,'mgc']]"
   ]
  },
  {
   "cell_type": "markdown",
   "metadata": {},
   "source": [
    "Desired output for the value of `allow`\n",
    "\n",
    "```\n",
    "[['Digoxin', 170, 'mgc'], ['Digoxin', 280, 'mgc'], ['Digoxin', 500, 'mgc']]\n",
    "```"
   ]
  },
  {
   "cell_type": "markdown",
   "metadata": {},
   "source": [
    "## 3 - While \n",
    "\n",
    "Starting with this list `['amoxicillin','dignoxin','metroprolol tartrate','motrin']`, create a comma separated list that contains as many values as possible without being longer that 20 total characters in length.\n"
   ]
  },
  {
   "cell_type": "code",
   "execution_count": 8,
   "metadata": {
    "collapsed": true
   },
   "outputs": [],
   "source": [
    "druglist = ['amoxicillin','dignoxin','metroprolol tartrate','motrin']"
   ]
  },
  {
   "cell_type": "markdown",
   "metadata": {},
   "source": [
    "Desired output:\n",
    "\n",
    "```\n",
    "'amoxicillin,dignoxin,'\n",
    "```\n",
    "\n",
    "Extra credit if you can do this without the extra comma at the end of the list."
   ]
  },
  {
   "cell_type": "code",
   "execution_count": 14,
   "metadata": {
    "collapsed": false
   },
   "outputs": [
    {
     "data": {
      "text/plain": [
       "',amoxicillin,dignoxin,metroprolol tartrate,motrin'"
      ]
     },
     "execution_count": 14,
     "metadata": {},
     "output_type": "execute_result"
    }
   ],
   "source": [
    "output = \"\"\n",
    "debug = \"\"\n",
    "for d in druglist:\n",
    "    debug = debug + (\"Current value of output: \" + output)\n",
    "    debug = debug + (\"Current item is: \" + d)\n",
    "    output = output + \",\" + d\n",
    "    debug = debug + (\"Output is now: \" + output)\n",
    "    debug = debug + (\"---\")\n",
    "\n",
    "output    "
   ]
  },
  {
   "cell_type": "code",
   "execution_count": 17,
   "metadata": {
    "collapsed": false
   },
   "outputs": [],
   "source": [
    "debuglist = debug.split(\"---\")"
   ]
  },
  {
   "cell_type": "markdown",
   "metadata": {},
   "source": [
    "## 4 - Finding the right match\n",
    "\n",
    "Given the list of patients and their weights below, the list of available dosages, and the same limit of 12 mcg/kg, create a list of patients and the dosage they should receive."
   ]
  },
  {
   "cell_type": "code",
   "execution_count": null,
   "metadata": {
    "collapsed": true
   },
   "outputs": [],
   "source": [
    "patients = [['Paul',80],['Eric',55],['Ada',22]]"
   ]
  },
  {
   "cell_type": "markdown",
   "metadata": {},
   "source": [
    "Desired output:\n",
    "```\n",
    "[[['Paul',80],['Digoxin',680,'mcg']],\n",
    " [['Eric',55],['Digoxin',500,'mcg']],\n",
    " [['Ada',22],['Digoxin',170,'mcg']]]\n",
    "```"
   ]
  },
  {
   "cell_type": "code",
   "execution_count": 29,
   "metadata": {
    "collapsed": false
   },
   "outputs": [],
   "source": [
    "patients = [['Paul',80],['Eric',55],['Ada',22]]\n",
    "available = [['Digoxin',170,'mgc'],\n",
    "             ['Digoxin',280,'mgc'],\n",
    "             ['Digoxin',500,'mgc'],\n",
    "             ['Digoxin',680,'mgc'],\n",
    "             ['Digoxin',1000,'mgc']]\n",
    "\n",
    "final = []\n",
    "\n",
    "for j in range(len(available)):\n",
    "    l=[]\n",
    "    for i in range(len(patients)):\n",
    "        a=(available[:5])[j][1]\n",
    "        b=(patients[:3])[i][1]\n",
    "        if a<=b*12:\n",
    "            l=[patients[i],available[j]]\n",
    "    final.append(l)\n"
   ]
  },
  {
   "cell_type": "code",
   "execution_count": 30,
   "metadata": {
    "collapsed": false
   },
   "outputs": [
    {
     "name": "stdout",
     "output_type": "stream",
     "text": [
      "[[['Ada', 22], ['Digoxin', 170, 'mgc']], [['Eric', 55], ['Digoxin', 280, 'mgc']], [['Eric', 55], ['Digoxin', 500, 'mgc']], [['Paul', 80], ['Digoxin', 680, 'mgc']], []]\n"
     ]
    }
   ],
   "source": [
    "print(final)"
   ]
  },
  {
   "cell_type": "code",
   "execution_count": 37,
   "metadata": {
    "collapsed": false
   },
   "outputs": [],
   "source": [
    "final = []\n",
    "for i in range(len(patients)):\n",
    "    for j in range(len(available)):\n",
    "        dose = available[j][1]\n",
    "        mass = patients[i][1]\n",
    "        if dose <= mass * 12:\n",
    "            l = [patients[i], available[j]]\n",
    "    final.append(l)"
   ]
  },
  {
   "cell_type": "code",
   "execution_count": 38,
   "metadata": {
    "collapsed": false
   },
   "outputs": [
    {
     "name": "stdout",
     "output_type": "stream",
     "text": [
      "[[['Paul', 80], ['Digoxin', 680, 'mgc']], [['Eric', 55], ['Digoxin', 500, 'mgc']], [['Ada', 22], ['Digoxin', 170, 'mgc']]]\n"
     ]
    }
   ],
   "source": [
    "print(final)"
   ]
  },
  {
   "cell_type": "code",
   "execution_count": 34,
   "metadata": {
    "collapsed": true
   },
   "outputs": [],
   "source": [
    "final.sort()"
   ]
  },
  {
   "cell_type": "code",
   "execution_count": 35,
   "metadata": {
    "collapsed": false
   },
   "outputs": [
    {
     "name": "stdout",
     "output_type": "stream",
     "text": [
      "[[['Ada', 22], ['Digoxin', 170, 'mgc']], [['Eric', 55], ['Digoxin', 170, 'mgc']], [['Eric', 55], ['Digoxin', 280, 'mgc']], [['Eric', 55], ['Digoxin', 500, 'mgc']], [['Paul', 80], ['Digoxin', 170, 'mgc']], [['Paul', 80], ['Digoxin', 280, 'mgc']], [['Paul', 80], ['Digoxin', 500, 'mgc']], [['Paul', 80], ['Digoxin', 680, 'mgc']]]\n"
     ]
    }
   ],
   "source": [
    "print(final)"
   ]
  },
  {
   "cell_type": "code",
   "execution_count": 36,
   "metadata": {
    "collapsed": false
   },
   "outputs": [
    {
     "ename": "AttributeError",
     "evalue": "'list' object has no attribute 'max'",
     "output_type": "error",
     "traceback": [
      "\u001b[0;31m---------------------------------------------------------------------------\u001b[0m",
      "\u001b[0;31mAttributeError\u001b[0m                            Traceback (most recent call last)",
      "\u001b[0;32m<ipython-input-36-3b0a95f9ee16>\u001b[0m in \u001b[0;36m<module>\u001b[0;34m()\u001b[0m\n\u001b[0;32m----> 1\u001b[0;31m \u001b[0mfinal\u001b[0m\u001b[0;34m.\u001b[0m\u001b[0mmax\u001b[0m\u001b[0;34m(\u001b[0m\u001b[0;34m)\u001b[0m\u001b[0;34m\u001b[0m\u001b[0m\n\u001b[0m",
      "\u001b[0;31mAttributeError\u001b[0m: 'list' object has no attribute 'max'"
     ]
    }
   ],
   "source": [
    "final.max()"
   ]
  },
  {
   "cell_type": "code",
   "execution_count": null,
   "metadata": {
    "collapsed": true
   },
   "outputs": [],
   "source": [
    "max = final.pop()"
   ]
  }
 ],
 "metadata": {
  "kernelspec": {
   "display_name": "Python 3",
   "language": "python",
   "name": "python3"
  },
  "language_info": {
   "codemirror_mode": {
    "name": "ipython",
    "version": 3
   },
   "file_extension": ".py",
   "mimetype": "text/x-python",
   "name": "python",
   "nbconvert_exporter": "python",
   "pygments_lexer": "ipython3",
   "version": "3.4.3"
  }
 },
 "nbformat": 4,
 "nbformat_minor": 0
}
