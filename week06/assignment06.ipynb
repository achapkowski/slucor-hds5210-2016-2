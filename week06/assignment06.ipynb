{
 "cells": [
  {
   "cell_type": "markdown",
   "metadata": {},
   "source": [
    "_HDS5210 - Python for Health Data Science_\n",
    "\n",
    "# Week 6 (Sept 28) Assignment\n",
    "\n",
    "This week, we're working on doing things with lists of values and looping over lists of items."
   ]
  },
  {
   "cell_type": "markdown",
   "metadata": {},
   "source": [
    "## 1 - Creating  a list from a string\n",
    "\n",
    "Take the single string exactly like this \"Amoxicillin, Digoxin, Metoprolol Tartrate, Motrin\" and create an array that has one item each, with the names in all lowercase and with no extra spaces at the beginning or end."
   ]
  },
  {
   "cell_type": "code",
   "execution_count": 1,
   "metadata": {
    "collapsed": true
   },
   "outputs": [],
   "source": [
    "drugs = \"Amoxicillin, Digoxin, Metoprolol Tartrate, Motrin\""
   ]
  },
  {
   "cell_type": "markdown",
   "metadata": {},
   "source": [
    "Desired output:\n",
    "```\n",
    "['amoxicillin','dignoxin','metroprolol tartrate','motrin']\n",
    "```"
   ]
  },
  {
   "cell_type": "markdown",
   "metadata": {},
   "source": [
    "## 2 - Filtering a list\n",
    "\n",
    "The appropriate limit for Digoxin is 12 mcg/kg.  Starting with the list of dosages below, loop through and create a new list that contains on the dosages that are within the allowed amounts for a patient who weighs 50 kg."
   ]
  },
  {
   "cell_type": "code",
   "execution_count": 8,
   "metadata": {
    "collapsed": true
   },
   "outputs": [],
   "source": [
    "allow = []\n",
    "available = [['Digoxin',170,'mgc'],\n",
    "             ['Digoxin',280,'mgc'],\n",
    "             ['Digoxin',500,'mgc'],\n",
    "             ['Digoxin',680,'mgc'],\n",
    "             ['Digoxin',1000,'mgc']]"
   ]
  },
  {
   "cell_type": "markdown",
   "metadata": {},
   "source": [
    "Desired output for the value of `allow`\n",
    "\n",
    "```\n",
    "[['Digoxin', 170, 'mgc'], ['Digoxin', 280, 'mgc'], ['Digoxin', 500, 'mgc']]\n",
    "```"
   ]
  },
  {
   "cell_type": "markdown",
   "metadata": {},
   "source": [
    "## 3 - While \n",
    "\n",
    "Starting with this list `['amoxicillin','dignoxin','metroprolol tartrate','motrin']`, create a comma separated list that contains as many values as possible without being longer that 20 total characters in length.\n"
   ]
  },
  {
   "cell_type": "code",
   "execution_count": 10,
   "metadata": {
    "collapsed": true
   },
   "outputs": [],
   "source": [
    "druglist = ['amoxicillin','dignoxin','metroprolol tartrate','motrin']"
   ]
  },
  {
   "cell_type": "markdown",
   "metadata": {},
   "source": [
    "Desired output:\n",
    "```\n",
    "'amoxicillin,dignoxin,'\n",
    "```\n",
    "\n",
    "Extra credit if you can do this without the extra comma at the end of the list."
   ]
  },
  {
   "cell_type": "markdown",
   "metadata": {},
   "source": [
    "## 4 - Finding the right match\n",
    "\n",
    "Given the list of patients and their weights below, the list of available dosages, and the same limit of 12 mcg/kg, create a list of patients and the dosage they should receive."
   ]
  },
  {
   "cell_type": "code",
   "execution_count": null,
   "metadata": {
    "collapsed": true
   },
   "outputs": [],
   "source": [
    "patients = [['Paul',80],['Eric',55],['Ada',22]]"
   ]
  },
  {
   "cell_type": "markdown",
   "metadata": {},
   "source": [
    "Desired output:\n",
    "```\n",
    "[[['Paul',80],['Digoxin',680,'mcg']],\n",
    " [['Eric',55],['Digoxin',500,'mcg']],\n",
    " [['Ada',22],['Digoxin',170,'mcg']]]\n",
    "```"
   ]
  },
  {
   "cell_type": "code",
   "execution_count": null,
   "metadata": {
    "collapsed": true
   },
   "outputs": [],
   "source": []
  }
 ],
 "metadata": {
  "kernelspec": {
   "display_name": "Python 3",
   "language": "python",
   "name": "python3"
  },
  "language_info": {
   "codemirror_mode": {
    "name": "ipython",
    "version": 3
   },
   "file_extension": ".py",
   "mimetype": "text/x-python",
   "name": "python",
   "nbconvert_exporter": "python",
   "pygments_lexer": "ipython3",
   "version": "3.4.3"
  }
 },
 "nbformat": 4,
 "nbformat_minor": 0
}
